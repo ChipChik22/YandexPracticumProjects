{
 "cells": [
  {
   "cell_type": "markdown",
   "metadata": {},
   "source": [
    "#  Прогнозирование заказов такси"
   ]
  },
  {
   "cell_type": "markdown",
   "metadata": {},
   "source": [
    "**Краткая суть**\n",
    "\n",
    "Необходимо построить модель, которая будет прогнозировать количество заказов такси на следующий час"
   ]
  },
  {
   "cell_type": "markdown",
   "metadata": {},
   "source": [
    "**Описание**\n",
    "\n",
    "Компания «Чётенькое такси» собрала исторические данные о заказах такси в аэропортах. Чтобы привлекать больше водителей в период пиковой нагрузки, нужно спрогнозировать количество заказов такси на следующий час. Нужно построить модель для такого предсказания.\n"
   ]
  },
  {
   "cell_type": "markdown",
   "metadata": {},
   "source": [
    "**Критерии оценки модели**\n",
    "\n",
    "* Значение метрики RMSE на тестовой выборке должно быть не больше 48."
   ]
  },
  {
   "cell_type": "markdown",
   "metadata": {},
   "source": [
    "**План выполнения проекта**\n",
    "\n",
    "1. Загрузить данные и выполнить их ресемплирование по одному часу.\n",
    "2. Проанализировать данные.\n",
    "3. Обучить разные модели с различными гиперпараметрами. Сделать тестовую выборку размером 10% от исходных данных.\n",
    "4. Проверить данные на тестовой выборке и сделать выводы."
   ]
  },
  {
   "cell_type": "code",
   "execution_count": 1,
   "metadata": {},
   "outputs": [],
   "source": [
    "import os\n",
    "\n",
    "import pandas as pd\n",
    "import numpy as np\n",
    "\n",
    "import matplotlib.pyplot as plt\n",
    "\n",
    "from sklearn.model_selection import RandomizedSearchCV, train_test_split, TimeSeriesSplit\n",
    "\n",
    "from sklearn.metrics import mean_squared_error, make_scorer\n",
    "\n",
    "from statsmodels.tsa.seasonal import seasonal_decompose\n",
    "\n",
    "from sklearn.preprocessing import StandardScaler\n",
    "\n",
    "from sklearn.ensemble import RandomForestRegressor\n",
    "from sklearn.dummy import DummyRegressor\n",
    "from catboost import CatBoostRegressor\n",
    "from sklearn import linear_model\n",
    "\n",
    "from statsmodels.tsa.stattools import adfuller\n",
    "\n",
    "import warnings\n",
    "import time\n",
    "\n",
    "warnings.filterwarnings('ignore')"
   ]
  },
  {
   "cell_type": "markdown",
   "metadata": {},
   "source": [
    "## Подготовка"
   ]
  },
  {
   "cell_type": "markdown",
   "metadata": {},
   "source": [
    "### Посмотрим на данные"
   ]
  },
  {
   "cell_type": "code",
   "execution_count": 2,
   "metadata": {},
   "outputs": [],
   "source": [
    "virtual = '/datasets/taxi.csv'\n",
    "local = '.../datasets/taxi.csv'\n",
    "\n",
    "if os.path.exists(virtual):\n",
    "    df = pd.read_csv(virtual, index_col=[0], parse_dates=[0])\n",
    "elif os.path.exists(local):\n",
    "    df = pd.read_csv(local, index_col=[0], parse_dates=[0])\n",
    "else:\n",
    "    print('Something is wrong')"
   ]
  },
  {
   "cell_type": "code",
   "execution_count": 3,
   "metadata": {},
   "outputs": [],
   "source": [
    "df.sort_index(inplace=True)"
   ]
  },
  {
   "cell_type": "code",
   "execution_count": 4,
   "metadata": {},
   "outputs": [],
   "source": [
    "def check_data(data):\n",
    "    print('')\n",
    "    print('')\n",
    "    print('Информация о файле')\n",
    "    print('')\n",
    "    df.info()\n",
    "    print('')\n",
    "    print('')\n",
    "    print('Первые 5 строк файла')\n",
    "    display(df.head())\n",
    "    print('')\n",
    "    print('')\n",
    "    print('Количество пропусков')\n",
    "    display(df.isna().sum())\n",
    "    print('')\n",
    "    print('')\n",
    "    print('Количество дубликатов')\n",
    "    display(df.index.duplicated().sum())\n",
    "    print('')"
   ]
  },
  {
   "cell_type": "code",
   "execution_count": 5,
   "metadata": {},
   "outputs": [
    {
     "name": "stdout",
     "output_type": "stream",
     "text": [
      "\n",
      "\n",
      "Информация о файле\n",
      "\n",
      "<class 'pandas.core.frame.DataFrame'>\n",
      "DatetimeIndex: 26496 entries, 2018-03-01 00:00:00 to 2018-08-31 23:50:00\n",
      "Data columns (total 1 columns):\n",
      " #   Column      Non-Null Count  Dtype\n",
      "---  ------      --------------  -----\n",
      " 0   num_orders  26496 non-null  int64\n",
      "dtypes: int64(1)\n",
      "memory usage: 414.0 KB\n",
      "\n",
      "\n",
      "Первые 5 строк файла\n"
     ]
    },
    {
     "data": {
      "text/html": [
       "<div>\n",
       "<style scoped>\n",
       "    .dataframe tbody tr th:only-of-type {\n",
       "        vertical-align: middle;\n",
       "    }\n",
       "\n",
       "    .dataframe tbody tr th {\n",
       "        vertical-align: top;\n",
       "    }\n",
       "\n",
       "    .dataframe thead th {\n",
       "        text-align: right;\n",
       "    }\n",
       "</style>\n",
       "<table border=\"1\" class=\"dataframe\">\n",
       "  <thead>\n",
       "    <tr style=\"text-align: right;\">\n",
       "      <th></th>\n",
       "      <th>num_orders</th>\n",
       "    </tr>\n",
       "    <tr>\n",
       "      <th>datetime</th>\n",
       "      <th></th>\n",
       "    </tr>\n",
       "  </thead>\n",
       "  <tbody>\n",
       "    <tr>\n",
       "      <th>2018-03-01 00:00:00</th>\n",
       "      <td>9</td>\n",
       "    </tr>\n",
       "    <tr>\n",
       "      <th>2018-03-01 00:10:00</th>\n",
       "      <td>14</td>\n",
       "    </tr>\n",
       "    <tr>\n",
       "      <th>2018-03-01 00:20:00</th>\n",
       "      <td>28</td>\n",
       "    </tr>\n",
       "    <tr>\n",
       "      <th>2018-03-01 00:30:00</th>\n",
       "      <td>20</td>\n",
       "    </tr>\n",
       "    <tr>\n",
       "      <th>2018-03-01 00:40:00</th>\n",
       "      <td>32</td>\n",
       "    </tr>\n",
       "  </tbody>\n",
       "</table>\n",
       "</div>"
      ],
      "text/plain": [
       "                     num_orders\n",
       "datetime                       \n",
       "2018-03-01 00:00:00           9\n",
       "2018-03-01 00:10:00          14\n",
       "2018-03-01 00:20:00          28\n",
       "2018-03-01 00:30:00          20\n",
       "2018-03-01 00:40:00          32"
      ]
     },
     "metadata": {},
     "output_type": "display_data"
    },
    {
     "name": "stdout",
     "output_type": "stream",
     "text": [
      "\n",
      "\n",
      "Количество пропусков\n"
     ]
    },
    {
     "data": {
      "text/plain": [
       "num_orders    0\n",
       "dtype: int64"
      ]
     },
     "metadata": {},
     "output_type": "display_data"
    },
    {
     "name": "stdout",
     "output_type": "stream",
     "text": [
      "\n",
      "\n",
      "Количество дубликатов\n"
     ]
    },
    {
     "data": {
      "text/plain": [
       "0"
      ]
     },
     "metadata": {},
     "output_type": "display_data"
    },
    {
     "name": "stdout",
     "output_type": "stream",
     "text": [
      "\n"
     ]
    }
   ],
   "source": [
    "check_data(df)"
   ]
  },
  {
   "cell_type": "code",
   "execution_count": 6,
   "metadata": {},
   "outputs": [],
   "source": [
    "df = df.resample('1H').sum()"
   ]
  },
  {
   "cell_type": "code",
   "execution_count": 7,
   "metadata": {},
   "outputs": [
    {
     "name": "stdout",
     "output_type": "stream",
     "text": [
      "\n",
      "\n",
      "Информация о файле\n",
      "\n",
      "<class 'pandas.core.frame.DataFrame'>\n",
      "DatetimeIndex: 4416 entries, 2018-03-01 00:00:00 to 2018-08-31 23:00:00\n",
      "Freq: H\n",
      "Data columns (total 1 columns):\n",
      " #   Column      Non-Null Count  Dtype\n",
      "---  ------      --------------  -----\n",
      " 0   num_orders  4416 non-null   int64\n",
      "dtypes: int64(1)\n",
      "memory usage: 69.0 KB\n",
      "\n",
      "\n",
      "Первые 5 строк файла\n"
     ]
    },
    {
     "data": {
      "text/html": [
       "<div>\n",
       "<style scoped>\n",
       "    .dataframe tbody tr th:only-of-type {\n",
       "        vertical-align: middle;\n",
       "    }\n",
       "\n",
       "    .dataframe tbody tr th {\n",
       "        vertical-align: top;\n",
       "    }\n",
       "\n",
       "    .dataframe thead th {\n",
       "        text-align: right;\n",
       "    }\n",
       "</style>\n",
       "<table border=\"1\" class=\"dataframe\">\n",
       "  <thead>\n",
       "    <tr style=\"text-align: right;\">\n",
       "      <th></th>\n",
       "      <th>num_orders</th>\n",
       "    </tr>\n",
       "    <tr>\n",
       "      <th>datetime</th>\n",
       "      <th></th>\n",
       "    </tr>\n",
       "  </thead>\n",
       "  <tbody>\n",
       "    <tr>\n",
       "      <th>2018-03-01 00:00:00</th>\n",
       "      <td>124</td>\n",
       "    </tr>\n",
       "    <tr>\n",
       "      <th>2018-03-01 01:00:00</th>\n",
       "      <td>85</td>\n",
       "    </tr>\n",
       "    <tr>\n",
       "      <th>2018-03-01 02:00:00</th>\n",
       "      <td>71</td>\n",
       "    </tr>\n",
       "    <tr>\n",
       "      <th>2018-03-01 03:00:00</th>\n",
       "      <td>66</td>\n",
       "    </tr>\n",
       "    <tr>\n",
       "      <th>2018-03-01 04:00:00</th>\n",
       "      <td>43</td>\n",
       "    </tr>\n",
       "  </tbody>\n",
       "</table>\n",
       "</div>"
      ],
      "text/plain": [
       "                     num_orders\n",
       "datetime                       \n",
       "2018-03-01 00:00:00         124\n",
       "2018-03-01 01:00:00          85\n",
       "2018-03-01 02:00:00          71\n",
       "2018-03-01 03:00:00          66\n",
       "2018-03-01 04:00:00          43"
      ]
     },
     "metadata": {},
     "output_type": "display_data"
    },
    {
     "name": "stdout",
     "output_type": "stream",
     "text": [
      "\n",
      "\n",
      "Количество пропусков\n"
     ]
    },
    {
     "data": {
      "text/plain": [
       "num_orders    0\n",
       "dtype: int64"
      ]
     },
     "metadata": {},
     "output_type": "display_data"
    },
    {
     "name": "stdout",
     "output_type": "stream",
     "text": [
      "\n",
      "\n",
      "Количество дубликатов\n"
     ]
    },
    {
     "data": {
      "text/plain": [
       "0"
      ]
     },
     "metadata": {},
     "output_type": "display_data"
    },
    {
     "name": "stdout",
     "output_type": "stream",
     "text": [
      "\n"
     ]
    }
   ],
   "source": [
    "check_data(df)"
   ]
  },
  {
   "cell_type": "markdown",
   "metadata": {},
   "source": [
    "Мы выгрузили данные, изначально в которых было 26496 строк и 2 столбца (дата и количество заказов в каждые 10 мин). Столбец *datetime* мы привели к формату *даты*, не забыв приравнять индексы. Затем сделали ресемплирование по одному часу, в результате чего количество строк уменьшилось до 4416.\n",
    "- Получившийся датафрейм отражает количетсов заказов в каждый час каждого дня "
   ]
  },
  {
   "cell_type": "markdown",
   "metadata": {},
   "source": [
    "## Анализ"
   ]
  },
  {
   "cell_type": "markdown",
   "metadata": {},
   "source": [
    "### Посмотрим на скользящее среднее количество заказов в месяц"
   ]
  },
  {
   "cell_type": "code",
   "execution_count": 8,
   "metadata": {},
   "outputs": [],
   "source": [
    "pic = df.copy()\n",
    "pic = pic['2018-03':'2018-08'].resample('1D').sum()\n",
    "pic['mean'] = pic['num_orders'].rolling(30).mean()  #сглаженное скользящее среднее \n",
    "pic['std'] = pic['num_orders'].rolling(30).std() #сглаженное скользящее стандартное отклонение"
   ]
  },
  {
   "cell_type": "code",
   "execution_count": 9,
   "metadata": {},
   "outputs": [
    {
     "data": {
      "text/plain": [
       "<Figure size 1296x1440 with 0 Axes>"
      ]
     },
     "metadata": {},
     "output_type": "display_data"
    },
    {
     "data": {
      "image/png": "[encoded data removed]",
      "text/plain": [
       "<Figure size 432x288 with 1 Axes>"
      ]
     },
     "metadata": {
      "needs_background": "light"
     },
     "output_type": "display_data"
    }
   ],
   "source": [
    "plt.figure(figsize=(18,20))\n",
    "pic.plot()\n",
    "plt.title(\"Moving average orders per month\")\n",
    "plt.xlabel(\"Month\")\n",
    "plt.ylabel(\"Orders\")\n",
    "plt.show()"
   ]
  },
  {
   "cell_type": "markdown",
   "metadata": {},
   "source": [
    "Как можем заметить, количество средних заказов растет на протяжении всего диапазона времени, также изменяется сглаженное скользящее среднее, а это означает что у нас нестационарный ряд. Его прогнозировать сложнее, но мы всё же попытаемся"
   ]
  },
  {
   "cell_type": "markdown",
   "metadata": {},
   "source": [
    "### Разложим данные на тренд и сезонную компоненту. Рассмотрим апрель 2018 года"
   ]
  },
  {
   "cell_type": "code",
   "execution_count": 10,
   "metadata": {},
   "outputs": [],
   "source": [
    "decomposed = seasonal_decompose(df)"
   ]
  },
  {
   "cell_type": "code",
   "execution_count": 11,
   "metadata": {},
   "outputs": [
    {
     "data": {
      "image/png": "[encoded data removed]",
      "text/plain": [
       "<Figure size 936x576 with 3 Axes>"
      ]
     },
     "metadata": {
      "needs_background": "light"
     },
     "output_type": "display_data"
    }
   ],
   "source": [
    "plt.figure(figsize=(13, 8))\n",
    "plt.subplot(311)\n",
    "\n",
    "decomposed.trend['2018-04-01':'2018-04-20'].plot(ax=plt.gca()) # отображает 20 дней\n",
    "plt.title('Trend')\n",
    "plt.subplot(312)\n",
    "\n",
    "decomposed.seasonal['2018-04-01':'2018-04-03'].plot(ax=plt.gca()) # отображает 3 дня\n",
    "plt.title('Seasonality')\n",
    "plt.subplot(313)\n",
    "\n",
    "decomposed.resid['2018-04-01':'2018-04-05'].plot(ax=plt.gca()) # отображает 5 дней\n",
    "plt.title('Residuals')\n",
    "plt.tight_layout()"
   ]
  },
  {
   "cell_type": "markdown",
   "metadata": {},
   "source": [
    "- здесь мы видим, что тенденция пиков у нас ***дневная***\n",
    "- пики приходятся на пятницу-субботу\n",
    "- спады приходятся на воскресенье-понедельник\n",
    "- такая тенденция обуславливается тем, что, например кто-то улеатет отдыхать на выходные, кто-то наоборот возвращается из отдыха/командировок. А вот в воскресенье редко кто что-то планирует.\n",
    "- если посмотреть на график сезонности в диапазоне 3 дня, то можно заметить, что рост заказов начинается с 6 вечера и пик приходится на 00:00, затем идет спад, и в 06:00 утра мы наблюдаем \"штиль\", что тоже достаточно логично. Улетая/возвращаясь люди планируют вечернее время.\n",
    "- на графике остатков наблюдается разброс - перед нами нестационарный ряд"
   ]
  },
  {
   "cell_type": "markdown",
   "metadata": {},
   "source": [
    "### Оценим стационарность ряда с помощью теста Дики-Фуллера"
   ]
  },
  {
   "cell_type": "code",
   "execution_count": 12,
   "metadata": {},
   "outputs": [
    {
     "data": {
      "text/plain": [
       "(-3.0689242890279558,\n",
       " 0.028940051402612906,\n",
       " 30,\n",
       " 4385,\n",
       " {'1%': -3.431842162413052,\n",
       "  '5%': -2.8621993540813637,\n",
       "  '10%': -2.567120978470452},\n",
       " 41728.71357827463)"
      ]
     },
     "execution_count": 12,
     "metadata": {},
     "output_type": "execute_result"
    }
   ],
   "source": [
    "adfuller(df)"
   ]
  },
  {
   "cell_type": "code",
   "execution_count": 13,
   "metadata": {},
   "outputs": [
    {
     "name": "stdout",
     "output_type": "stream",
     "text": [
      "Критерий ADF: -3.068924\n",
      "P-значение: 0.028940\n",
      "Критические значения:\n",
      "\t1%: -3.432\n",
      "\t5%: -2.862\n",
      "\t10%: -2.567\n",
      "Нулевая гипотеза не отвергнута – Временной ряд не стационарен\n"
     ]
    }
   ],
   "source": [
    "test_1 = adfuller(df['num_orders'], autolag='AIC')\n",
    "\n",
    "print('Критерий ADF: %f' % test_1[0])\n",
    "\n",
    "print('P-значение: %f' % test_1[1])\n",
    "\n",
    "print('Критические значения:')\n",
    "\n",
    "for key, value in test_1[4].items():\n",
    "    print('\\t%s: %.3f' % (key, value))\n",
    "if test_1[0] < test_1[4][\"1%\"]:\n",
    "    print (\"Нулевая гипотеза отвергнута – Временной ряд стационарен\")\n",
    "else:\n",
    "    print (\"Нулевая гипотеза не отвергнута – Временной ряд не стационарен\")"
   ]
  },
  {
   "cell_type": "code",
   "execution_count": 14,
   "metadata": {},
   "outputs": [
    {
     "name": "stdout",
     "output_type": "stream",
     "text": [
      "Критерий ADF: -3.068924\n",
      "P-значение: 0.028940\n",
      "Критические значения:\n",
      "\t1%: -3.432\n",
      "\t5%: -2.862\n",
      "\t10%: -2.567\n",
      "Нулевая гипотеза не отвергнута – Временной ряд стационарен\n"
     ]
    }
   ],
   "source": [
    "test_5 = adfuller(df['num_orders'], autolag = 'AIC')\n",
    "\n",
    "print('Критерий ADF: %f' % test_5[0])\n",
    "\n",
    "print('P-значение: %f' % test_5[1])\n",
    "\n",
    "print('Критические значения:')\n",
    "\n",
    "for key, value in test_5[4].items():\n",
    "    print('\\t%s: %.3f' % (key, value))\n",
    "if test_5[0] > test_5[4][\"5%\"]:\n",
    "    print (\"Нулевая гипотеза отвергнута – Временной ряд не стационарен\")\n",
    "else:\n",
    "    print (\"Нулевая гипотеза не отвергнута – Временной ряд стационарен\")"
   ]
  },
  {
   "cell_type": "markdown",
   "metadata": {},
   "source": [
    "**После анализа мы выявили:**\n",
    "- пики заказов такси приходятся на выходной день - субботу\n",
    "- спады заказов приходятся на понедельник\n",
    "- временной ряд не стационарен"
   ]
  },
  {
   "cell_type": "markdown",
   "metadata": {},
   "source": [
    "## Обучение"
   ]
  },
  {
   "cell_type": "markdown",
   "metadata": {},
   "source": [
    "### Создадим функцию для подсчёта метрики"
   ]
  },
  {
   "cell_type": "code",
   "execution_count": 15,
   "metadata": {},
   "outputs": [],
   "source": [
    "RMSE = make_scorer(mean_squared_error, squared=False, greater_is_better=False)"
   ]
  },
  {
   "cell_type": "markdown",
   "metadata": {},
   "source": [
    "### Создадим фичи для моделей"
   ]
  },
  {
   "cell_type": "code",
   "execution_count": 16,
   "metadata": {},
   "outputs": [],
   "source": [
    "def make_features(data, max_lag, rolling_mean_size):\n",
    "    new_df = data.copy()\n",
    "    new_df['day'] = new_df.index.day # добавим день\n",
    "    new_df['dayofweek'] = new_df.index.dayofweek # добавим день недели\n",
    "    new_df['hour'] = new_df.index.hour # добавим час\n",
    "    \n",
    "    for lag in range(1, max_lag + 1):\n",
    "        new_df['lag_{}'.format(lag)] = new_df['num_orders'].shift(lag) # добавим отстающее значение\n",
    "    \n",
    "    new_df['rolling_mean'] = new_df['num_orders'].shift().rolling(rolling_mean_size).mean() # добавим скользящее среднее\n",
    "    return new_df"
   ]
  },
  {
   "cell_type": "code",
   "execution_count": 17,
   "metadata": {},
   "outputs": [],
   "source": [
    "new_df = make_features(df, 24, 24)"
   ]
  },
  {
   "cell_type": "code",
   "execution_count": 18,
   "metadata": {},
   "outputs": [
    {
     "data": {
      "text/html": [
       "<div>\n",
       "<style scoped>\n",
       "    .dataframe tbody tr th:only-of-type {\n",
       "        vertical-align: middle;\n",
       "    }\n",
       "\n",
       "    .dataframe tbody tr th {\n",
       "        vertical-align: top;\n",
       "    }\n",
       "\n",
       "    .dataframe thead th {\n",
       "        text-align: right;\n",
       "    }\n",
       "</style>\n",
       "<table border=\"1\" class=\"dataframe\">\n",
       "  <thead>\n",
       "    <tr style=\"text-align: right;\">\n",
       "      <th></th>\n",
       "      <th>num_orders</th>\n",
       "      <th>day</th>\n",
       "      <th>dayofweek</th>\n",
       "      <th>hour</th>\n",
       "      <th>lag_1</th>\n",
       "      <th>lag_2</th>\n",
       "      <th>lag_3</th>\n",
       "      <th>lag_4</th>\n",
       "      <th>lag_5</th>\n",
       "      <th>lag_6</th>\n",
       "      <th>...</th>\n",
       "      <th>lag_16</th>\n",
       "      <th>lag_17</th>\n",
       "      <th>lag_18</th>\n",
       "      <th>lag_19</th>\n",
       "      <th>lag_20</th>\n",
       "      <th>lag_21</th>\n",
       "      <th>lag_22</th>\n",
       "      <th>lag_23</th>\n",
       "      <th>lag_24</th>\n",
       "      <th>rolling_mean</th>\n",
       "    </tr>\n",
       "    <tr>\n",
       "      <th>datetime</th>\n",
       "      <th></th>\n",
       "      <th></th>\n",
       "      <th></th>\n",
       "      <th></th>\n",
       "      <th></th>\n",
       "      <th></th>\n",
       "      <th></th>\n",
       "      <th></th>\n",
       "      <th></th>\n",
       "      <th></th>\n",
       "      <th></th>\n",
       "      <th></th>\n",
       "      <th></th>\n",
       "      <th></th>\n",
       "      <th></th>\n",
       "      <th></th>\n",
       "      <th></th>\n",
       "      <th></th>\n",
       "      <th></th>\n",
       "      <th></th>\n",
       "      <th></th>\n",
       "    </tr>\n",
       "  </thead>\n",
       "  <tbody>\n",
       "    <tr>\n",
       "      <th>2018-03-01 00:00:00</th>\n",
       "      <td>124</td>\n",
       "      <td>1</td>\n",
       "      <td>3</td>\n",
       "      <td>0</td>\n",
       "      <td>NaN</td>\n",
       "      <td>NaN</td>\n",
       "      <td>NaN</td>\n",
       "      <td>NaN</td>\n",
       "      <td>NaN</td>\n",
       "      <td>NaN</td>\n",
       "      <td>...</td>\n",
       "      <td>NaN</td>\n",
       "      <td>NaN</td>\n",
       "      <td>NaN</td>\n",
       "      <td>NaN</td>\n",
       "      <td>NaN</td>\n",
       "      <td>NaN</td>\n",
       "      <td>NaN</td>\n",
       "      <td>NaN</td>\n",
       "      <td>NaN</td>\n",
       "      <td>NaN</td>\n",
       "    </tr>\n",
       "    <tr>\n",
       "      <th>2018-03-01 01:00:00</th>\n",
       "      <td>85</td>\n",
       "      <td>1</td>\n",
       "      <td>3</td>\n",
       "      <td>1</td>\n",
       "      <td>124.0</td>\n",
       "      <td>NaN</td>\n",
       "      <td>NaN</td>\n",
       "      <td>NaN</td>\n",
       "      <td>NaN</td>\n",
       "      <td>NaN</td>\n",
       "      <td>...</td>\n",
       "      <td>NaN</td>\n",
       "      <td>NaN</td>\n",
       "      <td>NaN</td>\n",
       "      <td>NaN</td>\n",
       "      <td>NaN</td>\n",
       "      <td>NaN</td>\n",
       "      <td>NaN</td>\n",
       "      <td>NaN</td>\n",
       "      <td>NaN</td>\n",
       "      <td>NaN</td>\n",
       "    </tr>\n",
       "    <tr>\n",
       "      <th>2018-03-01 02:00:00</th>\n",
       "      <td>71</td>\n",
       "      <td>1</td>\n",
       "      <td>3</td>\n",
       "      <td>2</td>\n",
       "      <td>85.0</td>\n",
       "      <td>124.0</td>\n",
       "      <td>NaN</td>\n",
       "      <td>NaN</td>\n",
       "      <td>NaN</td>\n",
       "      <td>NaN</td>\n",
       "      <td>...</td>\n",
       "      <td>NaN</td>\n",
       "      <td>NaN</td>\n",
       "      <td>NaN</td>\n",
       "      <td>NaN</td>\n",
       "      <td>NaN</td>\n",
       "      <td>NaN</td>\n",
       "      <td>NaN</td>\n",
       "      <td>NaN</td>\n",
       "      <td>NaN</td>\n",
       "      <td>NaN</td>\n",
       "    </tr>\n",
       "    <tr>\n",
       "      <th>2018-03-01 03:00:00</th>\n",
       "      <td>66</td>\n",
       "      <td>1</td>\n",
       "      <td>3</td>\n",
       "      <td>3</td>\n",
       "      <td>71.0</td>\n",
       "      <td>85.0</td>\n",
       "      <td>124.0</td>\n",
       "      <td>NaN</td>\n",
       "      <td>NaN</td>\n",
       "      <td>NaN</td>\n",
       "      <td>...</td>\n",
       "      <td>NaN</td>\n",
       "      <td>NaN</td>\n",
       "      <td>NaN</td>\n",
       "      <td>NaN</td>\n",
       "      <td>NaN</td>\n",
       "      <td>NaN</td>\n",
       "      <td>NaN</td>\n",
       "      <td>NaN</td>\n",
       "      <td>NaN</td>\n",
       "      <td>NaN</td>\n",
       "    </tr>\n",
       "    <tr>\n",
       "      <th>2018-03-01 04:00:00</th>\n",
       "      <td>43</td>\n",
       "      <td>1</td>\n",
       "      <td>3</td>\n",
       "      <td>4</td>\n",
       "      <td>66.0</td>\n",
       "      <td>71.0</td>\n",
       "      <td>85.0</td>\n",
       "      <td>124.0</td>\n",
       "      <td>NaN</td>\n",
       "      <td>NaN</td>\n",
       "      <td>...</td>\n",
       "      <td>NaN</td>\n",
       "      <td>NaN</td>\n",
       "      <td>NaN</td>\n",
       "      <td>NaN</td>\n",
       "      <td>NaN</td>\n",
       "      <td>NaN</td>\n",
       "      <td>NaN</td>\n",
       "      <td>NaN</td>\n",
       "      <td>NaN</td>\n",
       "      <td>NaN</td>\n",
       "    </tr>\n",
       "  </tbody>\n",
       "</table>\n",
       "<p>5 rows × 29 columns</p>\n",
       "</div>"
      ],
      "text/plain": [
       "                     num_orders  day  dayofweek  hour  lag_1  lag_2  lag_3  \\\n",
       "datetime                                                                     \n",
       "2018-03-01 00:00:00         124    1          3     0    NaN    NaN    NaN   \n",
       "2018-03-01 01:00:00          85    1          3     1  124.0    NaN    NaN   \n",
       "2018-03-01 02:00:00          71    1          3     2   85.0  124.0    NaN   \n",
       "2018-03-01 03:00:00          66    1          3     3   71.0   85.0  124.0   \n",
       "2018-03-01 04:00:00          43    1          3     4   66.0   71.0   85.0   \n",
       "\n",
       "                     lag_4  lag_5  lag_6  ...  lag_16  lag_17  lag_18  lag_19  \\\n",
       "datetime                                  ...                                   \n",
       "2018-03-01 00:00:00    NaN    NaN    NaN  ...     NaN     NaN     NaN     NaN   \n",
       "2018-03-01 01:00:00    NaN    NaN    NaN  ...     NaN     NaN     NaN     NaN   \n",
       "2018-03-01 02:00:00    NaN    NaN    NaN  ...     NaN     NaN     NaN     NaN   \n",
       "2018-03-01 03:00:00    NaN    NaN    NaN  ...     NaN     NaN     NaN     NaN   \n",
       "2018-03-01 04:00:00  124.0    NaN    NaN  ...     NaN     NaN     NaN     NaN   \n",
       "\n",
       "                     lag_20  lag_21  lag_22  lag_23  lag_24  rolling_mean  \n",
       "datetime                                                                   \n",
       "2018-03-01 00:00:00     NaN     NaN     NaN     NaN     NaN           NaN  \n",
       "2018-03-01 01:00:00     NaN     NaN     NaN     NaN     NaN           NaN  \n",
       "2018-03-01 02:00:00     NaN     NaN     NaN     NaN     NaN           NaN  \n",
       "2018-03-01 03:00:00     NaN     NaN     NaN     NaN     NaN           NaN  \n",
       "2018-03-01 04:00:00     NaN     NaN     NaN     NaN     NaN           NaN  \n",
       "\n",
       "[5 rows x 29 columns]"
      ]
     },
     "execution_count": 18,
     "metadata": {},
     "output_type": "execute_result"
    }
   ],
   "source": [
    "new_df.head()"
   ]
  },
  {
   "cell_type": "markdown",
   "metadata": {},
   "source": [
    "Мы создали в ручную фичи для моделей. Избавимся от строк , в которых есть **NaN'ы**, т к мы не можем их заполнить, поскольку работаем с ***временным рядом***. "
   ]
  },
  {
   "cell_type": "code",
   "execution_count": 19,
   "metadata": {},
   "outputs": [],
   "source": [
    "new_df.dropna(inplace=True)"
   ]
  },
  {
   "cell_type": "markdown",
   "metadata": {},
   "source": [
    "### Определим features и target. Разделим данные на обучающую и тестовую выборки. "
   ]
  },
  {
   "cell_type": "code",
   "execution_count": 20,
   "metadata": {},
   "outputs": [],
   "source": [
    "features, target = new_df.drop(['num_orders'], axis=1), new_df['num_orders']"
   ]
  },
  {
   "cell_type": "code",
   "execution_count": 21,
   "metadata": {},
   "outputs": [],
   "source": [
    "X_train, X_test, y_train, y_test = train_test_split(features, target, shuffle=False, test_size=0.1, random_state=22) "
   ]
  },
  {
   "cell_type": "code",
   "execution_count": 22,
   "metadata": {},
   "outputs": [
    {
     "data": {
      "text/plain": [
       "((3952, 28), (440, 28), (3952,), (440,))"
      ]
     },
     "execution_count": 22,
     "metadata": {},
     "output_type": "execute_result"
    }
   ],
   "source": [
    "X_train.shape, X_test.shape, y_train.shape, y_test.shape"
   ]
  },
  {
   "cell_type": "markdown",
   "metadata": {},
   "source": [
    "Данные разделили, **shuffle=False** потому что важно сохранить последовательность"
   ]
  },
  {
   "cell_type": "markdown",
   "metadata": {},
   "source": [
    "### Нормализуем данные с помощью StandardScaler"
   ]
  },
  {
   "cell_type": "code",
   "execution_count": 23,
   "metadata": {},
   "outputs": [],
   "source": [
    "ss = StandardScaler()"
   ]
  },
  {
   "cell_type": "code",
   "execution_count": 24,
   "metadata": {},
   "outputs": [],
   "source": [
    "X_train_ss = ss.fit_transform(X_train)"
   ]
  },
  {
   "cell_type": "markdown",
   "metadata": {},
   "source": [
    "### Инизиализируем помощника для кросс-валидации временных рядов"
   ]
  },
  {
   "cell_type": "code",
   "execution_count": 25,
   "metadata": {},
   "outputs": [],
   "source": [
    "tscv = TimeSeriesSplit(gap=0, max_train_size=None, n_splits=5, test_size=None)"
   ]
  },
  {
   "cell_type": "markdown",
   "metadata": {},
   "source": [
    "### RandomForestRegressor"
   ]
  },
  {
   "cell_type": "code",
   "execution_count": 26,
   "metadata": {},
   "outputs": [],
   "source": [
    "rfr = RandomForestRegressor(random_state=22)"
   ]
  },
  {
   "cell_type": "code",
   "execution_count": 27,
   "metadata": {},
   "outputs": [],
   "source": [
    "random_rfr = {'bootstrap': [True, False],\n",
    "               'max_depth': [None] + [i for i in range(2, 11)], \n",
    "               'max_features': ['auto', 'sqrt'],\n",
    "               'min_samples_leaf': [1, 5, 9],\n",
    "               'min_samples_split': [2, 7, 13],\n",
    "               'n_estimators': [130, 284, 22]}"
   ]
  },
  {
   "cell_type": "code",
   "execution_count": 28,
   "metadata": {},
   "outputs": [],
   "source": [
    "random_rfr= RandomizedSearchCV(estimator = rfr,\n",
    "                               param_distributions = random_rfr,\n",
    "                               n_iter = 50,\n",
    "                               scoring=RMSE,\n",
    "                               cv = tscv,\n",
    "                               verbose=2,\n",
    "                               random_state=22,\n",
    "                               n_jobs = -1)"
   ]
  },
  {
   "cell_type": "code",
   "execution_count": 1,
   "metadata": {
    "scrolled": true
   },
   "outputs": [],
   "source": [
    "%%time\n",
    "random_rfr.fit(X_train_ss, y_train)\n",
    "print(random_rfr.best_params_)\n",
    "print(random_rfr.best_score_)"
   ]
  },
  {
   "cell_type": "markdown",
   "metadata": {},
   "source": [
    "### Lasso"
   ]
  },
  {
   "cell_type": "code",
   "execution_count": 30,
   "metadata": {},
   "outputs": [],
   "source": [
    "lasso = linear_model.Lasso(alpha=0.1, random_state=22)"
   ]
  },
  {
   "cell_type": "code",
   "execution_count": 31,
   "metadata": {},
   "outputs": [],
   "source": [
    "params_lasso = {'alpha':[0.02, 0.03, 0.53, 0.5],\n",
    "               'tol':[0.01, 0.1, 0.001, 0.0001],\n",
    "               'random_state':[22]}"
   ]
  },
  {
   "cell_type": "code",
   "execution_count": 32,
   "metadata": {},
   "outputs": [],
   "source": [
    "random_lasso= RandomizedSearchCV(estimator = lasso,\n",
    "                               param_distributions = params_lasso,\n",
    "                               n_iter = 50,\n",
    "                               scoring=RMSE,\n",
    "                               cv = tscv,\n",
    "                               verbose=2,\n",
    "                               n_jobs = -1)\n"
   ]
  },
  {
   "cell_type": "code",
   "execution_count": 2,
   "metadata": {
    "scrolled": true
   },
   "outputs": [],
   "source": [
    "%%time\n",
    "random_lasso.fit(X_train_ss, y_train)\n",
    "print(random_lasso.best_params_)\n",
    "print(random_lasso.best_score_)"
   ]
  },
  {
   "cell_type": "markdown",
   "metadata": {},
   "source": [
    "### Ridge"
   ]
  },
  {
   "cell_type": "code",
   "execution_count": 34,
   "metadata": {},
   "outputs": [],
   "source": [
    "ridge = linear_model.Ridge(alpha=1.0, random_state=22)"
   ]
  },
  {
   "cell_type": "code",
   "execution_count": 35,
   "metadata": {},
   "outputs": [],
   "source": [
    "params_ridge = {'alpha':[0.02, 0.03, 0.53, 0.5],\n",
    "               'tol':[0.01, 0.1, 0.001, 0.0001],\n",
    "               'solver':['auto', 'svd', 'cholesky', 'lsqr'],\n",
    "               'random_state':[22]}"
   ]
  },
  {
   "cell_type": "code",
   "execution_count": 36,
   "metadata": {},
   "outputs": [],
   "source": [
    "random_ridge = RandomizedSearchCV(estimator = ridge,\n",
    "                               param_distributions = params_ridge,\n",
    "                               n_iter = 50,\n",
    "                               scoring=RMSE,\n",
    "                               cv = tscv,\n",
    "                               verbose=2,\n",
    "                               n_jobs=-1)"
   ]
  },
  {
   "cell_type": "code",
   "execution_count": 4,
   "metadata": {},
   "outputs": [],
   "source": [
    "%%time\n",
    "random_ridge.fit(X_train_ss, y_train)\n",
    "print(random_ridge.best_params_)\n",
    "print(random_ridge.best_score_)"
   ]
  },
  {
   "cell_type": "markdown",
   "metadata": {},
   "source": [
    "### CatBoost"
   ]
  },
  {
   "cell_type": "code",
   "execution_count": 38,
   "metadata": {},
   "outputs": [],
   "source": [
    "cbr = CatBoostRegressor(random_seed=22)"
   ]
  },
  {
   "cell_type": "code",
   "execution_count": 39,
   "metadata": {},
   "outputs": [],
   "source": [
    "params_cbr = {'iterations': [1000, 1100, 1200],\n",
    "              'learning_rate': [0.01, 0.1, 0.001, 1],\n",
    "              'max_depth': [None] + [i for i in range(2, 11)],              \n",
    "              'l2_leaf_reg': [1, 3, 5, 7, 9]}"
   ]
  },
  {
   "cell_type": "code",
   "execution_count": 40,
   "metadata": {},
   "outputs": [],
   "source": [
    "random_cbr= RandomizedSearchCV(estimator = cbr,\n",
    "                               param_distributions = params_cbr,\n",
    "                               scoring=RMSE,\n",
    "                               cv = tscv,\n",
    "                               verbose=2,\n",
    "                               n_jobs = -1)"
   ]
  },
  {
   "cell_type": "code",
   "execution_count": 5,
   "metadata": {},
   "outputs": [],
   "source": [
    "%%time\n",
    "random_cbr.fit(X_train_ss, y_train)\n",
    "print(random_cbr.best_params_)\n",
    "print(random_cbr.best_score_)"
   ]
  },
  {
   "cell_type": "markdown",
   "metadata": {},
   "source": [
    "### Соберем все наши значения в таблицу и посмотрим что вышло"
   ]
  },
  {
   "cell_type": "code",
   "execution_count": 42,
   "metadata": {},
   "outputs": [],
   "source": [
    "result = pd.DataFrame({'model' : ['RandomForestRegressor', \n",
    "                                  'Lasso', \n",
    "                                  'Ridge', \n",
    "                                  'CatBoostRegressor'\n",
    "                                 ],\n",
    "                       'RMSE при обучении' : [round(random_rfr.best_score_, 4) * (-1), \n",
    "                                              round(random_lasso.best_score_, 4) * (-1), \n",
    "                                              round(random_ridge.best_score_, 4) * (-1),\n",
    "                                              round(random_cbr.best_score_, 4) * (-1)\n",
    "                                             ]\n",
    "                      })"
   ]
  },
  {
   "cell_type": "code",
   "execution_count": 43,
   "metadata": {},
   "outputs": [
    {
     "data": {
      "text/html": [
       "<div>\n",
       "<style scoped>\n",
       "    .dataframe tbody tr th:only-of-type {\n",
       "        vertical-align: middle;\n",
       "    }\n",
       "\n",
       "    .dataframe tbody tr th {\n",
       "        vertical-align: top;\n",
       "    }\n",
       "\n",
       "    .dataframe thead th {\n",
       "        text-align: right;\n",
       "    }\n",
       "</style>\n",
       "<table border=\"1\" class=\"dataframe\">\n",
       "  <thead>\n",
       "    <tr style=\"text-align: right;\">\n",
       "      <th></th>\n",
       "      <th>model</th>\n",
       "      <th>RMSE при обучении</th>\n",
       "    </tr>\n",
       "  </thead>\n",
       "  <tbody>\n",
       "    <tr>\n",
       "      <th>0</th>\n",
       "      <td>RandomForestRegressor</td>\n",
       "      <td>25.4443</td>\n",
       "    </tr>\n",
       "    <tr>\n",
       "      <th>1</th>\n",
       "      <td>Lasso</td>\n",
       "      <td>27.0752</td>\n",
       "    </tr>\n",
       "    <tr>\n",
       "      <th>2</th>\n",
       "      <td>Ridge</td>\n",
       "      <td>27.1215</td>\n",
       "    </tr>\n",
       "    <tr>\n",
       "      <th>3</th>\n",
       "      <td>CatBoostRegressor</td>\n",
       "      <td>24.4172</td>\n",
       "    </tr>\n",
       "  </tbody>\n",
       "</table>\n",
       "</div>"
      ],
      "text/plain": [
       "                   model  RMSE при обучении\n",
       "0  RandomForestRegressor            25.4443\n",
       "1                  Lasso            27.0752\n",
       "2                  Ridge            27.1215\n",
       "3      CatBoostRegressor            24.4172"
      ]
     },
     "execution_count": 43,
     "metadata": {},
     "output_type": "execute_result"
    }
   ],
   "source": [
    "result"
   ]
  },
  {
   "cell_type": "markdown",
   "metadata": {},
   "source": [
    "**Рейтинг моделей на основе результата**\n",
    "1. CatBoostRegressor\n",
    "2. RandomForestRegressor\n",
    "3. Ridge/Lasso"
   ]
  },
  {
   "cell_type": "markdown",
   "metadata": {},
   "source": [
    "## Тестирование"
   ]
  },
  {
   "cell_type": "markdown",
   "metadata": {},
   "source": [
    "### Создадим новую модель и настроим её лучшими параметрами"
   ]
  },
  {
   "cell_type": "code",
   "execution_count": 44,
   "metadata": {},
   "outputs": [],
   "source": [
    "CatBoostRegressor = CatBoostRegressor(random_seed=22,\n",
    "                                      iterations=1200,\n",
    "                                      max_depth=random_cbr.best_params_['max_depth'],\n",
    "                                      learning_rate=random_cbr.best_params_['learning_rate'],\n",
    "                                      l2_leaf_reg=random_cbr.best_params_['l2_leaf_reg'])"
   ]
  },
  {
   "cell_type": "code",
   "execution_count": 6,
   "metadata": {},
   "outputs": [],
   "source": [
    "CatBoostRegressor.fit(X_train_ss, y_train)"
   ]
  },
  {
   "cell_type": "markdown",
   "metadata": {},
   "source": [
    "### Отмасшабируем наши тестовые данные"
   ]
  },
  {
   "cell_type": "code",
   "execution_count": 46,
   "metadata": {},
   "outputs": [],
   "source": [
    "X_test_ss = ss.transform(X_test)"
   ]
  },
  {
   "cell_type": "markdown",
   "metadata": {},
   "source": [
    "### Сделаем предсказание и посмотрим RMSE"
   ]
  },
  {
   "cell_type": "code",
   "execution_count": 47,
   "metadata": {},
   "outputs": [],
   "source": [
    "pred = CatBoostRegressor.predict(X_test_ss)"
   ]
  },
  {
   "cell_type": "code",
   "execution_count": 48,
   "metadata": {},
   "outputs": [],
   "source": [
    "score = mean_squared_error(y_test, pred) ** 0.5"
   ]
  },
  {
   "cell_type": "code",
   "execution_count": 49,
   "metadata": {
    "scrolled": true
   },
   "outputs": [
    {
     "name": "stdout",
     "output_type": "stream",
     "text": [
      "RMSE на тесте: 41.0983\n"
     ]
    }
   ],
   "source": [
    "print('RMSE на тесте:', round(score, 4))"
   ]
  },
  {
   "cell_type": "code",
   "execution_count": 50,
   "metadata": {},
   "outputs": [],
   "source": [
    "pred = pd.Series(pred, index=y_test.index)"
   ]
  },
  {
   "cell_type": "code",
   "execution_count": 51,
   "metadata": {},
   "outputs": [
    {
     "data": {
      "image/png": "[encoded data removed]",
      "text/plain": [
       "<Figure size 1440x1152 with 1 Axes>"
      ]
     },
     "metadata": {
      "needs_background": "light"
     },
     "output_type": "display_data"
    }
   ],
   "source": [
    "plt.figure(figsize=(20,16))\n",
    "plt.plot(y_test, label = \"True\", color='g')\n",
    "plt.plot(pred, label = \"Predict\", color='r')\n",
    "plt.legend()\n",
    "plt.title(\"True and Pred\")\n",
    "plt.xlabel(\"Date\")\n",
    "plt.ylabel(\"Orders\")\n",
    "plt.show()"
   ]
  },
  {
   "cell_type": "markdown",
   "metadata": {},
   "source": [
    "CatBoostRegressor ошибается в прогнозировании значений-выбросов, которые могут быть вызваны, например, праздниками"
   ]
  },
  {
   "cell_type": "markdown",
   "metadata": {},
   "source": [
    "### Сравним метрику RMSE с константной моделью DummyRegressor"
   ]
  },
  {
   "cell_type": "code",
   "execution_count": 52,
   "metadata": {},
   "outputs": [],
   "source": [
    "dummy = DummyRegressor(strategy=\"mean\")"
   ]
  },
  {
   "cell_type": "code",
   "execution_count": 53,
   "metadata": {},
   "outputs": [
    {
     "data": {
      "text/plain": [
       "DummyRegressor()"
      ]
     },
     "execution_count": 53,
     "metadata": {},
     "output_type": "execute_result"
    }
   ],
   "source": [
    "dummy.fit(X_train_ss, y_train)"
   ]
  },
  {
   "cell_type": "code",
   "execution_count": 54,
   "metadata": {},
   "outputs": [],
   "source": [
    "predict_dummy = dummy.predict(X_test_ss)"
   ]
  },
  {
   "cell_type": "code",
   "execution_count": 55,
   "metadata": {},
   "outputs": [],
   "source": [
    "dummy_RMSE = mean_squared_error(y_test, predict_dummy) ** 0.5"
   ]
  },
  {
   "cell_type": "code",
   "execution_count": 56,
   "metadata": {},
   "outputs": [
    {
     "name": "stdout",
     "output_type": "stream",
     "text": [
      "RMSE константной модели: 84.6877\n"
     ]
    }
   ],
   "source": [
    "print(\"RMSE константной модели:\", round(dummy_RMSE,4))"
   ]
  },
  {
   "cell_type": "markdown",
   "metadata": {},
   "source": [
    "**Вывод**\n",
    "\n",
    "1. Нам нужно было построить модель, которая будет прогнозировать количество заказов такси на следующий час\n",
    "2. На старте у нас был датасет, в котором было 26496 строк и 2 столбца. После нашей обработки количество строк уменьшилось до 4416, получившийся датафрейм отражает количество заказов в каждый час каждого дня.\n",
    "3. На анализе данных было выявлено что пик заказов приходится на выходные, спад - на понедельник, и что у нас временной ряд не стационарен\n",
    "4. Мы создали в ручную фичи для моделей. Избавились от строк, значение которых равнялось NaN\n",
    "5. Были обучены разные модели с разными гиперпараметрами. В результате, лучше всего себя показал CatBoostRegressor, но остальные не сильно уступили.\n",
    "6. При проверке на тесте, RMSE вышло равным 41, что удовлетворяет неш критерий \n",
    "7. Значение метрики RMSE DummyRegressor 84, это говорит нам о том, что наша обученная модель адекватная"
   ]
  }
 ],
 "metadata": {
  "ExecuteTimeLog": [
   {
    "duration": 417,
    "start_time": "2022-12-12T11:48:28.999Z"
   },
   {
    "duration": 104,
    "start_time": "2022-12-12T11:48:43.913Z"
   },
   {
    "duration": 332,
    "start_time": "2022-12-12T11:48:47.379Z"
   },
   {
    "duration": 17,
    "start_time": "2022-12-12T11:49:08.467Z"
   },
   {
    "duration": 9,
    "start_time": "2022-12-12T11:52:38.313Z"
   },
   {
    "duration": 13,
    "start_time": "2022-12-12T11:52:41.964Z"
   },
   {
    "duration": 51,
    "start_time": "2022-12-12T11:52:47.822Z"
   },
   {
    "duration": 11,
    "start_time": "2022-12-12T11:52:50.303Z"
   },
   {
    "duration": 8,
    "start_time": "2022-12-12T11:52:54.597Z"
   },
   {
    "duration": 3,
    "start_time": "2022-12-12T11:53:25.071Z"
   },
   {
    "duration": 11,
    "start_time": "2022-12-12T11:53:26.142Z"
   },
   {
    "duration": 8,
    "start_time": "2022-12-12T11:53:26.866Z"
   },
   {
    "duration": 5,
    "start_time": "2022-12-12T11:54:52.649Z"
   },
   {
    "duration": 4,
    "start_time": "2022-12-12T11:54:55.992Z"
   },
   {
    "duration": 11,
    "start_time": "2022-12-12T11:55:20.335Z"
   },
   {
    "duration": 49,
    "start_time": "2022-12-12T11:55:24.399Z"
   },
   {
    "duration": 3,
    "start_time": "2022-12-12T11:55:24.881Z"
   },
   {
    "duration": 10,
    "start_time": "2022-12-12T11:55:25.245Z"
   },
   {
    "duration": 7,
    "start_time": "2022-12-12T11:55:25.725Z"
   },
   {
    "duration": 9,
    "start_time": "2022-12-12T11:55:26.209Z"
   },
   {
    "duration": 45,
    "start_time": "2022-12-12T11:55:47.349Z"
   },
   {
    "duration": 3,
    "start_time": "2022-12-12T11:55:47.627Z"
   },
   {
    "duration": 10,
    "start_time": "2022-12-12T11:55:47.914Z"
   },
   {
    "duration": 6,
    "start_time": "2022-12-12T11:55:48.273Z"
   },
   {
    "duration": 12,
    "start_time": "2022-12-12T11:55:48.934Z"
   },
   {
    "duration": 46,
    "start_time": "2022-12-12T11:55:52.784Z"
   },
   {
    "duration": 3,
    "start_time": "2022-12-12T11:55:53.053Z"
   },
   {
    "duration": 10,
    "start_time": "2022-12-12T11:55:53.412Z"
   },
   {
    "duration": 9,
    "start_time": "2022-12-12T11:55:55.014Z"
   },
   {
    "duration": 45,
    "start_time": "2022-12-12T11:56:06.633Z"
   },
   {
    "duration": 3,
    "start_time": "2022-12-12T11:56:06.869Z"
   },
   {
    "duration": 10,
    "start_time": "2022-12-12T11:56:07.145Z"
   },
   {
    "duration": 7,
    "start_time": "2022-12-12T11:56:07.538Z"
   },
   {
    "duration": 9,
    "start_time": "2022-12-12T11:56:07.850Z"
   },
   {
    "duration": 732,
    "start_time": "2022-12-12T11:58:43.959Z"
   },
   {
    "duration": 239,
    "start_time": "2022-12-12T11:59:40.176Z"
   },
   {
    "duration": 18,
    "start_time": "2022-12-12T12:00:16.055Z"
   },
   {
    "duration": 517,
    "start_time": "2022-12-12T12:00:29.873Z"
   },
   {
    "duration": 8,
    "start_time": "2022-12-12T12:00:32.108Z"
   },
   {
    "duration": 156,
    "start_time": "2022-12-12T12:00:58.632Z"
   },
   {
    "duration": 763,
    "start_time": "2022-12-12T12:01:18.028Z"
   },
   {
    "duration": 9,
    "start_time": "2022-12-12T12:02:27.660Z"
   },
   {
    "duration": 2,
    "start_time": "2022-12-12T12:02:37.457Z"
   },
   {
    "duration": 11,
    "start_time": "2022-12-12T12:02:45.980Z"
   },
   {
    "duration": 74,
    "start_time": "2022-12-12T12:08:40.611Z"
   },
   {
    "duration": 71,
    "start_time": "2022-12-12T12:10:21.086Z"
   },
   {
    "duration": 3,
    "start_time": "2022-12-12T12:12:23.491Z"
   },
   {
    "duration": 47,
    "start_time": "2022-12-12T12:12:25.201Z"
   },
   {
    "duration": 3,
    "start_time": "2022-12-12T12:12:25.615Z"
   },
   {
    "duration": 11,
    "start_time": "2022-12-12T12:12:25.994Z"
   },
   {
    "duration": 9,
    "start_time": "2022-12-12T12:12:27.832Z"
   },
   {
    "duration": 8,
    "start_time": "2022-12-12T12:12:29.300Z"
   },
   {
    "duration": 819,
    "start_time": "2022-12-12T12:12:31.014Z"
   },
   {
    "duration": 10,
    "start_time": "2022-12-12T12:13:00.275Z"
   },
   {
    "duration": 974,
    "start_time": "2022-12-12T12:13:36.152Z"
   },
   {
    "duration": 1029,
    "start_time": "2022-12-12T12:14:12.791Z"
   },
   {
    "duration": 121,
    "start_time": "2022-12-12T12:14:59.058Z"
   },
   {
    "duration": 117,
    "start_time": "2022-12-12T12:15:13.266Z"
   },
   {
    "duration": 671,
    "start_time": "2022-12-12T12:15:26.570Z"
   },
   {
    "duration": 6,
    "start_time": "2022-12-12T12:15:43.803Z"
   },
   {
    "duration": 10,
    "start_time": "2022-12-12T12:16:03.901Z"
   },
   {
    "duration": 605,
    "start_time": "2022-12-12T12:16:42.195Z"
   },
   {
    "duration": 776,
    "start_time": "2022-12-12T12:17:11.565Z"
   },
   {
    "duration": 630,
    "start_time": "2022-12-12T12:18:18.970Z"
   },
   {
    "duration": 226,
    "start_time": "2022-12-12T12:19:47.468Z"
   },
   {
    "duration": 697,
    "start_time": "2022-12-12T12:22:07.771Z"
   },
   {
    "duration": 789,
    "start_time": "2022-12-12T12:23:00.603Z"
   },
   {
    "duration": 697,
    "start_time": "2022-12-12T12:23:25.488Z"
   },
   {
    "duration": 689,
    "start_time": "2022-12-12T12:23:33.963Z"
   },
   {
    "duration": 689,
    "start_time": "2022-12-12T12:23:51.378Z"
   },
   {
    "duration": 725,
    "start_time": "2022-12-12T12:24:42.891Z"
   },
   {
    "duration": 589,
    "start_time": "2022-12-12T12:25:04.334Z"
   },
   {
    "duration": 250,
    "start_time": "2022-12-12T12:27:11.660Z"
   },
   {
    "duration": 270,
    "start_time": "2022-12-12T12:27:24.314Z"
   },
   {
    "duration": 16,
    "start_time": "2022-12-12T12:27:32.344Z"
   },
   {
    "duration": 273,
    "start_time": "2022-12-12T12:27:36.903Z"
   },
   {
    "duration": 356,
    "start_time": "2022-12-12T12:27:42.937Z"
   },
   {
    "duration": 16,
    "start_time": "2022-12-12T12:28:39.794Z"
   },
   {
    "duration": 13,
    "start_time": "2022-12-12T12:28:48.007Z"
   },
   {
    "duration": 13,
    "start_time": "2022-12-12T12:29:47.475Z"
   },
   {
    "duration": 14,
    "start_time": "2022-12-12T12:29:50.227Z"
   },
   {
    "duration": 13,
    "start_time": "2022-12-12T12:29:53.961Z"
   },
   {
    "duration": 17,
    "start_time": "2022-12-12T12:29:57.824Z"
   },
   {
    "duration": 145,
    "start_time": "2022-12-12T12:32:01.940Z"
   },
   {
    "duration": 224,
    "start_time": "2022-12-12T12:32:39.569Z"
   },
   {
    "duration": 219,
    "start_time": "2022-12-12T12:33:09.620Z"
   },
   {
    "duration": 48,
    "start_time": "2022-12-12T12:34:20.185Z"
   },
   {
    "duration": 15,
    "start_time": "2022-12-12T12:34:26.628Z"
   },
   {
    "duration": 5,
    "start_time": "2022-12-12T12:35:26.429Z"
   },
   {
    "duration": 25,
    "start_time": "2022-12-12T12:35:39.301Z"
   },
   {
    "duration": 73,
    "start_time": "2022-12-12T12:36:41.429Z"
   },
   {
    "duration": 90,
    "start_time": "2022-12-12T12:36:52.171Z"
   },
   {
    "duration": 5,
    "start_time": "2022-12-12T12:36:56.271Z"
   },
   {
    "duration": 7,
    "start_time": "2022-12-12T12:37:16.205Z"
   },
   {
    "duration": 11,
    "start_time": "2022-12-12T12:37:26.872Z"
   },
   {
    "duration": 8,
    "start_time": "2022-12-12T12:37:29.507Z"
   },
   {
    "duration": 44,
    "start_time": "2022-12-12T12:38:08.049Z"
   },
   {
    "duration": 9,
    "start_time": "2022-12-12T12:38:10.575Z"
   },
   {
    "duration": 12,
    "start_time": "2022-12-12T12:38:46.656Z"
   },
   {
    "duration": 10,
    "start_time": "2022-12-12T12:40:33.428Z"
   },
   {
    "duration": 49,
    "start_time": "2022-12-12T12:43:12.129Z"
   },
   {
    "duration": 11,
    "start_time": "2022-12-12T12:43:12.754Z"
   },
   {
    "duration": 9,
    "start_time": "2022-12-12T12:43:15.144Z"
   },
   {
    "duration": 47,
    "start_time": "2022-12-12T12:43:40.286Z"
   },
   {
    "duration": 2,
    "start_time": "2022-12-12T12:43:40.593Z"
   },
   {
    "duration": 10,
    "start_time": "2022-12-12T12:43:41.317Z"
   },
   {
    "duration": 3,
    "start_time": "2022-12-12T12:45:06.591Z"
   },
   {
    "duration": 14,
    "start_time": "2022-12-12T12:45:13.761Z"
   },
   {
    "duration": 3,
    "start_time": "2022-12-12T12:45:26.936Z"
   },
   {
    "duration": 14,
    "start_time": "2022-12-12T12:45:27.368Z"
   },
   {
    "duration": 3,
    "start_time": "2022-12-12T12:45:36.366Z"
   },
   {
    "duration": 15,
    "start_time": "2022-12-12T12:45:37.059Z"
   },
   {
    "duration": 6,
    "start_time": "2022-12-12T12:46:46.882Z"
   },
   {
    "duration": 9,
    "start_time": "2022-12-12T12:47:19.379Z"
   },
   {
    "duration": 46,
    "start_time": "2022-12-12T12:47:24.218Z"
   },
   {
    "duration": 3,
    "start_time": "2022-12-12T12:47:24.647Z"
   },
   {
    "duration": 3,
    "start_time": "2022-12-12T12:47:25.090Z"
   },
   {
    "duration": 18,
    "start_time": "2022-12-12T12:47:25.847Z"
   },
   {
    "duration": 7,
    "start_time": "2022-12-12T12:47:29.696Z"
   },
   {
    "duration": 17,
    "start_time": "2022-12-12T12:47:30.551Z"
   },
   {
    "duration": 24,
    "start_time": "2022-12-12T12:48:29.297Z"
   },
   {
    "duration": 685,
    "start_time": "2022-12-12T12:48:30.227Z"
   },
   {
    "duration": 6,
    "start_time": "2022-12-12T12:48:57.114Z"
   },
   {
    "duration": 9,
    "start_time": "2022-12-12T12:49:01.193Z"
   },
   {
    "duration": 50,
    "start_time": "2022-12-12T12:49:04.610Z"
   },
   {
    "duration": 3,
    "start_time": "2022-12-12T12:49:04.883Z"
   },
   {
    "duration": 3,
    "start_time": "2022-12-12T12:49:05.156Z"
   },
   {
    "duration": 18,
    "start_time": "2022-12-12T12:49:05.584Z"
   },
   {
    "duration": 7,
    "start_time": "2022-12-12T12:49:07.146Z"
   },
   {
    "duration": 12,
    "start_time": "2022-12-12T12:49:07.780Z"
   },
   {
    "duration": 8,
    "start_time": "2022-12-12T12:49:12.350Z"
   },
   {
    "duration": 608,
    "start_time": "2022-12-12T12:49:12.636Z"
   },
   {
    "duration": 9,
    "start_time": "2022-12-12T12:50:09.013Z"
   },
   {
    "duration": 16,
    "start_time": "2022-12-12T12:54:08.056Z"
   },
   {
    "duration": 329,
    "start_time": "2022-12-12T12:57:46.499Z"
   },
   {
    "duration": 12,
    "start_time": "2022-12-12T12:58:14.387Z"
   },
   {
    "duration": 233,
    "start_time": "2022-12-12T12:58:19.171Z"
   },
   {
    "duration": 249,
    "start_time": "2022-12-12T12:58:22.505Z"
   },
   {
    "duration": 225,
    "start_time": "2022-12-12T12:58:26.383Z"
   },
   {
    "duration": 268,
    "start_time": "2022-12-12T13:00:18.680Z"
   },
   {
    "duration": 237,
    "start_time": "2022-12-12T13:00:23.044Z"
   },
   {
    "duration": 9,
    "start_time": "2022-12-12T13:00:28.038Z"
   },
   {
    "duration": 323,
    "start_time": "2022-12-12T13:00:32.216Z"
   },
   {
    "duration": 239,
    "start_time": "2022-12-12T13:00:36.837Z"
   },
   {
    "duration": 233,
    "start_time": "2022-12-12T13:00:41.769Z"
   },
   {
    "duration": 661,
    "start_time": "2022-12-12T13:02:39.046Z"
   },
   {
    "duration": 668,
    "start_time": "2022-12-12T13:04:19.200Z"
   },
   {
    "duration": 577,
    "start_time": "2022-12-12T13:05:39.054Z"
   },
   {
    "duration": 838,
    "start_time": "2022-12-12T13:06:08.420Z"
   },
   {
    "duration": 806,
    "start_time": "2022-12-12T13:14:02.394Z"
   },
   {
    "duration": 679,
    "start_time": "2022-12-12T13:14:06.126Z"
   },
   {
    "duration": 121,
    "start_time": "2022-12-12T13:14:21.664Z"
   },
   {
    "duration": 696,
    "start_time": "2022-12-12T13:14:30.816Z"
   },
   {
    "duration": 579,
    "start_time": "2022-12-12T13:20:06.728Z"
   },
   {
    "duration": 10,
    "start_time": "2022-12-12T13:20:46.808Z"
   },
   {
    "duration": 4,
    "start_time": "2022-12-12T13:21:45.361Z"
   },
   {
    "duration": 1166,
    "start_time": "2022-12-12T13:22:09.349Z"
   },
   {
    "duration": 4,
    "start_time": "2022-12-12T13:22:27.977Z"
   },
   {
    "duration": 11,
    "start_time": "2022-12-12T13:22:29.379Z"
   },
   {
    "duration": 22,
    "start_time": "2022-12-12T13:22:32.821Z"
   },
   {
    "duration": 4,
    "start_time": "2022-12-12T13:30:15.645Z"
   },
   {
    "duration": 1218,
    "start_time": "2022-12-12T13:30:16.269Z"
   },
   {
    "duration": 0,
    "start_time": "2022-12-12T13:30:17.489Z"
   },
   {
    "duration": 4,
    "start_time": "2022-12-12T13:30:49.953Z"
   },
   {
    "duration": 1264,
    "start_time": "2022-12-12T13:30:50.385Z"
   },
   {
    "duration": 4,
    "start_time": "2022-12-12T13:31:03.116Z"
   },
   {
    "duration": 8,
    "start_time": "2022-12-12T13:31:03.444Z"
   },
   {
    "duration": 24,
    "start_time": "2022-12-12T13:31:03.742Z"
   },
   {
    "duration": 5,
    "start_time": "2022-12-12T13:32:27.362Z"
   },
   {
    "duration": 10,
    "start_time": "2022-12-12T13:32:27.788Z"
   },
   {
    "duration": 24,
    "start_time": "2022-12-12T13:32:28.062Z"
   },
   {
    "duration": 6,
    "start_time": "2022-12-12T13:32:49.052Z"
   },
   {
    "duration": 9,
    "start_time": "2022-12-12T13:32:50.062Z"
   },
   {
    "duration": 24,
    "start_time": "2022-12-12T13:32:50.274Z"
   },
   {
    "duration": 8,
    "start_time": "2022-12-12T13:33:44.134Z"
   },
   {
    "duration": 14,
    "start_time": "2022-12-12T13:34:18.950Z"
   },
   {
    "duration": 21,
    "start_time": "2022-12-12T13:34:22.926Z"
   },
   {
    "duration": 4,
    "start_time": "2022-12-12T13:35:06.128Z"
   },
   {
    "duration": 4,
    "start_time": "2022-12-12T13:35:15.172Z"
   },
   {
    "duration": 8,
    "start_time": "2022-12-12T13:39:43.992Z"
   },
   {
    "duration": 4,
    "start_time": "2022-12-12T13:39:44.285Z"
   },
   {
    "duration": 5,
    "start_time": "2022-12-12T13:39:44.582Z"
   },
   {
    "duration": 5,
    "start_time": "2022-12-12T13:42:16.493Z"
   },
   {
    "duration": 58,
    "start_time": "2022-12-12T13:42:16.502Z"
   },
   {
    "duration": 3,
    "start_time": "2022-12-12T13:42:16.562Z"
   },
   {
    "duration": 9,
    "start_time": "2022-12-12T13:42:16.566Z"
   },
   {
    "duration": 23,
    "start_time": "2022-12-12T13:42:16.577Z"
   },
   {
    "duration": 8,
    "start_time": "2022-12-12T13:42:16.602Z"
   },
   {
    "duration": 39,
    "start_time": "2022-12-12T13:42:16.612Z"
   },
   {
    "duration": 270,
    "start_time": "2022-12-12T13:42:16.653Z"
   },
   {
    "duration": 19,
    "start_time": "2022-12-12T13:42:16.925Z"
   },
   {
    "duration": 932,
    "start_time": "2022-12-12T13:42:16.946Z"
   },
   {
    "duration": 6,
    "start_time": "2022-12-12T13:42:17.880Z"
   },
   {
    "duration": 28,
    "start_time": "2022-12-12T13:42:17.887Z"
   },
   {
    "duration": 4,
    "start_time": "2022-12-12T13:42:17.916Z"
   },
   {
    "duration": 4,
    "start_time": "2022-12-12T13:42:17.938Z"
   },
   {
    "duration": 8,
    "start_time": "2022-12-12T13:43:32.261Z"
   },
   {
    "duration": 5,
    "start_time": "2022-12-12T13:43:47.301Z"
   },
   {
    "duration": 18,
    "start_time": "2022-12-12T13:44:35.894Z"
   },
   {
    "duration": 4,
    "start_time": "2022-12-12T13:45:10.660Z"
   },
   {
    "duration": 51,
    "start_time": "2022-12-12T13:45:10.666Z"
   },
   {
    "duration": 3,
    "start_time": "2022-12-12T13:45:10.719Z"
   },
   {
    "duration": 6,
    "start_time": "2022-12-12T13:45:10.723Z"
   },
   {
    "duration": 17,
    "start_time": "2022-12-12T13:45:10.731Z"
   },
   {
    "duration": 7,
    "start_time": "2022-12-12T13:45:10.750Z"
   },
   {
    "duration": 15,
    "start_time": "2022-12-12T13:45:10.759Z"
   },
   {
    "duration": 247,
    "start_time": "2022-12-12T13:45:10.776Z"
   },
   {
    "duration": 12,
    "start_time": "2022-12-12T13:45:11.025Z"
   },
   {
    "duration": 721,
    "start_time": "2022-12-12T13:45:11.039Z"
   },
   {
    "duration": 5,
    "start_time": "2022-12-12T13:45:17.713Z"
   },
   {
    "duration": 13,
    "start_time": "2022-12-12T13:45:19.469Z"
   },
   {
    "duration": 18,
    "start_time": "2022-12-12T13:45:20.090Z"
   },
   {
    "duration": 26,
    "start_time": "2022-12-12T13:45:31.292Z"
   },
   {
    "duration": 24,
    "start_time": "2022-12-12T13:45:46.654Z"
   },
   {
    "duration": 4,
    "start_time": "2022-12-12T13:46:36.591Z"
   },
   {
    "duration": 5,
    "start_time": "2022-12-12T13:46:43.231Z"
   },
   {
    "duration": 5,
    "start_time": "2022-12-12T13:46:45.124Z"
   },
   {
    "duration": 6,
    "start_time": "2022-12-12T13:49:30.127Z"
   },
   {
    "duration": 4,
    "start_time": "2022-12-12T13:50:25.811Z"
   },
   {
    "duration": 65,
    "start_time": "2022-12-12T13:50:25.817Z"
   },
   {
    "duration": 3,
    "start_time": "2022-12-12T13:50:25.884Z"
   },
   {
    "duration": 6,
    "start_time": "2022-12-12T13:50:25.889Z"
   },
   {
    "duration": 27,
    "start_time": "2022-12-12T13:50:25.897Z"
   },
   {
    "duration": 8,
    "start_time": "2022-12-12T13:50:25.926Z"
   },
   {
    "duration": 16,
    "start_time": "2022-12-12T13:50:25.936Z"
   },
   {
    "duration": 250,
    "start_time": "2022-12-12T13:50:25.954Z"
   },
   {
    "duration": 10,
    "start_time": "2022-12-12T13:50:26.207Z"
   },
   {
    "duration": 777,
    "start_time": "2022-12-12T13:50:26.221Z"
   },
   {
    "duration": 5,
    "start_time": "2022-12-12T13:50:27.000Z"
   },
   {
    "duration": 30,
    "start_time": "2022-12-12T13:50:27.007Z"
   },
   {
    "duration": 19,
    "start_time": "2022-12-12T13:50:27.039Z"
   },
   {
    "duration": 10,
    "start_time": "2022-12-12T13:50:27.059Z"
   },
   {
    "duration": 4,
    "start_time": "2022-12-12T13:50:27.071Z"
   },
   {
    "duration": 8,
    "start_time": "2022-12-12T13:50:27.077Z"
   },
   {
    "duration": 8,
    "start_time": "2022-12-12T13:50:27.087Z"
   },
   {
    "duration": 4,
    "start_time": "2022-12-12T13:52:05.311Z"
   },
   {
    "duration": 59,
    "start_time": "2022-12-12T13:52:05.318Z"
   },
   {
    "duration": 3,
    "start_time": "2022-12-12T13:52:05.378Z"
   },
   {
    "duration": 6,
    "start_time": "2022-12-12T13:52:05.383Z"
   },
   {
    "duration": 18,
    "start_time": "2022-12-12T13:52:05.391Z"
   },
   {
    "duration": 7,
    "start_time": "2022-12-12T13:52:05.411Z"
   },
   {
    "duration": 20,
    "start_time": "2022-12-12T13:52:05.419Z"
   },
   {
    "duration": 241,
    "start_time": "2022-12-12T13:52:05.441Z"
   },
   {
    "duration": 7,
    "start_time": "2022-12-12T13:52:05.684Z"
   },
   {
    "duration": 720,
    "start_time": "2022-12-12T13:52:05.693Z"
   },
   {
    "duration": 5,
    "start_time": "2022-12-12T13:52:06.414Z"
   },
   {
    "duration": 26,
    "start_time": "2022-12-12T13:52:06.420Z"
   },
   {
    "duration": 18,
    "start_time": "2022-12-12T13:52:06.447Z"
   },
   {
    "duration": 7,
    "start_time": "2022-12-12T13:52:06.467Z"
   },
   {
    "duration": 5,
    "start_time": "2022-12-12T13:52:06.475Z"
   },
   {
    "duration": 9,
    "start_time": "2022-12-12T13:52:06.481Z"
   },
   {
    "duration": 5,
    "start_time": "2022-12-12T13:52:06.492Z"
   },
   {
    "duration": 6,
    "start_time": "2022-12-12T13:52:06.498Z"
   },
   {
    "duration": 3,
    "start_time": "2022-12-12T13:53:47.033Z"
   },
   {
    "duration": 8,
    "start_time": "2022-12-12T13:54:17.102Z"
   },
   {
    "duration": 5,
    "start_time": "2022-12-12T13:54:26.208Z"
   },
   {
    "duration": 3,
    "start_time": "2022-12-12T13:54:51.472Z"
   },
   {
    "duration": 4,
    "start_time": "2022-12-12T13:55:58.741Z"
   },
   {
    "duration": 4,
    "start_time": "2022-12-12T13:57:55.025Z"
   },
   {
    "duration": 3,
    "start_time": "2022-12-12T13:58:35.588Z"
   },
   {
    "duration": 38,
    "start_time": "2022-12-12T13:58:45.622Z"
   },
   {
    "duration": 78,
    "start_time": "2022-12-12T13:58:51.890Z"
   },
   {
    "duration": 4,
    "start_time": "2022-12-12T13:59:17.059Z"
   },
   {
    "duration": 3,
    "start_time": "2022-12-12T13:59:20.670Z"
   },
   {
    "duration": 3,
    "start_time": "2022-12-12T13:59:53.225Z"
   },
   {
    "duration": 1084941,
    "start_time": "2022-12-12T14:00:23.374Z"
   },
   {
    "duration": 4,
    "start_time": "2022-12-12T14:21:09.326Z"
   },
   {
    "duration": 3,
    "start_time": "2022-12-12T14:21:12.450Z"
   },
   {
    "duration": 3,
    "start_time": "2022-12-12T14:21:13.349Z"
   },
   {
    "duration": 80,
    "start_time": "2022-12-12T14:21:28.379Z"
   },
   {
    "duration": 78,
    "start_time": "2022-12-12T14:22:32.070Z"
   },
   {
    "duration": 3,
    "start_time": "2022-12-12T14:22:33.494Z"
   },
   {
    "duration": 69,
    "start_time": "2022-12-12T14:22:34.089Z"
   },
   {
    "duration": 83,
    "start_time": "2022-12-12T14:22:39.307Z"
   },
   {
    "duration": 3,
    "start_time": "2022-12-12T14:23:11.016Z"
   },
   {
    "duration": 2505,
    "start_time": "2022-12-12T14:23:25.137Z"
   },
   {
    "duration": 3,
    "start_time": "2022-12-12T14:24:26.811Z"
   },
   {
    "duration": 3,
    "start_time": "2022-12-12T14:25:37.682Z"
   },
   {
    "duration": 3,
    "start_time": "2022-12-12T14:25:58.138Z"
   },
   {
    "duration": 570,
    "start_time": "2022-12-12T14:26:08.071Z"
   },
   {
    "duration": 3,
    "start_time": "2022-12-12T14:27:09.752Z"
   },
   {
    "duration": 4,
    "start_time": "2022-12-12T14:27:11.421Z"
   },
   {
    "duration": 141269,
    "start_time": "2022-12-12T14:27:12.128Z"
   },
   {
    "duration": 86,
    "start_time": "2022-12-12T14:29:54.603Z"
   },
   {
    "duration": 3,
    "start_time": "2022-12-12T14:30:02.922Z"
   },
   {
    "duration": 3,
    "start_time": "2022-12-12T14:30:03.415Z"
   },
   {
    "duration": 17282,
    "start_time": "2022-12-12T14:30:04.148Z"
   },
   {
    "duration": 4,
    "start_time": "2022-12-12T14:30:25.406Z"
   },
   {
    "duration": 148427,
    "start_time": "2022-12-12T14:30:27.876Z"
   },
   {
    "duration": 3,
    "start_time": "2022-12-12T14:33:02.909Z"
   },
   {
    "duration": 87687,
    "start_time": "2022-12-12T14:33:03.424Z"
   },
   {
    "duration": 3,
    "start_time": "2022-12-12T14:37:23.483Z"
   },
   {
    "duration": 4,
    "start_time": "2022-12-12T14:37:23.941Z"
   },
   {
    "duration": 3,
    "start_time": "2022-12-12T14:37:47.583Z"
   },
   {
    "duration": 1565,
    "start_time": "2022-12-12T14:37:59.225Z"
   },
   {
    "duration": 3,
    "start_time": "2022-12-12T14:40:04.284Z"
   },
   {
    "duration": 4,
    "start_time": "2022-12-12T14:40:04.657Z"
   },
   {
    "duration": 3324,
    "start_time": "2022-12-12T14:40:05.049Z"
   },
   {
    "duration": 22806,
    "start_time": "2022-12-12T14:40:19.737Z"
   },
   {
    "duration": 10,
    "start_time": "2022-12-12T14:42:16.551Z"
   },
   {
    "duration": 64,
    "start_time": "2022-12-12T14:42:45.098Z"
   },
   {
    "duration": 11,
    "start_time": "2022-12-12T14:42:55.776Z"
   },
   {
    "duration": 9,
    "start_time": "2022-12-12T14:43:03.643Z"
   },
   {
    "duration": 9,
    "start_time": "2022-12-12T14:43:34.701Z"
   },
   {
    "duration": 8,
    "start_time": "2022-12-12T14:43:48.438Z"
   },
   {
    "duration": 13,
    "start_time": "2022-12-12T14:43:58.809Z"
   },
   {
    "duration": 9,
    "start_time": "2022-12-12T14:44:09.797Z"
   },
   {
    "duration": 10,
    "start_time": "2022-12-12T14:44:36.710Z"
   },
   {
    "duration": 73,
    "start_time": "2022-12-12T14:46:16.093Z"
   },
   {
    "duration": 9,
    "start_time": "2022-12-12T14:47:23.528Z"
   },
   {
    "duration": 5,
    "start_time": "2022-12-12T14:47:31.639Z"
   },
   {
    "duration": 7,
    "start_time": "2022-12-12T14:47:35.467Z"
   },
   {
    "duration": 3,
    "start_time": "2022-12-12T14:49:58.440Z"
   },
   {
    "duration": 3,
    "start_time": "2022-12-12T14:49:59.845Z"
   },
   {
    "duration": 3,
    "start_time": "2022-12-12T14:50:04.241Z"
   },
   {
    "duration": 8517,
    "start_time": "2022-12-12T14:50:05.622Z"
   },
   {
    "duration": 3,
    "start_time": "2022-12-12T14:50:17.970Z"
   },
   {
    "duration": 4,
    "start_time": "2022-12-12T14:50:18.396Z"
   },
   {
    "duration": 20850,
    "start_time": "2022-12-12T14:50:18.987Z"
   },
   {
    "duration": 4,
    "start_time": "2022-12-12T14:50:42.901Z"
   },
   {
    "duration": 7,
    "start_time": "2022-12-12T14:50:43.943Z"
   },
   {
    "duration": 3,
    "start_time": "2022-12-12T14:56:03.025Z"
   },
   {
    "duration": 5,
    "start_time": "2022-12-12T14:56:43.341Z"
   },
   {
    "duration": 7,
    "start_time": "2022-12-12T14:57:11.759Z"
   },
   {
    "duration": 11,
    "start_time": "2022-12-12T14:57:28.705Z"
   },
   {
    "duration": 5,
    "start_time": "2022-12-12T14:57:34.093Z"
   },
   {
    "duration": 3,
    "start_time": "2022-12-12T14:57:44.528Z"
   },
   {
    "duration": 10,
    "start_time": "2022-12-12T14:58:13.528Z"
   },
   {
    "duration": 3,
    "start_time": "2022-12-12T14:58:20.870Z"
   },
   {
    "duration": 3,
    "start_time": "2022-12-12T14:58:43.607Z"
   },
   {
    "duration": 5,
    "start_time": "2022-12-12T15:11:45.108Z"
   },
   {
    "duration": 54,
    "start_time": "2022-12-12T15:11:45.115Z"
   },
   {
    "duration": 3,
    "start_time": "2022-12-12T15:11:45.172Z"
   },
   {
    "duration": 8,
    "start_time": "2022-12-12T15:11:45.178Z"
   },
   {
    "duration": 18,
    "start_time": "2022-12-12T15:11:45.188Z"
   },
   {
    "duration": 32,
    "start_time": "2022-12-12T15:11:45.208Z"
   },
   {
    "duration": 18,
    "start_time": "2022-12-12T15:11:45.242Z"
   },
   {
    "duration": 235,
    "start_time": "2022-12-12T15:11:45.261Z"
   },
   {
    "duration": 7,
    "start_time": "2022-12-12T15:11:45.497Z"
   },
   {
    "duration": 696,
    "start_time": "2022-12-12T15:11:45.508Z"
   },
   {
    "duration": 3,
    "start_time": "2022-12-12T15:11:46.206Z"
   },
   {
    "duration": 16,
    "start_time": "2022-12-12T15:11:46.211Z"
   },
   {
    "duration": 34,
    "start_time": "2022-12-12T15:11:46.229Z"
   },
   {
    "duration": 26,
    "start_time": "2022-12-12T15:11:46.265Z"
   },
   {
    "duration": 27,
    "start_time": "2022-12-12T15:11:46.292Z"
   },
   {
    "duration": 4,
    "start_time": "2022-12-12T15:11:46.320Z"
   },
   {
    "duration": 8,
    "start_time": "2022-12-12T15:11:46.326Z"
   },
   {
    "duration": 11,
    "start_time": "2022-12-12T15:11:46.336Z"
   },
   {
    "duration": 9,
    "start_time": "2022-12-12T15:11:46.348Z"
   },
   {
    "duration": 19,
    "start_time": "2022-12-12T15:11:46.359Z"
   },
   {
    "duration": 15,
    "start_time": "2022-12-12T15:11:46.380Z"
   },
   {
    "duration": 17,
    "start_time": "2022-12-12T15:11:46.397Z"
   },
   {
    "duration": 16,
    "start_time": "2022-12-12T15:11:46.416Z"
   },
   {
    "duration": 546650,
    "start_time": "2022-12-12T15:11:46.434Z"
   },
   {
    "duration": 3,
    "start_time": "2022-12-12T15:20:53.085Z"
   },
   {
    "duration": 6,
    "start_time": "2022-12-12T15:20:53.090Z"
   },
   {
    "duration": 9,
    "start_time": "2022-12-12T15:20:53.097Z"
   },
   {
    "duration": 10235,
    "start_time": "2022-12-12T15:20:53.110Z"
   },
   {
    "duration": 89,
    "start_time": "2022-12-12T15:21:03.350Z"
   },
   {
    "duration": 7,
    "start_time": "2022-12-12T15:21:03.442Z"
   },
   {
    "duration": 6,
    "start_time": "2022-12-12T15:21:03.451Z"
   },
   {
    "duration": 25509,
    "start_time": "2022-12-12T15:21:03.538Z"
   },
   {
    "duration": 89,
    "start_time": "2022-12-12T15:21:29.050Z"
   },
   {
    "duration": 103,
    "start_time": "2022-12-12T15:21:29.142Z"
   },
   {
    "duration": 6,
    "start_time": "2022-12-12T15:21:29.247Z"
   },
   {
    "duration": 89108,
    "start_time": "2022-12-12T15:21:29.255Z"
   },
   {
    "duration": 13,
    "start_time": "2022-12-12T15:22:58.364Z"
   },
   {
    "duration": 0,
    "start_time": "2022-12-12T15:22:58.379Z"
   },
   {
    "duration": 0,
    "start_time": "2022-12-12T15:22:58.380Z"
   },
   {
    "duration": 0,
    "start_time": "2022-12-12T15:22:58.381Z"
   },
   {
    "duration": 0,
    "start_time": "2022-12-12T15:22:58.383Z"
   },
   {
    "duration": 0,
    "start_time": "2022-12-12T15:22:58.384Z"
   },
   {
    "duration": 0,
    "start_time": "2022-12-12T15:22:58.385Z"
   },
   {
    "duration": 4,
    "start_time": "2022-12-12T15:23:59.224Z"
   },
   {
    "duration": 43,
    "start_time": "2022-12-12T15:23:59.230Z"
   },
   {
    "duration": 3,
    "start_time": "2022-12-12T15:23:59.275Z"
   },
   {
    "duration": 5,
    "start_time": "2022-12-12T15:23:59.280Z"
   },
   {
    "duration": 17,
    "start_time": "2022-12-12T15:23:59.286Z"
   },
   {
    "duration": 7,
    "start_time": "2022-12-12T15:23:59.305Z"
   },
   {
    "duration": 37,
    "start_time": "2022-12-12T15:23:59.313Z"
   },
   {
    "duration": 238,
    "start_time": "2022-12-12T15:23:59.352Z"
   },
   {
    "duration": 7,
    "start_time": "2022-12-12T15:23:59.592Z"
   },
   {
    "duration": 694,
    "start_time": "2022-12-12T15:23:59.602Z"
   },
   {
    "duration": 3,
    "start_time": "2022-12-12T15:24:00.298Z"
   },
   {
    "duration": 21,
    "start_time": "2022-12-12T15:24:00.302Z"
   },
   {
    "duration": 32,
    "start_time": "2022-12-12T15:24:00.325Z"
   },
   {
    "duration": 18,
    "start_time": "2022-12-12T15:24:00.359Z"
   },
   {
    "duration": 15,
    "start_time": "2022-12-12T15:24:00.379Z"
   },
   {
    "duration": 12,
    "start_time": "2022-12-12T15:24:00.396Z"
   },
   {
    "duration": 39,
    "start_time": "2022-12-12T15:24:00.409Z"
   },
   {
    "duration": 16,
    "start_time": "2022-12-12T15:24:00.449Z"
   },
   {
    "duration": 15,
    "start_time": "2022-12-12T15:24:00.468Z"
   },
   {
    "duration": 17,
    "start_time": "2022-12-12T15:24:00.484Z"
   },
   {
    "duration": 38,
    "start_time": "2022-12-12T15:24:00.503Z"
   },
   {
    "duration": 18,
    "start_time": "2022-12-12T15:24:00.543Z"
   },
   {
    "duration": 23,
    "start_time": "2022-12-12T15:24:00.563Z"
   },
   {
    "duration": 487277,
    "start_time": "2022-12-12T15:24:00.588Z"
   },
   {
    "duration": 3,
    "start_time": "2022-12-12T15:32:07.869Z"
   },
   {
    "duration": 25,
    "start_time": "2022-12-12T15:32:07.874Z"
   },
   {
    "duration": 12,
    "start_time": "2022-12-12T15:32:07.901Z"
   },
   {
    "duration": 7927,
    "start_time": "2022-12-12T15:32:07.918Z"
   },
   {
    "duration": 90,
    "start_time": "2022-12-12T15:32:15.848Z"
   },
   {
    "duration": 97,
    "start_time": "2022-12-12T15:32:15.941Z"
   },
   {
    "duration": 6,
    "start_time": "2022-12-12T15:32:16.040Z"
   },
   {
    "duration": 13990,
    "start_time": "2022-12-12T15:32:16.048Z"
   },
   {
    "duration": 4,
    "start_time": "2022-12-12T15:32:30.041Z"
   },
   {
    "duration": 109,
    "start_time": "2022-12-12T15:32:30.047Z"
   },
   {
    "duration": 13,
    "start_time": "2022-12-12T15:32:30.158Z"
   },
   {
    "duration": 87116,
    "start_time": "2022-12-12T15:32:30.172Z"
   },
   {
    "duration": 4,
    "start_time": "2022-12-12T15:33:57.290Z"
   },
   {
    "duration": 14,
    "start_time": "2022-12-12T15:33:57.295Z"
   },
   {
    "duration": 27,
    "start_time": "2022-12-12T15:33:57.311Z"
   },
   {
    "duration": 102,
    "start_time": "2022-12-12T15:33:57.340Z"
   },
   {
    "duration": 10,
    "start_time": "2022-12-12T15:33:57.444Z"
   },
   {
    "duration": 13,
    "start_time": "2022-12-12T15:33:57.457Z"
   },
   {
    "duration": 66,
    "start_time": "2022-12-12T15:33:57.472Z"
   },
   {
    "duration": 1904,
    "start_time": "2022-12-13T15:32:50.303Z"
   },
   {
    "duration": 97,
    "start_time": "2022-12-13T15:32:52.209Z"
   },
   {
    "duration": 3,
    "start_time": "2022-12-13T15:32:52.307Z"
   },
   {
    "duration": 9,
    "start_time": "2022-12-13T15:32:52.311Z"
   },
   {
    "duration": 20,
    "start_time": "2022-12-13T15:32:52.321Z"
   },
   {
    "duration": 10,
    "start_time": "2022-12-13T15:32:52.343Z"
   },
   {
    "duration": 15,
    "start_time": "2022-12-13T15:32:52.357Z"
   },
   {
    "duration": 216,
    "start_time": "2022-12-13T15:32:52.374Z"
   },
   {
    "duration": 7,
    "start_time": "2022-12-13T15:32:52.596Z"
   },
   {
    "duration": 739,
    "start_time": "2022-12-13T15:32:52.966Z"
   },
   {
    "duration": 3,
    "start_time": "2022-12-13T15:32:54.602Z"
   },
   {
    "duration": 4,
    "start_time": "2022-12-13T15:32:57.090Z"
   },
   {
    "duration": 12,
    "start_time": "2022-12-13T15:32:59.593Z"
   },
   {
    "duration": 18,
    "start_time": "2022-12-13T15:33:21.236Z"
   },
   {
    "duration": 9,
    "start_time": "2022-12-13T15:33:28.893Z"
   },
   {
    "duration": 8,
    "start_time": "2022-12-13T15:35:12.461Z"
   },
   {
    "duration": 10,
    "start_time": "2022-12-13T15:35:19.013Z"
   },
   {
    "duration": 81,
    "start_time": "2022-12-13T16:38:33.690Z"
   },
   {
    "duration": 72,
    "start_time": "2022-12-13T16:38:35.850Z"
   },
   {
    "duration": 74,
    "start_time": "2022-12-13T16:38:47.689Z"
   },
   {
    "duration": 1855,
    "start_time": "2022-12-13T16:45:31.798Z"
   },
   {
    "duration": 165,
    "start_time": "2022-12-13T16:49:19.927Z"
   },
   {
    "duration": 4,
    "start_time": "2022-12-13T16:49:27.845Z"
   },
   {
    "duration": 4,
    "start_time": "2022-12-13T16:50:12.581Z"
   },
   {
    "duration": 22,
    "start_time": "2022-12-13T16:50:14.583Z"
   },
   {
    "duration": 1292,
    "start_time": "2022-12-13T16:59:20.890Z"
   },
   {
    "duration": 8,
    "start_time": "2022-12-13T17:00:42.269Z"
   },
   {
    "duration": 828,
    "start_time": "2022-12-13T17:00:54.768Z"
   },
   {
    "duration": 113,
    "start_time": "2022-12-13T17:01:01.472Z"
   },
   {
    "duration": 7,
    "start_time": "2022-12-13T17:01:08.512Z"
   },
   {
    "duration": 802,
    "start_time": "2022-12-13T17:01:10.194Z"
   },
   {
    "duration": 8,
    "start_time": "2022-12-13T17:01:18.227Z"
   },
   {
    "duration": 834,
    "start_time": "2022-12-13T17:01:19.149Z"
   },
   {
    "duration": 7,
    "start_time": "2022-12-13T17:01:27.159Z"
   },
   {
    "duration": 802,
    "start_time": "2022-12-13T17:01:27.665Z"
   },
   {
    "duration": 8,
    "start_time": "2022-12-13T17:01:47.716Z"
   },
   {
    "duration": 788,
    "start_time": "2022-12-13T17:01:48.111Z"
   },
   {
    "duration": 7,
    "start_time": "2022-12-13T17:02:00.141Z"
   },
   {
    "duration": 817,
    "start_time": "2022-12-13T17:02:00.492Z"
   },
   {
    "duration": 7,
    "start_time": "2022-12-13T17:02:13.934Z"
   },
   {
    "duration": 809,
    "start_time": "2022-12-13T17:02:14.518Z"
   },
   {
    "duration": 799,
    "start_time": "2022-12-13T17:04:52.518Z"
   },
   {
    "duration": 947,
    "start_time": "2022-12-13T17:07:23.586Z"
   },
   {
    "duration": 7,
    "start_time": "2022-12-13T17:07:45.582Z"
   },
   {
    "duration": 829,
    "start_time": "2022-12-13T17:07:47.045Z"
   },
   {
    "duration": 13,
    "start_time": "2022-12-13T17:08:35.604Z"
   },
   {
    "duration": 305,
    "start_time": "2022-12-13T17:08:35.987Z"
   },
   {
    "duration": 11,
    "start_time": "2022-12-13T17:08:45.511Z"
   },
   {
    "duration": 241,
    "start_time": "2022-12-13T17:08:45.868Z"
   },
   {
    "duration": 192,
    "start_time": "2022-12-13T17:14:35.371Z"
   },
   {
    "duration": 267,
    "start_time": "2022-12-13T17:14:41.555Z"
   },
   {
    "duration": 74,
    "start_time": "2022-12-13T17:15:52.847Z"
   },
   {
    "duration": 360,
    "start_time": "2022-12-13T17:16:05.372Z"
   },
   {
    "duration": 482,
    "start_time": "2022-12-13T17:16:10.514Z"
   },
   {
    "duration": 407,
    "start_time": "2022-12-13T17:16:15.415Z"
   },
   {
    "duration": 496,
    "start_time": "2022-12-13T17:16:20.039Z"
   },
   {
    "duration": 341,
    "start_time": "2022-12-13T17:17:29.408Z"
   },
   {
    "duration": 70,
    "start_time": "2022-12-13T17:18:49.670Z"
   },
   {
    "duration": 241,
    "start_time": "2022-12-13T17:18:52.336Z"
   },
   {
    "duration": 236,
    "start_time": "2022-12-13T17:18:58.389Z"
   },
   {
    "duration": 251,
    "start_time": "2022-12-13T17:20:14.815Z"
   },
   {
    "duration": 15,
    "start_time": "2022-12-13T17:20:47.148Z"
   },
   {
    "duration": 254,
    "start_time": "2022-12-13T17:22:22.556Z"
   },
   {
    "duration": 311,
    "start_time": "2022-12-13T17:22:52.581Z"
   },
   {
    "duration": 316,
    "start_time": "2022-12-13T17:23:03.469Z"
   },
   {
    "duration": 332,
    "start_time": "2022-12-13T17:23:11.325Z"
   },
   {
    "duration": 313,
    "start_time": "2022-12-13T17:23:17.128Z"
   },
   {
    "duration": 18,
    "start_time": "2022-12-13T17:26:55.633Z"
   },
   {
    "duration": 4,
    "start_time": "2022-12-13T17:27:08.769Z"
   },
   {
    "duration": 57,
    "start_time": "2022-12-13T17:27:11.725Z"
   },
   {
    "duration": 3,
    "start_time": "2022-12-13T17:27:14.517Z"
   },
   {
    "duration": 4,
    "start_time": "2022-12-13T17:27:15.748Z"
   },
   {
    "duration": 19,
    "start_time": "2022-12-13T17:27:17.986Z"
   },
   {
    "duration": 9,
    "start_time": "2022-12-13T17:27:20.071Z"
   },
   {
    "duration": 22,
    "start_time": "2022-12-13T17:27:22.012Z"
   },
   {
    "duration": 13,
    "start_time": "2022-12-13T17:27:24.765Z"
   },
   {
    "duration": 414,
    "start_time": "2022-12-13T17:27:26.428Z"
   },
   {
    "duration": 304,
    "start_time": "2022-12-13T17:27:34.442Z"
   },
   {
    "duration": 311,
    "start_time": "2022-12-13T17:27:37.000Z"
   },
   {
    "duration": 322,
    "start_time": "2022-12-13T17:27:39.481Z"
   },
   {
    "duration": 310,
    "start_time": "2022-12-13T17:27:42.902Z"
   },
   {
    "duration": 329,
    "start_time": "2022-12-13T17:27:51.024Z"
   },
   {
    "duration": 318,
    "start_time": "2022-12-13T17:28:05.142Z"
   },
   {
    "duration": 303,
    "start_time": "2022-12-13T17:28:14.459Z"
   },
   {
    "duration": 11,
    "start_time": "2022-12-13T17:28:28.206Z"
   },
   {
    "duration": 654,
    "start_time": "2022-12-13T17:34:14.295Z"
   },
   {
    "duration": 846,
    "start_time": "2022-12-13T17:34:53.094Z"
   },
   {
    "duration": 582,
    "start_time": "2022-12-13T17:35:24.954Z"
   },
   {
    "duration": 580,
    "start_time": "2022-12-13T17:35:45.511Z"
   },
   {
    "duration": 615,
    "start_time": "2022-12-13T17:39:06.532Z"
   },
   {
    "duration": 722,
    "start_time": "2022-12-13T17:39:33.768Z"
   },
   {
    "duration": 763,
    "start_time": "2022-12-13T17:40:39.559Z"
   },
   {
    "duration": 129,
    "start_time": "2022-12-13T17:44:38.511Z"
   },
   {
    "duration": 71,
    "start_time": "2022-12-13T17:45:31.720Z"
   },
   {
    "duration": 1194,
    "start_time": "2022-12-13T17:45:41.029Z"
   },
   {
    "duration": 2768,
    "start_time": "2022-12-13T17:48:45.455Z"
   },
   {
    "duration": 1633,
    "start_time": "2022-12-13T17:49:00.397Z"
   },
   {
    "duration": 1326,
    "start_time": "2022-12-13T17:49:07.415Z"
   },
   {
    "duration": 1047,
    "start_time": "2022-12-13T17:49:42.591Z"
   },
   {
    "duration": 1613,
    "start_time": "2022-12-13T17:52:21.509Z"
   },
   {
    "duration": 1640,
    "start_time": "2022-12-13T17:52:41.307Z"
   },
   {
    "duration": 3,
    "start_time": "2022-12-13T17:58:58.951Z"
   },
   {
    "duration": 5,
    "start_time": "2022-12-13T17:59:47.839Z"
   },
   {
    "duration": 6,
    "start_time": "2022-12-13T18:00:39.101Z"
   },
   {
    "duration": 18,
    "start_time": "2022-12-13T18:04:05.084Z"
   },
   {
    "duration": 23,
    "start_time": "2022-12-13T18:04:43.156Z"
   },
   {
    "duration": 9,
    "start_time": "2022-12-13T18:04:44.260Z"
   },
   {
    "duration": 55,
    "start_time": "2022-12-13T18:05:15.660Z"
   },
   {
    "duration": 15,
    "start_time": "2022-12-13T18:05:18.419Z"
   },
   {
    "duration": 5,
    "start_time": "2022-12-13T18:05:19.534Z"
   },
   {
    "duration": 22,
    "start_time": "2022-12-13T18:05:21.423Z"
   },
   {
    "duration": 9,
    "start_time": "2022-12-13T18:05:23.734Z"
   },
   {
    "duration": 23,
    "start_time": "2022-12-13T18:05:24.704Z"
   },
   {
    "duration": 11,
    "start_time": "2022-12-13T18:05:27.635Z"
   },
   {
    "duration": 324,
    "start_time": "2022-12-13T18:05:28.539Z"
   },
   {
    "duration": 8,
    "start_time": "2022-12-13T18:05:32.744Z"
   },
   {
    "duration": 582,
    "start_time": "2022-12-13T18:05:33.760Z"
   },
   {
    "duration": 1346,
    "start_time": "2022-12-13T18:05:42.399Z"
   },
   {
    "duration": 1591,
    "start_time": "2022-12-13T18:05:45.535Z"
   },
   {
    "duration": 1625,
    "start_time": "2022-12-13T18:05:48.610Z"
   },
   {
    "duration": 4,
    "start_time": "2022-12-13T18:05:54.392Z"
   },
   {
    "duration": 5,
    "start_time": "2022-12-13T18:06:24.285Z"
   },
   {
    "duration": 14,
    "start_time": "2022-12-13T18:06:44.518Z"
   },
   {
    "duration": 8,
    "start_time": "2022-12-13T18:06:45.203Z"
   },
   {
    "duration": 4,
    "start_time": "2022-12-13T18:07:39.175Z"
   },
   {
    "duration": 34,
    "start_time": "2022-12-13T18:07:41.896Z"
   },
   {
    "duration": 7,
    "start_time": "2022-12-13T18:07:47.744Z"
   },
   {
    "duration": 7,
    "start_time": "2022-12-13T18:07:49.593Z"
   },
   {
    "duration": 10,
    "start_time": "2022-12-13T18:08:01.650Z"
   },
   {
    "duration": 11,
    "start_time": "2022-12-13T18:08:08.573Z"
   },
   {
    "duration": 56,
    "start_time": "2022-12-13T18:08:17.380Z"
   },
   {
    "duration": 4,
    "start_time": "2022-12-13T18:09:18.487Z"
   },
   {
    "duration": 59,
    "start_time": "2022-12-13T18:09:18.493Z"
   },
   {
    "duration": 3,
    "start_time": "2022-12-13T18:09:18.553Z"
   },
   {
    "duration": 8,
    "start_time": "2022-12-13T18:09:18.557Z"
   },
   {
    "duration": 12,
    "start_time": "2022-12-13T18:09:18.567Z"
   },
   {
    "duration": 29,
    "start_time": "2022-12-13T18:09:18.581Z"
   },
   {
    "duration": 6,
    "start_time": "2022-12-13T18:09:18.612Z"
   },
   {
    "duration": 27,
    "start_time": "2022-12-13T18:09:18.622Z"
   },
   {
    "duration": 9,
    "start_time": "2022-12-13T18:09:18.651Z"
   },
   {
    "duration": 327,
    "start_time": "2022-12-13T18:09:18.662Z"
   },
   {
    "duration": 7,
    "start_time": "2022-12-13T18:09:18.991Z"
   },
   {
    "duration": 576,
    "start_time": "2022-12-13T18:09:19.000Z"
   },
   {
    "duration": 2069,
    "start_time": "2022-12-13T18:09:19.578Z"
   },
   {
    "duration": 1887,
    "start_time": "2022-12-13T18:09:21.649Z"
   },
   {
    "duration": 1498,
    "start_time": "2022-12-13T18:09:23.540Z"
   },
   {
    "duration": 7,
    "start_time": "2022-12-13T18:09:25.123Z"
   },
   {
    "duration": 99,
    "start_time": "2022-12-13T18:09:25.143Z"
   },
   {
    "duration": 27,
    "start_time": "2022-12-13T18:09:25.244Z"
   },
   {
    "duration": 23,
    "start_time": "2022-12-13T18:09:28.671Z"
   },
   {
    "duration": 30,
    "start_time": "2022-12-13T18:09:35.879Z"
   },
   {
    "duration": 9,
    "start_time": "2022-12-13T18:09:53.739Z"
   },
   {
    "duration": 5,
    "start_time": "2022-12-13T18:10:46.736Z"
   },
   {
    "duration": 6,
    "start_time": "2022-12-13T18:10:52.234Z"
   },
   {
    "duration": 4,
    "start_time": "2022-12-13T18:10:52.837Z"
   },
   {
    "duration": 3,
    "start_time": "2022-12-13T18:11:03.034Z"
   },
   {
    "duration": 10,
    "start_time": "2022-12-13T18:11:05.069Z"
   },
   {
    "duration": 4,
    "start_time": "2022-12-13T18:17:19.813Z"
   },
   {
    "duration": 4,
    "start_time": "2022-12-13T18:19:02.518Z"
   },
   {
    "duration": 3,
    "start_time": "2022-12-13T18:19:06.465Z"
   },
   {
    "duration": 5,
    "start_time": "2022-12-13T18:19:08.187Z"
   },
   {
    "duration": 10,
    "start_time": "2022-12-13T18:19:15.686Z"
   },
   {
    "duration": 4,
    "start_time": "2022-12-13T18:19:23.015Z"
   },
   {
    "duration": 240913,
    "start_time": "2022-12-13T18:19:25.945Z"
   },
   {
    "duration": 3,
    "start_time": "2022-12-13T18:24:42.152Z"
   },
   {
    "duration": 3,
    "start_time": "2022-12-13T18:24:45.335Z"
   },
   {
    "duration": 10,
    "start_time": "2022-12-13T18:24:56.340Z"
   },
   {
    "duration": 3,
    "start_time": "2022-12-13T18:25:00.636Z"
   },
   {
    "duration": 10177,
    "start_time": "2022-12-13T18:25:02.855Z"
   },
   {
    "duration": 3,
    "start_time": "2022-12-13T18:31:33.614Z"
   },
   {
    "duration": 8,
    "start_time": "2022-12-13T18:31:34.148Z"
   },
   {
    "duration": 3,
    "start_time": "2022-12-13T18:31:45.967Z"
   },
   {
    "duration": 4,
    "start_time": "2022-12-13T18:31:46.391Z"
   },
   {
    "duration": 3,
    "start_time": "2022-12-13T18:31:47.804Z"
   },
   {
    "duration": 23831,
    "start_time": "2022-12-13T18:31:49.299Z"
   },
   {
    "duration": 3,
    "start_time": "2022-12-13T18:34:15.122Z"
   },
   {
    "duration": 4,
    "start_time": "2022-12-13T18:34:15.704Z"
   },
   {
    "duration": 3,
    "start_time": "2022-12-13T18:34:16.741Z"
   },
   {
    "duration": 100,
    "start_time": "2022-12-13T18:34:21.950Z"
   },
   {
    "duration": 3,
    "start_time": "2022-12-13T18:34:48.281Z"
   },
   {
    "duration": 3,
    "start_time": "2022-12-13T18:34:48.910Z"
   },
   {
    "duration": 453372,
    "start_time": "2022-12-13T18:34:49.686Z"
   },
   {
    "duration": 6,
    "start_time": "2022-12-13T18:42:54.270Z"
   },
   {
    "duration": 6,
    "start_time": "2022-12-13T18:45:21.439Z"
   },
   {
    "duration": 6,
    "start_time": "2022-12-13T18:46:50.182Z"
   },
   {
    "duration": 5,
    "start_time": "2022-12-13T18:47:06.921Z"
   },
   {
    "duration": 10,
    "start_time": "2022-12-13T18:47:08.847Z"
   },
   {
    "duration": 5,
    "start_time": "2022-12-13T18:47:28.604Z"
   },
   {
    "duration": 14,
    "start_time": "2022-12-13T18:48:04.164Z"
   },
   {
    "duration": 6,
    "start_time": "2022-12-13T18:48:10.735Z"
   },
   {
    "duration": 7,
    "start_time": "2022-12-13T18:49:02.446Z"
   },
   {
    "duration": 4,
    "start_time": "2022-12-13T18:49:34.535Z"
   },
   {
    "duration": 6,
    "start_time": "2022-12-13T18:49:36.687Z"
   },
   {
    "duration": 3,
    "start_time": "2022-12-13T18:49:43.907Z"
   },
   {
    "duration": 3,
    "start_time": "2022-12-13T18:49:44.737Z"
   },
   {
    "duration": 5,
    "start_time": "2022-12-13T18:49:46.884Z"
   },
   {
    "duration": 7,
    "start_time": "2022-12-13T18:49:51.109Z"
   },
   {
    "duration": 2,
    "start_time": "2022-12-13T18:55:26.974Z"
   },
   {
    "duration": 7423,
    "start_time": "2022-12-13T18:55:28.244Z"
   },
   {
    "duration": 5,
    "start_time": "2022-12-13T18:55:43.724Z"
   },
   {
    "duration": 4,
    "start_time": "2022-12-13T18:55:51.011Z"
   },
   {
    "duration": 3,
    "start_time": "2022-12-13T18:55:53.946Z"
   },
   {
    "duration": 4,
    "start_time": "2022-12-13T18:55:55.747Z"
   },
   {
    "duration": 12,
    "start_time": "2022-12-13T18:56:44.979Z"
   },
   {
    "duration": 11,
    "start_time": "2022-12-13T18:56:56.841Z"
   },
   {
    "duration": 3,
    "start_time": "2022-12-13T18:57:19.787Z"
   },
   {
    "duration": 10,
    "start_time": "2022-12-13T18:57:21.941Z"
   },
   {
    "duration": 168,
    "start_time": "2022-12-13T18:57:53.035Z"
   },
   {
    "duration": 274,
    "start_time": "2022-12-13T18:58:27.608Z"
   },
   {
    "duration": 256,
    "start_time": "2022-12-13T19:01:41.452Z"
   },
   {
    "duration": 151,
    "start_time": "2022-12-13T19:01:48.235Z"
   },
   {
    "duration": 169,
    "start_time": "2022-12-13T19:01:52.139Z"
   },
   {
    "duration": 180,
    "start_time": "2022-12-13T19:02:20.032Z"
   },
   {
    "duration": 189,
    "start_time": "2022-12-13T19:03:09.305Z"
   },
   {
    "duration": 173,
    "start_time": "2022-12-13T19:03:20.736Z"
   },
   {
    "duration": 5448,
    "start_time": "2022-12-13T19:03:33.363Z"
   },
   {
    "duration": 282,
    "start_time": "2022-12-13T19:03:46.551Z"
   },
   {
    "duration": 172,
    "start_time": "2022-12-13T19:05:22.418Z"
   },
   {
    "duration": 80,
    "start_time": "2022-12-13T19:06:04.061Z"
   },
   {
    "duration": 157,
    "start_time": "2022-12-13T19:06:48.432Z"
   },
   {
    "duration": 176,
    "start_time": "2022-12-13T19:07:33.263Z"
   },
   {
    "duration": 252,
    "start_time": "2022-12-13T19:07:43.100Z"
   },
   {
    "duration": 258,
    "start_time": "2022-12-13T19:07:49.548Z"
   },
   {
    "duration": 184,
    "start_time": "2022-12-13T19:08:53.831Z"
   },
   {
    "duration": 335,
    "start_time": "2022-12-13T19:11:57.956Z"
   },
   {
    "duration": 182,
    "start_time": "2022-12-13T19:12:59.936Z"
   },
   {
    "duration": 7,
    "start_time": "2022-12-13T19:13:27.853Z"
   },
   {
    "duration": 7,
    "start_time": "2022-12-13T19:13:34.279Z"
   },
   {
    "duration": 1407,
    "start_time": "2022-12-13T19:19:41.799Z"
   },
   {
    "duration": 47,
    "start_time": "2022-12-13T19:19:43.208Z"
   },
   {
    "duration": 2,
    "start_time": "2022-12-13T19:19:43.257Z"
   },
   {
    "duration": 5,
    "start_time": "2022-12-13T19:19:43.261Z"
   },
   {
    "duration": 6,
    "start_time": "2022-12-13T19:19:43.267Z"
   },
   {
    "duration": 23,
    "start_time": "2022-12-13T19:19:43.274Z"
   },
   {
    "duration": 8,
    "start_time": "2022-12-13T19:19:43.298Z"
   },
   {
    "duration": 23,
    "start_time": "2022-12-13T19:19:43.307Z"
   },
   {
    "duration": 11,
    "start_time": "2022-12-13T19:19:43.331Z"
   },
   {
    "duration": 264,
    "start_time": "2022-12-13T19:19:43.344Z"
   },
   {
    "duration": 15,
    "start_time": "2022-12-13T19:19:43.609Z"
   },
   {
    "duration": 706,
    "start_time": "2022-12-13T19:19:43.625Z"
   },
   {
    "duration": 1697,
    "start_time": "2022-12-13T19:19:44.333Z"
   },
   {
    "duration": 2178,
    "start_time": "2022-12-13T19:19:46.032Z"
   },
   {
    "duration": 0,
    "start_time": "2022-12-13T19:19:48.222Z"
   },
   {
    "duration": 0,
    "start_time": "2022-12-13T19:19:48.223Z"
   },
   {
    "duration": 0,
    "start_time": "2022-12-13T19:19:48.224Z"
   },
   {
    "duration": 0,
    "start_time": "2022-12-13T19:19:48.225Z"
   },
   {
    "duration": 0,
    "start_time": "2022-12-13T19:19:48.227Z"
   },
   {
    "duration": 0,
    "start_time": "2022-12-13T19:19:48.227Z"
   },
   {
    "duration": 0,
    "start_time": "2022-12-13T19:19:48.228Z"
   },
   {
    "duration": 0,
    "start_time": "2022-12-13T19:19:48.229Z"
   },
   {
    "duration": 0,
    "start_time": "2022-12-13T19:19:48.230Z"
   },
   {
    "duration": 0,
    "start_time": "2022-12-13T19:19:48.231Z"
   },
   {
    "duration": 0,
    "start_time": "2022-12-13T19:19:48.232Z"
   },
   {
    "duration": 0,
    "start_time": "2022-12-13T19:19:48.233Z"
   },
   {
    "duration": 0,
    "start_time": "2022-12-13T19:19:48.234Z"
   },
   {
    "duration": 0,
    "start_time": "2022-12-13T19:19:48.235Z"
   },
   {
    "duration": 0,
    "start_time": "2022-12-13T19:19:48.236Z"
   },
   {
    "duration": 0,
    "start_time": "2022-12-13T19:19:48.237Z"
   },
   {
    "duration": 0,
    "start_time": "2022-12-13T19:19:48.238Z"
   },
   {
    "duration": 0,
    "start_time": "2022-12-13T19:19:48.239Z"
   },
   {
    "duration": 0,
    "start_time": "2022-12-13T19:19:48.240Z"
   },
   {
    "duration": 0,
    "start_time": "2022-12-13T19:19:48.241Z"
   },
   {
    "duration": 0,
    "start_time": "2022-12-13T19:19:48.242Z"
   },
   {
    "duration": 0,
    "start_time": "2022-12-13T19:19:48.243Z"
   },
   {
    "duration": 0,
    "start_time": "2022-12-13T19:19:48.244Z"
   },
   {
    "duration": 0,
    "start_time": "2022-12-13T19:19:48.244Z"
   },
   {
    "duration": 0,
    "start_time": "2022-12-13T19:19:48.245Z"
   },
   {
    "duration": 0,
    "start_time": "2022-12-13T19:19:48.246Z"
   },
   {
    "duration": 0,
    "start_time": "2022-12-13T19:19:48.247Z"
   },
   {
    "duration": 0,
    "start_time": "2022-12-13T19:19:48.248Z"
   },
   {
    "duration": 0,
    "start_time": "2022-12-13T19:19:48.248Z"
   },
   {
    "duration": 0,
    "start_time": "2022-12-13T19:19:48.249Z"
   },
   {
    "duration": 0,
    "start_time": "2022-12-13T19:19:48.250Z"
   },
   {
    "duration": 0,
    "start_time": "2022-12-13T19:19:48.251Z"
   },
   {
    "duration": 0,
    "start_time": "2022-12-13T19:19:48.252Z"
   },
   {
    "duration": 0,
    "start_time": "2022-12-13T19:19:48.253Z"
   },
   {
    "duration": 0,
    "start_time": "2022-12-13T19:19:48.253Z"
   },
   {
    "duration": 0,
    "start_time": "2022-12-13T19:19:48.254Z"
   },
   {
    "duration": 0,
    "start_time": "2022-12-13T19:19:48.255Z"
   },
   {
    "duration": 0,
    "start_time": "2022-12-13T19:19:48.256Z"
   },
   {
    "duration": 0,
    "start_time": "2022-12-13T19:19:48.257Z"
   },
   {
    "duration": 0,
    "start_time": "2022-12-13T19:19:48.259Z"
   },
   {
    "duration": 0,
    "start_time": "2022-12-13T19:19:48.322Z"
   },
   {
    "duration": 0,
    "start_time": "2022-12-13T19:19:48.323Z"
   },
   {
    "duration": 1426,
    "start_time": "2022-12-13T19:20:33.063Z"
   },
   {
    "duration": 46,
    "start_time": "2022-12-13T19:20:34.491Z"
   },
   {
    "duration": 2,
    "start_time": "2022-12-13T19:20:34.539Z"
   },
   {
    "duration": 4,
    "start_time": "2022-12-13T19:20:34.544Z"
   },
   {
    "duration": 7,
    "start_time": "2022-12-13T19:20:34.549Z"
   },
   {
    "duration": 26,
    "start_time": "2022-12-13T19:20:34.557Z"
   },
   {
    "duration": 8,
    "start_time": "2022-12-13T19:20:34.584Z"
   },
   {
    "duration": 33,
    "start_time": "2022-12-13T19:20:34.594Z"
   },
   {
    "duration": 12,
    "start_time": "2022-12-13T19:20:34.628Z"
   },
   {
    "duration": 260,
    "start_time": "2022-12-13T19:20:34.642Z"
   },
   {
    "duration": 6,
    "start_time": "2022-12-13T19:20:34.904Z"
   },
   {
    "duration": 647,
    "start_time": "2022-12-13T19:20:34.912Z"
   },
   {
    "duration": 1469,
    "start_time": "2022-12-13T19:20:35.561Z"
   },
   {
    "duration": 1794,
    "start_time": "2022-12-13T19:20:37.032Z"
   },
   {
    "duration": 1695,
    "start_time": "2022-12-13T19:20:38.828Z"
   },
   {
    "duration": 7,
    "start_time": "2022-12-13T19:20:40.524Z"
   },
   {
    "duration": 8,
    "start_time": "2022-12-13T19:20:40.623Z"
   },
   {
    "duration": 24,
    "start_time": "2022-12-13T19:20:40.633Z"
   },
   {
    "duration": 22,
    "start_time": "2022-12-13T19:20:40.658Z"
   },
   {
    "duration": 10,
    "start_time": "2022-12-13T19:20:40.681Z"
   },
   {
    "duration": 30,
    "start_time": "2022-12-13T19:20:40.692Z"
   },
   {
    "duration": 9,
    "start_time": "2022-12-13T19:20:40.724Z"
   },
   {
    "duration": 7,
    "start_time": "2022-12-13T19:20:40.735Z"
   },
   {
    "duration": 6,
    "start_time": "2022-12-13T19:20:40.744Z"
   },
   {
    "duration": 13,
    "start_time": "2022-12-13T19:20:40.752Z"
   },
   {
    "duration": 6,
    "start_time": "2022-12-13T19:20:40.767Z"
   },
   {
    "duration": 13,
    "start_time": "2022-12-13T19:20:40.774Z"
   },
   {
    "duration": 4,
    "start_time": "2022-12-13T19:20:40.790Z"
   },
   {
    "duration": 14,
    "start_time": "2022-12-13T19:20:40.795Z"
   },
   {
    "duration": 220128,
    "start_time": "2022-12-13T19:20:40.810Z"
   },
   {
    "duration": 2,
    "start_time": "2022-12-13T19:24:20.940Z"
   },
   {
    "duration": 7,
    "start_time": "2022-12-13T19:24:20.944Z"
   },
   {
    "duration": 6,
    "start_time": "2022-12-13T19:24:20.952Z"
   },
   {
    "duration": 8567,
    "start_time": "2022-12-13T19:24:20.960Z"
   },
   {
    "duration": 92,
    "start_time": "2022-12-13T19:24:29.529Z"
   },
   {
    "duration": 5,
    "start_time": "2022-12-13T19:24:29.623Z"
   },
   {
    "duration": 5,
    "start_time": "2022-12-13T19:24:29.630Z"
   },
   {
    "duration": 16497,
    "start_time": "2022-12-13T19:24:29.636Z"
   },
   {
    "duration": 3,
    "start_time": "2022-12-13T19:24:46.224Z"
   },
   {
    "duration": 106,
    "start_time": "2022-12-13T19:24:46.229Z"
   },
   {
    "duration": 5,
    "start_time": "2022-12-13T19:24:46.337Z"
   },
   {
    "duration": 774708,
    "start_time": "2022-12-13T19:24:46.343Z"
   },
   {
    "duration": 2,
    "start_time": "2022-12-13T19:37:41.053Z"
   },
   {
    "duration": 8,
    "start_time": "2022-12-13T19:37:41.057Z"
   },
   {
    "duration": 9,
    "start_time": "2022-12-13T19:37:41.066Z"
   },
   {
    "duration": 9,
    "start_time": "2022-12-13T19:37:41.077Z"
   },
   {
    "duration": 5,
    "start_time": "2022-12-13T19:37:41.088Z"
   },
   {
    "duration": 8,
    "start_time": "2022-12-13T19:37:41.094Z"
   },
   {
    "duration": 4,
    "start_time": "2022-12-13T19:37:41.104Z"
   },
   {
    "duration": 6640,
    "start_time": "2022-12-13T19:37:41.110Z"
   },
   {
    "duration": 5,
    "start_time": "2022-12-13T19:37:47.752Z"
   },
   {
    "duration": 7,
    "start_time": "2022-12-13T19:37:47.758Z"
   },
   {
    "duration": 6,
    "start_time": "2022-12-13T19:37:47.767Z"
   },
   {
    "duration": 12,
    "start_time": "2022-12-13T19:37:47.775Z"
   },
   {
    "duration": 5,
    "start_time": "2022-12-13T19:37:47.788Z"
   },
   {
    "duration": 216,
    "start_time": "2022-12-13T19:37:47.794Z"
   },
   {
    "duration": 116,
    "start_time": "2022-12-13T19:37:48.013Z"
   },
   {
    "duration": 1529,
    "start_time": "2022-12-14T16:29:44.407Z"
   },
   {
    "duration": 92,
    "start_time": "2022-12-14T16:29:53.096Z"
   },
   {
    "duration": 4,
    "start_time": "2022-12-14T16:29:59.073Z"
   },
   {
    "duration": 5,
    "start_time": "2022-12-14T16:32:09.846Z"
   },
   {
    "duration": 25,
    "start_time": "2022-12-14T16:32:12.122Z"
   },
   {
    "duration": 46,
    "start_time": "2022-12-14T16:32:42.455Z"
   },
   {
    "duration": 3,
    "start_time": "2022-12-14T16:32:45.657Z"
   },
   {
    "duration": 21,
    "start_time": "2022-12-14T16:32:47.294Z"
   },
   {
    "duration": 3,
    "start_time": "2022-12-14T16:33:08.794Z"
   },
   {
    "duration": 17,
    "start_time": "2022-12-14T16:33:10.236Z"
   },
   {
    "duration": 9,
    "start_time": "2022-12-14T16:36:55.769Z"
   },
   {
    "duration": 19,
    "start_time": "2022-12-14T16:37:03.118Z"
   },
   {
    "duration": 12,
    "start_time": "2022-12-14T16:37:21.293Z"
   },
   {
    "duration": 255,
    "start_time": "2022-12-14T16:37:22.354Z"
   },
   {
    "duration": 8,
    "start_time": "2022-12-14T16:37:38.927Z"
   },
   {
    "duration": 644,
    "start_time": "2022-12-14T16:37:57.776Z"
   },
   {
    "duration": 1840,
    "start_time": "2022-12-14T16:50:08.781Z"
   },
   {
    "duration": 2050,
    "start_time": "2022-12-14T16:50:16.273Z"
   },
   {
    "duration": 1646,
    "start_time": "2022-12-14T16:50:19.480Z"
   },
   {
    "duration": 2,
    "start_time": "2022-12-14T16:53:49.606Z"
   },
   {
    "duration": 4,
    "start_time": "2022-12-14T16:54:09.597Z"
   },
   {
    "duration": 20,
    "start_time": "2022-12-14T16:54:16.784Z"
   },
   {
    "duration": 21,
    "start_time": "2022-12-14T16:54:48.544Z"
   },
   {
    "duration": 9,
    "start_time": "2022-12-14T16:54:56.270Z"
   },
   {
    "duration": 5,
    "start_time": "2022-12-14T16:54:59.208Z"
   },
   {
    "duration": 5,
    "start_time": "2022-12-14T16:54:59.777Z"
   },
   {
    "duration": 5,
    "start_time": "2022-12-14T16:55:00.333Z"
   },
   {
    "duration": 3,
    "start_time": "2022-12-14T16:55:03.321Z"
   },
   {
    "duration": 9,
    "start_time": "2022-12-14T16:55:03.897Z"
   },
   {
    "duration": 110,
    "start_time": "2022-12-14T16:55:18.846Z"
   },
   {
    "duration": 3,
    "start_time": "2022-12-14T16:55:44.310Z"
   },
   {
    "duration": 3,
    "start_time": "2022-12-14T16:56:02.768Z"
   },
   {
    "duration": 3,
    "start_time": "2022-12-14T16:56:03.908Z"
   },
   {
    "duration": 4,
    "start_time": "2022-12-14T16:56:04.869Z"
   },
   {
    "duration": 228109,
    "start_time": "2022-12-14T16:56:07.569Z"
   },
   {
    "duration": 3,
    "start_time": "2022-12-14T17:00:17.830Z"
   },
   {
    "duration": 3,
    "start_time": "2022-12-14T17:00:18.657Z"
   },
   {
    "duration": 3,
    "start_time": "2022-12-14T17:00:19.495Z"
   },
   {
    "duration": 5289,
    "start_time": "2022-12-14T17:00:22.741Z"
   },
   {
    "duration": 3,
    "start_time": "2022-12-14T17:00:33.663Z"
   },
   {
    "duration": 3,
    "start_time": "2022-12-14T17:00:34.069Z"
   },
   {
    "duration": 3,
    "start_time": "2022-12-14T17:00:34.477Z"
   },
   {
    "duration": 16329,
    "start_time": "2022-12-14T17:00:38.697Z"
   },
   {
    "duration": 3,
    "start_time": "2022-12-14T17:01:03.833Z"
   },
   {
    "duration": 4,
    "start_time": "2022-12-14T17:01:59.037Z"
   },
   {
    "duration": 4,
    "start_time": "2022-12-14T17:01:59.972Z"
   },
   {
    "duration": 336885,
    "start_time": "2022-12-14T17:02:02.639Z"
   },
   {
    "duration": 4,
    "start_time": "2022-12-14T17:09:16.350Z"
   },
   {
    "duration": 3,
    "start_time": "2022-12-14T17:09:17.064Z"
   },
   {
    "duration": 888834,
    "start_time": "2022-12-14T17:09:18.063Z"
   },
   {
    "duration": 5,
    "start_time": "2022-12-14T17:24:31.873Z"
   },
   {
    "duration": 8,
    "start_time": "2022-12-14T17:24:32.766Z"
   },
   {
    "duration": 96,
    "start_time": "2022-12-14T17:25:01.003Z"
   },
   {
    "duration": 3,
    "start_time": "2022-12-14T17:25:03.815Z"
   },
   {
    "duration": 42485,
    "start_time": "2022-12-14T17:25:06.087Z"
   },
   {
    "duration": 5,
    "start_time": "2022-12-14T17:25:58.452Z"
   },
   {
    "duration": 7,
    "start_time": "2022-12-14T17:26:00.225Z"
   },
   {
    "duration": 4,
    "start_time": "2022-12-14T17:26:00.900Z"
   },
   {
    "duration": 3,
    "start_time": "2022-12-14T17:26:01.243Z"
   },
   {
    "duration": 3,
    "start_time": "2022-12-14T17:26:35.814Z"
   },
   {
    "duration": 230,
    "start_time": "2022-12-14T17:26:36.814Z"
   },
   {
    "duration": 3,
    "start_time": "2022-12-14T17:26:59.335Z"
   },
   {
    "duration": 6,
    "start_time": "2022-12-14T17:27:01.366Z"
   },
   {
    "duration": 3,
    "start_time": "2022-12-14T17:27:04.308Z"
   },
   {
    "duration": 3,
    "start_time": "2022-12-14T17:27:05.023Z"
   },
   {
    "duration": 3,
    "start_time": "2022-12-14T17:27:05.759Z"
   },
   {
    "duration": 231,
    "start_time": "2022-12-14T17:29:47.230Z"
   },
   {
    "duration": 332,
    "start_time": "2022-12-14T17:29:57.480Z"
   },
   {
    "duration": 270,
    "start_time": "2022-12-14T17:30:42.729Z"
   },
   {
    "duration": 297,
    "start_time": "2022-12-14T17:32:21.215Z"
   },
   {
    "duration": 407,
    "start_time": "2022-12-14T17:32:27.336Z"
   },
   {
    "duration": 1611,
    "start_time": "2022-12-15T06:43:01.523Z"
   },
   {
    "duration": 94,
    "start_time": "2022-12-15T06:43:03.136Z"
   },
   {
    "duration": 3,
    "start_time": "2022-12-15T06:43:03.232Z"
   },
   {
    "duration": 6,
    "start_time": "2022-12-15T06:43:03.237Z"
   },
   {
    "duration": 35,
    "start_time": "2022-12-15T06:43:03.245Z"
   },
   {
    "duration": 8,
    "start_time": "2022-12-15T06:43:03.282Z"
   },
   {
    "duration": 20,
    "start_time": "2022-12-15T06:43:03.296Z"
   },
   {
    "duration": 12,
    "start_time": "2022-12-15T06:43:03.318Z"
   },
   {
    "duration": 271,
    "start_time": "2022-12-15T06:43:03.331Z"
   },
   {
    "duration": 18,
    "start_time": "2022-12-15T06:43:03.604Z"
   },
   {
    "duration": 667,
    "start_time": "2022-12-15T06:43:03.623Z"
   },
   {
    "duration": 1414,
    "start_time": "2022-12-15T06:43:04.291Z"
   },
   {
    "duration": 1498,
    "start_time": "2022-12-15T06:43:05.707Z"
   },
   {
    "duration": 1704,
    "start_time": "2022-12-15T06:43:07.297Z"
   },
   {
    "duration": 3,
    "start_time": "2022-12-15T06:43:09.003Z"
   },
   {
    "duration": 103,
    "start_time": "2022-12-15T06:43:09.101Z"
   },
   {
    "duration": 29,
    "start_time": "2022-12-15T06:43:09.206Z"
   },
   {
    "duration": 21,
    "start_time": "2022-12-15T06:43:09.237Z"
   },
   {
    "duration": 9,
    "start_time": "2022-12-15T06:43:09.260Z"
   },
   {
    "duration": 8,
    "start_time": "2022-12-15T06:43:09.270Z"
   },
   {
    "duration": 14,
    "start_time": "2022-12-15T06:43:09.280Z"
   },
   {
    "duration": 12,
    "start_time": "2022-12-15T06:43:09.296Z"
   },
   {
    "duration": 7,
    "start_time": "2022-12-15T06:43:09.310Z"
   },
   {
    "duration": 14,
    "start_time": "2022-12-15T06:43:09.319Z"
   },
   {
    "duration": 3,
    "start_time": "2022-12-15T06:43:09.334Z"
   },
   {
    "duration": 14,
    "start_time": "2022-12-15T06:43:09.338Z"
   },
   {
    "duration": 22,
    "start_time": "2022-12-15T06:43:09.354Z"
   },
   {
    "duration": 8,
    "start_time": "2022-12-15T06:43:09.380Z"
   },
   {
    "duration": 219797,
    "start_time": "2022-12-15T06:43:09.390Z"
   },
   {
    "duration": 7,
    "start_time": "2022-12-15T06:46:49.189Z"
   },
   {
    "duration": 3,
    "start_time": "2022-12-15T06:46:49.198Z"
   },
   {
    "duration": 8,
    "start_time": "2022-12-15T06:46:49.202Z"
   },
   {
    "duration": 10285,
    "start_time": "2022-12-15T06:46:49.212Z"
   },
   {
    "duration": 3,
    "start_time": "2022-12-15T06:46:59.499Z"
   },
   {
    "duration": 93,
    "start_time": "2022-12-15T06:46:59.504Z"
   },
   {
    "duration": 3,
    "start_time": "2022-12-15T06:46:59.598Z"
   },
   {
    "duration": 15501,
    "start_time": "2022-12-15T06:46:59.603Z"
   },
   {
    "duration": 3,
    "start_time": "2022-12-15T06:47:15.195Z"
   },
   {
    "duration": 97,
    "start_time": "2022-12-15T06:47:15.200Z"
   },
   {
    "duration": 7,
    "start_time": "2022-12-15T06:47:15.299Z"
   },
   {
    "duration": 478219,
    "start_time": "2022-12-15T06:47:15.308Z"
   },
   {
    "duration": 12,
    "start_time": "2022-12-15T06:55:13.529Z"
   },
   {
    "duration": 0,
    "start_time": "2022-12-15T06:55:13.543Z"
   },
   {
    "duration": 0,
    "start_time": "2022-12-15T06:55:13.544Z"
   },
   {
    "duration": 0,
    "start_time": "2022-12-15T06:55:13.545Z"
   },
   {
    "duration": 0,
    "start_time": "2022-12-15T06:55:13.546Z"
   },
   {
    "duration": 0,
    "start_time": "2022-12-15T06:55:13.547Z"
   },
   {
    "duration": 0,
    "start_time": "2022-12-15T06:55:13.548Z"
   },
   {
    "duration": 0,
    "start_time": "2022-12-15T06:55:13.549Z"
   },
   {
    "duration": 0,
    "start_time": "2022-12-15T06:55:13.550Z"
   },
   {
    "duration": 0,
    "start_time": "2022-12-15T06:55:13.551Z"
   },
   {
    "duration": 0,
    "start_time": "2022-12-15T06:55:13.551Z"
   },
   {
    "duration": 0,
    "start_time": "2022-12-15T06:55:13.553Z"
   },
   {
    "duration": 0,
    "start_time": "2022-12-15T06:55:13.554Z"
   },
   {
    "duration": 0,
    "start_time": "2022-12-15T06:55:13.555Z"
   },
   {
    "duration": 0,
    "start_time": "2022-12-15T06:55:13.556Z"
   },
   {
    "duration": 4,
    "start_time": "2022-12-15T06:55:30.145Z"
   },
   {
    "duration": 1386,
    "start_time": "2022-12-15T06:55:35.772Z"
   },
   {
    "duration": 44,
    "start_time": "2022-12-15T06:55:37.160Z"
   },
   {
    "duration": 2,
    "start_time": "2022-12-15T06:55:37.206Z"
   },
   {
    "duration": 6,
    "start_time": "2022-12-15T06:55:37.211Z"
   },
   {
    "duration": 25,
    "start_time": "2022-12-15T06:55:37.218Z"
   },
   {
    "duration": 9,
    "start_time": "2022-12-15T06:55:37.244Z"
   },
   {
    "duration": 44,
    "start_time": "2022-12-15T06:55:37.254Z"
   },
   {
    "duration": 14,
    "start_time": "2022-12-15T06:55:37.300Z"
   },
   {
    "duration": 270,
    "start_time": "2022-12-15T06:55:37.315Z"
   },
   {
    "duration": 6,
    "start_time": "2022-12-15T06:55:37.596Z"
   },
   {
    "duration": 653,
    "start_time": "2022-12-15T06:55:37.604Z"
   },
   {
    "duration": 1439,
    "start_time": "2022-12-15T06:55:38.259Z"
   },
   {
    "duration": 2108,
    "start_time": "2022-12-15T06:55:39.699Z"
   },
   {
    "duration": 1499,
    "start_time": "2022-12-15T06:55:41.900Z"
   },
   {
    "duration": 2,
    "start_time": "2022-12-15T06:55:43.497Z"
   },
   {
    "duration": 11,
    "start_time": "2022-12-15T06:55:43.501Z"
   },
   {
    "duration": 26,
    "start_time": "2022-12-15T06:55:43.513Z"
   },
   {
    "duration": 20,
    "start_time": "2022-12-15T06:55:43.541Z"
   },
   {
    "duration": 9,
    "start_time": "2022-12-15T06:55:43.563Z"
   },
   {
    "duration": 23,
    "start_time": "2022-12-15T06:55:43.573Z"
   },
   {
    "duration": 5,
    "start_time": "2022-12-15T06:55:43.598Z"
   },
   {
    "duration": 18,
    "start_time": "2022-12-15T06:55:43.604Z"
   },
   {
    "duration": 6,
    "start_time": "2022-12-15T06:55:43.624Z"
   },
   {
    "duration": 15,
    "start_time": "2022-12-15T06:55:43.631Z"
   },
   {
    "duration": 3,
    "start_time": "2022-12-15T06:55:43.647Z"
   },
   {
    "duration": 5,
    "start_time": "2022-12-15T06:55:43.652Z"
   },
   {
    "duration": 7,
    "start_time": "2022-12-15T06:55:43.658Z"
   },
   {
    "duration": 7,
    "start_time": "2022-12-15T06:55:43.667Z"
   },
   {
    "duration": 222013,
    "start_time": "2022-12-15T06:55:43.676Z"
   },
   {
    "duration": 6,
    "start_time": "2022-12-15T06:59:25.691Z"
   },
   {
    "duration": 9,
    "start_time": "2022-12-15T06:59:25.699Z"
   },
   {
    "duration": 7,
    "start_time": "2022-12-15T06:59:25.710Z"
   },
   {
    "duration": 9380,
    "start_time": "2022-12-15T06:59:25.718Z"
   },
   {
    "duration": 4,
    "start_time": "2022-12-15T06:59:35.100Z"
   },
   {
    "duration": 98,
    "start_time": "2022-12-15T06:59:35.105Z"
   },
   {
    "duration": 7,
    "start_time": "2022-12-15T06:59:35.204Z"
   },
   {
    "duration": 15284,
    "start_time": "2022-12-15T06:59:35.212Z"
   },
   {
    "duration": 96,
    "start_time": "2022-12-15T06:59:50.500Z"
   },
   {
    "duration": 3,
    "start_time": "2022-12-15T06:59:50.598Z"
   },
   {
    "duration": 10,
    "start_time": "2022-12-15T06:59:50.603Z"
   },
   {
    "duration": 509783,
    "start_time": "2022-12-15T06:59:50.614Z"
   },
   {
    "duration": 4,
    "start_time": "2022-12-15T07:08:20.399Z"
   },
   {
    "duration": 10,
    "start_time": "2022-12-15T07:08:20.405Z"
   },
   {
    "duration": 17,
    "start_time": "2022-12-15T07:08:20.416Z"
   },
   {
    "duration": 5341,
    "start_time": "2022-12-15T07:08:20.434Z"
   },
   {
    "duration": 5,
    "start_time": "2022-12-15T07:08:25.778Z"
   },
   {
    "duration": 10,
    "start_time": "2022-12-15T07:08:25.784Z"
   },
   {
    "duration": 5,
    "start_time": "2022-12-15T07:08:25.795Z"
   },
   {
    "duration": 8,
    "start_time": "2022-12-15T07:08:25.801Z"
   },
   {
    "duration": 6,
    "start_time": "2022-12-15T07:08:25.810Z"
   },
   {
    "duration": 478,
    "start_time": "2022-12-15T07:08:25.817Z"
   },
   {
    "duration": 3,
    "start_time": "2022-12-15T07:08:26.297Z"
   },
   {
    "duration": 8,
    "start_time": "2022-12-15T07:08:26.302Z"
   },
   {
    "duration": 2,
    "start_time": "2022-12-15T07:08:26.312Z"
   },
   {
    "duration": 5,
    "start_time": "2022-12-15T07:08:26.316Z"
   },
   {
    "duration": 6,
    "start_time": "2022-12-15T07:08:26.323Z"
   }
  ],
  "kernelspec": {
   "display_name": "Python 3 (ipykernel)",
   "language": "python",
   "name": "python3"
  },
  "language_info": {
   "codemirror_mode": {
    "name": "ipython",
    "version": 3
   },
   "file_extension": ".py",
   "mimetype": "text/x-python",
   "name": "python",
   "nbconvert_exporter": "python",
   "pygments_lexer": "ipython3",
   "version": "3.9.12"
  },
  "toc": {
   "base_numbering": 1,
   "nav_menu": {},
   "number_sections": true,
   "sideBar": true,
   "skip_h1_title": true,
   "title_cell": "Содержание",
   "title_sidebar": "Contents",
   "toc_cell": true,
   "toc_position": {},
   "toc_section_display": true,
   "toc_window_display": false
  }
 },
 "nbformat": 4,
 "nbformat_minor": 2
}
