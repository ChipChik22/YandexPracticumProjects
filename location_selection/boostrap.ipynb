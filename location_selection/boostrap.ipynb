{
 "cells": [
  {
   "cell_type": "markdown",
   "metadata": {},
   "source": [
    "# Выбор локации для скважины"
   ]
  },
  {
   "cell_type": "markdown",
   "metadata": {},
   "source": [
    "**Краткая суть**\n",
    "\n",
    "Необходимо построить модель машинного обучения, которая поможет определить регион, где добыча принесёт наибольшую прибыль"
   ]
  },
  {
   "cell_type": "markdown",
   "id": "6174a62d",
   "metadata": {},
   "source": [
    "**Описание**\n",
    "\n",
    "Предоставлены пробы нефти в трёх регионах: в каждом 10 000 месторождений, где измерили качество нефти и объём её запасов. Постройте модель машинного обучения, которая поможет определить регион, где добыча принесёт наибольшую прибыль. Проанализировать возможную прибыль и риски техникой Bootstrap"
   ]
  },
  {
   "cell_type": "markdown",
   "id": "e893a88b",
   "metadata": {},
   "source": [
    "**План выполнения проекта**\n",
    "\n",
    "1. Загрузить и подготовьть данные.\n",
    "2. Обучить разные модели.\n",
    "3. Сделать выводы."
   ]
  },
  {
   "cell_type": "code",
   "execution_count": 2,
   "metadata": {},
   "outputs": [],
   "source": [
    "import pandas as pd\n",
    "import numpy as np\n",
    "\n",
    "\n",
    "from scipy import stats as st\n",
    "from numpy.random import RandomState\n",
    "from sklearn.metrics import mean_squared_error, mean_absolute_error, r2_score\n",
    "from sklearn.linear_model import LinearRegression\n",
    "from sklearn.model_selection import train_test_split\n",
    "from sklearn.preprocessing import StandardScaler\n",
    "import warnings\n",
    " \n",
    "warnings.filterwarnings('ignore')"
   ]
  },
  {
   "cell_type": "markdown",
   "metadata": {},
   "source": [
    "## Загрузка и подготовка данных"
   ]
  },
  {
   "cell_type": "code",
   "execution_count": 3,
   "metadata": {},
   "outputs": [],
   "source": [
    "try:\n",
    "    data_1 = pd.read_csv('/datasets/geo_data_0.csv')\n",
    "    data_2 = pd.read_csv('/datasets/geo_data_1.csv')\n",
    "    data_3 = pd.read_csv('/datasets/geo_data_2.csv')\n",
    "except: \n",
    "    data_1 = pd.read_csv('file_for_projects/geo_data_0.csv')\n",
    "    data_2 = pd.read_csv('file_for_projects/geo_data_1.csv')\n",
    "    data_3 = pd.read_csv('file_for_projects/geo_data_2.csv')"
   ]
  },
  {
   "cell_type": "markdown",
   "metadata": {},
   "source": [
    "### Выводем информацию по нашим данным."
   ]
  },
  {
   "cell_type": "code",
   "execution_count": 4,
   "metadata": {},
   "outputs": [],
   "source": [
    "def checking(data):\n",
    "    data.info()\n",
    "    display(data.isna().sum())\n",
    "    display(data.describe())"
   ]
  },
  {
   "cell_type": "code",
   "execution_count": 2,
   "metadata": {
    "scrolled": true
   },
   "outputs": [],
   "source": [
    "#checking(data_1)"
   ]
  },
  {
   "cell_type": "code",
   "execution_count": 3,
   "metadata": {
    "scrolled": true
   },
   "outputs": [],
   "source": [
    "#checking(data_2)"
   ]
  },
  {
   "cell_type": "code",
   "execution_count": 4,
   "metadata": {
    "scrolled": true
   },
   "outputs": [],
   "source": [
    "#checking(data_3)"
   ]
  },
  {
   "cell_type": "markdown",
   "metadata": {},
   "source": [
    "Нам повезло, у нас 3 хороших датасета. \n",
    "Столбец product - целевой признак, столбец id - удалим, т к он не несёт никакой информации для модели, столбцы f0 f1 f2 - значимые признаки. \n",
    "Во всех трёх датасетах, есть связь между f0 и f1, f2 и product.  Распределение равномерное, критических выбросов нет."
   ]
  },
  {
   "cell_type": "markdown",
   "metadata": {},
   "source": [
    "### Выделим в наших датасетах обучающие и целевые признаки,  удалим столбец id. Разделим на тренировочные и валидационные датасеты."
   ]
  },
  {
   "cell_type": "code",
   "execution_count": 8,
   "metadata": {},
   "outputs": [],
   "source": [
    "def split_data(data):\n",
    "    features, target = data.drop(['id', 'product'], axis=1), data['product']\n",
    "    features_train, features_valid, target_train, target_valid = train_test_split(\n",
    "    features, target, test_size=0.25, random_state=22)\n",
    "    return features, target, features_train, features_valid, target_train, target_valid"
   ]
  },
  {
   "cell_type": "code",
   "execution_count": 9,
   "metadata": {},
   "outputs": [],
   "source": [
    "features_1, target_1, features_train_1, features_valid_1, target_train_1, target_valid_1 = split_data(data_1)"
   ]
  },
  {
   "cell_type": "code",
   "execution_count": 10,
   "metadata": {},
   "outputs": [],
   "source": [
    "features_2, target_2, features_train_2, features_valid_2, target_train_2, target_valid_2 = split_data(data_2)"
   ]
  },
  {
   "cell_type": "code",
   "execution_count": 11,
   "metadata": {},
   "outputs": [],
   "source": [
    "features_3, target_3, features_train_3, features_valid_3, target_train_3, target_valid_3 = split_data(data_3)"
   ]
  },
  {
   "cell_type": "markdown",
   "metadata": {},
   "source": [
    "### Произведем нормализацию числовых признаков"
   ]
  },
  {
   "cell_type": "code",
   "execution_count": 12,
   "metadata": {},
   "outputs": [],
   "source": [
    "numeric = ['f0', 'f1', 'f2']"
   ]
  },
  {
   "cell_type": "code",
   "execution_count": 13,
   "metadata": {},
   "outputs": [],
   "source": [
    "def normalized(features_train, features_valid):\n",
    "    scaler = StandardScaler()\n",
    "    scaler.fit(features_train[numeric])\n",
    "    features_train[numeric] = scaler.transform(features_train[numeric])\n",
    "    features_valid[numeric] = scaler.transform(features_valid[numeric])\n",
    "    display(features_train.shape, \n",
    "            features_train.info(),\n",
    "            features_valid.shape,\n",
    "            features_valid.info()\n",
    "           )"
   ]
  },
  {
   "cell_type": "code",
   "execution_count": 5,
   "metadata": {},
   "outputs": [],
   "source": [
    "#normalized(features_train_1, features_valid_1)"
   ]
  },
  {
   "cell_type": "code",
   "execution_count": 6,
   "metadata": {},
   "outputs": [],
   "source": [
    "#normalized(features_train_2, features_valid_2)"
   ]
  },
  {
   "cell_type": "code",
   "execution_count": 7,
   "metadata": {},
   "outputs": [],
   "source": [
    "#normalized(features_train_3, features_valid_3)"
   ]
  },
  {
   "cell_type": "markdown",
   "metadata": {},
   "source": [
    "## Обучение и проверка модели"
   ]
  },
  {
   "cell_type": "markdown",
   "metadata": {},
   "source": [
    "### Будем использовать линейную регрессию "
   ]
  },
  {
   "cell_type": "code",
   "execution_count": 17,
   "metadata": {},
   "outputs": [],
   "source": [
    "lg_1 = LinearRegression()\n",
    "lg_2 = LinearRegression()\n",
    "lg_3 = LinearRegression()"
   ]
  },
  {
   "cell_type": "code",
   "execution_count": 18,
   "metadata": {},
   "outputs": [],
   "source": [
    "def learning_model(data, model, features_train, target_train, features_valid, target_valid):\n",
    "    model.fit(features_train, target_train)\n",
    "    predict_valid = model.predict(features_valid)\n",
    "    predict_valid_mean = predict_valid.mean()\n",
    "    rmse = mean_squared_error(target_valid, predict_valid) ** 0.5\n",
    "\n",
    "    \n",
    "    print(\"Средний запас предсказанного объема сырья в  регионе:\", np.round(predict_valid_mean, 2))\n",
    "\n",
    "    print(\"RMSE на валидационной выборке:\", rmse) \n",
    "\n",
    "    \n",
    "    return predict_valid, np.round(predict_valid_mean, 2), rmse\n"
   ]
  },
  {
   "cell_type": "code",
   "execution_count": 19,
   "metadata": {},
   "outputs": [
    {
     "name": "stdout",
     "output_type": "stream",
     "text": [
      "Средний запас предсказанного объема сырья в  регионе: 92.54\n",
      "RMSE на валидационной выборке: 37.411414310487665\n"
     ]
    }
   ],
   "source": [
    "predict_valid_1, predict_valid_mean_1, rmse_1 = learning_model(data_1, lg_1, features_train_1, target_train_1, \n",
    "                                                              features_valid_1, target_valid_1)"
   ]
  },
  {
   "cell_type": "code",
   "execution_count": 20,
   "metadata": {},
   "outputs": [
    {
     "name": "stdout",
     "output_type": "stream",
     "text": [
      "Средний запас предсказанного объема сырья в  регионе: 68.72\n",
      "RMSE на валидационной выборке: 0.8916430396076015\n"
     ]
    }
   ],
   "source": [
    "predict_valid_2, predict_valid_mean_2, rmse_2 = learning_model(data_2, lg_2, features_train_2, target_train_2, \n",
    "                                                              features_valid_2, target_valid_2)"
   ]
  },
  {
   "cell_type": "code",
   "execution_count": 21,
   "metadata": {},
   "outputs": [
    {
     "name": "stdout",
     "output_type": "stream",
     "text": [
      "Средний запас предсказанного объема сырья в  регионе: 94.88\n",
      "RMSE на валидационной выборке: 40.161072438148516\n"
     ]
    }
   ],
   "source": [
    "predict_valid_3, predict_valid_mean_3, rmse_3 = learning_model(data_3, lg_3, features_train_3, target_train_3, \n",
    "                                                              features_valid_3, target_valid_3)"
   ]
  },
  {
   "cell_type": "markdown",
   "metadata": {},
   "source": [
    "- для региона 1 модель предсказала (в среднем) 92 тыс. баррелей сырья, но также модель склонна ошибаться на 37 тыс. баррелей.\n",
    "- для региона 2 модель предсказала (в среднем) 68 тыс. баррелей сырья, но здесь уже ошибка многократно ниже. \n",
    "- для региона 3 модель предсказала (в среднем) 94 тыс. баррелей сырья, но тут модель тоже склонна к ошибке на 40 тыс. баррелей.\n",
    "- если посмотреть на цифры, то кажется, что нужно разворачивать бизнес в регионе 2, т к метрики качества модели стремятся к еденице, что говорит нам о её достоверности.\n"
   ]
  },
  {
   "cell_type": "markdown",
   "metadata": {},
   "source": [
    "## Подготовка к расчёту прибыли"
   ]
  },
  {
   "cell_type": "markdown",
   "metadata": {},
   "source": [
    "### Определим константы для расчёта"
   ]
  },
  {
   "cell_type": "code",
   "execution_count": 22,
   "metadata": {},
   "outputs": [],
   "source": [
    "FULL_BUDGET = 10000 # бюджет в млн рублей\n",
    "NEED_POINTS = 200 # количество разрабатываемых точек\n",
    "PRICE_PRODUCT = 0.45 # доходность одной единицы барреля в млн рублей"
   ]
  },
  {
   "cell_type": "markdown",
   "metadata": {},
   "source": [
    "### Рассчитаем нужные значения"
   ]
  },
  {
   "cell_type": "code",
   "execution_count": 23,
   "metadata": {},
   "outputs": [],
   "source": [
    "price_for_one = FULL_BUDGET / NEED_POINTS # бюджет на одну скважину (млн. руб)\n",
    "V_product = np.round(price_for_one / PRICE_PRODUCT, 2) # объём сырья из одной скважины для безубыточной разработки (тыс. сырья)\n",
    "\n",
    "\n",
    "price_product_data_1 = PRICE_PRODUCT * predict_valid_mean_1 # средний доход из одной скважины в регионе 1 (млн. руб)\n",
    "price_product_data_2 = PRICE_PRODUCT * predict_valid_mean_2 # средний доход из одной скважины в регионе 2 (млн. руб)\n",
    "price_product_data_3 = PRICE_PRODUCT * predict_valid_mean_3 # средний доход из одной скважины в регионе 3 (млн. руб)"
   ]
  },
  {
   "cell_type": "code",
   "execution_count": 24,
   "metadata": {},
   "outputs": [
    {
     "name": "stdout",
     "output_type": "stream",
     "text": [
      "Объём сырья из одной скважины для безубыточной разработки: 111.11 тыс. сырья\n",
      "Средний предсказанный запас сырья для региона 1: 92.54 тыс. сырья\n",
      "Средний предсказанный запас сырья для региона 2: 68.72 тыс. сырья\n",
      "Средний предсказанный запас сырья для региона 3: 94.88 тыс. сырья\n"
     ]
    }
   ],
   "source": [
    "print('Объём сырья из одной скважины для безубыточной разработки:', V_product, 'тыс. сырья'),\n",
    "print('Средний предсказанный запас сырья для региона 1:', predict_valid_mean_1, 'тыс. сырья'), \n",
    "print('Средний предсказанный запас сырья для региона 2:', predict_valid_mean_2, 'тыс. сырья'),\n",
    "print('Средний предсказанный запас сырья для региона 3:', predict_valid_mean_3, 'тыс. сырья')"
   ]
  },
  {
   "cell_type": "code",
   "execution_count": 25,
   "metadata": {
    "scrolled": true
   },
   "outputs": [
    {
     "name": "stdout",
     "output_type": "stream",
     "text": [
      "Бюджет на одну скважину: 50.0 млн. руб\n",
      "Средний доход с одной скважины в регионе 1: 41.643 млн. руб\n",
      "Средний доход с одной скважины в регионе 2: 30.924 млн. руб\n",
      "Средний доход с одной скважины в регионе 3: 42.696 млн. руб\n"
     ]
    }
   ],
   "source": [
    "print('Бюджет на одну скважину:', price_for_one, 'млн. руб'), \n",
    "print('Средний доход с одной скважины в регионе 1:', price_product_data_1, 'млн. руб'), \n",
    "print('Средний доход с одной скважины в регионе 2:', price_product_data_2, 'млн. руб'),\n",
    "print('Средний доход с одной скважины в регионе 3:', price_product_data_3, 'млн. руб')"
   ]
  },
  {
   "cell_type": "markdown",
   "metadata": {},
   "source": [
    "Судя по первоначальным рассчётам, стоит пересмотреть регионы для добычи, потому как ,кажется, кругом убытки для всех трех регионов. Выявим лучшие скважины, посмотрим как изменятся данные."
   ]
  },
  {
   "cell_type": "markdown",
   "metadata": {},
   "source": [
    "## Расчёт прибыли и рисков "
   ]
  },
  {
   "cell_type": "code",
   "execution_count": 26,
   "metadata": {},
   "outputs": [],
   "source": [
    "def profit_count(predictions, targets):\n",
    "    best_predictions = pd.Series(predictions).sort_values(ascending=False)\n",
    "    best_point = targets.iloc[best_predictions.index][:200]\n",
    "    profit = (PRICE_PRODUCT * best_point.sum()) - FULL_BUDGET\n",
    "    return profit, best_point, best_predictions"
   ]
  },
  {
   "cell_type": "code",
   "execution_count": 27,
   "metadata": {},
   "outputs": [],
   "source": [
    "profit_1, best_point_1, best_predictions_1 = profit_count(predict_valid_1, target_valid_1)"
   ]
  },
  {
   "cell_type": "code",
   "execution_count": 28,
   "metadata": {},
   "outputs": [
    {
     "name": "stdout",
     "output_type": "stream",
     "text": [
      "Средний запас сырья для 200 лучших скважин для региона 1: 148.35 тыс. сырья\n",
      "Прибыль для 200 лушчих скважин региона 1: 3351.54 млн. руб\n"
     ]
    }
   ],
   "source": [
    "print('Средний запас сырья для 200 лучших скважин для региона 1:', np.round(best_point_1.mean(), 2), 'тыс. сырья')\n",
    "print('Прибыль для 200 лушчих скважин региона 1:', np.round(profit_1, 2), 'млн. руб')"
   ]
  },
  {
   "cell_type": "code",
   "execution_count": 29,
   "metadata": {},
   "outputs": [],
   "source": [
    "profit_2, best_point_2, best_predictions_2 = profit_count(predict_valid_2, target_valid_2)"
   ]
  },
  {
   "cell_type": "code",
   "execution_count": 30,
   "metadata": {},
   "outputs": [
    {
     "name": "stdout",
     "output_type": "stream",
     "text": [
      "Средний запас сырья для 200 лучших скважин для региона 2: 137.95 тыс. сырья\n",
      "Прибыль для 200 лушчих скважин региона 2: 2415.09 млн. руб\n"
     ]
    }
   ],
   "source": [
    "print('Средний запас сырья для 200 лучших скважин для региона 2:', np.round(best_point_2.mean(), 2), 'тыс. сырья')\n",
    "print('Прибыль для 200 лушчих скважин региона 2:', np.round(profit_2, 2), 'млн. руб')"
   ]
  },
  {
   "cell_type": "code",
   "execution_count": 31,
   "metadata": {},
   "outputs": [],
   "source": [
    "profit_3, best_point_3, best_predictions_3 = profit_count(predict_valid_3, target_valid_3)"
   ]
  },
  {
   "cell_type": "code",
   "execution_count": 32,
   "metadata": {},
   "outputs": [
    {
     "name": "stdout",
     "output_type": "stream",
     "text": [
      "Средний запас сырья для 200 лучших скважин для региона 3: 142.8 тыс. сырья\n",
      "Прибыль для 200 лушчих скважин региона 3: 2852.28 млн. руб\n"
     ]
    }
   ],
   "source": [
    "print('Средний запас сырья для 200 лучших скважин для региона 3:', np.round(best_point_3.mean(), 2), 'тыс. сырья')\n",
    "print('Прибыль для 200 лушчих скважин региона 3:', np.round(profit_3, 2), 'млн. руб')"
   ]
  },
  {
   "cell_type": "markdown",
   "metadata": {},
   "source": [
    "\n",
    "\n",
    "1) Если взять 200 скважин с самым большим запасом сырья для каждого региона, и для них посчитать средний запас сырья, то мы увидим, что наши полученные значения выше минимального значения для безубыточной работы (111.11 тыс. сырья).\n",
    "\n",
    "2) Самая большая прогнозируемая прибыль получается для региона 1 с 3351.54 млн. руб\n",
    "\n",
    "3) На втором месте идёт регион 3 с 2852.28 млн. руб \n",
    "\n",
    "3) На третьем месте регион 2 с 2415.09 млн. руб.\n"
   ]
  },
  {
   "cell_type": "code",
   "execution_count": 33,
   "metadata": {},
   "outputs": [],
   "source": [
    "state = np.random.RandomState(12345)"
   ]
  },
  {
   "cell_type": "code",
   "execution_count": 34,
   "metadata": {},
   "outputs": [],
   "source": [
    "def quantile_count(predictions, targets):\n",
    "    values = []\n",
    "    for i in range(1000):\n",
    "        subsample = pd.Series(predictions).sample(n=500, replace=True, random_state=state)\n",
    "        values.append(profit_count(subsample, targets.reset_index(drop=True))[0])\n",
    "\n",
    "    values = pd.Series(values)\n",
    "    lower = values.quantile(0.025) \n",
    "    upper = values.quantile(0.975) \n",
    "    return lower, upper, values "
   ]
  },
  {
   "cell_type": "code",
   "execution_count": 35,
   "metadata": {},
   "outputs": [
    {
     "data": {
      "text/plain": [
       "(-53.9691699514447, 973.9879969634377)"
      ]
     },
     "execution_count": 35,
     "metadata": {},
     "output_type": "execute_result"
    }
   ],
   "source": [
    "lower_1, upper_1, values_1 = quantile_count(predict_valid_1, target_valid_1)\n",
    "lower_1, upper_1"
   ]
  },
  {
   "cell_type": "code",
   "execution_count": 36,
   "metadata": {},
   "outputs": [
    {
     "data": {
      "text/plain": [
       "(31.00285695730218, 819.4930368420247)"
      ]
     },
     "execution_count": 36,
     "metadata": {},
     "output_type": "execute_result"
    }
   ],
   "source": [
    "lower_2, upper_2, values_2 = quantile_count(predict_valid_2, target_valid_2)\n",
    "lower_2, upper_2"
   ]
  },
  {
   "cell_type": "code",
   "execution_count": 37,
   "metadata": {},
   "outputs": [
    {
     "data": {
      "text/plain": [
       "(-148.33970531475296, 916.4385427142356)"
      ]
     },
     "execution_count": 37,
     "metadata": {},
     "output_type": "execute_result"
    }
   ],
   "source": [
    "lower_3, upper_3, values_3 = quantile_count(predict_valid_3, target_valid_3)\n",
    "lower_3, upper_3"
   ]
  },
  {
   "cell_type": "markdown",
   "metadata": {},
   "source": [
    "- доля прибыли из 1 скважины для региона 1 может варрироваться между убытком в 2 млн. руб и доходом в 973 млн. руб\n",
    "- доля прибыли из 1 скважины для региона 2 может варрироваться между 37 млн. руб и в 803 млн. руб\n",
    "- доля прибыли из 1 скважины для региона 3 может варрироваться между убытком в 106 млн. руб и доходом в 885 млн. руб"
   ]
  },
  {
   "cell_type": "markdown",
   "metadata": {},
   "source": [
    "### Расчитаем вероятность убытков для каждого из регионов"
   ]
  },
  {
   "cell_type": "code",
   "execution_count": 38,
   "metadata": {},
   "outputs": [],
   "source": [
    "def loss_probability(value):\n",
    "    loss = ((value[value < 0]).count() / value.count()) * 100\n",
    "    return loss"
   ]
  },
  {
   "cell_type": "code",
   "execution_count": 39,
   "metadata": {},
   "outputs": [
    {
     "data": {
      "text/plain": [
       "3.5999999999999996"
      ]
     },
     "execution_count": 39,
     "metadata": {},
     "output_type": "execute_result"
    }
   ],
   "source": [
    "loss_1 = loss_probability(values_1)\n",
    "loss_1"
   ]
  },
  {
   "cell_type": "code",
   "execution_count": 40,
   "metadata": {},
   "outputs": [
    {
     "data": {
      "text/plain": [
       "1.9"
      ]
     },
     "execution_count": 40,
     "metadata": {},
     "output_type": "execute_result"
    }
   ],
   "source": [
    "loss_2 = loss_probability(values_2)\n",
    "loss_2"
   ]
  },
  {
   "cell_type": "code",
   "execution_count": 41,
   "metadata": {},
   "outputs": [
    {
     "data": {
      "text/plain": [
       "8.0"
      ]
     },
     "execution_count": 41,
     "metadata": {},
     "output_type": "execute_result"
    }
   ],
   "source": [
    "loss_3 = loss_probability(values_3)\n",
    "loss_3"
   ]
  },
  {
   "cell_type": "code",
   "execution_count": 42,
   "metadata": {},
   "outputs": [
    {
     "name": "stdout",
     "output_type": "stream",
     "text": [
      "Вероятность убытков для региона 1: 3.6 %\n",
      "Вероятность убытков для региона 2: 1.9 %\n",
      "Вероятность убытков для региона 3: 8.0 %\n"
     ]
    }
   ],
   "source": [
    "print('Вероятность убытков для региона 1:', np.round(loss_1, 2),'%')\n",
    "print('Вероятность убытков для региона 2:', np.round(loss_2, 2),'%')\n",
    "print('Вероятность убытков для региона 3:', np.round(loss_3, 2),'%')"
   ]
  },
  {
   "cell_type": "markdown",
   "metadata": {},
   "source": [
    "# Вывод:\n",
    "Нам нужно было определить регион, в котором развернуть добычу нефти было максимально выгодно и эффективно. Были предоставлены пробы нефти в трёх регионах, характеристики для каждой скважины в регионе были известны. Нами были построены модели для предсказания объёма сырья в скважинах для каждого региона. На первый взгляд, по среднему объёму нефти, казалось, что все три региона убыточны. \n",
    "\n",
    "Мы взяли 200 скважин в каждом регионе с самым максимальным запасом сырья, посчитали доход и получили, что самый самая большая прогнозируемая прибыль получается для региона 1 с 3351.54 млн. руб, на втором месте идёт регион 3 с 2852.28 млн. руб, на третьем месте регион 2 с 2415.09 млн. руб.\n",
    "\n",
    "В регионах 1 и 3 могут встречаться убыточные скважины, а в регионе 2 все доходные. \n",
    "\n",
    "Условием к задаче было то, что вероятность убытков должна быть меньше 2.5 процентов, а это значит что только регион 2 попадает в эти рамки. В дополнение, метрики качества модели для региона 2 стремятся к еденице, что говорит нам о её достоверности.\n",
    "\n"
   ]
  },
  {
   "cell_type": "code",
   "execution_count": null,
   "metadata": {},
   "outputs": [],
   "source": []
  }
 ],
 "metadata": {
  "ExecuteTimeLog": [
   {
    "duration": 1094,
    "start_time": "2022-10-20T15:40:44.505Z"
   },
   {
    "duration": 683,
    "start_time": "2022-10-20T15:40:53.563Z"
   },
   {
    "duration": 29,
    "start_time": "2022-10-20T15:41:22.726Z"
   },
   {
    "duration": 49,
    "start_time": "2022-10-20T15:55:15.217Z"
   },
   {
    "duration": 1064,
    "start_time": "2022-10-20T15:55:20.346Z"
   },
   {
    "duration": 701,
    "start_time": "2022-10-20T15:55:23.034Z"
   },
   {
    "duration": 30,
    "start_time": "2022-10-20T15:55:23.866Z"
   },
   {
    "duration": 48,
    "start_time": "2022-10-20T16:02:10.750Z"
   },
   {
    "duration": 1017,
    "start_time": "2022-10-20T16:02:15.154Z"
   },
   {
    "duration": 678,
    "start_time": "2022-10-20T16:02:17.208Z"
   },
   {
    "duration": 27,
    "start_time": "2022-10-20T16:02:19.029Z"
   },
   {
    "duration": 69,
    "start_time": "2022-10-20T16:02:20.732Z"
   },
   {
    "duration": 13,
    "start_time": "2022-10-20T16:02:32.265Z"
   },
   {
    "duration": 8,
    "start_time": "2022-10-20T16:04:54.069Z"
   },
   {
    "duration": 3,
    "start_time": "2022-10-20T16:05:00.345Z"
   },
   {
    "duration": 24,
    "start_time": "2022-10-20T16:07:42.189Z"
   },
   {
    "duration": 3,
    "start_time": "2022-10-20T16:07:47.912Z"
   },
   {
    "duration": 354,
    "start_time": "2022-10-20T16:07:48.949Z"
   },
   {
    "duration": 20,
    "start_time": "2022-10-20T16:07:49.947Z"
   },
   {
    "duration": 19,
    "start_time": "2022-10-20T16:07:51.293Z"
   },
   {
    "duration": 4,
    "start_time": "2022-10-20T16:08:12.488Z"
   },
   {
    "duration": 336,
    "start_time": "2022-10-20T16:10:45.661Z"
   },
   {
    "duration": 25,
    "start_time": "2022-10-20T16:10:46.437Z"
   },
   {
    "duration": 3,
    "start_time": "2022-10-20T16:10:48.376Z"
   },
   {
    "duration": 5,
    "start_time": "2022-10-20T16:11:23.832Z"
   },
   {
    "duration": 2,
    "start_time": "2022-10-20T16:11:58.904Z"
   },
   {
    "duration": 10,
    "start_time": "2022-10-20T16:13:13.182Z"
   },
   {
    "duration": 3,
    "start_time": "2022-10-20T16:13:14.433Z"
   },
   {
    "duration": 22,
    "start_time": "2022-10-20T16:13:18.529Z"
   },
   {
    "duration": 20,
    "start_time": "2022-10-20T16:17:35.235Z"
   },
   {
    "duration": 18,
    "start_time": "2022-10-20T16:18:11.572Z"
   },
   {
    "duration": 2,
    "start_time": "2022-10-20T16:20:32.094Z"
   },
   {
    "duration": 11,
    "start_time": "2022-10-20T16:20:38.394Z"
   },
   {
    "duration": 369,
    "start_time": "2022-10-20T16:21:30.726Z"
   },
   {
    "duration": 20,
    "start_time": "2022-10-20T16:21:31.451Z"
   },
   {
    "duration": 5,
    "start_time": "2022-10-20T16:21:33.049Z"
   },
   {
    "duration": 15,
    "start_time": "2022-10-20T16:21:33.644Z"
   },
   {
    "duration": 3,
    "start_time": "2022-10-20T16:21:35.161Z"
   },
   {
    "duration": 67,
    "start_time": "2022-10-20T16:21:36.441Z"
   },
   {
    "duration": 34,
    "start_time": "2022-10-20T16:21:38.763Z"
   },
   {
    "duration": 314,
    "start_time": "2022-10-20T16:22:03.168Z"
   },
   {
    "duration": 20,
    "start_time": "2022-10-20T16:22:03.826Z"
   },
   {
    "duration": 5,
    "start_time": "2022-10-20T16:22:04.605Z"
   },
   {
    "duration": 11,
    "start_time": "2022-10-20T16:22:04.906Z"
   },
   {
    "duration": 3,
    "start_time": "2022-10-20T16:22:05.245Z"
   },
   {
    "duration": 20,
    "start_time": "2022-10-20T16:22:06.380Z"
   },
   {
    "duration": 9,
    "start_time": "2022-10-20T16:22:08.676Z"
   },
   {
    "duration": 4,
    "start_time": "2022-10-20T16:22:23.686Z"
   },
   {
    "duration": 8,
    "start_time": "2022-10-20T16:22:37.027Z"
   },
   {
    "duration": 3,
    "start_time": "2022-10-20T16:22:48.475Z"
   },
   {
    "duration": 5,
    "start_time": "2022-10-20T16:22:50.852Z"
   },
   {
    "duration": 5,
    "start_time": "2022-10-20T16:22:57.541Z"
   },
   {
    "duration": 3,
    "start_time": "2022-10-20T16:30:10.677Z"
   },
   {
    "duration": 4,
    "start_time": "2022-10-20T16:32:24.723Z"
   },
   {
    "duration": 9,
    "start_time": "2022-10-20T16:33:31.782Z"
   },
   {
    "duration": 5,
    "start_time": "2022-10-20T16:33:32.331Z"
   },
   {
    "duration": 4,
    "start_time": "2022-10-20T16:33:32.806Z"
   },
   {
    "duration": 350,
    "start_time": "2022-10-20T16:34:47.833Z"
   },
   {
    "duration": 23,
    "start_time": "2022-10-20T16:34:48.445Z"
   },
   {
    "duration": 4,
    "start_time": "2022-10-20T16:34:49.831Z"
   },
   {
    "duration": 10,
    "start_time": "2022-10-20T16:34:50.379Z"
   },
   {
    "duration": 2,
    "start_time": "2022-10-20T16:34:51.466Z"
   },
   {
    "duration": 19,
    "start_time": "2022-10-20T16:34:52.222Z"
   },
   {
    "duration": 9,
    "start_time": "2022-10-20T16:34:54.552Z"
   },
   {
    "duration": 6,
    "start_time": "2022-10-20T16:34:54.822Z"
   },
   {
    "duration": 5,
    "start_time": "2022-10-20T16:34:55.038Z"
   },
   {
    "duration": 4,
    "start_time": "2022-10-20T16:35:09.168Z"
   },
   {
    "duration": 11,
    "start_time": "2022-10-20T16:36:15.945Z"
   },
   {
    "duration": 333,
    "start_time": "2022-10-20T16:36:48.202Z"
   },
   {
    "duration": 22,
    "start_time": "2022-10-20T16:36:48.707Z"
   },
   {
    "duration": 5,
    "start_time": "2022-10-20T16:36:49.759Z"
   },
   {
    "duration": 11,
    "start_time": "2022-10-20T16:36:50.032Z"
   },
   {
    "duration": 7,
    "start_time": "2022-10-20T16:36:50.303Z"
   },
   {
    "duration": 3,
    "start_time": "2022-10-20T16:36:52.722Z"
   },
   {
    "duration": 19,
    "start_time": "2022-10-20T16:36:53.214Z"
   },
   {
    "duration": 8,
    "start_time": "2022-10-20T16:36:54.597Z"
   },
   {
    "duration": 10,
    "start_time": "2022-10-20T16:37:21.564Z"
   },
   {
    "duration": 12,
    "start_time": "2022-10-20T16:37:22.179Z"
   },
   {
    "duration": 5,
    "start_time": "2022-10-20T16:37:22.472Z"
   },
   {
    "duration": 6,
    "start_time": "2022-10-20T16:42:38.477Z"
   },
   {
    "duration": 6,
    "start_time": "2022-10-20T16:42:58.910Z"
   },
   {
    "duration": 6,
    "start_time": "2022-10-20T16:46:24.008Z"
   },
   {
    "duration": 57,
    "start_time": "2022-10-20T16:46:33.177Z"
   },
   {
    "duration": 18,
    "start_time": "2022-10-20T16:46:36.518Z"
   },
   {
    "duration": 16,
    "start_time": "2022-10-20T16:46:42.589Z"
   },
   {
    "duration": 7,
    "start_time": "2022-10-20T16:46:47.595Z"
   },
   {
    "duration": 6,
    "start_time": "2022-10-20T16:50:15.830Z"
   },
   {
    "duration": 25,
    "start_time": "2022-10-20T18:35:55.581Z"
   },
   {
    "duration": 21,
    "start_time": "2022-10-20T18:36:36.038Z"
   },
   {
    "duration": 24,
    "start_time": "2022-10-20T18:37:25.568Z"
   },
   {
    "duration": 22,
    "start_time": "2022-10-20T18:37:52.566Z"
   },
   {
    "duration": 3,
    "start_time": "2022-10-20T18:39:04.956Z"
   },
   {
    "duration": 18,
    "start_time": "2022-10-20T18:39:07.422Z"
   },
   {
    "duration": 9,
    "start_time": "2022-10-20T18:39:11.594Z"
   },
   {
    "duration": 16,
    "start_time": "2022-10-20T18:39:11.834Z"
   },
   {
    "duration": 5,
    "start_time": "2022-10-20T18:39:12.045Z"
   },
   {
    "duration": 9,
    "start_time": "2022-10-20T18:41:18.747Z"
   },
   {
    "duration": 2,
    "start_time": "2022-10-20T18:41:22.108Z"
   },
   {
    "duration": 20,
    "start_time": "2022-10-20T18:41:22.598Z"
   },
   {
    "duration": 3,
    "start_time": "2022-10-20T18:44:55.313Z"
   },
   {
    "duration": 4,
    "start_time": "2022-10-20T18:45:06.134Z"
   },
   {
    "duration": 3,
    "start_time": "2022-10-20T18:45:37.414Z"
   },
   {
    "duration": 18,
    "start_time": "2022-10-20T18:45:37.796Z"
   },
   {
    "duration": 12,
    "start_time": "2022-10-20T18:45:41.979Z"
   },
   {
    "duration": 53,
    "start_time": "2022-10-20T18:46:05.710Z"
   },
   {
    "duration": 3,
    "start_time": "2022-10-20T18:46:07.957Z"
   },
   {
    "duration": 17,
    "start_time": "2022-10-20T18:46:08.227Z"
   },
   {
    "duration": 9,
    "start_time": "2022-10-20T18:46:24.879Z"
   },
   {
    "duration": 9,
    "start_time": "2022-10-20T18:46:30.793Z"
   },
   {
    "duration": 8,
    "start_time": "2022-10-20T18:46:40.958Z"
   },
   {
    "duration": 9,
    "start_time": "2022-10-20T18:46:43.824Z"
   },
   {
    "duration": 4,
    "start_time": "2022-10-20T18:47:00.473Z"
   },
   {
    "duration": 4,
    "start_time": "2022-10-20T18:47:00.795Z"
   },
   {
    "duration": 8,
    "start_time": "2022-10-20T18:47:07.208Z"
   },
   {
    "duration": 9,
    "start_time": "2022-10-20T18:47:11.916Z"
   },
   {
    "duration": 3,
    "start_time": "2022-10-20T18:47:59.990Z"
   },
   {
    "duration": 4,
    "start_time": "2022-10-20T18:48:00.382Z"
   },
   {
    "duration": 11,
    "start_time": "2022-10-20T18:48:01.848Z"
   },
   {
    "duration": 3,
    "start_time": "2022-10-20T18:49:15.970Z"
   },
   {
    "duration": 18,
    "start_time": "2022-10-20T18:49:39.435Z"
   },
   {
    "duration": 6,
    "start_time": "2022-10-20T18:49:46.281Z"
   },
   {
    "duration": 18,
    "start_time": "2022-10-20T18:49:46.673Z"
   },
   {
    "duration": 4,
    "start_time": "2022-10-20T18:50:06.654Z"
   },
   {
    "duration": 12,
    "start_time": "2022-10-20T18:50:07.100Z"
   },
   {
    "duration": 4,
    "start_time": "2022-10-20T18:51:42.177Z"
   },
   {
    "duration": 16,
    "start_time": "2022-10-20T18:51:42.393Z"
   },
   {
    "duration": 3,
    "start_time": "2022-10-20T18:51:47.630Z"
   },
   {
    "duration": 4,
    "start_time": "2022-10-20T18:54:28.922Z"
   },
   {
    "duration": 4,
    "start_time": "2022-10-20T18:55:50.824Z"
   },
   {
    "duration": 23,
    "start_time": "2022-10-20T18:56:01.981Z"
   },
   {
    "duration": 3,
    "start_time": "2022-10-20T18:56:25.307Z"
   },
   {
    "duration": 345,
    "start_time": "2022-10-20T18:56:26.695Z"
   },
   {
    "duration": 3,
    "start_time": "2022-10-20T18:56:28.020Z"
   },
   {
    "duration": 25,
    "start_time": "2022-10-20T18:56:28.733Z"
   },
   {
    "duration": 3,
    "start_time": "2022-10-20T18:56:30.757Z"
   },
   {
    "duration": 11,
    "start_time": "2022-10-20T18:56:33.847Z"
   },
   {
    "duration": 7,
    "start_time": "2022-10-20T18:56:40.509Z"
   },
   {
    "duration": 2,
    "start_time": "2022-10-20T18:56:45.094Z"
   },
   {
    "duration": 3,
    "start_time": "2022-10-20T18:56:45.770Z"
   },
   {
    "duration": 23,
    "start_time": "2022-10-20T18:56:47.339Z"
   },
   {
    "duration": 3,
    "start_time": "2022-10-20T18:57:09.911Z"
   },
   {
    "duration": 15,
    "start_time": "2022-10-20T18:57:10.670Z"
   },
   {
    "duration": 7,
    "start_time": "2022-10-20T18:57:18.867Z"
   },
   {
    "duration": 22,
    "start_time": "2022-10-20T18:58:01.742Z"
   },
   {
    "duration": 26,
    "start_time": "2022-10-20T18:58:09.186Z"
   },
   {
    "duration": 15,
    "start_time": "2022-10-20T18:58:39.718Z"
   },
   {
    "duration": 18,
    "start_time": "2022-10-20T18:58:57.657Z"
   },
   {
    "duration": 21,
    "start_time": "2022-10-20T18:59:15.977Z"
   },
   {
    "duration": 18,
    "start_time": "2022-10-20T18:59:16.207Z"
   },
   {
    "duration": 18,
    "start_time": "2022-10-20T18:59:16.392Z"
   },
   {
    "duration": 3,
    "start_time": "2022-10-20T19:08:13.998Z"
   },
   {
    "duration": 3,
    "start_time": "2022-10-20T19:08:27.093Z"
   },
   {
    "duration": 3,
    "start_time": "2022-10-20T19:08:30.662Z"
   },
   {
    "duration": 3,
    "start_time": "2022-10-20T19:08:39.501Z"
   },
   {
    "duration": 5,
    "start_time": "2022-10-20T19:08:40.094Z"
   },
   {
    "duration": 4,
    "start_time": "2022-10-20T19:10:14.969Z"
   },
   {
    "duration": 20,
    "start_time": "2022-10-20T19:10:15.593Z"
   },
   {
    "duration": 12,
    "start_time": "2022-10-20T19:10:16.113Z"
   },
   {
    "duration": 26,
    "start_time": "2022-10-20T19:10:16.466Z"
   },
   {
    "duration": 19,
    "start_time": "2022-10-20T19:10:20.949Z"
   },
   {
    "duration": 4,
    "start_time": "2022-10-20T19:11:09.716Z"
   },
   {
    "duration": 43,
    "start_time": "2022-10-20T19:11:10.608Z"
   },
   {
    "duration": 34,
    "start_time": "2022-10-20T19:11:15.868Z"
   },
   {
    "duration": 32,
    "start_time": "2022-10-20T19:11:17.018Z"
   },
   {
    "duration": 2,
    "start_time": "2022-10-20T19:13:35.344Z"
   },
   {
    "duration": 19,
    "start_time": "2022-10-20T19:14:12.860Z"
   },
   {
    "duration": 11,
    "start_time": "2022-10-20T19:14:23.891Z"
   },
   {
    "duration": 4,
    "start_time": "2022-10-20T19:14:25.453Z"
   },
   {
    "duration": 4,
    "start_time": "2022-10-20T19:14:30.321Z"
   },
   {
    "duration": 32,
    "start_time": "2022-10-20T19:14:30.913Z"
   },
   {
    "duration": 14,
    "start_time": "2022-10-20T19:14:41.978Z"
   },
   {
    "duration": 19,
    "start_time": "2022-10-20T19:14:50.878Z"
   },
   {
    "duration": 4,
    "start_time": "2022-10-20T19:19:15.815Z"
   },
   {
    "duration": 4,
    "start_time": "2022-10-20T19:20:32.272Z"
   },
   {
    "duration": 18,
    "start_time": "2022-10-20T19:20:33.427Z"
   },
   {
    "duration": 14,
    "start_time": "2022-10-20T19:20:36.825Z"
   },
   {
    "duration": 15,
    "start_time": "2022-10-20T19:20:38.667Z"
   },
   {
    "duration": 4,
    "start_time": "2022-10-20T19:22:26.558Z"
   },
   {
    "duration": 19,
    "start_time": "2022-10-20T19:22:27.049Z"
   },
   {
    "duration": 13,
    "start_time": "2022-10-20T19:22:27.368Z"
   },
   {
    "duration": 13,
    "start_time": "2022-10-20T19:22:27.649Z"
   },
   {
    "duration": 3,
    "start_time": "2022-10-20T19:33:39.652Z"
   },
   {
    "duration": 145,
    "start_time": "2022-10-20T19:33:40.390Z"
   },
   {
    "duration": 4,
    "start_time": "2022-10-20T19:36:33.200Z"
   },
   {
    "duration": 24,
    "start_time": "2022-10-20T19:36:33.630Z"
   },
   {
    "duration": 4,
    "start_time": "2022-10-20T19:36:42.456Z"
   },
   {
    "duration": 16,
    "start_time": "2022-10-20T19:36:42.793Z"
   },
   {
    "duration": 6,
    "start_time": "2022-10-20T19:38:46.291Z"
   },
   {
    "duration": 47,
    "start_time": "2022-10-20T19:38:46.588Z"
   },
   {
    "duration": 4,
    "start_time": "2022-10-20T19:39:01.431Z"
   },
   {
    "duration": 21,
    "start_time": "2022-10-20T19:39:01.883Z"
   },
   {
    "duration": 3,
    "start_time": "2022-10-20T19:40:23.021Z"
   },
   {
    "duration": 15,
    "start_time": "2022-10-20T19:40:23.280Z"
   },
   {
    "duration": 8,
    "start_time": "2022-10-20T19:40:24.489Z"
   },
   {
    "duration": 9,
    "start_time": "2022-10-20T19:40:24.710Z"
   },
   {
    "duration": 15,
    "start_time": "2022-10-20T19:40:38.121Z"
   },
   {
    "duration": 31,
    "start_time": "2022-10-20T19:40:38.320Z"
   },
   {
    "duration": 4,
    "start_time": "2022-10-20T19:43:47.649Z"
   },
   {
    "duration": 94,
    "start_time": "2022-10-20T19:43:47.965Z"
   },
   {
    "duration": 4,
    "start_time": "2022-10-20T19:43:56.296Z"
   },
   {
    "duration": 13,
    "start_time": "2022-10-20T19:43:56.612Z"
   },
   {
    "duration": 19,
    "start_time": "2022-10-20T19:43:57.030Z"
   },
   {
    "duration": 14,
    "start_time": "2022-10-20T19:43:57.291Z"
   },
   {
    "duration": 1218,
    "start_time": "2022-10-21T15:30:50.736Z"
   },
   {
    "duration": 2133,
    "start_time": "2022-10-21T15:30:53.535Z"
   },
   {
    "duration": 3,
    "start_time": "2022-10-21T15:30:55.670Z"
   },
   {
    "duration": 33,
    "start_time": "2022-10-21T15:30:56.338Z"
   },
   {
    "duration": 26,
    "start_time": "2022-10-21T15:30:57.482Z"
   },
   {
    "duration": 31,
    "start_time": "2022-10-21T15:30:58.418Z"
   },
   {
    "duration": 4,
    "start_time": "2022-10-21T15:31:00.649Z"
   },
   {
    "duration": 17,
    "start_time": "2022-10-21T15:31:01.246Z"
   },
   {
    "duration": 20,
    "start_time": "2022-10-21T15:31:01.711Z"
   },
   {
    "duration": 20,
    "start_time": "2022-10-21T15:31:02.068Z"
   },
   {
    "duration": 3,
    "start_time": "2022-10-21T15:31:03.559Z"
   },
   {
    "duration": 9,
    "start_time": "2022-10-21T15:31:04.025Z"
   },
   {
    "duration": 39,
    "start_time": "2022-10-21T15:31:12.336Z"
   },
   {
    "duration": 47,
    "start_time": "2022-10-21T15:31:12.807Z"
   },
   {
    "duration": 40,
    "start_time": "2022-10-21T15:31:13.859Z"
   },
   {
    "duration": 4,
    "start_time": "2022-10-21T15:31:17.838Z"
   },
   {
    "duration": 110,
    "start_time": "2022-10-21T15:31:18.481Z"
   },
   {
    "duration": 10,
    "start_time": "2022-10-21T15:31:18.854Z"
   },
   {
    "duration": 20,
    "start_time": "2022-10-21T15:31:34.315Z"
   },
   {
    "duration": 4,
    "start_time": "2022-10-21T15:31:43.603Z"
   },
   {
    "duration": 476,
    "start_time": "2022-10-21T15:31:43.991Z"
   },
   {
    "duration": 3,
    "start_time": "2022-10-21T15:31:44.469Z"
   },
   {
    "duration": 24,
    "start_time": "2022-10-21T15:31:44.555Z"
   },
   {
    "duration": 25,
    "start_time": "2022-10-21T15:31:44.738Z"
   },
   {
    "duration": 24,
    "start_time": "2022-10-21T15:31:44.935Z"
   },
   {
    "duration": 4,
    "start_time": "2022-10-21T15:31:45.501Z"
   },
   {
    "duration": 18,
    "start_time": "2022-10-21T15:31:45.689Z"
   },
   {
    "duration": 15,
    "start_time": "2022-10-21T15:31:45.889Z"
   },
   {
    "duration": 16,
    "start_time": "2022-10-21T15:31:46.095Z"
   },
   {
    "duration": 3,
    "start_time": "2022-10-21T15:31:46.497Z"
   },
   {
    "duration": 4,
    "start_time": "2022-10-21T15:31:46.697Z"
   },
   {
    "duration": 38,
    "start_time": "2022-10-21T15:31:46.901Z"
   },
   {
    "duration": 39,
    "start_time": "2022-10-21T15:31:47.112Z"
   },
   {
    "duration": 36,
    "start_time": "2022-10-21T15:31:47.336Z"
   },
   {
    "duration": 4,
    "start_time": "2022-10-21T15:31:47.853Z"
   },
   {
    "duration": 11,
    "start_time": "2022-10-21T15:31:48.274Z"
   },
   {
    "duration": 14,
    "start_time": "2022-10-21T15:32:43.617Z"
   },
   {
    "duration": 3,
    "start_time": "2022-10-21T15:33:34.084Z"
   },
   {
    "duration": 3,
    "start_time": "2022-10-21T15:34:04.460Z"
   },
   {
    "duration": 4,
    "start_time": "2022-10-21T15:34:27.896Z"
   },
   {
    "duration": 4,
    "start_time": "2022-10-21T15:34:28.223Z"
   },
   {
    "duration": 9,
    "start_time": "2022-10-21T15:34:28.610Z"
   },
   {
    "duration": 3,
    "start_time": "2022-10-21T15:34:37.798Z"
   },
   {
    "duration": 9,
    "start_time": "2022-10-21T15:34:38.022Z"
   },
   {
    "duration": 20,
    "start_time": "2022-10-21T15:34:38.280Z"
   },
   {
    "duration": 21,
    "start_time": "2022-10-21T15:34:43.859Z"
   },
   {
    "duration": 19,
    "start_time": "2022-10-21T15:34:44.152Z"
   },
   {
    "duration": 3,
    "start_time": "2022-10-21T15:35:29.002Z"
   },
   {
    "duration": 436,
    "start_time": "2022-10-21T15:35:29.664Z"
   },
   {
    "duration": 4,
    "start_time": "2022-10-21T15:35:31.314Z"
   },
   {
    "duration": 25,
    "start_time": "2022-10-21T15:35:31.760Z"
   },
   {
    "duration": 26,
    "start_time": "2022-10-21T15:35:32.192Z"
   },
   {
    "duration": 32,
    "start_time": "2022-10-21T15:35:32.704Z"
   },
   {
    "duration": 3,
    "start_time": "2022-10-21T15:35:35.287Z"
   },
   {
    "duration": 19,
    "start_time": "2022-10-21T15:35:36.037Z"
   },
   {
    "duration": 14,
    "start_time": "2022-10-21T15:35:37.085Z"
   },
   {
    "duration": 12,
    "start_time": "2022-10-21T15:35:37.359Z"
   },
   {
    "duration": 3,
    "start_time": "2022-10-21T15:35:41.037Z"
   },
   {
    "duration": 3,
    "start_time": "2022-10-21T15:35:41.506Z"
   },
   {
    "duration": 32,
    "start_time": "2022-10-21T15:35:43.337Z"
   },
   {
    "duration": 38,
    "start_time": "2022-10-21T15:35:44.415Z"
   },
   {
    "duration": 34,
    "start_time": "2022-10-21T15:35:45.336Z"
   },
   {
    "duration": 3,
    "start_time": "2022-10-21T15:35:46.837Z"
   },
   {
    "duration": 5,
    "start_time": "2022-10-21T15:35:48.072Z"
   },
   {
    "duration": 19,
    "start_time": "2022-10-21T15:35:48.852Z"
   },
   {
    "duration": 13,
    "start_time": "2022-10-21T15:36:59.524Z"
   },
   {
    "duration": 17,
    "start_time": "2022-10-21T15:36:59.965Z"
   },
   {
    "duration": 18,
    "start_time": "2022-10-21T15:37:16.336Z"
   },
   {
    "duration": 21,
    "start_time": "2022-10-21T15:37:25.244Z"
   },
   {
    "duration": 4,
    "start_time": "2022-10-21T15:39:27.651Z"
   },
   {
    "duration": 17,
    "start_time": "2022-10-21T15:39:27.965Z"
   },
   {
    "duration": 15,
    "start_time": "2022-10-21T15:39:28.987Z"
   },
   {
    "duration": 16,
    "start_time": "2022-10-21T15:39:29.299Z"
   },
   {
    "duration": 5,
    "start_time": "2022-10-21T15:40:11.444Z"
   },
   {
    "duration": 29,
    "start_time": "2022-10-21T15:40:11.700Z"
   },
   {
    "duration": 83,
    "start_time": "2022-10-21T15:41:31.438Z"
   },
   {
    "duration": 74,
    "start_time": "2022-10-21T15:41:42.995Z"
   },
   {
    "duration": 121,
    "start_time": "2022-10-21T15:43:20.199Z"
   },
   {
    "duration": 99,
    "start_time": "2022-10-21T15:43:30.474Z"
   },
   {
    "duration": 89,
    "start_time": "2022-10-21T15:43:35.481Z"
   },
   {
    "duration": 5,
    "start_time": "2022-10-21T15:44:05.679Z"
   },
   {
    "duration": 82,
    "start_time": "2022-10-21T15:44:06.545Z"
   },
   {
    "duration": 5,
    "start_time": "2022-10-21T15:44:17.804Z"
   },
   {
    "duration": 17,
    "start_time": "2022-10-21T15:44:18.180Z"
   },
   {
    "duration": 17,
    "start_time": "2022-10-21T15:44:20.649Z"
   },
   {
    "duration": 17,
    "start_time": "2022-10-21T15:44:23.436Z"
   },
   {
    "duration": 8,
    "start_time": "2022-10-21T15:44:32.407Z"
   },
   {
    "duration": 17,
    "start_time": "2022-10-21T15:44:32.704Z"
   },
   {
    "duration": 18,
    "start_time": "2022-10-21T15:44:33.245Z"
   },
   {
    "duration": 19,
    "start_time": "2022-10-21T15:44:33.655Z"
   },
   {
    "duration": 4,
    "start_time": "2022-10-21T15:45:31.394Z"
   },
   {
    "duration": 469,
    "start_time": "2022-10-21T15:45:32.056Z"
   },
   {
    "duration": 3,
    "start_time": "2022-10-21T15:45:33.684Z"
   },
   {
    "duration": 24,
    "start_time": "2022-10-21T15:45:34.147Z"
   },
   {
    "duration": 30,
    "start_time": "2022-10-21T15:45:34.593Z"
   },
   {
    "duration": 26,
    "start_time": "2022-10-21T15:45:35.073Z"
   },
   {
    "duration": 3,
    "start_time": "2022-10-21T15:45:36.141Z"
   },
   {
    "duration": 16,
    "start_time": "2022-10-21T15:45:36.539Z"
   },
   {
    "duration": 16,
    "start_time": "2022-10-21T15:45:36.867Z"
   },
   {
    "duration": 21,
    "start_time": "2022-10-21T15:45:37.211Z"
   },
   {
    "duration": 3,
    "start_time": "2022-10-21T15:45:38.397Z"
   },
   {
    "duration": 5,
    "start_time": "2022-10-21T15:45:38.721Z"
   },
   {
    "duration": 36,
    "start_time": "2022-10-21T15:45:39.459Z"
   },
   {
    "duration": 38,
    "start_time": "2022-10-21T15:45:39.807Z"
   },
   {
    "duration": 37,
    "start_time": "2022-10-21T15:45:40.244Z"
   },
   {
    "duration": 3,
    "start_time": "2022-10-21T15:45:41.483Z"
   },
   {
    "duration": 5,
    "start_time": "2022-10-21T15:45:41.876Z"
   },
   {
    "duration": 20,
    "start_time": "2022-10-21T15:45:43.038Z"
   },
   {
    "duration": 18,
    "start_time": "2022-10-21T15:45:46.261Z"
   },
   {
    "duration": 18,
    "start_time": "2022-10-21T15:45:47.940Z"
   },
   {
    "duration": 5,
    "start_time": "2022-10-21T15:46:16.379Z"
   },
   {
    "duration": 35,
    "start_time": "2022-10-21T15:46:16.792Z"
   },
   {
    "duration": 18,
    "start_time": "2022-10-21T15:46:17.338Z"
   },
   {
    "duration": 20,
    "start_time": "2022-10-21T15:46:17.759Z"
   },
   {
    "duration": 12,
    "start_time": "2022-10-21T15:59:41.464Z"
   },
   {
    "duration": 3,
    "start_time": "2022-10-21T15:59:51.254Z"
   },
   {
    "duration": 4,
    "start_time": "2022-10-21T15:59:51.664Z"
   },
   {
    "duration": 79,
    "start_time": "2022-10-21T15:59:52.058Z"
   },
   {
    "duration": 17,
    "start_time": "2022-10-21T15:59:52.438Z"
   },
   {
    "duration": 18,
    "start_time": "2022-10-21T15:59:52.997Z"
   },
   {
    "duration": 3,
    "start_time": "2022-10-21T16:06:35.481Z"
   },
   {
    "duration": 7,
    "start_time": "2022-10-21T16:07:30.291Z"
   },
   {
    "duration": 84,
    "start_time": "2022-10-21T16:07:30.850Z"
   },
   {
    "duration": 5,
    "start_time": "2022-10-21T16:07:39.536Z"
   },
   {
    "duration": 18,
    "start_time": "2022-10-21T16:07:40.380Z"
   },
   {
    "duration": 19,
    "start_time": "2022-10-21T16:07:42.284Z"
   },
   {
    "duration": 18,
    "start_time": "2022-10-21T16:07:42.954Z"
   },
   {
    "duration": 4,
    "start_time": "2022-10-21T16:58:48.450Z"
   },
   {
    "duration": 87,
    "start_time": "2022-10-21T16:58:48.736Z"
   },
   {
    "duration": 80,
    "start_time": "2022-10-21T16:59:30.392Z"
   },
   {
    "duration": 4,
    "start_time": "2022-10-21T16:59:50.664Z"
   },
   {
    "duration": 519,
    "start_time": "2022-10-21T16:59:50.968Z"
   },
   {
    "duration": 16,
    "start_time": "2022-10-21T17:00:35.183Z"
   },
   {
    "duration": 100,
    "start_time": "2022-10-21T17:00:51.579Z"
   },
   {
    "duration": 11,
    "start_time": "2022-10-21T17:00:57.256Z"
   },
   {
    "duration": 22,
    "start_time": "2022-10-21T17:01:54.870Z"
   },
   {
    "duration": 30,
    "start_time": "2022-10-21T17:02:30.416Z"
   },
   {
    "duration": 15,
    "start_time": "2022-10-21T17:02:57.853Z"
   },
   {
    "duration": 4,
    "start_time": "2022-10-21T17:04:12.551Z"
   },
   {
    "duration": 76,
    "start_time": "2022-10-21T17:04:12.857Z"
   },
   {
    "duration": 17,
    "start_time": "2022-10-21T17:04:13.582Z"
   },
   {
    "duration": 22,
    "start_time": "2022-10-21T17:04:14.106Z"
   },
   {
    "duration": 14,
    "start_time": "2022-10-21T17:11:25.898Z"
   },
   {
    "duration": 9,
    "start_time": "2022-10-21T17:11:37.906Z"
   },
   {
    "duration": 17,
    "start_time": "2022-10-21T17:11:42.220Z"
   },
   {
    "duration": 5,
    "start_time": "2022-10-21T17:12:33.308Z"
   },
   {
    "duration": 6,
    "start_time": "2022-10-21T17:12:40.353Z"
   },
   {
    "duration": 12,
    "start_time": "2022-10-21T17:15:38.402Z"
   },
   {
    "duration": 8,
    "start_time": "2022-10-21T17:16:07.376Z"
   },
   {
    "duration": 5,
    "start_time": "2022-10-21T17:17:27.201Z"
   },
   {
    "duration": 7,
    "start_time": "2022-10-21T17:17:42.170Z"
   },
   {
    "duration": 10,
    "start_time": "2022-10-21T17:17:51.582Z"
   },
   {
    "duration": 121,
    "start_time": "2022-10-21T17:21:09.252Z"
   },
   {
    "duration": 16,
    "start_time": "2022-10-21T17:21:12.038Z"
   },
   {
    "duration": 4,
    "start_time": "2022-10-21T17:22:16.462Z"
   },
   {
    "duration": 6,
    "start_time": "2022-10-21T17:22:17.131Z"
   },
   {
    "duration": 4,
    "start_time": "2022-10-21T17:22:17.343Z"
   },
   {
    "duration": 9,
    "start_time": "2022-10-21T17:22:52.835Z"
   },
   {
    "duration": 4,
    "start_time": "2022-10-21T17:23:05.494Z"
   },
   {
    "duration": 13,
    "start_time": "2022-10-21T17:23:05.823Z"
   },
   {
    "duration": 8,
    "start_time": "2022-10-21T17:23:08.425Z"
   },
   {
    "duration": 5,
    "start_time": "2022-10-21T17:23:17.239Z"
   },
   {
    "duration": 433,
    "start_time": "2022-10-21T17:23:44.759Z"
   },
   {
    "duration": 3,
    "start_time": "2022-10-21T17:23:46.837Z"
   },
   {
    "duration": 31,
    "start_time": "2022-10-21T17:23:47.102Z"
   },
   {
    "duration": 23,
    "start_time": "2022-10-21T17:23:47.456Z"
   },
   {
    "duration": 23,
    "start_time": "2022-10-21T17:23:47.788Z"
   },
   {
    "duration": 3,
    "start_time": "2022-10-21T17:23:48.595Z"
   },
   {
    "duration": 14,
    "start_time": "2022-10-21T17:23:49.001Z"
   },
   {
    "duration": 15,
    "start_time": "2022-10-21T17:23:49.304Z"
   },
   {
    "duration": 12,
    "start_time": "2022-10-21T17:23:49.550Z"
   },
   {
    "duration": 3,
    "start_time": "2022-10-21T17:23:52.707Z"
   },
   {
    "duration": 4,
    "start_time": "2022-10-21T17:23:52.986Z"
   },
   {
    "duration": 35,
    "start_time": "2022-10-21T17:23:53.961Z"
   },
   {
    "duration": 35,
    "start_time": "2022-10-21T17:23:54.458Z"
   },
   {
    "duration": 36,
    "start_time": "2022-10-21T17:23:56.312Z"
   },
   {
    "duration": 3,
    "start_time": "2022-10-21T17:23:58.964Z"
   },
   {
    "duration": 4,
    "start_time": "2022-10-21T17:23:59.982Z"
   },
   {
    "duration": 18,
    "start_time": "2022-10-21T17:24:00.610Z"
   },
   {
    "duration": 28,
    "start_time": "2022-10-21T17:24:01.418Z"
   },
   {
    "duration": 17,
    "start_time": "2022-10-21T17:24:02.343Z"
   },
   {
    "duration": 5,
    "start_time": "2022-10-21T17:24:05.238Z"
   },
   {
    "duration": 11,
    "start_time": "2022-10-21T17:24:06.321Z"
   },
   {
    "duration": 6,
    "start_time": "2022-10-21T17:24:13.775Z"
   },
   {
    "duration": 5,
    "start_time": "2022-10-21T17:24:15.337Z"
   },
   {
    "duration": 5,
    "start_time": "2022-10-21T17:25:59.356Z"
   },
   {
    "duration": 15,
    "start_time": "2022-10-21T17:26:45.845Z"
   },
   {
    "duration": 454,
    "start_time": "2022-10-21T17:27:48.756Z"
   },
   {
    "duration": 3,
    "start_time": "2022-10-21T17:27:49.287Z"
   },
   {
    "duration": 26,
    "start_time": "2022-10-21T17:27:49.479Z"
   },
   {
    "duration": 25,
    "start_time": "2022-10-21T17:27:49.664Z"
   },
   {
    "duration": 24,
    "start_time": "2022-10-21T17:27:49.837Z"
   },
   {
    "duration": 4,
    "start_time": "2022-10-21T17:27:50.353Z"
   },
   {
    "duration": 15,
    "start_time": "2022-10-21T17:27:50.543Z"
   },
   {
    "duration": 12,
    "start_time": "2022-10-21T17:27:50.737Z"
   },
   {
    "duration": 21,
    "start_time": "2022-10-21T17:27:50.915Z"
   },
   {
    "duration": 3,
    "start_time": "2022-10-21T17:27:51.292Z"
   },
   {
    "duration": 4,
    "start_time": "2022-10-21T17:27:51.481Z"
   },
   {
    "duration": 38,
    "start_time": "2022-10-21T17:27:51.663Z"
   },
   {
    "duration": 45,
    "start_time": "2022-10-21T17:27:51.853Z"
   },
   {
    "duration": 41,
    "start_time": "2022-10-21T17:27:52.054Z"
   },
   {
    "duration": 4,
    "start_time": "2022-10-21T17:27:52.622Z"
   },
   {
    "duration": 10,
    "start_time": "2022-10-21T17:27:52.820Z"
   },
   {
    "duration": 25,
    "start_time": "2022-10-21T17:27:53.019Z"
   },
   {
    "duration": 16,
    "start_time": "2022-10-21T17:27:53.237Z"
   },
   {
    "duration": 18,
    "start_time": "2022-10-21T17:27:53.458Z"
   },
   {
    "duration": 18,
    "start_time": "2022-10-21T17:27:54.119Z"
   },
   {
    "duration": 18,
    "start_time": "2022-10-21T17:28:26.825Z"
   },
   {
    "duration": 140,
    "start_time": "2022-10-21T17:47:12.347Z"
   },
   {
    "duration": 3,
    "start_time": "2022-10-21T17:47:21.608Z"
   },
   {
    "duration": 5,
    "start_time": "2022-10-21T18:01:56.352Z"
   },
   {
    "duration": 21,
    "start_time": "2022-10-21T18:01:57.171Z"
   },
   {
    "duration": 5,
    "start_time": "2022-10-21T18:02:02.059Z"
   },
   {
    "duration": 16,
    "start_time": "2022-10-21T18:02:02.495Z"
   },
   {
    "duration": 18,
    "start_time": "2022-10-21T18:02:03.243Z"
   },
   {
    "duration": 33,
    "start_time": "2022-10-21T18:02:03.618Z"
   },
   {
    "duration": 10,
    "start_time": "2022-10-21T18:13:48.009Z"
   },
   {
    "duration": 4,
    "start_time": "2022-10-21T18:13:51.200Z"
   },
   {
    "duration": 7,
    "start_time": "2022-10-21T18:13:51.537Z"
   },
   {
    "duration": 8,
    "start_time": "2022-10-21T18:14:50.664Z"
   },
   {
    "duration": 8,
    "start_time": "2022-10-21T18:14:58.054Z"
   },
   {
    "duration": 11,
    "start_time": "2022-10-21T18:15:46.216Z"
   },
   {
    "duration": 9,
    "start_time": "2022-10-21T18:15:54.772Z"
   },
   {
    "duration": 7,
    "start_time": "2022-10-21T18:16:00.100Z"
   },
   {
    "duration": 8,
    "start_time": "2022-10-21T18:16:12.078Z"
   },
   {
    "duration": 5,
    "start_time": "2022-10-21T18:16:29.565Z"
   },
   {
    "duration": 4,
    "start_time": "2022-10-21T18:16:38.597Z"
   },
   {
    "duration": 5,
    "start_time": "2022-10-21T18:19:47.657Z"
   },
   {
    "duration": 17,
    "start_time": "2022-10-21T18:19:48.002Z"
   },
   {
    "duration": 16,
    "start_time": "2022-10-21T18:19:48.568Z"
   },
   {
    "duration": 20,
    "start_time": "2022-10-21T18:19:48.907Z"
   },
   {
    "duration": 2,
    "start_time": "2022-10-21T18:19:52.667Z"
   },
   {
    "duration": 3,
    "start_time": "2022-10-21T18:19:52.942Z"
   },
   {
    "duration": 15,
    "start_time": "2022-10-21T18:19:53.223Z"
   },
   {
    "duration": 4,
    "start_time": "2022-10-21T18:27:29.760Z"
   },
   {
    "duration": 34,
    "start_time": "2022-10-21T18:27:30.004Z"
   },
   {
    "duration": 40,
    "start_time": "2022-10-21T18:27:35.594Z"
   },
   {
    "duration": 4,
    "start_time": "2022-10-21T18:27:39.885Z"
   },
   {
    "duration": 20,
    "start_time": "2022-10-21T18:27:40.501Z"
   },
   {
    "duration": 17,
    "start_time": "2022-10-21T18:27:44.164Z"
   },
   {
    "duration": 18,
    "start_time": "2022-10-21T18:27:46.901Z"
   },
   {
    "duration": 49,
    "start_time": "2022-10-21T22:17:31.602Z"
   },
   {
    "duration": 3,
    "start_time": "2022-10-21T22:17:35.602Z"
   },
   {
    "duration": 7,
    "start_time": "2022-10-21T22:17:35.782Z"
   },
   {
    "duration": 6,
    "start_time": "2022-10-21T22:17:35.983Z"
   },
   {
    "duration": 7,
    "start_time": "2022-10-21T22:17:36.162Z"
   },
   {
    "duration": 9,
    "start_time": "2022-10-21T22:17:41.662Z"
   },
   {
    "duration": 4,
    "start_time": "2022-10-21T22:17:51.372Z"
   },
   {
    "duration": 3,
    "start_time": "2022-10-21T22:17:55.232Z"
   },
   {
    "duration": 3,
    "start_time": "2022-10-21T22:18:08.492Z"
   },
   {
    "duration": 13,
    "start_time": "2022-10-21T22:19:45.615Z"
   },
   {
    "duration": 1170,
    "start_time": "2022-10-22T10:32:41.676Z"
   },
   {
    "duration": 1634,
    "start_time": "2022-10-22T10:32:44.291Z"
   },
   {
    "duration": 100,
    "start_time": "2022-10-22T10:33:00.970Z"
   },
   {
    "duration": 10,
    "start_time": "2022-10-22T10:33:12.047Z"
   },
   {
    "duration": 10,
    "start_time": "2022-10-22T10:33:58.561Z"
   },
   {
    "duration": 9,
    "start_time": "2022-10-22T10:34:10.292Z"
   },
   {
    "duration": 3,
    "start_time": "2022-10-22T10:35:38.346Z"
   },
   {
    "duration": 374,
    "start_time": "2022-10-22T10:35:46.262Z"
   },
   {
    "duration": 2,
    "start_time": "2022-10-22T10:35:46.932Z"
   },
   {
    "duration": 29,
    "start_time": "2022-10-22T10:35:47.205Z"
   },
   {
    "duration": 23,
    "start_time": "2022-10-22T10:35:47.442Z"
   },
   {
    "duration": 22,
    "start_time": "2022-10-22T10:35:48.268Z"
   },
   {
    "duration": 10,
    "start_time": "2022-10-22T10:36:56.327Z"
   },
   {
    "duration": 3,
    "start_time": "2022-10-22T10:37:00.548Z"
   },
   {
    "duration": 3,
    "start_time": "2022-10-22T10:42:52.660Z"
   },
   {
    "duration": 15,
    "start_time": "2022-10-22T10:42:53.189Z"
   },
   {
    "duration": 16,
    "start_time": "2022-10-22T10:42:53.605Z"
   },
   {
    "duration": 16,
    "start_time": "2022-10-22T10:42:53.885Z"
   },
   {
    "duration": 3,
    "start_time": "2022-10-22T10:42:55.082Z"
   },
   {
    "duration": 3,
    "start_time": "2022-10-22T10:42:55.405Z"
   },
   {
    "duration": 42,
    "start_time": "2022-10-22T10:42:56.729Z"
   },
   {
    "duration": 35,
    "start_time": "2022-10-22T10:42:56.950Z"
   },
   {
    "duration": 35,
    "start_time": "2022-10-22T10:42:57.552Z"
   },
   {
    "duration": 2,
    "start_time": "2022-10-22T10:42:59.860Z"
   },
   {
    "duration": 5,
    "start_time": "2022-10-22T10:43:00.590Z"
   },
   {
    "duration": 22,
    "start_time": "2022-10-22T10:43:01.302Z"
   },
   {
    "duration": 14,
    "start_time": "2022-10-22T10:43:01.579Z"
   },
   {
    "duration": 14,
    "start_time": "2022-10-22T10:43:01.856Z"
   },
   {
    "duration": 3,
    "start_time": "2022-10-22T10:43:05.062Z"
   },
   {
    "duration": 11,
    "start_time": "2022-10-22T10:43:38.282Z"
   },
   {
    "duration": 5,
    "start_time": "2022-10-22T10:43:40.212Z"
   },
   {
    "duration": 11,
    "start_time": "2022-10-22T10:43:40.633Z"
   },
   {
    "duration": 4,
    "start_time": "2022-10-22T10:44:26.567Z"
   },
   {
    "duration": 13,
    "start_time": "2022-10-22T10:44:26.825Z"
   },
   {
    "duration": 9,
    "start_time": "2022-10-22T10:44:35.496Z"
   },
   {
    "duration": 8393,
    "start_time": "2022-10-22T10:50:15.867Z"
   },
   {
    "duration": 18,
    "start_time": "2022-10-22T10:50:38.591Z"
   },
   {
    "duration": 18070,
    "start_time": "2022-10-22T10:51:07.568Z"
   },
   {
    "duration": 1063,
    "start_time": "2022-10-22T10:51:29.507Z"
   },
   {
    "duration": 70,
    "start_time": "2022-10-22T10:51:56.770Z"
   },
   {
    "duration": 29,
    "start_time": "2022-10-22T10:52:39.929Z"
   },
   {
    "duration": 8649,
    "start_time": "2022-10-22T10:52:47.383Z"
   },
   {
    "duration": 4,
    "start_time": "2022-10-22T10:54:53.891Z"
   },
   {
    "duration": 374,
    "start_time": "2022-10-22T10:54:55.107Z"
   },
   {
    "duration": 64,
    "start_time": "2022-10-22T10:54:58.087Z"
   },
   {
    "duration": 5,
    "start_time": "2022-10-22T10:55:11.462Z"
   },
   {
    "duration": 27,
    "start_time": "2022-10-22T10:55:13.237Z"
   },
   {
    "duration": 27,
    "start_time": "2022-10-22T10:55:14.043Z"
   },
   {
    "duration": 28,
    "start_time": "2022-10-22T10:55:14.506Z"
   },
   {
    "duration": 3,
    "start_time": "2022-10-22T10:56:51.784Z"
   },
   {
    "duration": 29,
    "start_time": "2022-10-22T10:56:52.558Z"
   },
   {
    "duration": 28,
    "start_time": "2022-10-22T10:56:52.781Z"
   },
   {
    "duration": 28,
    "start_time": "2022-10-22T10:56:53.045Z"
   },
   {
    "duration": 4,
    "start_time": "2022-10-22T10:57:07.698Z"
   },
   {
    "duration": 9140,
    "start_time": "2022-10-22T10:57:08.442Z"
   },
   {
    "duration": 9020,
    "start_time": "2022-10-22T10:57:17.584Z"
   },
   {
    "duration": 9373,
    "start_time": "2022-10-22T10:57:26.607Z"
   },
   {
    "duration": 5,
    "start_time": "2022-10-22T11:48:21.396Z"
   },
   {
    "duration": 14,
    "start_time": "2022-10-22T11:48:22.131Z"
   },
   {
    "duration": 13,
    "start_time": "2022-10-22T11:48:36.525Z"
   },
   {
    "duration": 6,
    "start_time": "2022-10-22T11:49:03.504Z"
   },
   {
    "duration": 5,
    "start_time": "2022-10-22T11:49:13.535Z"
   },
   {
    "duration": 21,
    "start_time": "2022-10-22T11:50:12.572Z"
   },
   {
    "duration": 5,
    "start_time": "2022-10-22T11:55:54.179Z"
   },
   {
    "duration": 11,
    "start_time": "2022-10-22T11:55:59.059Z"
   },
   {
    "duration": 5,
    "start_time": "2022-10-22T11:57:56.685Z"
   },
   {
    "duration": 9,
    "start_time": "2022-10-22T11:57:57.904Z"
   },
   {
    "duration": 5,
    "start_time": "2022-10-22T11:58:07.159Z"
   },
   {
    "duration": 13,
    "start_time": "2022-10-22T11:58:07.846Z"
   },
   {
    "duration": 13,
    "start_time": "2022-10-22T11:59:42.786Z"
   },
   {
    "duration": 153,
    "start_time": "2022-10-22T12:00:04.224Z"
   },
   {
    "duration": 10,
    "start_time": "2022-10-22T12:00:08.035Z"
   },
   {
    "duration": 5,
    "start_time": "2022-10-22T12:02:19.035Z"
   },
   {
    "duration": 5,
    "start_time": "2022-10-22T12:02:24.010Z"
   },
   {
    "duration": 5,
    "start_time": "2022-10-22T13:05:49.880Z"
   },
   {
    "duration": 72,
    "start_time": "2022-10-22T13:06:14.381Z"
   },
   {
    "duration": 6,
    "start_time": "2022-10-22T13:06:23.663Z"
   },
   {
    "duration": 163,
    "start_time": "2022-10-22T13:06:24.741Z"
   },
   {
    "duration": 72,
    "start_time": "2022-10-22T13:06:26.725Z"
   },
   {
    "duration": 18,
    "start_time": "2022-10-22T13:06:27.588Z"
   },
   {
    "duration": 7,
    "start_time": "2022-10-22T13:06:32.202Z"
   },
   {
    "duration": 99,
    "start_time": "2022-10-22T13:08:13.868Z"
   },
   {
    "duration": 6,
    "start_time": "2022-10-22T13:08:28.023Z"
   },
   {
    "duration": 5,
    "start_time": "2022-10-22T13:08:56.183Z"
   },
   {
    "duration": 6,
    "start_time": "2022-10-22T13:09:00.945Z"
   },
   {
    "duration": 10,
    "start_time": "2022-10-22T13:09:25.301Z"
   },
   {
    "duration": 72,
    "start_time": "2022-10-22T13:09:39.829Z"
   },
   {
    "duration": 7,
    "start_time": "2022-10-22T13:09:42.595Z"
   },
   {
    "duration": 5,
    "start_time": "2022-10-22T13:10:04.875Z"
   },
   {
    "duration": 427,
    "start_time": "2022-10-23T10:06:35.038Z"
   },
   {
    "duration": 14044,
    "start_time": "2022-10-23T10:07:15.199Z"
   },
   {
    "duration": 1987,
    "start_time": "2022-10-23T10:07:29.246Z"
   },
   {
    "duration": 2004,
    "start_time": "2022-10-23T10:07:33.998Z"
   },
   {
    "duration": 3,
    "start_time": "2022-10-23T10:07:38.507Z"
   },
   {
    "duration": 11102,
    "start_time": "2022-10-23T10:07:40.069Z"
   },
   {
    "duration": 10440,
    "start_time": "2022-10-23T10:07:51.174Z"
   },
   {
    "duration": 10856,
    "start_time": "2022-10-23T10:08:01.616Z"
   },
   {
    "duration": 4,
    "start_time": "2022-10-23T10:12:22.466Z"
   },
   {
    "duration": 12,
    "start_time": "2022-10-23T10:12:23.452Z"
   },
   {
    "duration": 11,
    "start_time": "2022-10-23T10:12:23.757Z"
   },
   {
    "duration": 16,
    "start_time": "2022-10-23T10:12:24.029Z"
   },
   {
    "duration": 4,
    "start_time": "2022-10-23T10:12:26.776Z"
   },
   {
    "duration": 9,
    "start_time": "2022-10-23T10:12:27.594Z"
   },
   {
    "duration": 9,
    "start_time": "2022-10-23T10:12:55.727Z"
   },
   {
    "duration": 37,
    "start_time": "2022-10-23T10:13:00.513Z"
   },
   {
    "duration": 13,
    "start_time": "2022-10-23T10:13:02.944Z"
   },
   {
    "duration": 42,
    "start_time": "2022-10-23T10:13:07.011Z"
   },
   {
    "duration": 36,
    "start_time": "2022-10-23T10:13:08.114Z"
   },
   {
    "duration": 3,
    "start_time": "2022-10-23T10:13:15.017Z"
   },
   {
    "duration": 4,
    "start_time": "2022-10-23T10:13:15.430Z"
   },
   {
    "duration": 129,
    "start_time": "2022-10-23T10:13:16.966Z"
   },
   {
    "duration": 16,
    "start_time": "2022-10-23T10:13:17.805Z"
   },
   {
    "duration": 15,
    "start_time": "2022-10-23T10:13:18.723Z"
   },
   {
    "duration": 2,
    "start_time": "2022-10-23T10:13:22.618Z"
   },
   {
    "duration": 11,
    "start_time": "2022-10-23T10:18:40.694Z"
   },
   {
    "duration": 5,
    "start_time": "2022-10-23T10:18:42.284Z"
   },
   {
    "duration": 7,
    "start_time": "2022-10-23T10:18:43.753Z"
   },
   {
    "duration": 120,
    "start_time": "2022-10-23T10:20:38.275Z"
   },
   {
    "duration": 6,
    "start_time": "2022-10-23T10:20:52.921Z"
   },
   {
    "duration": 4,
    "start_time": "2022-10-23T10:23:15.087Z"
   },
   {
    "duration": 5,
    "start_time": "2022-10-23T10:23:44.354Z"
   },
   {
    "duration": 4,
    "start_time": "2022-10-23T11:29:20.423Z"
   },
   {
    "duration": 7,
    "start_time": "2022-10-23T11:29:24.096Z"
   },
   {
    "duration": 6,
    "start_time": "2022-10-23T11:29:29.028Z"
   },
   {
    "duration": 3,
    "start_time": "2022-10-23T11:31:35.000Z"
   },
   {
    "duration": 696,
    "start_time": "2022-10-23T11:32:45.594Z"
   },
   {
    "duration": 111,
    "start_time": "2022-10-23T11:36:52.474Z"
   },
   {
    "duration": 3,
    "start_time": "2022-10-23T11:37:10.053Z"
   },
   {
    "duration": 7,
    "start_time": "2022-10-23T11:37:10.742Z"
   },
   {
    "duration": 547,
    "start_time": "2022-10-23T11:37:25.192Z"
   },
   {
    "duration": 7,
    "start_time": "2022-10-23T11:46:01.777Z"
   },
   {
    "duration": 7,
    "start_time": "2022-10-23T11:46:04.949Z"
   },
   {
    "duration": 7,
    "start_time": "2022-10-23T11:48:19.899Z"
   },
   {
    "duration": 9,
    "start_time": "2022-10-23T11:48:39.909Z"
   },
   {
    "duration": 10,
    "start_time": "2022-10-23T11:49:00.260Z"
   },
   {
    "duration": 13,
    "start_time": "2022-10-23T12:43:08.673Z"
   },
   {
    "duration": 14,
    "start_time": "2022-10-23T12:43:25.624Z"
   },
   {
    "duration": 6,
    "start_time": "2022-10-23T12:44:01.581Z"
   },
   {
    "duration": 7,
    "start_time": "2022-10-23T12:44:09.868Z"
   },
   {
    "duration": 5,
    "start_time": "2022-10-23T12:44:14.020Z"
   },
   {
    "duration": 5,
    "start_time": "2022-10-23T12:45:00.645Z"
   },
   {
    "duration": 8,
    "start_time": "2022-10-23T15:56:22.223Z"
   },
   {
    "duration": 447,
    "start_time": "2022-10-23T15:56:27.401Z"
   },
   {
    "duration": 13011,
    "start_time": "2022-10-23T15:56:47.063Z"
   },
   {
    "duration": 2062,
    "start_time": "2022-10-23T15:57:00.076Z"
   },
   {
    "duration": 1499,
    "start_time": "2022-10-23T15:58:09.712Z"
   },
   {
    "duration": 3,
    "start_time": "2022-10-23T15:58:13.845Z"
   },
   {
    "duration": 9153,
    "start_time": "2022-10-23T15:58:15.139Z"
   },
   {
    "duration": 8967,
    "start_time": "2022-10-23T15:58:24.293Z"
   },
   {
    "duration": 9476,
    "start_time": "2022-10-23T15:58:33.262Z"
   },
   {
    "duration": 3,
    "start_time": "2022-10-23T15:58:49.965Z"
   },
   {
    "duration": 11,
    "start_time": "2022-10-23T15:58:50.564Z"
   },
   {
    "duration": 12,
    "start_time": "2022-10-23T15:58:50.839Z"
   },
   {
    "duration": 14,
    "start_time": "2022-10-23T15:58:51.143Z"
   },
   {
    "duration": 2,
    "start_time": "2022-10-23T15:58:52.533Z"
   },
   {
    "duration": 4,
    "start_time": "2022-10-23T15:58:53.003Z"
   },
   {
    "duration": 33,
    "start_time": "2022-10-23T15:58:54.702Z"
   },
   {
    "duration": 34,
    "start_time": "2022-10-23T15:58:55.072Z"
   },
   {
    "duration": 32,
    "start_time": "2022-10-23T15:58:55.432Z"
   },
   {
    "duration": 3,
    "start_time": "2022-10-23T15:58:58.976Z"
   },
   {
    "duration": 6,
    "start_time": "2022-10-23T15:58:59.770Z"
   },
   {
    "duration": 16,
    "start_time": "2022-10-23T15:59:00.465Z"
   },
   {
    "duration": 15,
    "start_time": "2022-10-23T15:59:01.384Z"
   },
   {
    "duration": 13,
    "start_time": "2022-10-23T15:59:01.848Z"
   },
   {
    "duration": 2,
    "start_time": "2022-10-23T15:59:06.412Z"
   },
   {
    "duration": 3,
    "start_time": "2022-10-23T15:59:08.072Z"
   },
   {
    "duration": 4,
    "start_time": "2022-10-23T15:59:08.870Z"
   },
   {
    "duration": 6,
    "start_time": "2022-10-23T15:59:09.611Z"
   },
   {
    "duration": 3,
    "start_time": "2022-10-23T15:59:12.536Z"
   },
   {
    "duration": 124,
    "start_time": "2022-10-23T16:00:01.429Z"
   },
   {
    "duration": 18,
    "start_time": "2022-10-23T16:00:08.094Z"
   },
   {
    "duration": 3,
    "start_time": "2022-10-23T16:02:07.396Z"
   },
   {
    "duration": 15,
    "start_time": "2022-10-23T16:02:08.123Z"
   },
   {
    "duration": 3,
    "start_time": "2022-10-23T16:02:15.793Z"
   },
   {
    "duration": 14,
    "start_time": "2022-10-23T16:02:16.356Z"
   },
   {
    "duration": 3,
    "start_time": "2022-10-23T16:04:54.536Z"
   },
   {
    "duration": 15,
    "start_time": "2022-10-23T16:04:54.875Z"
   },
   {
    "duration": 3,
    "start_time": "2022-10-23T16:07:08.869Z"
   },
   {
    "duration": 14,
    "start_time": "2022-10-23T16:07:09.180Z"
   },
   {
    "duration": 3,
    "start_time": "2022-10-23T16:08:45.466Z"
   },
   {
    "duration": 14,
    "start_time": "2022-10-23T16:08:45.699Z"
   },
   {
    "duration": 11,
    "start_time": "2022-10-23T16:09:01.525Z"
   },
   {
    "duration": 4,
    "start_time": "2022-10-23T16:09:20.509Z"
   },
   {
    "duration": 5,
    "start_time": "2022-10-23T16:09:29.904Z"
   },
   {
    "duration": 343,
    "start_time": "2022-10-23T16:10:00.471Z"
   },
   {
    "duration": 3,
    "start_time": "2022-10-23T16:10:01.761Z"
   },
   {
    "duration": 3,
    "start_time": "2022-10-23T16:10:05.359Z"
   },
   {
    "duration": 15,
    "start_time": "2022-10-23T16:10:05.676Z"
   },
   {
    "duration": 13,
    "start_time": "2022-10-23T16:10:05.899Z"
   },
   {
    "duration": 10,
    "start_time": "2022-10-23T16:10:06.137Z"
   },
   {
    "duration": 5,
    "start_time": "2022-10-23T16:10:14.820Z"
   },
   {
    "duration": 29,
    "start_time": "2022-10-23T16:10:16.549Z"
   },
   {
    "duration": 29,
    "start_time": "2022-10-23T16:10:16.871Z"
   },
   {
    "duration": 37,
    "start_time": "2022-10-23T16:10:17.153Z"
   },
   {
    "duration": 2,
    "start_time": "2022-10-23T16:10:26.057Z"
   },
   {
    "duration": 4,
    "start_time": "2022-10-23T16:10:26.367Z"
   },
   {
    "duration": 19,
    "start_time": "2022-10-23T16:10:27.391Z"
   },
   {
    "duration": 16,
    "start_time": "2022-10-23T16:10:27.648Z"
   },
   {
    "duration": 13,
    "start_time": "2022-10-23T16:10:27.870Z"
   },
   {
    "duration": 3,
    "start_time": "2022-10-23T16:10:30.058Z"
   },
   {
    "duration": 3,
    "start_time": "2022-10-23T16:10:31.532Z"
   },
   {
    "duration": 5,
    "start_time": "2022-10-23T16:10:32.239Z"
   },
   {
    "duration": 4,
    "start_time": "2022-10-23T16:10:32.862Z"
   },
   {
    "duration": 3,
    "start_time": "2022-10-23T16:10:37.768Z"
   },
   {
    "duration": 18,
    "start_time": "2022-10-23T16:10:38.181Z"
   },
   {
    "duration": 3,
    "start_time": "2022-10-23T16:10:59.657Z"
   },
   {
    "duration": 23,
    "start_time": "2022-10-23T16:10:59.930Z"
   },
   {
    "duration": 3,
    "start_time": "2022-10-23T16:11:49.082Z"
   },
   {
    "duration": 23,
    "start_time": "2022-10-23T16:11:49.595Z"
   },
   {
    "duration": 131,
    "start_time": "2022-10-23T16:12:53.279Z"
   },
   {
    "duration": 22,
    "start_time": "2022-10-23T16:12:53.715Z"
   },
   {
    "duration": 4,
    "start_time": "2022-10-23T16:12:58.354Z"
   },
   {
    "duration": 7,
    "start_time": "2022-10-23T16:12:58.780Z"
   },
   {
    "duration": 10,
    "start_time": "2022-10-23T16:13:05.981Z"
   },
   {
    "duration": 5,
    "start_time": "2022-10-23T16:13:09.126Z"
   },
   {
    "duration": 4,
    "start_time": "2022-10-23T16:13:22.442Z"
   },
   {
    "duration": 11,
    "start_time": "2022-10-23T16:13:44.576Z"
   },
   {
    "duration": 3,
    "start_time": "2022-10-23T16:14:08.270Z"
   },
   {
    "duration": 6,
    "start_time": "2022-10-23T16:14:08.683Z"
   },
   {
    "duration": 10,
    "start_time": "2022-10-23T16:14:08.921Z"
   },
   {
    "duration": 5,
    "start_time": "2022-10-23T16:14:12.194Z"
   },
   {
    "duration": 3,
    "start_time": "2022-10-23T16:14:38.396Z"
   },
   {
    "duration": 7,
    "start_time": "2022-10-23T16:14:38.792Z"
   },
   {
    "duration": 6,
    "start_time": "2022-10-23T16:14:39.158Z"
   },
   {
    "duration": 5,
    "start_time": "2022-10-23T16:14:42.214Z"
   },
   {
    "duration": 13,
    "start_time": "2022-10-23T16:14:50.962Z"
   },
   {
    "duration": 14,
    "start_time": "2022-10-23T16:15:00.429Z"
   },
   {
    "duration": 5,
    "start_time": "2022-10-23T16:15:07.421Z"
   },
   {
    "duration": 4,
    "start_time": "2022-10-23T16:15:14.116Z"
   },
   {
    "duration": 5,
    "start_time": "2022-10-23T16:15:18.538Z"
   },
   {
    "duration": 5,
    "start_time": "2022-10-23T16:15:23.685Z"
   },
   {
    "duration": 10,
    "start_time": "2022-10-23T16:16:36.910Z"
   },
   {
    "duration": 5,
    "start_time": "2022-10-23T16:16:40.443Z"
   },
   {
    "duration": 5,
    "start_time": "2022-10-23T16:16:50.843Z"
   },
   {
    "duration": 10,
    "start_time": "2022-10-23T16:17:37.375Z"
   },
   {
    "duration": 6,
    "start_time": "2022-10-23T16:17:40.680Z"
   },
   {
    "duration": 3,
    "start_time": "2022-10-23T16:17:47.571Z"
   },
   {
    "duration": 6,
    "start_time": "2022-10-23T16:17:48.040Z"
   },
   {
    "duration": 6,
    "start_time": "2022-10-23T16:17:48.399Z"
   },
   {
    "duration": 5,
    "start_time": "2022-10-23T16:17:56.631Z"
   },
   {
    "duration": 12,
    "start_time": "2022-10-23T16:18:24.132Z"
   },
   {
    "duration": 5,
    "start_time": "2022-10-23T16:18:27.410Z"
   },
   {
    "duration": 3,
    "start_time": "2022-10-23T16:18:58.926Z"
   },
   {
    "duration": 7,
    "start_time": "2022-10-23T16:18:59.310Z"
   },
   {
    "duration": 5,
    "start_time": "2022-10-23T16:19:00.132Z"
   },
   {
    "duration": 4,
    "start_time": "2022-10-23T16:19:07.313Z"
   },
   {
    "duration": 6,
    "start_time": "2022-10-23T16:21:43.755Z"
   },
   {
    "duration": 5,
    "start_time": "2022-10-23T16:23:33.563Z"
   },
   {
    "duration": 4,
    "start_time": "2022-10-23T16:23:39.054Z"
   },
   {
    "duration": 3,
    "start_time": "2022-10-23T16:24:47.726Z"
   },
   {
    "duration": 6,
    "start_time": "2022-10-23T16:24:48.082Z"
   },
   {
    "duration": 5,
    "start_time": "2022-10-23T16:24:51.984Z"
   },
   {
    "duration": 4,
    "start_time": "2022-10-23T16:25:11.212Z"
   },
   {
    "duration": 7,
    "start_time": "2022-10-23T16:25:42.265Z"
   },
   {
    "duration": 4,
    "start_time": "2022-10-23T16:25:42.587Z"
   },
   {
    "duration": 6,
    "start_time": "2022-10-23T16:26:03.180Z"
   },
   {
    "duration": 4,
    "start_time": "2022-10-23T16:26:03.423Z"
   },
   {
    "duration": 12,
    "start_time": "2022-10-23T16:27:52.040Z"
   },
   {
    "duration": 12,
    "start_time": "2022-10-23T16:29:21.632Z"
   },
   {
    "duration": 12,
    "start_time": "2022-10-23T16:30:39.472Z"
   },
   {
    "duration": 12,
    "start_time": "2022-10-23T16:31:36.562Z"
   },
   {
    "duration": 14,
    "start_time": "2022-10-23T16:31:41.615Z"
   },
   {
    "duration": 3,
    "start_time": "2022-10-23T16:31:53.330Z"
   },
   {
    "duration": 12,
    "start_time": "2022-10-23T16:31:53.644Z"
   },
   {
    "duration": 3,
    "start_time": "2022-10-23T16:32:00.609Z"
   },
   {
    "duration": 505,
    "start_time": "2022-10-23T16:32:03.514Z"
   },
   {
    "duration": 523,
    "start_time": "2022-10-23T16:32:11.415Z"
   },
   {
    "duration": 208,
    "start_time": "2022-10-23T16:33:59.317Z"
   },
   {
    "duration": 11,
    "start_time": "2022-10-23T16:37:41.341Z"
   },
   {
    "duration": 233,
    "start_time": "2022-10-23T16:37:47.095Z"
   },
   {
    "duration": 601,
    "start_time": "2022-10-23T16:38:12.065Z"
   },
   {
    "duration": 70,
    "start_time": "2022-10-23T16:39:42.117Z"
   },
   {
    "duration": 4,
    "start_time": "2022-10-23T16:39:45.386Z"
   },
   {
    "duration": 4,
    "start_time": "2022-10-23T16:39:55.749Z"
   },
   {
    "duration": 4,
    "start_time": "2022-10-23T16:40:00.684Z"
   },
   {
    "duration": 4,
    "start_time": "2022-10-23T16:40:24.253Z"
   },
   {
    "duration": 6,
    "start_time": "2022-10-23T16:40:24.867Z"
   },
   {
    "duration": 4,
    "start_time": "2022-10-23T16:40:25.161Z"
   },
   {
    "duration": 6,
    "start_time": "2022-10-23T16:40:25.508Z"
   },
   {
    "duration": 4,
    "start_time": "2022-10-23T16:40:25.901Z"
   },
   {
    "duration": 4,
    "start_time": "2022-10-23T16:40:37.678Z"
   },
   {
    "duration": 4,
    "start_time": "2022-10-23T16:40:40.178Z"
   },
   {
    "duration": 4,
    "start_time": "2022-10-23T16:41:18.655Z"
   },
   {
    "duration": 5,
    "start_time": "2022-10-23T16:41:18.910Z"
   },
   {
    "duration": 4,
    "start_time": "2022-10-23T16:41:19.149Z"
   },
   {
    "duration": 7,
    "start_time": "2022-10-23T16:41:19.382Z"
   },
   {
    "duration": 5,
    "start_time": "2022-10-23T16:41:19.855Z"
   },
   {
    "duration": 5,
    "start_time": "2022-10-23T16:47:15.073Z"
   },
   {
    "duration": 5,
    "start_time": "2022-10-23T16:47:33.703Z"
   },
   {
    "duration": 5,
    "start_time": "2022-10-23T16:47:48.018Z"
   },
   {
    "duration": 5,
    "start_time": "2022-10-23T16:48:07.416Z"
   },
   {
    "duration": 4,
    "start_time": "2022-10-23T16:48:09.858Z"
   },
   {
    "duration": 5,
    "start_time": "2022-10-23T16:48:13.192Z"
   },
   {
    "duration": 494,
    "start_time": "2022-10-23T16:51:22.962Z"
   },
   {
    "duration": 4,
    "start_time": "2022-10-23T16:59:26.553Z"
   },
   {
    "duration": 6,
    "start_time": "2022-10-23T16:59:26.770Z"
   },
   {
    "duration": 5,
    "start_time": "2022-10-23T16:59:27.022Z"
   },
   {
    "duration": 6,
    "start_time": "2022-10-23T16:59:27.285Z"
   },
   {
    "duration": 5,
    "start_time": "2022-10-23T16:59:28.815Z"
   },
   {
    "duration": 4,
    "start_time": "2022-10-23T16:59:38.699Z"
   },
   {
    "duration": 7,
    "start_time": "2022-10-23T16:59:38.974Z"
   },
   {
    "duration": 5,
    "start_time": "2022-10-23T16:59:39.755Z"
   },
   {
    "duration": 3,
    "start_time": "2022-10-23T16:59:48.278Z"
   },
   {
    "duration": 14,
    "start_time": "2022-10-23T17:57:51.696Z"
   },
   {
    "duration": 191,
    "start_time": "2022-10-23T17:58:13.005Z"
   },
   {
    "duration": 3300,
    "start_time": "2022-10-23T17:59:15.543Z"
   },
   {
    "duration": 15,
    "start_time": "2022-10-23T18:10:28.736Z"
   },
   {
    "duration": 108,
    "start_time": "2022-10-23T18:14:42.005Z"
   },
   {
    "duration": 3328,
    "start_time": "2022-10-23T18:14:56.737Z"
   },
   {
    "duration": 3358,
    "start_time": "2022-10-23T18:15:49.313Z"
   },
   {
    "duration": 19,
    "start_time": "2022-10-23T18:16:40.706Z"
   },
   {
    "duration": 3,
    "start_time": "2022-10-23T18:18:04.504Z"
   },
   {
    "duration": 8,
    "start_time": "2022-10-23T18:18:05.254Z"
   },
   {
    "duration": 5,
    "start_time": "2022-10-23T18:18:05.945Z"
   },
   {
    "duration": 7,
    "start_time": "2022-10-23T18:18:06.565Z"
   },
   {
    "duration": 6,
    "start_time": "2022-10-23T18:18:06.847Z"
   },
   {
    "duration": 8,
    "start_time": "2022-10-23T18:18:07.083Z"
   },
   {
    "duration": 13,
    "start_time": "2022-10-23T18:18:20.039Z"
   },
   {
    "duration": 230,
    "start_time": "2022-10-23T18:18:26.443Z"
   },
   {
    "duration": 216,
    "start_time": "2022-10-23T18:19:27.337Z"
   },
   {
    "duration": 86,
    "start_time": "2022-10-23T18:21:07.558Z"
   },
   {
    "duration": 81,
    "start_time": "2022-10-23T18:21:18.045Z"
   },
   {
    "duration": 77,
    "start_time": "2022-10-23T18:21:22.563Z"
   },
   {
    "duration": 24,
    "start_time": "2022-10-23T18:21:36.867Z"
   },
   {
    "duration": 29,
    "start_time": "2022-10-23T18:29:14.411Z"
   },
   {
    "duration": 553,
    "start_time": "2022-10-23T18:35:29.688Z"
   },
   {
    "duration": 191,
    "start_time": "2022-10-23T18:35:34.723Z"
   },
   {
    "duration": 607,
    "start_time": "2022-10-23T18:36:17.665Z"
   },
   {
    "duration": 3,
    "start_time": "2022-10-23T18:37:15.646Z"
   },
   {
    "duration": 14,
    "start_time": "2022-10-23T18:37:16.083Z"
   },
   {
    "duration": 6,
    "start_time": "2022-10-23T18:37:16.403Z"
   },
   {
    "duration": 8,
    "start_time": "2022-10-23T18:37:17.051Z"
   },
   {
    "duration": 5,
    "start_time": "2022-10-23T18:37:18.410Z"
   },
   {
    "duration": 7,
    "start_time": "2022-10-23T18:37:19.317Z"
   },
   {
    "duration": 6,
    "start_time": "2022-10-23T18:37:19.797Z"
   },
   {
    "duration": 3,
    "start_time": "2022-10-23T18:37:56.066Z"
   },
   {
    "duration": 10,
    "start_time": "2022-10-23T18:37:57.079Z"
   },
   {
    "duration": 4,
    "start_time": "2022-10-23T18:37:57.459Z"
   },
   {
    "duration": 15,
    "start_time": "2022-10-23T18:37:57.990Z"
   },
   {
    "duration": 6,
    "start_time": "2022-10-23T18:37:58.336Z"
   },
   {
    "duration": 8,
    "start_time": "2022-10-23T18:37:58.699Z"
   },
   {
    "duration": 5,
    "start_time": "2022-10-23T18:37:58.976Z"
   },
   {
    "duration": 4,
    "start_time": "2022-10-23T18:38:32.499Z"
   },
   {
    "duration": 10,
    "start_time": "2022-10-23T18:38:34.046Z"
   },
   {
    "duration": 5,
    "start_time": "2022-10-23T18:38:34.708Z"
   },
   {
    "duration": 4,
    "start_time": "2022-10-23T18:38:52.812Z"
   },
   {
    "duration": 6,
    "start_time": "2022-10-23T18:38:53.479Z"
   },
   {
    "duration": 5,
    "start_time": "2022-10-23T18:38:53.735Z"
   },
   {
    "duration": 3,
    "start_time": "2022-10-23T18:39:43.634Z"
   },
   {
    "duration": 16,
    "start_time": "2022-10-23T18:39:44.203Z"
   },
   {
    "duration": 6,
    "start_time": "2022-10-23T18:39:56.077Z"
   },
   {
    "duration": 707,
    "start_time": "2022-10-23T18:40:03.856Z"
   },
   {
    "duration": 689,
    "start_time": "2022-10-23T18:40:57.432Z"
   },
   {
    "duration": 3,
    "start_time": "2022-10-23T18:41:31.919Z"
   },
   {
    "duration": 22,
    "start_time": "2022-10-23T18:41:33.379Z"
   },
   {
    "duration": 4,
    "start_time": "2022-10-23T18:41:57.311Z"
   },
   {
    "duration": 10,
    "start_time": "2022-10-23T18:41:57.548Z"
   },
   {
    "duration": 573,
    "start_time": "2022-10-23T18:44:09.663Z"
   },
   {
    "duration": 670,
    "start_time": "2022-10-23T18:44:37.712Z"
   },
   {
    "duration": 3,
    "start_time": "2022-10-23T18:46:40.634Z"
   },
   {
    "duration": 9,
    "start_time": "2022-10-23T18:46:41.024Z"
   },
   {
    "duration": 674,
    "start_time": "2022-10-23T18:46:47.757Z"
   },
   {
    "duration": 27,
    "start_time": "2022-10-23T18:48:23.571Z"
   },
   {
    "duration": 3,
    "start_time": "2022-10-23T18:48:24.414Z"
   },
   {
    "duration": 7,
    "start_time": "2022-10-23T18:48:24.654Z"
   },
   {
    "duration": 6,
    "start_time": "2022-10-23T18:48:28.099Z"
   },
   {
    "duration": 7,
    "start_time": "2022-10-23T18:48:29.550Z"
   },
   {
    "duration": 5,
    "start_time": "2022-10-23T18:48:29.865Z"
   },
   {
    "duration": 7,
    "start_time": "2022-10-23T18:48:30.265Z"
   },
   {
    "duration": 5,
    "start_time": "2022-10-23T18:48:30.498Z"
   },
   {
    "duration": 851,
    "start_time": "2022-10-23T18:48:45.014Z"
   },
   {
    "duration": 550,
    "start_time": "2022-10-23T18:48:52.832Z"
   },
   {
    "duration": 3496,
    "start_time": "2022-10-23T19:00:50.147Z"
   },
   {
    "duration": 3559,
    "start_time": "2022-10-23T19:01:13.054Z"
   },
   {
    "duration": 1175,
    "start_time": "2022-10-23T19:01:40.668Z"
   },
   {
    "duration": 1104,
    "start_time": "2022-10-23T19:02:00.508Z"
   },
   {
    "duration": 7185,
    "start_time": "2022-10-23T19:03:31.090Z"
   },
   {
    "duration": 8103,
    "start_time": "2022-10-23T19:04:03.575Z"
   },
   {
    "duration": 4,
    "start_time": "2022-10-23T19:19:19.402Z"
   },
   {
    "duration": 85,
    "start_time": "2022-10-23T19:19:19.703Z"
   },
   {
    "duration": 13,
    "start_time": "2022-10-23T19:19:20.621Z"
   },
   {
    "duration": 14,
    "start_time": "2022-10-23T19:19:20.899Z"
   },
   {
    "duration": 4,
    "start_time": "2022-10-23T19:19:32.657Z"
   },
   {
    "duration": 13,
    "start_time": "2022-10-23T19:19:33.004Z"
   },
   {
    "duration": 13,
    "start_time": "2022-10-23T19:19:33.302Z"
   },
   {
    "duration": 12,
    "start_time": "2022-10-23T19:19:33.596Z"
   },
   {
    "duration": 13,
    "start_time": "2022-10-23T19:28:09.406Z"
   },
   {
    "duration": 3342,
    "start_time": "2022-10-23T19:28:21.803Z"
   },
   {
    "duration": 12654,
    "start_time": "2022-10-23T20:09:19.514Z"
   },
   {
    "duration": 3306,
    "start_time": "2022-10-23T20:09:32.170Z"
   },
   {
    "duration": 842,
    "start_time": "2022-10-23T20:09:35.478Z"
   },
   {
    "duration": 3,
    "start_time": "2022-10-23T20:09:36.321Z"
   },
   {
    "duration": 9846,
    "start_time": "2022-10-23T20:09:36.326Z"
   },
   {
    "duration": 9041,
    "start_time": "2022-10-23T20:09:46.173Z"
   },
   {
    "duration": 10854,
    "start_time": "2022-10-23T20:09:55.215Z"
   },
   {
    "duration": 3,
    "start_time": "2022-10-23T20:10:06.070Z"
   },
   {
    "duration": 16,
    "start_time": "2022-10-23T20:10:06.075Z"
   },
   {
    "duration": 13,
    "start_time": "2022-10-23T20:10:06.092Z"
   },
   {
    "duration": 14,
    "start_time": "2022-10-23T20:10:06.106Z"
   },
   {
    "duration": 2,
    "start_time": "2022-10-23T20:10:06.122Z"
   },
   {
    "duration": 9,
    "start_time": "2022-10-23T20:10:06.126Z"
   },
   {
    "duration": 38,
    "start_time": "2022-10-23T20:10:06.138Z"
   },
   {
    "duration": 26,
    "start_time": "2022-10-23T20:10:06.178Z"
   },
   {
    "duration": 26,
    "start_time": "2022-10-23T20:10:06.206Z"
   },
   {
    "duration": 2,
    "start_time": "2022-10-23T20:10:06.234Z"
   },
   {
    "duration": 9,
    "start_time": "2022-10-23T20:10:06.237Z"
   },
   {
    "duration": 59,
    "start_time": "2022-10-23T20:10:06.247Z"
   },
   {
    "duration": 104,
    "start_time": "2022-10-23T20:10:06.308Z"
   },
   {
    "duration": 92,
    "start_time": "2022-10-23T20:10:06.414Z"
   },
   {
    "duration": 226,
    "start_time": "2022-10-23T20:10:06.508Z"
   },
   {
    "duration": 13,
    "start_time": "2022-10-23T20:10:06.735Z"
   },
   {
    "duration": 16,
    "start_time": "2022-10-23T20:10:06.750Z"
   },
   {
    "duration": 10,
    "start_time": "2022-10-23T20:10:06.768Z"
   },
   {
    "duration": 6,
    "start_time": "2022-10-23T20:10:06.779Z"
   },
   {
    "duration": 9,
    "start_time": "2022-10-23T20:10:06.787Z"
   },
   {
    "duration": 10,
    "start_time": "2022-10-23T20:10:06.797Z"
   },
   {
    "duration": 13,
    "start_time": "2022-10-23T20:10:06.809Z"
   },
   {
    "duration": 9,
    "start_time": "2022-10-23T20:10:06.823Z"
   },
   {
    "duration": 8,
    "start_time": "2022-10-23T20:10:06.833Z"
   },
   {
    "duration": 6,
    "start_time": "2022-10-23T20:10:06.843Z"
   },
   {
    "duration": 4,
    "start_time": "2022-10-23T20:10:06.851Z"
   },
   {
    "duration": 43,
    "start_time": "2022-10-23T20:10:06.857Z"
   },
   {
    "duration": 4,
    "start_time": "2022-10-23T20:13:27.879Z"
   },
   {
    "duration": 6,
    "start_time": "2022-10-23T20:13:31.047Z"
   },
   {
    "duration": 3,
    "start_time": "2022-10-23T20:13:41.697Z"
   },
   {
    "duration": 171,
    "start_time": "2022-10-23T20:13:42.212Z"
   },
   {
    "duration": 4,
    "start_time": "2022-10-23T20:13:42.993Z"
   },
   {
    "duration": 3,
    "start_time": "2022-10-23T20:13:57.389Z"
   },
   {
    "duration": 6,
    "start_time": "2022-10-23T20:14:14.677Z"
   },
   {
    "duration": 5,
    "start_time": "2022-10-23T20:14:15.425Z"
   },
   {
    "duration": 4,
    "start_time": "2022-10-23T20:14:24.607Z"
   },
   {
    "duration": 20,
    "start_time": "2022-10-23T20:14:24.945Z"
   },
   {
    "duration": 4,
    "start_time": "2022-10-23T20:14:25.178Z"
   },
   {
    "duration": 3,
    "start_time": "2022-10-23T20:14:29.907Z"
   },
   {
    "duration": 7,
    "start_time": "2022-10-23T20:14:30.062Z"
   },
   {
    "duration": 4,
    "start_time": "2022-10-23T20:14:31.165Z"
   },
   {
    "duration": 3,
    "start_time": "2022-10-23T20:14:37.186Z"
   },
   {
    "duration": 7,
    "start_time": "2022-10-23T20:14:37.357Z"
   },
   {
    "duration": 5,
    "start_time": "2022-10-23T20:14:37.557Z"
   },
   {
    "duration": 3,
    "start_time": "2022-10-23T20:14:56.478Z"
   },
   {
    "duration": 6,
    "start_time": "2022-10-23T20:14:57.202Z"
   },
   {
    "duration": 4,
    "start_time": "2022-10-23T20:14:57.397Z"
   },
   {
    "duration": 6,
    "start_time": "2022-10-23T20:14:59.127Z"
   },
   {
    "duration": 5,
    "start_time": "2022-10-23T20:14:59.253Z"
   },
   {
    "duration": 7,
    "start_time": "2022-10-23T20:15:03.468Z"
   },
   {
    "duration": 4,
    "start_time": "2022-10-23T20:15:03.752Z"
   },
   {
    "duration": 7,
    "start_time": "2022-10-23T20:15:04.047Z"
   },
   {
    "duration": 5,
    "start_time": "2022-10-23T20:15:04.649Z"
   },
   {
    "duration": 4,
    "start_time": "2022-10-23T20:15:09.074Z"
   },
   {
    "duration": 18,
    "start_time": "2022-10-23T20:15:09.261Z"
   },
   {
    "duration": 13,
    "start_time": "2022-10-23T20:15:09.441Z"
   },
   {
    "duration": 12,
    "start_time": "2022-10-23T20:15:09.789Z"
   },
   {
    "duration": 2,
    "start_time": "2022-10-23T20:15:10.678Z"
   },
   {
    "duration": 4,
    "start_time": "2022-10-23T20:15:11.500Z"
   },
   {
    "duration": 4,
    "start_time": "2022-10-23T20:15:11.670Z"
   },
   {
    "duration": 5,
    "start_time": "2022-10-23T20:15:12.263Z"
   },
   {
    "duration": 3,
    "start_time": "2022-10-23T20:15:14.897Z"
   },
   {
    "duration": 6,
    "start_time": "2022-10-23T20:15:15.138Z"
   },
   {
    "duration": 4,
    "start_time": "2022-10-23T20:15:15.332Z"
   },
   {
    "duration": 6,
    "start_time": "2022-10-23T20:15:15.735Z"
   },
   {
    "duration": 4,
    "start_time": "2022-10-23T20:15:17.167Z"
   },
   {
    "duration": 3,
    "start_time": "2022-10-23T20:15:28.797Z"
   },
   {
    "duration": 7,
    "start_time": "2022-10-23T20:15:29.077Z"
   },
   {
    "duration": 4,
    "start_time": "2022-10-23T20:15:29.457Z"
   },
   {
    "duration": 2,
    "start_time": "2022-10-23T20:15:32.748Z"
   },
   {
    "duration": 6,
    "start_time": "2022-10-23T20:15:32.917Z"
   },
   {
    "duration": 5,
    "start_time": "2022-10-23T20:15:33.131Z"
   },
   {
    "duration": 7,
    "start_time": "2022-10-23T20:15:33.834Z"
   },
   {
    "duration": 7,
    "start_time": "2022-10-23T20:17:42.256Z"
   },
   {
    "duration": 5,
    "start_time": "2022-10-23T20:17:42.467Z"
   },
   {
    "duration": 3,
    "start_time": "2022-10-23T20:17:44.616Z"
   },
   {
    "duration": 6,
    "start_time": "2022-10-23T20:17:44.835Z"
   },
   {
    "duration": 4,
    "start_time": "2022-10-23T20:17:44.985Z"
   },
   {
    "duration": 7,
    "start_time": "2022-10-23T20:17:45.177Z"
   },
   {
    "duration": 5,
    "start_time": "2022-10-23T20:17:45.367Z"
   },
   {
    "duration": 6,
    "start_time": "2022-10-23T20:17:45.577Z"
   },
   {
    "duration": 4,
    "start_time": "2022-10-23T20:17:45.755Z"
   },
   {
    "duration": 3,
    "start_time": "2022-10-23T20:18:16.687Z"
   },
   {
    "duration": 17,
    "start_time": "2022-10-23T20:18:16.877Z"
   },
   {
    "duration": 4,
    "start_time": "2022-10-23T20:18:17.215Z"
   },
   {
    "duration": 19,
    "start_time": "2022-10-23T20:18:17.397Z"
   },
   {
    "duration": 3,
    "start_time": "2022-10-23T20:18:21.627Z"
   },
   {
    "duration": 17,
    "start_time": "2022-10-23T20:18:21.845Z"
   },
   {
    "duration": 4,
    "start_time": "2022-10-23T20:18:22.036Z"
   },
   {
    "duration": 20,
    "start_time": "2022-10-23T20:18:22.226Z"
   },
   {
    "duration": 5,
    "start_time": "2022-10-23T20:18:33.076Z"
   },
   {
    "duration": 6,
    "start_time": "2022-10-23T20:18:33.274Z"
   },
   {
    "duration": 4,
    "start_time": "2022-10-23T20:18:33.467Z"
   },
   {
    "duration": 6,
    "start_time": "2022-10-23T20:18:33.757Z"
   },
   {
    "duration": 4,
    "start_time": "2022-10-23T20:18:33.995Z"
   },
   {
    "duration": 7,
    "start_time": "2022-10-23T20:18:34.197Z"
   },
   {
    "duration": 5,
    "start_time": "2022-10-23T20:18:34.397Z"
   },
   {
    "duration": 3316,
    "start_time": "2022-10-23T20:30:46.697Z"
   },
   {
    "duration": 3615,
    "start_time": "2022-10-23T20:30:58.744Z"
   },
   {
    "duration": 3552,
    "start_time": "2022-10-23T20:31:16.567Z"
   },
   {
    "duration": 14,
    "start_time": "2022-10-23T20:31:36.416Z"
   },
   {
    "duration": 22,
    "start_time": "2022-10-23T20:31:45.734Z"
   },
   {
    "duration": 22,
    "start_time": "2022-10-23T20:31:48.216Z"
   },
   {
    "duration": 19,
    "start_time": "2022-10-23T20:31:50.427Z"
   },
   {
    "duration": 22,
    "start_time": "2022-10-23T20:31:58.336Z"
   },
   {
    "duration": 2775,
    "start_time": "2022-10-23T20:32:15.556Z"
   },
   {
    "duration": 6,
    "start_time": "2022-10-23T20:32:25.777Z"
   },
   {
    "duration": 3,
    "start_time": "2022-10-23T20:32:30.942Z"
   },
   {
    "duration": 3,
    "start_time": "2022-10-23T20:32:40.280Z"
   },
   {
    "duration": 2940,
    "start_time": "2022-10-23T20:32:40.656Z"
   },
   {
    "duration": 4,
    "start_time": "2022-10-23T20:32:49.146Z"
   },
   {
    "duration": 5,
    "start_time": "2022-10-23T20:32:49.326Z"
   },
   {
    "duration": 5,
    "start_time": "2022-10-23T20:32:49.516Z"
   },
   {
    "duration": 6,
    "start_time": "2022-10-23T20:32:49.716Z"
   },
   {
    "duration": 5,
    "start_time": "2022-10-23T20:32:49.916Z"
   },
   {
    "duration": 6,
    "start_time": "2022-10-23T20:32:50.126Z"
   },
   {
    "duration": 5,
    "start_time": "2022-10-23T20:32:50.866Z"
   },
   {
    "duration": 3,
    "start_time": "2022-10-23T20:32:51.614Z"
   },
   {
    "duration": 2,
    "start_time": "2022-10-23T20:32:52.307Z"
   },
   {
    "duration": 683,
    "start_time": "2022-10-23T20:32:56.904Z"
   },
   {
    "duration": 745,
    "start_time": "2022-10-23T20:33:02.944Z"
   },
   {
    "duration": 5,
    "start_time": "2022-10-23T21:07:27.606Z"
   },
   {
    "duration": 3,
    "start_time": "2022-10-23T21:07:31.432Z"
   },
   {
    "duration": 7,
    "start_time": "2022-10-23T21:07:31.766Z"
   },
   {
    "duration": 4,
    "start_time": "2022-10-23T21:07:31.964Z"
   },
   {
    "duration": 4,
    "start_time": "2022-10-23T21:07:34.864Z"
   },
   {
    "duration": 3,
    "start_time": "2022-10-23T21:07:37.858Z"
   },
   {
    "duration": 6,
    "start_time": "2022-10-23T21:07:38.231Z"
   },
   {
    "duration": 4,
    "start_time": "2022-10-23T21:07:38.432Z"
   },
   {
    "duration": 6,
    "start_time": "2022-10-23T21:07:38.646Z"
   },
   {
    "duration": 5,
    "start_time": "2022-10-23T21:07:38.864Z"
   },
   {
    "duration": 6,
    "start_time": "2022-10-23T21:07:39.067Z"
   },
   {
    "duration": 5,
    "start_time": "2022-10-23T21:07:39.657Z"
   },
   {
    "duration": 3,
    "start_time": "2022-10-23T21:11:35.184Z"
   },
   {
    "duration": 6,
    "start_time": "2022-10-23T21:11:35.536Z"
   },
   {
    "duration": 4,
    "start_time": "2022-10-23T21:11:35.716Z"
   },
   {
    "duration": 6,
    "start_time": "2022-10-23T21:11:35.886Z"
   },
   {
    "duration": 5,
    "start_time": "2022-10-23T21:11:36.066Z"
   },
   {
    "duration": 7,
    "start_time": "2022-10-23T21:11:36.236Z"
   },
   {
    "duration": 5,
    "start_time": "2022-10-23T21:11:36.407Z"
   },
   {
    "duration": 14587,
    "start_time": "2022-10-24T06:41:25.827Z"
   },
   {
    "duration": 2128,
    "start_time": "2022-10-24T06:41:40.416Z"
   },
   {
    "duration": 3,
    "start_time": "2022-10-24T06:41:43.236Z"
   },
   {
    "duration": 147,
    "start_time": "2022-10-24T06:41:43.959Z"
   },
   {
    "duration": 12,
    "start_time": "2022-10-24T06:41:44.228Z"
   },
   {
    "duration": 3,
    "start_time": "2022-10-24T06:41:57.224Z"
   },
   {
    "duration": 11,
    "start_time": "2022-10-24T06:42:01.181Z"
   },
   {
    "duration": 4,
    "start_time": "2022-10-24T06:42:06.992Z"
   },
   {
    "duration": 1591,
    "start_time": "2022-10-24T06:42:08.588Z"
   },
   {
    "duration": 1955,
    "start_time": "2022-10-24T06:42:14.506Z"
   },
   {
    "duration": 347,
    "start_time": "2022-10-24T06:42:20.003Z"
   },
   {
    "duration": 3,
    "start_time": "2022-10-24T06:42:21.734Z"
   },
   {
    "duration": 9730,
    "start_time": "2022-10-24T06:42:22.370Z"
   },
   {
    "duration": 8826,
    "start_time": "2022-10-24T06:42:32.102Z"
   },
   {
    "duration": 9010,
    "start_time": "2022-10-24T06:42:40.930Z"
   },
   {
    "duration": 3,
    "start_time": "2022-10-24T06:42:49.942Z"
   },
   {
    "duration": 15,
    "start_time": "2022-10-24T06:42:51.856Z"
   },
   {
    "duration": 11,
    "start_time": "2022-10-24T06:42:52.465Z"
   },
   {
    "duration": 15,
    "start_time": "2022-10-24T06:42:52.756Z"
   },
   {
    "duration": 3,
    "start_time": "2022-10-24T06:42:54.477Z"
   },
   {
    "duration": 4,
    "start_time": "2022-10-24T06:42:54.727Z"
   },
   {
    "duration": 33,
    "start_time": "2022-10-24T06:42:55.534Z"
   },
   {
    "duration": 27,
    "start_time": "2022-10-24T06:42:55.894Z"
   },
   {
    "duration": 28,
    "start_time": "2022-10-24T06:42:56.198Z"
   },
   {
    "duration": 3,
    "start_time": "2022-10-24T06:42:58.409Z"
   },
   {
    "duration": 3,
    "start_time": "2022-10-24T06:42:59.006Z"
   },
   {
    "duration": 101,
    "start_time": "2022-10-24T06:42:59.908Z"
   },
   {
    "duration": 12,
    "start_time": "2022-10-24T06:43:00.498Z"
   },
   {
    "duration": 12,
    "start_time": "2022-10-24T06:43:00.951Z"
   },
   {
    "duration": 3,
    "start_time": "2022-10-24T06:43:02.948Z"
   },
   {
    "duration": 4,
    "start_time": "2022-10-24T06:43:09.639Z"
   },
   {
    "duration": 4,
    "start_time": "2022-10-24T06:43:10.312Z"
   },
   {
    "duration": 5,
    "start_time": "2022-10-24T06:43:10.746Z"
   },
   {
    "duration": 3,
    "start_time": "2022-10-24T06:43:17.702Z"
   },
   {
    "duration": 6,
    "start_time": "2022-10-24T06:43:20.921Z"
   },
   {
    "duration": 5,
    "start_time": "2022-10-24T06:43:21.930Z"
   },
   {
    "duration": 7,
    "start_time": "2022-10-24T06:43:27.866Z"
   },
   {
    "duration": 5,
    "start_time": "2022-10-24T06:43:28.284Z"
   },
   {
    "duration": 8,
    "start_time": "2022-10-24T06:43:29.760Z"
   },
   {
    "duration": 5,
    "start_time": "2022-10-24T06:43:30.116Z"
   },
   {
    "duration": 4,
    "start_time": "2022-10-24T06:44:09.700Z"
   },
   {
    "duration": 5,
    "start_time": "2022-10-24T06:44:35.545Z"
   },
   {
    "duration": 3,
    "start_time": "2022-10-24T06:45:18.704Z"
   },
   {
    "duration": 4,
    "start_time": "2022-10-24T06:45:29.859Z"
   },
   {
    "duration": 116,
    "start_time": "2022-10-24T06:45:37.454Z"
   },
   {
    "duration": 4,
    "start_time": "2022-10-24T06:45:53.548Z"
   },
   {
    "duration": 4,
    "start_time": "2022-10-24T06:46:02.514Z"
   },
   {
    "duration": 5,
    "start_time": "2022-10-24T06:46:09.628Z"
   },
   {
    "duration": 5,
    "start_time": "2022-10-24T06:46:15.302Z"
   },
   {
    "duration": 22,
    "start_time": "2022-10-24T06:50:08.836Z"
   },
   {
    "duration": 3,
    "start_time": "2022-10-24T06:50:13.960Z"
   },
   {
    "duration": 2982,
    "start_time": "2022-10-24T06:50:15.798Z"
   },
   {
    "duration": 4,
    "start_time": "2022-10-24T06:51:34.950Z"
   },
   {
    "duration": 4,
    "start_time": "2022-10-24T06:51:48.739Z"
   },
   {
    "duration": 2809,
    "start_time": "2022-10-24T06:54:24.747Z"
   },
   {
    "duration": 3,
    "start_time": "2022-10-24T06:55:42.574Z"
   },
   {
    "duration": 2763,
    "start_time": "2022-10-24T06:55:42.996Z"
   },
   {
    "duration": 2827,
    "start_time": "2022-10-24T06:56:15.001Z"
   },
   {
    "duration": 2782,
    "start_time": "2022-10-24T06:56:17.830Z"
   },
   {
    "duration": 2786,
    "start_time": "2022-10-24T06:56:29.683Z"
   },
   {
    "duration": 2909,
    "start_time": "2022-10-24T06:56:39.009Z"
   },
   {
    "duration": 2862,
    "start_time": "2022-10-24T06:56:46.536Z"
   },
   {
    "duration": 3,
    "start_time": "2022-10-24T06:58:09.665Z"
   },
   {
    "duration": 2809,
    "start_time": "2022-10-24T06:58:10.311Z"
   },
   {
    "duration": 2741,
    "start_time": "2022-10-24T06:58:13.123Z"
   },
   {
    "duration": 2869,
    "start_time": "2022-10-24T06:58:15.865Z"
   },
   {
    "duration": 6,
    "start_time": "2022-10-24T06:58:23.131Z"
   },
   {
    "duration": 4,
    "start_time": "2022-10-24T06:58:34.235Z"
   },
   {
    "duration": 4,
    "start_time": "2022-10-24T07:14:20.873Z"
   },
   {
    "duration": 6,
    "start_time": "2022-10-24T07:14:23.151Z"
   },
   {
    "duration": 5,
    "start_time": "2022-10-24T07:14:23.562Z"
   },
   {
    "duration": 3,
    "start_time": "2022-10-24T07:14:30.302Z"
   },
   {
    "duration": 6,
    "start_time": "2022-10-24T07:14:31.494Z"
   },
   {
    "duration": 4,
    "start_time": "2022-10-24T07:14:31.751Z"
   },
   {
    "duration": 4,
    "start_time": "2022-10-24T07:18:40.773Z"
   },
   {
    "duration": 3454,
    "start_time": "2022-10-24T07:18:41.151Z"
   },
   {
    "duration": 4,
    "start_time": "2022-10-24T07:18:55.622Z"
   },
   {
    "duration": 2887,
    "start_time": "2022-10-24T07:18:56.120Z"
   },
   {
    "duration": 111,
    "start_time": "2022-10-24T08:14:21.614Z"
   },
   {
    "duration": 3,
    "start_time": "2022-10-24T08:14:28.927Z"
   },
   {
    "duration": 2961,
    "start_time": "2022-10-24T08:14:30.646Z"
   },
   {
    "duration": 3,
    "start_time": "2022-10-24T08:15:45.515Z"
   },
   {
    "duration": 2858,
    "start_time": "2022-10-24T08:15:46.401Z"
   },
   {
    "duration": 3,
    "start_time": "2022-10-24T08:16:19.430Z"
   },
   {
    "duration": 6,
    "start_time": "2022-10-24T08:16:20.744Z"
   },
   {
    "duration": 4,
    "start_time": "2022-10-24T08:16:21.088Z"
   },
   {
    "duration": 7,
    "start_time": "2022-10-24T08:16:23.099Z"
   },
   {
    "duration": 4,
    "start_time": "2022-10-24T08:16:23.420Z"
   },
   {
    "duration": 6,
    "start_time": "2022-10-24T08:16:24.690Z"
   },
   {
    "duration": 4,
    "start_time": "2022-10-24T08:16:25.042Z"
   },
   {
    "duration": 4,
    "start_time": "2022-10-24T08:16:30.881Z"
   },
   {
    "duration": 2821,
    "start_time": "2022-10-24T08:16:31.587Z"
   },
   {
    "duration": 4,
    "start_time": "2022-10-24T08:18:21.873Z"
   },
   {
    "duration": 3168,
    "start_time": "2022-10-24T08:18:22.986Z"
   },
   {
    "duration": 3,
    "start_time": "2022-10-24T08:24:23.666Z"
   },
   {
    "duration": 287,
    "start_time": "2022-10-24T08:24:25.020Z"
   },
   {
    "duration": 3,
    "start_time": "2022-10-24T08:24:27.072Z"
   },
   {
    "duration": 8572,
    "start_time": "2022-10-24T08:24:27.702Z"
   },
   {
    "duration": 8598,
    "start_time": "2022-10-24T08:24:36.276Z"
   },
   {
    "duration": 8736,
    "start_time": "2022-10-24T08:24:44.875Z"
   },
   {
    "duration": 3,
    "start_time": "2022-10-24T08:24:53.613Z"
   },
   {
    "duration": 11,
    "start_time": "2022-10-24T08:24:55.960Z"
   },
   {
    "duration": 11,
    "start_time": "2022-10-24T08:24:56.403Z"
   },
   {
    "duration": 11,
    "start_time": "2022-10-24T08:24:56.740Z"
   },
   {
    "duration": 3,
    "start_time": "2022-10-24T08:24:58.094Z"
   },
   {
    "duration": 3,
    "start_time": "2022-10-24T08:24:58.590Z"
   },
   {
    "duration": 29,
    "start_time": "2022-10-24T08:25:00.761Z"
   },
   {
    "duration": 30,
    "start_time": "2022-10-24T08:25:01.596Z"
   },
   {
    "duration": 29,
    "start_time": "2022-10-24T08:25:02.317Z"
   },
   {
    "duration": 3,
    "start_time": "2022-10-24T08:25:04.861Z"
   },
   {
    "duration": 4,
    "start_time": "2022-10-24T08:25:05.661Z"
   },
   {
    "duration": 18,
    "start_time": "2022-10-24T08:25:06.998Z"
   },
   {
    "duration": 12,
    "start_time": "2022-10-24T08:25:07.287Z"
   },
   {
    "duration": 19,
    "start_time": "2022-10-24T08:25:07.558Z"
   },
   {
    "duration": 14,
    "start_time": "2022-10-24T08:26:17.756Z"
   },
   {
    "duration": 525,
    "start_time": "2022-10-24T08:26:47.703Z"
   },
   {
    "duration": 87,
    "start_time": "2022-10-24T08:27:08.294Z"
   },
   {
    "duration": 69,
    "start_time": "2022-10-24T08:27:13.044Z"
   },
   {
    "duration": 492,
    "start_time": "2022-10-24T08:27:27.970Z"
   },
   {
    "duration": 12,
    "start_time": "2022-10-24T08:27:45.938Z"
   },
   {
    "duration": 7,
    "start_time": "2022-10-24T08:27:59.509Z"
   },
   {
    "duration": 4,
    "start_time": "2022-10-24T08:29:02.897Z"
   },
   {
    "duration": 5,
    "start_time": "2022-10-24T08:29:03.877Z"
   },
   {
    "duration": 4,
    "start_time": "2022-10-24T08:29:04.984Z"
   },
   {
    "duration": 3,
    "start_time": "2022-10-24T08:30:13.132Z"
   },
   {
    "duration": 4,
    "start_time": "2022-10-24T08:30:18.443Z"
   },
   {
    "duration": 3133,
    "start_time": "2022-10-24T08:30:19.345Z"
   },
   {
    "duration": 4,
    "start_time": "2022-10-24T08:32:20.317Z"
   },
   {
    "duration": 4,
    "start_time": "2022-10-24T08:32:23.888Z"
   },
   {
    "duration": 2821,
    "start_time": "2022-10-24T08:32:24.300Z"
   },
   {
    "duration": 90,
    "start_time": "2022-10-24T08:34:41.610Z"
   },
   {
    "duration": 3,
    "start_time": "2022-10-24T08:34:45.060Z"
   },
   {
    "duration": 21,
    "start_time": "2022-10-24T08:34:46.375Z"
   },
   {
    "duration": 3,
    "start_time": "2022-10-24T08:35:47.174Z"
   },
   {
    "duration": 6,
    "start_time": "2022-10-24T08:35:48.425Z"
   },
   {
    "duration": 4,
    "start_time": "2022-10-24T08:35:49.340Z"
   },
   {
    "duration": 3,
    "start_time": "2022-10-24T08:35:57.963Z"
   },
   {
    "duration": 6,
    "start_time": "2022-10-24T08:35:58.714Z"
   },
   {
    "duration": 4,
    "start_time": "2022-10-24T08:35:59.041Z"
   },
   {
    "duration": 4,
    "start_time": "2022-10-24T08:37:26.649Z"
   },
   {
    "duration": 19,
    "start_time": "2022-10-24T08:37:27.115Z"
   },
   {
    "duration": 4,
    "start_time": "2022-10-24T08:37:44.318Z"
   },
   {
    "duration": 20,
    "start_time": "2022-10-24T08:37:44.838Z"
   },
   {
    "duration": 4,
    "start_time": "2022-10-24T08:38:09.706Z"
   },
   {
    "duration": 2954,
    "start_time": "2022-10-24T08:38:10.422Z"
   },
   {
    "duration": 4,
    "start_time": "2022-10-24T08:38:24.477Z"
   },
   {
    "duration": 2854,
    "start_time": "2022-10-24T08:38:25.211Z"
   },
   {
    "duration": 4,
    "start_time": "2022-10-24T08:59:47.271Z"
   },
   {
    "duration": 761,
    "start_time": "2022-10-24T08:59:47.620Z"
   },
   {
    "duration": 699,
    "start_time": "2022-10-24T08:59:51.566Z"
   },
   {
    "duration": 715,
    "start_time": "2022-10-24T08:59:53.511Z"
   },
   {
    "duration": 7,
    "start_time": "2022-10-24T09:18:27.446Z"
   },
   {
    "duration": 3,
    "start_time": "2022-10-24T09:18:44.228Z"
   },
   {
    "duration": 7,
    "start_time": "2022-10-24T09:18:47.690Z"
   },
   {
    "duration": 709,
    "start_time": "2022-10-24T09:18:56.573Z"
   },
   {
    "duration": 6,
    "start_time": "2022-10-24T09:19:05.281Z"
   },
   {
    "duration": 4,
    "start_time": "2022-10-24T09:19:12.988Z"
   },
   {
    "duration": 4,
    "start_time": "2022-10-24T09:20:22.362Z"
   },
   {
    "duration": 3,
    "start_time": "2022-10-24T09:20:32.389Z"
   },
   {
    "duration": 4,
    "start_time": "2022-10-24T09:20:35.930Z"
   },
   {
    "duration": 5,
    "start_time": "2022-10-24T09:20:58.540Z"
   },
   {
    "duration": 680,
    "start_time": "2022-10-24T09:31:04.492Z"
   },
   {
    "duration": 718,
    "start_time": "2022-10-24T09:31:05.741Z"
   },
   {
    "duration": 708,
    "start_time": "2022-10-24T09:31:06.461Z"
   },
   {
    "duration": 3,
    "start_time": "2022-10-24T09:31:34.587Z"
   },
   {
    "duration": 5,
    "start_time": "2022-10-24T09:31:38.680Z"
   },
   {
    "duration": 5,
    "start_time": "2022-10-24T09:31:53.206Z"
   },
   {
    "duration": 5,
    "start_time": "2022-10-24T09:32:06.898Z"
   },
   {
    "duration": 4,
    "start_time": "2022-10-24T10:29:32.234Z"
   },
   {
    "duration": 727,
    "start_time": "2022-10-24T10:29:33.407Z"
   },
   {
    "duration": 707,
    "start_time": "2022-10-24T10:29:34.136Z"
   },
   {
    "duration": 705,
    "start_time": "2022-10-24T10:29:34.845Z"
   },
   {
    "duration": 5,
    "start_time": "2022-10-24T10:32:31.168Z"
   },
   {
    "duration": 5,
    "start_time": "2022-10-24T10:32:46.058Z"
   },
   {
    "duration": 4,
    "start_time": "2022-10-24T10:33:02.386Z"
   },
   {
    "duration": 5,
    "start_time": "2022-10-24T10:33:07.348Z"
   },
   {
    "duration": 5,
    "start_time": "2022-10-24T10:33:16.645Z"
   },
   {
    "duration": 4,
    "start_time": "2022-10-24T10:33:24.369Z"
   },
   {
    "duration": 5,
    "start_time": "2022-10-24T10:34:25.892Z"
   },
   {
    "duration": 5,
    "start_time": "2022-10-24T10:34:33.844Z"
   },
   {
    "duration": 6,
    "start_time": "2022-10-24T10:34:41.464Z"
   },
   {
    "duration": 5,
    "start_time": "2022-10-24T10:42:47.755Z"
   },
   {
    "duration": 5,
    "start_time": "2022-10-24T10:42:48.185Z"
   },
   {
    "duration": 5,
    "start_time": "2022-10-24T10:42:48.514Z"
   },
   {
    "duration": 5,
    "start_time": "2022-10-24T10:42:53.211Z"
   },
   {
    "duration": 5,
    "start_time": "2022-10-24T10:42:55.748Z"
   },
   {
    "duration": 5,
    "start_time": "2022-10-24T10:42:58.300Z"
   },
   {
    "duration": 109,
    "start_time": "2022-10-24T10:44:37.231Z"
   },
   {
    "duration": 3,
    "start_time": "2022-10-24T10:44:42.891Z"
   },
   {
    "duration": 10,
    "start_time": "2022-10-24T10:44:55.180Z"
   },
   {
    "duration": 3,
    "start_time": "2022-10-24T10:45:00.918Z"
   },
   {
    "duration": 5,
    "start_time": "2022-10-24T10:45:07.249Z"
   },
   {
    "duration": 3,
    "start_time": "2022-10-24T10:45:16.021Z"
   },
   {
    "duration": 4,
    "start_time": "2022-10-24T10:45:16.452Z"
   },
   {
    "duration": 5,
    "start_time": "2022-10-24T10:45:34.579Z"
   },
   {
    "duration": 6,
    "start_time": "2022-10-24T10:45:41.561Z"
   },
   {
    "duration": 3,
    "start_time": "2022-10-24T10:51:36.003Z"
   },
   {
    "duration": 4,
    "start_time": "2022-10-24T10:51:38.879Z"
   },
   {
    "duration": 73,
    "start_time": "2022-10-24T10:51:42.451Z"
   },
   {
    "duration": 3,
    "start_time": "2022-10-24T10:51:45.599Z"
   },
   {
    "duration": 5,
    "start_time": "2022-10-24T10:52:04.974Z"
   },
   {
    "duration": 5,
    "start_time": "2022-10-24T10:52:30.051Z"
   }
  ],
  "kernelspec": {
   "display_name": "Python 3 (ipykernel)",
   "language": "python",
   "name": "python3"
  },
  "language_info": {
   "codemirror_mode": {
    "name": "ipython",
    "version": 3
   },
   "file_extension": ".py",
   "mimetype": "text/x-python",
   "name": "python",
   "nbconvert_exporter": "python",
   "pygments_lexer": "ipython3",
   "version": "3.9.12"
  },
  "toc": {
   "base_numbering": 1,
   "nav_menu": {},
   "number_sections": true,
   "sideBar": true,
   "skip_h1_title": true,
   "title_cell": "Table of Contents",
   "title_sidebar": "Contents",
   "toc_cell": false,
   "toc_position": {},
   "toc_section_display": true,
   "toc_window_display": false
  }
 },
 "nbformat": 4,
 "nbformat_minor": 2
}
