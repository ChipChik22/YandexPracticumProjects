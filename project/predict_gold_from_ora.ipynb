{
 "cells": [
  {
   "cell_type": "markdown",
   "metadata": {},
   "source": [
    "# Восстановление золота из руды"
   ]
  },
  {
   "cell_type": "markdown",
   "metadata": {},
   "source": [
    "**Краткая суть**\n",
    "\n",
    "Необходимо построить модель, которая будет прогнозировать коэффициент восстановления золота из золотосодержащей руды"
   ]
  },
  {
   "cell_type": "markdown",
   "metadata": {},
   "source": [
    "**Описание**\n",
    "\n",
    "Нужно подготовить прототип модели машинного обучения для «Цифры». Компания разрабатывает решения для эффективной работы промышленных предприятий. Модель должна предсказать коэффициент восстановления золота из золотосодержащей руды. Использовать будем данные с параметрами добычи и очистки. \n",
    "В нашем распоряжении сырые данные: их просто выгрузили из хранилища. Прежде чем приступить к построению модели, необходимо их проверить\n"
   ]
  },
  {
   "cell_type": "markdown",
   "metadata": {},
   "source": [
    "**Критерии оценки модели**\n",
    "\n",
    "* нужно будет написать функциию для оценки модели sMAPE\n",
    "* Значение метрики sMAPE на тестовой выборке должно быть наилучшим"
   ]
  },
  {
   "cell_type": "markdown",
   "metadata": {},
   "source": [
    "**План выполнения проекта**\n",
    "\n",
    "1. Подготовить данные;\n",
    "2. Провести исследовательский анализ данных;\n",
    "3. Построить и обучить модель."
   ]
  },
  {
   "cell_type": "markdown",
   "metadata": {},
   "source": [
    "## Импортируем нужные библиотеки и загрузим данные."
   ]
  },
  {
   "cell_type": "code",
   "execution_count": 1,
   "metadata": {},
   "outputs": [],
   "source": [
    "import pandas as pd\n",
    "import numpy as np\n",
    "\n",
    "\n",
    "import matplotlib.pyplot as plt\n",
    "import seaborn as sns\n",
    "\n",
    "from sklearn.preprocessing import StandardScaler\n",
    "\n",
    "from sklearn.model_selection import cross_val_score, GridSearchCV\n",
    "from sklearn.metrics import make_scorer\n",
    "\n",
    "\n",
    "from sklearn.linear_model import LinearRegression\n",
    "from sklearn.ensemble import RandomForestRegressor \n",
    "from sklearn.tree import DecisionTreeRegressor \n",
    "from catboost import CatBoostRegressor\n",
    "from sklearn.dummy import DummyRegressor\n",
    "\n",
    "import optuna\n",
    "\n",
    "import warnings\n",
    "warnings.filterwarnings('ignore')"
   ]
  },
  {
   "cell_type": "markdown",
   "metadata": {},
   "source": [
    "### Изучим данные"
   ]
  },
  {
   "cell_type": "code",
   "execution_count": 2,
   "metadata": {},
   "outputs": [],
   "source": [
    "try:\n",
    "    data_train = pd.read_csv('/datasets/gold_recovery_train_new.csv')\n",
    "    data_test = pd.read_csv('/datasets/gold_recovery_test_new.csv')\n",
    "    data_full = pd.read_csv('/datasets/gold_recovery_full_new.csv')\n",
    "except:\n",
    "    data_train = pd.read_csv('file_for_projects/gold_recovery_train_new.csv')\n",
    "    data_test = pd.read_csv('file_for_projects/gold_recovery_test_new.csv')\n",
    "    data_full = pd.read_csv('file_for_projects/gold_recovery_full_new.csv')"
   ]
  },
  {
   "cell_type": "code",
   "execution_count": 3,
   "metadata": {},
   "outputs": [],
   "source": [
    "def looking_data(data):\n",
    "    data.info(), \n",
    "    display(data.head())"
   ]
  },
  {
   "cell_type": "code",
   "execution_count": 1,
   "metadata": {},
   "outputs": [],
   "source": [
    "#looking_data(data_train)"
   ]
  },
  {
   "cell_type": "code",
   "execution_count": 2,
   "metadata": {},
   "outputs": [],
   "source": [
    "#looking_data(data_test)"
   ]
  },
  {
   "cell_type": "code",
   "execution_count": 3,
   "metadata": {},
   "outputs": [],
   "source": [
    "#looking_data(data_full)"
   ]
  },
  {
   "cell_type": "markdown",
   "metadata": {},
   "source": [
    "Весь датасет содержит 19 439 строк. Он разбит на два в соотношении 70(data_train) к 30(data_test). Имеются пропуски, которые нужно понять как заполнить."
   ]
  },
  {
   "cell_type": "markdown",
   "metadata": {},
   "source": [
    "### Проверим, что эффективность обогащения рассчитана правильно. Для этого напишем функцию, которая будет принимать на вход параметры из data_train и выдавать нам нужный результат"
   ]
  },
  {
   "cell_type": "markdown",
   "metadata": {},
   "source": [
    "#### Определим функцию"
   ]
  },
  {
   "cell_type": "code",
   "execution_count": 7,
   "metadata": {},
   "outputs": [],
   "source": [
    "def count_recovery(C, F, T):\n",
    "    recovery = ((C * (F - T)) / (F * (C - T))) * 100 \n",
    "    return recovery"
   ]
  },
  {
   "cell_type": "markdown",
   "metadata": {},
   "source": [
    "#### выполним рассчёт"
   ]
  },
  {
   "cell_type": "code",
   "execution_count": 8,
   "metadata": {},
   "outputs": [],
   "source": [
    "recovery = count_recovery(data_train['rougher.output.concentrate_au'], \n",
    "                          data_train['rougher.input.feed_au'], \n",
    "                          data_train['rougher.output.tail_au'])"
   ]
  },
  {
   "cell_type": "code",
   "execution_count": 9,
   "metadata": {
    "scrolled": true
   },
   "outputs": [
    {
     "name": "stdout",
     "output_type": "stream",
     "text": [
      "МАЕ между recovery и признаком rougher.output.recovery: -0.0\n"
     ]
    }
   ],
   "source": [
    "print('МАЕ между recovery и признаком rougher.output.recovery:', \n",
    "      round(data_train['rougher.output.recovery'].abs().mean() - recovery.abs().mean(), 0))"
   ]
  },
  {
   "cell_type": "markdown",
   "metadata": {},
   "source": [
    "Эффективность обогащения рассчитана правильно. МАЕ равна 0"
   ]
  },
  {
   "cell_type": "markdown",
   "metadata": {},
   "source": [
    "### Посмотрим на разницу между data_test и data_train"
   ]
  },
  {
   "cell_type": "markdown",
   "metadata": {},
   "source": [
    "- в data_test отсутствуют все признаки со значением блока output. По идее, они и не нужны в тесте, т к мы хотим подавать входные данные, по которым хотим получить оценку.\n",
    "- в data_test отсутствуют признаки со значением блока calculation, по той же самое причине.\n",
    "- оба параметра относятся к финальным данным, которые уже получены или рассчитаны"
   ]
  },
  {
   "cell_type": "markdown",
   "metadata": {},
   "source": [
    "### Произведем предобработку"
   ]
  },
  {
   "cell_type": "markdown",
   "metadata": {},
   "source": [
    "#### Определим функцию для заполнения пропусков. Поскольку у нас в условии сказано, что соседние по времени параметры часто похожи, заполним их в этом соответствии."
   ]
  },
  {
   "cell_type": "code",
   "execution_count": 10,
   "metadata": {},
   "outputs": [],
   "source": [
    "def fix_nan(data):\n",
    "    for i in data.columns:\n",
    "        data[i] = data[i].fillna(method='backfill')\n",
    "    data.info()"
   ]
  },
  {
   "cell_type": "code",
   "execution_count": 4,
   "metadata": {},
   "outputs": [],
   "source": [
    "#fix_nan(data_train)"
   ]
  },
  {
   "cell_type": "code",
   "execution_count": 5,
   "metadata": {},
   "outputs": [],
   "source": [
    "#for i in data_test.columns: # тест заполним нолями, чтобы не \"подсматривать в будущее\"\n",
    "#    data_test[i] = data_test[i].fillna(0)\n",
    "#data_test.info()"
   ]
  },
  {
   "cell_type": "code",
   "execution_count": 6,
   "metadata": {},
   "outputs": [],
   "source": [
    "#fix_nan(data_full)"
   ]
  },
  {
   "cell_type": "markdown",
   "metadata": {},
   "source": [
    "## Анализ данных"
   ]
  },
  {
   "cell_type": "markdown",
   "metadata": {},
   "source": [
    "### Посмотрим, как меняется концентрация металлов (Au, Ag, Pb) на различных этапах очистки. Работать будем с data_full"
   ]
  },
  {
   "cell_type": "code",
   "execution_count": 14,
   "metadata": {},
   "outputs": [],
   "source": [
    "def checking_concentrate(a, b, c, d):\n",
    "    a.hist(bins=90, \n",
    "           color='orange', \n",
    "           legend=True, \n",
    "           figsize=(15,9),\n",
    "           alpha=0.5)\n",
    "    b.hist(bins=90,\n",
    "           color='red', \n",
    "           legend=True, \n",
    "           figsize=(15,9), \n",
    "           alpha=0.5)\n",
    "    c.hist(bins=90, \n",
    "           color='blue', \n",
    "           legend=True, \n",
    "           figsize=(15,9),\n",
    "           alpha=0.5),\n",
    "    d.hist(bins=90, \n",
    "           color='grey', \n",
    "           legend=True, \n",
    "           figsize=(15,9),\n",
    "           alpha=0.5)\n",
    "    plt.title('График изменения концентрации вещества на различных этапах очистки')\n",
    "    plt.show()\n",
    "    "
   ]
  },
  {
   "cell_type": "code",
   "execution_count": 15,
   "metadata": {},
   "outputs": [
    {
     "data": {
      "image/png": "[encoded data removed]",
      "text/plain": [
       "<Figure size 1080x648 with 1 Axes>"
      ]
     },
     "metadata": {
      "needs_background": "light"
     },
     "output_type": "display_data"
    }
   ],
   "source": [
    "checking_concentrate(data_full['rougher.output.concentrate_ag'],\n",
    "                    data_full['primary_cleaner.output.concentrate_ag'],\n",
    "                    data_full['final.output.concentrate_ag'],\n",
    "                    data_full['rougher.input.feed_ag'])"
   ]
  },
  {
   "cell_type": "markdown",
   "metadata": {},
   "source": [
    " Здесь мы можем наблюдать график концентрации серебра на различных этапах очистки.\n",
    " \n",
    "- <span style=\"color:grey\">серый</span> это начальный концентрат серебра\n",
    "- <span style=\"color:orange\">оранжевый</span> это черновой концентрат серебра\n",
    "- <span style=\"color:red\">красный</span> это концентрат серебра после первой очистки\n",
    "- <span style=\"color:blue\">синий</span> это финальный концентрат серебра\n",
    "\n",
    "\n",
    "Как мы можем заметить, концентрация уменьшается от начального этапа к финальному. На графике видно, что концентрация серебра в сырье совпадает с концентрацией после первичной очистки. Имеются аномалии в районе 0, что может говорить нам о сбое измеряющего прибора"
   ]
  },
  {
   "cell_type": "code",
   "execution_count": 16,
   "metadata": {},
   "outputs": [
    {
     "data": {
      "image/png": "[encoded data removed]",
      "text/plain": [
       "<Figure size 1080x648 with 1 Axes>"
      ]
     },
     "metadata": {
      "needs_background": "light"
     },
     "output_type": "display_data"
    }
   ],
   "source": [
    "checking_concentrate(data_full['rougher.output.concentrate_au'],\n",
    "                    data_full['primary_cleaner.output.concentrate_au'],\n",
    "                    data_full['final.output.concentrate_au'],\n",
    "                    data_full['rougher.input.feed_au'])"
   ]
  },
  {
   "cell_type": "markdown",
   "metadata": {},
   "source": [
    " Здесь мы можем наблюдать график концентрации серебра на различных этапах очиски.\n",
    "- <span style=\"color:grey\">серый</span> это начальный концентрат золота\n",
    "- <span style=\"color:orange\">оранжевый</span> это черновой концентрат золота\n",
    "- <span style=\"color:red\">красный</span> это концентрат золота после первой очистки\n",
    "- <span style=\"color:blue\">синий</span> это финальный концентрат золота\n",
    "\n",
    "\n",
    "Как мы можем заметить, концентрация увеличивается от начального этапа к финальному. График сильно отличается от графика серебра, выделяются четкие разделения. Здесь тоже есть аномалия в районе 0, прибор сбоит."
   ]
  },
  {
   "cell_type": "code",
   "execution_count": 17,
   "metadata": {},
   "outputs": [
    {
     "data": {
      "image/png": "[encoded data removed]",
      "text/plain": [
       "<Figure size 1080x648 with 1 Axes>"
      ]
     },
     "metadata": {
      "needs_background": "light"
     },
     "output_type": "display_data"
    }
   ],
   "source": [
    "checking_concentrate(data_full['rougher.output.concentrate_pb'],\n",
    "                    data_full['primary_cleaner.output.concentrate_pb'],\n",
    "                    data_full['final.output.concentrate_pb'],\n",
    "                    data_full['rougher.input.feed_pb'])"
   ]
  },
  {
   "cell_type": "markdown",
   "metadata": {},
   "source": [
    " Здесь мы можем наблюдать график концентрации свинца на различных этапах очиски.\n",
    "- <span style=\"color:grey\">серый</span> это начальный концентрат свинца \n",
    "- <span style=\"color:orange\">оранжевый</span> это черновой концентрат свинца\n",
    "- <span style=\"color:red\">красный</span> это концентрат свинца после первой очистки\n",
    "- <span style=\"color:blue\">синий</span> это финальный концентрат свинца\n",
    "\n",
    "Можно заметить, что какого-то явного изменения, как у золота или серебра, не происходит к завершению, но стоит отметить, что концентрация сокращается. Аномалии в районе 0 присутствуют"
   ]
  },
  {
   "cell_type": "code",
   "execution_count": 18,
   "metadata": {},
   "outputs": [
    {
     "data": {
      "image/png": "[encoded data removed]",
      "text/plain": [
       "<Figure size 1080x648 with 1 Axes>"
      ]
     },
     "metadata": {
      "needs_background": "light"
     },
     "output_type": "display_data"
    }
   ],
   "source": [
    "checking_concentrate(data_full['rougher.output.concentrate_sol'],\n",
    "                    data_full['primary_cleaner.output.concentrate_sol'],\n",
    "                    data_full['final.output.concentrate_sol'],\n",
    "                    data_full['rougher.input.feed_sol'])"
   ]
  },
  {
   "cell_type": "markdown",
   "metadata": {},
   "source": [
    " Здесь мы можем наблюдать график концентрации прочих примесей на различных этапах очиски. Он для нас не важен, мы просто посмотрим на изменения\n",
    "- <span style=\"color:grey\">серый</span> это начальный концентрат прочих примесей \n",
    "- <span style=\"color:orange\">оранжевый</span> это черновой концентрат прочих примесей\n",
    "- <span style=\"color:red\">красный</span> это концентрат прочих примесей после первой очистки\n",
    "- <span style=\"color:blue\">синий</span> это финальный концентрат прочих примесей\n",
    "\n",
    "Как мы видим, примесей сильно много в черновом продукте, затем следует уменьшение, практически в 2 раза. И аномалии есть тоже"
   ]
  },
  {
   "cell_type": "markdown",
   "metadata": {},
   "source": [
    "#### Исследуем суммарную концентрацию всех веществ на разных стадиях: в сырье, в черновом и финальном концентратах."
   ]
  },
  {
   "cell_type": "markdown",
   "metadata": {},
   "source": [
    "##### Создадим столбец с сумарной концентрацией веществ в сырье "
   ]
  },
  {
   "cell_type": "code",
   "execution_count": 19,
   "metadata": {},
   "outputs": [],
   "source": [
    "data_full['full_rougher.input'] = \\\n",
    "      data_full['rougher.input.feed_ag']\\\n",
    "    + data_full['rougher.input.feed_au']\\\n",
    "    + data_full['rougher.input.feed_pb']\\\n",
    "    + data_full['rougher.input.feed_sol']"
   ]
  },
  {
   "cell_type": "markdown",
   "metadata": {},
   "source": [
    "##### Создадим столбец с сумарной концентрацией веществ в черновом концентрате"
   ]
  },
  {
   "cell_type": "code",
   "execution_count": 20,
   "metadata": {},
   "outputs": [],
   "source": [
    "data_full['full_concentrate_rougher'] = \\\n",
    "      data_full['rougher.output.concentrate_ag']\\\n",
    "    + data_full['rougher.output.concentrate_au']\\\n",
    "    + data_full['rougher.output.concentrate_pb']\\\n",
    "    + data_full['rougher.output.concentrate_sol']"
   ]
  },
  {
   "cell_type": "markdown",
   "metadata": {},
   "source": [
    "##### Создадим столбец с сумарной концентрацией веществ в финальном продукте"
   ]
  },
  {
   "cell_type": "code",
   "execution_count": 21,
   "metadata": {},
   "outputs": [],
   "source": [
    "data_full['full_concentrate_output'] = \\\n",
    "      data_full['final.output.concentrate_ag']\\\n",
    "    + data_full['final.output.concentrate_au']\\\n",
    "    + data_full['final.output.concentrate_pb']\\\n",
    "    + data_full['final.output.concentrate_sol']"
   ]
  },
  {
   "cell_type": "markdown",
   "metadata": {},
   "source": [
    "#### Построим график по нашим новым столбцам"
   ]
  },
  {
   "cell_type": "code",
   "execution_count": 22,
   "metadata": {},
   "outputs": [
    {
     "data": {
      "image/png": "[encoded data removed]",
      "text/plain": [
       "<Figure size 1080x648 with 1 Axes>"
      ]
     },
     "metadata": {
      "needs_background": "light"
     },
     "output_type": "display_data"
    }
   ],
   "source": [
    "data_full['full_rougher.input'].hist(bins=90, \n",
    "                                     color='orange', \n",
    "                                     legend=True, \n",
    "                                     figsize=(15,9),\n",
    "                                     alpha=0.5)\n",
    "data_full['full_concentrate_rougher'].hist(bins=90,\n",
    "                                           color='red', \n",
    "                                           legend=True, \n",
    "                                           figsize=(15,9), \n",
    "                                           alpha=0.5)\n",
    "data_full['full_concentrate_output'].hist(bins=90, \n",
    "                                          color='blue', \n",
    "                                          legend=True, \n",
    "                                          figsize=(15,9),\n",
    "                                          alpha=0.5),\n",
    "plt.title('График изменения суммарной концентрации всех вещества на разных стадиях:' \n",
    "              'в сырье, в черновом и финальном концентратах')\n",
    "plt.show()"
   ]
  },
  {
   "cell_type": "markdown",
   "metadata": {},
   "source": [
    " Здесь мы можем наблюдать график концентрации прочих примесей на различных этапах очиски. Он для нас не важен, мы просто посмотрим на изменения\n",
    " \n",
    "- <span style=\"color:orange\">оранжевый</span> это концентрат в сырье\n",
    "- <span style=\"color:red\">красный</span> это черновой концентрат \n",
    "- <span style=\"color:blue\">синий</span> это финальный концентрат \n",
    "\n",
    "- График отображает нам четкие разделения между концентрацией в сырье и черовым концентратом, а дальше мы видим как у нас из черновой происходит \"вытикание\" финальной концентрации. Аномалии присутствуют.\n",
    "- Исходя из графиков, можно сделать вывод, что мы можем избавиться от аномалий, т к эти данные не важны для нас. "
   ]
  },
  {
   "cell_type": "markdown",
   "metadata": {},
   "source": [
    "### Сравним распределения размеров гранул сырья на обучающей и тестовой выборках."
   ]
  },
  {
   "cell_type": "code",
   "execution_count": 23,
   "metadata": {},
   "outputs": [
    {
     "data": {
      "image/png": "[encoded data removed]",
      "text/plain": [
       "<Figure size 1080x648 with 1 Axes>"
      ]
     },
     "metadata": {
      "needs_background": "light"
     },
     "output_type": "display_data"
    }
   ],
   "source": [
    "data_train['rougher.input.feed_size'].hist(bins=90, figsize=(15,9), legend=True, density=True)\n",
    "data_test['rougher.input.feed_size'].hist(bins=90, figsize=(15,9), legend=True, density=True)\n",
    "plt.title('График распределения размеров гранул сырья')\n",
    "plt.show()"
   ]
  },
  {
   "cell_type": "markdown",
   "metadata": {},
   "source": [
    "На графике выше отображено распределение размеров гранул сырья на двух выборках. Распределение не отличается.\n",
    "\n",
    "- <span style=\"color:blue\">синий</span> это размер гранул на обучающей выборке\n",
    "- <span style=\"color:red\">красный</span> это размер гранул на тестовой выборке\n",
    "\n",
    " "
   ]
  },
  {
   "cell_type": "markdown",
   "metadata": {},
   "source": [
    "### Избавимся от аномалий"
   ]
  },
  {
   "cell_type": "code",
   "execution_count": 24,
   "metadata": {},
   "outputs": [],
   "source": [
    "data_train = data_train[(data_train['rougher.output.concentrate_ag'] >= 2) & \n",
    "                        (data_train['primary_cleaner.output.concentrate_ag'] >= 2) &\n",
    "                       (data_train['rougher.input.feed_ag'] >= 2)]"
   ]
  },
  {
   "cell_type": "code",
   "execution_count": 25,
   "metadata": {},
   "outputs": [],
   "source": [
    "data_train = data_train[(data_train['rougher.output.concentrate_au'] >= 2) & \n",
    "                        (data_train['primary_cleaner.output.concentrate_au'] >= 2) &\n",
    "                       (data_train['rougher.input.feed_au'] >= 2)]"
   ]
  },
  {
   "cell_type": "code",
   "execution_count": 26,
   "metadata": {},
   "outputs": [],
   "source": [
    "data_train = data_train[(data_train['rougher.output.concentrate_pb'] >= 2) & \n",
    "                        (data_train['primary_cleaner.output.concentrate_pb'] >= 2) &\n",
    "                       (data_train['rougher.input.feed_pb'] >= 2)]"
   ]
  },
  {
   "cell_type": "code",
   "execution_count": 27,
   "metadata": {},
   "outputs": [],
   "source": [
    "data_train = data_train[(data_train['rougher.output.concentrate_sol'] >= 2) & \n",
    "                        (data_train['primary_cleaner.output.concentrate_sol'] >= 2) &\n",
    "                       (data_train['rougher.input.feed_sol'] >= 2)]"
   ]
  },
  {
   "cell_type": "markdown",
   "metadata": {},
   "source": [
    "## Модель"
   ]
  },
  {
   "cell_type": "markdown",
   "metadata": {},
   "source": [
    "### Определим функцию для подсчёта нашей метрики"
   ]
  },
  {
   "cell_type": "code",
   "execution_count": 28,
   "metadata": {},
   "outputs": [],
   "source": [
    "def sMAPE(targets, predictions): \n",
    "    summa = (abs(targets - predictions)) / ((abs(targets) + abs(predictions)) / 2)\n",
    "    sMAPE = summa.sum() / len(summa) * 100\n",
    "    return sMAPE"
   ]
  },
  {
   "cell_type": "code",
   "execution_count": 29,
   "metadata": {},
   "outputs": [],
   "source": [
    "def sMAPE_main(sMAPE_rougher, sMAPE_final):\n",
    "    sMAPE_main = 0.25 * sMAPE_rougher + 0.75 * sMAPE_final\n",
    "    return sMAPE_main"
   ]
  },
  {
   "cell_type": "code",
   "execution_count": 30,
   "metadata": {},
   "outputs": [],
   "source": [
    "my_score = make_scorer(sMAPE, greater_is_better=False)"
   ]
  },
  {
   "cell_type": "markdown",
   "metadata": {},
   "source": [
    "### Создадим тренировочный набор данных для прогнозирования обогащения чернового концентрата "
   ]
  },
  {
   "cell_type": "code",
   "execution_count": 31,
   "metadata": {},
   "outputs": [],
   "source": [
    "data_test = data_test.merge(data_full[['date','final.output.recovery', 'rougher.output.recovery']], on='date', how='left')"
   ]
  },
  {
   "cell_type": "code",
   "execution_count": 32,
   "metadata": {},
   "outputs": [
    {
     "data": {
      "text/plain": [
       "((12565, 22), (12565,))"
      ]
     },
     "execution_count": 32,
     "metadata": {},
     "output_type": "execute_result"
    }
   ],
   "source": [
    "columns = [c for c in data_test.columns if \"rougher\" in c]\n",
    "target_col = 'rougher.output.recovery'\n",
    "df_tmp = data_train[columns]\n",
    "X_rougher_t = df_tmp.drop(target_col, axis=1)\n",
    "y_rougher_t = df_tmp[target_col]\n",
    "X_rougher_t.shape, y_rougher_t.shape"
   ]
  },
  {
   "cell_type": "markdown",
   "metadata": {},
   "source": [
    "### Создадим тренировочный набор данных для прогнозирования обогащения финального концентрата "
   ]
  },
  {
   "cell_type": "code",
   "execution_count": 33,
   "metadata": {},
   "outputs": [
    {
     "data": {
      "text/plain": [
       "((12565, 53), (12565,))"
      ]
     },
     "execution_count": 33,
     "metadata": {},
     "output_type": "execute_result"
    }
   ],
   "source": [
    "columns = [c for c in data_test.columns]\n",
    "target_col = 'final.output.recovery'\n",
    "df_tmp = data_train[columns]\n",
    "X_final_t = df_tmp.drop(['date', 'final.output.recovery'], axis=1)\n",
    "y_final_t = df_tmp['final.output.recovery']\n",
    "X_final_t.shape, y_final_t.shape"
   ]
  },
  {
   "cell_type": "markdown",
   "metadata": {},
   "source": [
    "### Создадим проверочный набор данных для прогнозирования обогащения чернового концентрата "
   ]
  },
  {
   "cell_type": "code",
   "execution_count": 34,
   "metadata": {},
   "outputs": [
    {
     "data": {
      "text/plain": [
       "((5290, 22), (5290,))"
      ]
     },
     "execution_count": 34,
     "metadata": {},
     "output_type": "execute_result"
    }
   ],
   "source": [
    "columns = [c for c in data_test.columns if \"rougher\" in c]\n",
    "df_tmp = data_test[columns]\n",
    "X_rougher = df_tmp.drop(['rougher.output.recovery'], axis=1)\n",
    "y_rougher = df_tmp['rougher.output.recovery']\n",
    "X_rougher.shape, y_rougher.shape"
   ]
  },
  {
   "cell_type": "markdown",
   "metadata": {},
   "source": [
    "### Создадим проверочный набор данных для прогнозирования обогащения финального концентрата "
   ]
  },
  {
   "cell_type": "code",
   "execution_count": 35,
   "metadata": {},
   "outputs": [
    {
     "data": {
      "text/plain": [
       "((5290, 53), (5290,))"
      ]
     },
     "execution_count": 35,
     "metadata": {},
     "output_type": "execute_result"
    }
   ],
   "source": [
    "X_final = data_test.drop(['date', 'final.output.recovery'], axis=1)\n",
    "y_final = data_test['final.output.recovery']\n",
    "X_final.shape, y_final.shape"
   ]
  },
  {
   "cell_type": "markdown",
   "metadata": {},
   "source": [
    "### Нормализуем данные"
   ]
  },
  {
   "cell_type": "code",
   "execution_count": 36,
   "metadata": {},
   "outputs": [
    {
     "data": {
      "text/plain": [
       "array([[-0.27873298,  0.33412211, -0.14055168, ..., -0.93227406,\n",
       "        -2.67034619,  0.29295718],\n",
       "       [-0.31800229,  0.38435545, -0.14055168, ..., -0.95876178,\n",
       "        -2.50634132,  0.25810679],\n",
       "       [-0.36657778,  0.68943274, -0.14055168, ..., -0.95351397,\n",
       "        -2.55076847,  0.25798133],\n",
       "       ...,\n",
       "       [-0.85392871, -0.31584847, -1.37863693, ...,  0.07875529,\n",
       "         0.15544129,  0.52785791],\n",
       "       [-1.03609323, -0.30715935, -1.37863693, ...,  0.08275483,\n",
       "         0.17962927,  0.65534031],\n",
       "       [-1.13360029, -0.27880794, -1.37863693, ...,  0.07866014,\n",
       "         0.21846888,  0.61012531]])"
      ]
     },
     "execution_count": 36,
     "metadata": {},
     "output_type": "execute_result"
    }
   ],
   "source": [
    "scaler_rougher = StandardScaler()\n",
    "scaler_rougher.fit_transform(X_rougher_t)\n",
    "scaler_final = StandardScaler()\n",
    "scaler_final.fit_transform(X_final_t)"
   ]
  },
  {
   "cell_type": "code",
   "execution_count": 37,
   "metadata": {},
   "outputs": [
    {
     "data": {
      "text/plain": [
       "array([[ 1.96850229,  1.78912652,  1.22959588, ...,  1.24135749,\n",
       "         0.2044423 ,  0.67316657],\n",
       "       [ 2.09176616,  1.78743776,  1.22959588, ...,  0.94946071,\n",
       "         0.2014621 ,  0.42232985],\n",
       "       [ 2.08820886,  1.15859649,  0.74536715, ...,  0.94511881,\n",
       "         0.17970814,  0.46490078],\n",
       "       ...,\n",
       "       [ 0.90365721,  2.08837838,  1.2130877 , ..., -1.82726135,\n",
       "         0.25643622,  1.07169814],\n",
       "       [ 1.13349619,  1.9224778 ,  1.2130877 , ..., -1.82195967,\n",
       "         0.19239219,  1.01647874],\n",
       "       [ 1.18342133,  1.78994363,  1.2130877 , ..., -1.82611972,\n",
       "         0.17585157,  0.82920444]])"
      ]
     },
     "execution_count": 37,
     "metadata": {},
     "output_type": "execute_result"
    }
   ],
   "source": [
    "scaler_rougher.transform(X_rougher)\n",
    "scaler_final.transform(X_final)"
   ]
  },
  {
   "cell_type": "markdown",
   "metadata": {},
   "source": [
    "### Импортируем модели"
   ]
  },
  {
   "cell_type": "code",
   "execution_count": 38,
   "metadata": {},
   "outputs": [],
   "source": [
    "linR = LinearRegression()\n",
    "rfr = RandomForestRegressor(random_state=22, max_depth=1)\n",
    "dtf = DecisionTreeRegressor(random_state=22, max_depth=1)\n",
    "cat = CatBoostRegressor(random_seed=22)"
   ]
  },
  {
   "cell_type": "markdown",
   "metadata": {},
   "source": [
    "### Сделаем предсказания для rougher.output.recovery "
   ]
  },
  {
   "cell_type": "code",
   "execution_count": 39,
   "metadata": {},
   "outputs": [
    {
     "data": {
      "text/plain": [
       "-5.8"
      ]
     },
     "execution_count": 39,
     "metadata": {},
     "output_type": "execute_result"
    }
   ],
   "source": [
    "scor_linR = cross_val_score(linR, X_rougher_t, y_rougher_t, cv=7, scoring=my_score).mean()\n",
    "np.round(scor_linR, 1)"
   ]
  },
  {
   "cell_type": "code",
   "execution_count": 40,
   "metadata": {},
   "outputs": [
    {
     "data": {
      "text/plain": [
       "-7.7"
      ]
     },
     "execution_count": 40,
     "metadata": {},
     "output_type": "execute_result"
    }
   ],
   "source": [
    "scor_rfr = cross_val_score(rfr, X_rougher_t, y_rougher_t, cv=7, scoring=my_score).mean()\n",
    "np.round(scor_rfr, 1)"
   ]
  },
  {
   "cell_type": "code",
   "execution_count": 41,
   "metadata": {},
   "outputs": [
    {
     "data": {
      "text/plain": [
       "-7.6"
      ]
     },
     "execution_count": 41,
     "metadata": {},
     "output_type": "execute_result"
    }
   ],
   "source": [
    "scor_dtf = cross_val_score(dtf, X_rougher_t, y_rougher_t, cv=7, scoring=my_score).mean()\n",
    "np.round(scor_dtf, 1)"
   ]
  },
  {
   "cell_type": "code",
   "execution_count": 7,
   "metadata": {},
   "outputs": [],
   "source": [
    "scor_cat = cross_val_score(cat, X_rougher_t, y_rougher_t, cv=7, scoring=my_score).mean()\n",
    "np.round(scor_cat, 1)"
   ]
  },
  {
   "cell_type": "markdown",
   "metadata": {},
   "source": [
    "В целом, всё достаточно ровно, но лучше всех с задачей справляется линейная регрессия. Cреднее cимметричное абсолютное процентное отклонение для линейной регрессии равно 5.8% "
   ]
  },
  {
   "cell_type": "markdown",
   "metadata": {},
   "source": [
    "### Сделаем предсказания для final.output.recovery "
   ]
  },
  {
   "cell_type": "code",
   "execution_count": 46,
   "metadata": {},
   "outputs": [],
   "source": [
    "linR_e = LinearRegression()\n",
    "rfr_e = RandomForestRegressor(random_state=22, max_depth=1)\n",
    "dtf_e = DecisionTreeRegressor(random_state=22, max_depth=1)\n",
    "cat_e = CatBoostRegressor(random_seed=22, verbose=False)"
   ]
  },
  {
   "cell_type": "code",
   "execution_count": 44,
   "metadata": {},
   "outputs": [
    {
     "data": {
      "text/plain": [
       "9.7"
      ]
     },
     "execution_count": 44,
     "metadata": {},
     "output_type": "execute_result"
    }
   ],
   "source": [
    "scor_linR_e = cross_val_score(linR_e, X_final_t, y_final_t, cv=7, scoring=my_score).mean()\n",
    "np.round(scor_linR_e, 1) * (-1)"
   ]
  },
  {
   "cell_type": "code",
   "execution_count": 45,
   "metadata": {},
   "outputs": [
    {
     "data": {
      "text/plain": [
       "8.8"
      ]
     },
     "execution_count": 45,
     "metadata": {},
     "output_type": "execute_result"
    }
   ],
   "source": [
    "scor_rfr_e = cross_val_score(rfr_e, X_final_t, y_final_t, cv=7, scoring=my_score).mean()\n",
    "np.round(scor_rfr_e, 1) * (-1)"
   ]
  },
  {
   "cell_type": "code",
   "execution_count": 47,
   "metadata": {},
   "outputs": [
    {
     "data": {
      "text/plain": [
       "9.0"
      ]
     },
     "execution_count": 47,
     "metadata": {},
     "output_type": "execute_result"
    }
   ],
   "source": [
    "scor_dtf_e = cross_val_score(dtf_e, X_final_t, y_final_t, cv=7, scoring=my_score).mean()\n",
    "np.round(scor_dtf_e, 1) * (-1)"
   ]
  },
  {
   "cell_type": "code",
   "execution_count": 48,
   "metadata": {},
   "outputs": [
    {
     "data": {
      "text/plain": [
       "6.2"
      ]
     },
     "execution_count": 48,
     "metadata": {},
     "output_type": "execute_result"
    }
   ],
   "source": [
    "scor_cat_e = cross_val_score(cat_e, X_rougher_t, y_rougher_t, cv=7, scoring=my_score).mean()\n",
    "np.round(scor_cat_e, 1) * (-1)"
   ]
  },
  {
   "cell_type": "markdown",
   "metadata": {},
   "source": [
    "Здесь тоже значение метрики для разных моделей не сильно разнится. Но здесь чуть лучше справляется случайный лес.\n",
    "\n",
    "<b>Изменения:</b> Для проверки на тесте будем использовать линейную регрессию.\n",
    "</div>"
   ]
  },
  {
   "cell_type": "markdown",
   "metadata": {},
   "source": [
    "### Подберем гиперпараметры для линейной регрессии"
   ]
  },
  {
   "cell_type": "code",
   "execution_count": 49,
   "metadata": {},
   "outputs": [
    {
     "name": "stdout",
     "output_type": "stream",
     "text": [
      "LinearRegression(normalize=True)\n",
      "-6.367251145442419\n"
     ]
    }
   ],
   "source": [
    "parameters = {'fit_intercept':[True,False], 'normalize':[True,False], 'copy_X':[True, False]}\n",
    "grid = GridSearchCV(linR,parameters, cv=5, scoring=make_scorer(sMAPE, greater_is_better=False))\n",
    "grid.fit(X_rougher_t, y_rougher_t)\n",
    "best_estimator = grid.best_estimator_\n",
    "print(best_estimator)\n",
    "print(grid.best_score_)"
   ]
  },
  {
   "cell_type": "code",
   "execution_count": 50,
   "metadata": {},
   "outputs": [
    {
     "name": "stdout",
     "output_type": "stream",
     "text": [
      "LinearRegression(fit_intercept=False, normalize=True)\n",
      "-8.532278379850974\n"
     ]
    }
   ],
   "source": [
    "parameters2 = {'fit_intercept':[True,False], 'normalize':[True,False], 'copy_X':[True, False]}\n",
    "grid = GridSearchCV(linR_e,parameters2, cv=5, scoring=make_scorer(sMAPE, greater_is_better=False))\n",
    "grid.fit(X_final_t, y_final_t)\n",
    "best_estimator = grid.best_estimator_\n",
    "print(best_estimator)\n",
    "print(grid.best_score_)"
   ]
  },
  {
   "cell_type": "code",
   "execution_count": 57,
   "metadata": {},
   "outputs": [],
   "source": [
    "def objective_cat(trial):\n",
    "    params = {\n",
    "        'iterations':trial.suggest_int(\"iterations\", 1000, 1300),\n",
    "        'od_wait':trial.suggest_int('od_wait', 500, 2300),\n",
    "        'learning_rate' : trial.suggest_uniform('learning_rate',0.01, 1),\n",
    "        'reg_lambda': trial.suggest_uniform('reg_lambda',1e-5,100),\n",
    "        'subsample': trial.suggest_uniform('subsample',0,1),\n",
    "        'random_strength': trial.suggest_uniform('random_strength',10,50),\n",
    "        'depth': trial.suggest_int('depth',1, 15),\n",
    "        'min_data_in_leaf': trial.suggest_int('min_data_in_leaf',1,30),\n",
    "        'leaf_estimation_iterations': trial.suggest_int('leaf_estimation_iterations',1,15)\n",
    "    }\n",
    "        \n",
    "    cat_e.set_params(**params)\n",
    "    \n",
    "    scor_cat_e = cross_val_score(cat_e, X_rougher_t, y_rougher_t, cv=7, scoring=my_score)\n",
    "\n",
    "    \n",
    "    #model = CatBoostRegressor(loss_function=my_score, random_state=42,)\n",
    "            \n",
    "    return scor_cat_e.mean()"
   ]
  },
  {
   "cell_type": "code",
   "execution_count": null,
   "metadata": {},
   "outputs": [
    {
     "name": "stderr",
     "output_type": "stream",
     "text": [
      "\u001b[32m[I 2022-12-30 13:45:41,173]\u001b[0m A new study created in memory with name: no-name-3e4f1455-ff41-448a-b675-780614f3bb41\u001b[0m\n"
     ]
    }
   ],
   "source": [
    "study_cat = optuna.create_study(direction='maximize')\n",
    "study_cat.optimize(objective_cat, n_trials=5)\n",
    "study_cat.best_params"
   ]
  },
  {
   "cell_type": "code",
   "execution_count": null,
   "metadata": {},
   "outputs": [],
   "source": []
  },
  {
   "cell_type": "markdown",
   "metadata": {},
   "source": [
    "### Проверим модель на тесте для черновой концентрации"
   ]
  },
  {
   "cell_type": "code",
   "execution_count": 174,
   "metadata": {},
   "outputs": [],
   "source": [
    "linR = LinearRegression(fit_intercept=False, normalize=True)\n",
    "linR = linR.fit(X_rougher_t, y_rougher_t)\n",
    "predict_rougher = linR.predict(X_rougher)\n",
    "score_rougher = sMAPE(y_rougher, predict_rougher)"
   ]
  },
  {
   "cell_type": "markdown",
   "metadata": {},
   "source": [
    "### Проверим модель на тесте для финальной концентрации"
   ]
  },
  {
   "cell_type": "code",
   "execution_count": 175,
   "metadata": {},
   "outputs": [],
   "source": [
    "linR_e = LinearRegression(fit_intercept=False, normalize=True)\n",
    "linR_e = linR_e.fit(X_final_t, y_final_t)\n",
    "predict_final = linR_e.predict(X_final)\n",
    "score_final = sMAPE(y_final, predict_final)"
   ]
  },
  {
   "cell_type": "markdown",
   "metadata": {},
   "source": [
    "### Проверим модель на адекватность. Сравним её предсказания черновой концентрации с константной"
   ]
  },
  {
   "cell_type": "code",
   "execution_count": 176,
   "metadata": {},
   "outputs": [],
   "source": [
    "dummy = DummyRegressor(strategy=\"mean\").fit(X_rougher_t, y_rougher_t)\n",
    "predict_dummy = dummy.predict(X_rougher)\n",
    "score_dummy_rougher = sMAPE(y_rougher, predict_dummy)"
   ]
  },
  {
   "cell_type": "markdown",
   "metadata": {},
   "source": [
    "### Проверим модель на адекватность. Сравним её предсказания финальной концентрации с константной"
   ]
  },
  {
   "cell_type": "code",
   "execution_count": 177,
   "metadata": {},
   "outputs": [],
   "source": [
    "dummy = DummyRegressor(strategy=\"mean\").fit(X_final_t, y_final_t)\n",
    "predict_dummy = dummy.predict(X_final)\n",
    "score_dummy_final = sMAPE(y_final, predict_dummy)"
   ]
  },
  {
   "cell_type": "code",
   "execution_count": 178,
   "metadata": {},
   "outputs": [
    {
     "name": "stdout",
     "output_type": "stream",
     "text": [
      "Cреднее cимметричное абсолютное процентное отклонение для прогнозирования чернового концентрата: 9.1 %\n",
      "Cреднее cимметричное абсолютное процентное отклонение для прогнозирования чернового концентрата константной модели: 8.8 %\n",
      "Cреднее cимметричное абсолютное процентное отклонение для прогнозирования финального концентрата: 10.8 %\n",
      "Cреднее cимметричное абсолютное процентное отклонение для прогнозирования финального концентрата константной модели: 10.0 %\n"
     ]
    }
   ],
   "source": [
    "print('Cреднее cимметричное абсолютное процентное отклонение ' \n",
    "       'для прогнозирования чернового концентрата:', np.round(score_rougher, 1),'%')\n",
    "print('Cреднее cимметричное абсолютное процентное отклонение ' \n",
    "       'для прогнозирования чернового концентрата константной модели:', np.round(score_dummy_rougher, 1),'%')\n",
    "print('Cреднее cимметричное абсолютное процентное отклонение ' \n",
    "       'для прогнозирования финального концентрата:', np.round(score_final, 1),'%')\n",
    "print('Cреднее cимметричное абсолютное процентное отклонение ' \n",
    "       'для прогнозирования финального концентрата константной модели:', np.round(score_dummy_final, 1),'%')"
   ]
  },
  {
   "cell_type": "markdown",
   "metadata": {},
   "source": [
    "### Посчитаем итоговую метрику"
   ]
  },
  {
   "cell_type": "code",
   "execution_count": 179,
   "metadata": {},
   "outputs": [
    {
     "name": "stdout",
     "output_type": "stream",
     "text": [
      "Финальное среднее cимметричное абсолютное процентное отклонение: 10.4 %\n"
     ]
    }
   ],
   "source": [
    "MAPE = sMAPE_main(score_rougher, score_final)\n",
    "print('Финальное среднее cимметричное абсолютное процентное отклонение:', np.round(MAPE, 1),'%')"
   ]
  },
  {
   "cell_type": "markdown",
   "metadata": {},
   "source": [
    "# Вывод:"
   ]
  },
  {
   "cell_type": "markdown",
   "metadata": {},
   "source": [
    "1. Нам нужно было подготовить прототип модели машинного обучения для компании «Цифры». Компания разрабатывает решения для эффективной работы промышленных предприятий.\n",
    "\n",
    "2. Модель должна предсказать коэффициент восстановления золота из золотосодержащей руды, используя данные с параметрами добычи и очистки. \n",
    "\n",
    "3. У нас было полный файл с данными, и уже готовые обучающая и тестовая выборки. В файлах были пропуски и аномалии, которые были нами обработаны.\n",
    "\n",
    "4. Мы провели исследовательский анализ данных, по результатам которого была получена следующая информация: \n",
    "- концентрация серебра уменьшается от начального этапа к финальному. Также график показал нам, что концентрация серебра в сырье совпадает с концентрацией после первичной очистки, либо так и должно быть, либо что-то не так с прибором\n",
    "- концентрация золота увеличивается от начального этапа к финальному, на графике были четкие разделения между этапами. \n",
    "- у свинца всё было не так как у золота или серебра. Каких-то сильных изменений не происходит к завершению, концентрация просто сокращается\n",
    "- концентрация примесей сокращается практически в 2 раза к финальному этапу\n",
    "\n",
    "5. Далее мы написали функцию для проверки качества наших моделей и ,собственно, начали обучение. Модели использовались DecisionTreeRegressor, RandomForestRegressor, LinearRegression. Кроссвалидацией прошлись по каждой и выявили, что в среднем, разница не сильно большая в прогнозировании ответов, примерно 2 процента. \n",
    "\n",
    "6. С помощью GridSearchCV подобрали параметры для LinearRegression и выполнили финальную проверку модели на тестовых данных. Результат получили:\n",
    "- для предсказания rougher.output.recovery - 9.1%\n",
    "- для предсказания final.output.recovery - 10.8%\n",
    "\n",
    "7. При проверке моделей на адекватность, сравнивали её с константной моделью DummyRegressor. DummyRegressor предсказал:\n",
    "- для предсказания rougher.output.recovery - 8.8%\n",
    "- для предсказания final.output.recovery - 10.0%\n",
    "\n",
    "\n",
    "\n",
    "\n",
    "8. Финальное среднее cимметричное абсолютное процентное отклонение для LinearRegression: 10.4 %"
   ]
  }
 ],
 "metadata": {
  "ExecuteTimeLog": [
   {
    "duration": 713,
    "start_time": "2022-10-31T07:26:06.219Z"
   },
   {
    "duration": 1710,
    "start_time": "2022-10-31T07:29:43.462Z"
   },
   {
    "duration": 3,
    "start_time": "2022-10-31T07:31:06.476Z"
   },
   {
    "duration": 13103,
    "start_time": "2022-10-31T07:31:35.240Z"
   },
   {
    "duration": 68,
    "start_time": "2022-10-31T07:31:53.160Z"
   },
   {
    "duration": 1072,
    "start_time": "2022-10-31T07:32:11.575Z"
   },
   {
    "duration": 7,
    "start_time": "2022-10-31T07:39:43.493Z"
   },
   {
    "duration": 689,
    "start_time": "2022-10-31T07:39:47.351Z"
   },
   {
    "duration": 1715,
    "start_time": "2022-10-31T07:39:49.088Z"
   },
   {
    "duration": 16,
    "start_time": "2022-10-31T07:40:02.936Z"
   },
   {
    "duration": 76,
    "start_time": "2022-10-31T07:40:36.918Z"
   },
   {
    "duration": 22,
    "start_time": "2022-10-31T07:40:42.271Z"
   },
   {
    "duration": 18,
    "start_time": "2022-10-31T07:40:54.879Z"
   },
   {
    "duration": 616,
    "start_time": "2022-10-31T07:42:38.548Z"
   },
   {
    "duration": 20,
    "start_time": "2022-10-31T07:42:41.919Z"
   },
   {
    "duration": 615,
    "start_time": "2022-10-31T07:42:49.093Z"
   },
   {
    "duration": 19,
    "start_time": "2022-10-31T07:42:49.710Z"
   },
   {
    "duration": 456,
    "start_time": "2022-10-31T07:43:20.294Z"
   },
   {
    "duration": 59,
    "start_time": "2022-10-31T07:43:49.267Z"
   },
   {
    "duration": 678,
    "start_time": "2022-10-31T07:45:07.609Z"
   },
   {
    "duration": 20,
    "start_time": "2022-10-31T07:45:08.974Z"
   },
   {
    "duration": 20,
    "start_time": "2022-10-31T07:52:52.903Z"
   },
   {
    "duration": 15,
    "start_time": "2022-10-31T07:52:59.173Z"
   },
   {
    "duration": 19,
    "start_time": "2022-10-31T08:00:39.644Z"
   },
   {
    "duration": 22,
    "start_time": "2022-10-31T08:00:40.070Z"
   },
   {
    "duration": 17,
    "start_time": "2022-10-31T08:00:44.902Z"
   },
   {
    "duration": 8,
    "start_time": "2022-10-31T08:16:12.336Z"
   },
   {
    "duration": 52,
    "start_time": "2022-10-31T08:17:00.444Z"
   },
   {
    "duration": 15,
    "start_time": "2022-10-31T08:17:06.370Z"
   },
   {
    "duration": 3419,
    "start_time": "2022-10-31T08:19:02.192Z"
   },
   {
    "duration": 765,
    "start_time": "2022-10-31T08:19:25.794Z"
   },
   {
    "duration": 55594,
    "start_time": "2022-10-31T08:19:51.905Z"
   },
   {
    "duration": 49,
    "start_time": "2022-10-31T08:24:26.986Z"
   },
   {
    "duration": 9,
    "start_time": "2022-10-31T08:24:41.783Z"
   },
   {
    "duration": 519,
    "start_time": "2022-10-31T08:25:57.606Z"
   },
   {
    "duration": 3,
    "start_time": "2022-10-31T08:27:32.835Z"
   },
   {
    "duration": 30,
    "start_time": "2022-10-31T08:27:42.697Z"
   },
   {
    "duration": 16,
    "start_time": "2022-10-31T08:37:57.333Z"
   },
   {
    "duration": 27,
    "start_time": "2022-10-31T08:38:13.825Z"
   },
   {
    "duration": 3,
    "start_time": "2022-10-31T08:41:20.010Z"
   },
   {
    "duration": 80,
    "start_time": "2022-10-31T08:42:58.950Z"
   },
   {
    "duration": 69,
    "start_time": "2022-10-31T08:43:10.127Z"
   },
   {
    "duration": 105,
    "start_time": "2022-10-31T08:43:18.048Z"
   },
   {
    "duration": 13,
    "start_time": "2022-10-31T08:43:27.269Z"
   },
   {
    "duration": 15,
    "start_time": "2022-10-31T08:43:32.778Z"
   },
   {
    "duration": 14,
    "start_time": "2022-10-31T08:43:43.527Z"
   },
   {
    "duration": 16,
    "start_time": "2022-10-31T08:43:52.929Z"
   },
   {
    "duration": 3,
    "start_time": "2022-10-31T08:44:00.232Z"
   },
   {
    "duration": 7,
    "start_time": "2022-10-31T08:44:04.729Z"
   },
   {
    "duration": 8,
    "start_time": "2022-10-31T08:44:35.147Z"
   },
   {
    "duration": 7,
    "start_time": "2022-10-31T08:44:59.582Z"
   },
   {
    "duration": 4,
    "start_time": "2022-10-31T08:45:14.353Z"
   },
   {
    "duration": 8,
    "start_time": "2022-10-31T08:45:14.779Z"
   },
   {
    "duration": 5,
    "start_time": "2022-10-31T08:45:15.796Z"
   },
   {
    "duration": 8,
    "start_time": "2022-10-31T08:47:55.142Z"
   },
   {
    "duration": 9,
    "start_time": "2022-10-31T08:49:59.507Z"
   },
   {
    "duration": 8,
    "start_time": "2022-10-31T08:50:45.861Z"
   },
   {
    "duration": 8,
    "start_time": "2022-10-31T08:51:48.621Z"
   },
   {
    "duration": 5,
    "start_time": "2022-10-31T08:51:51.924Z"
   },
   {
    "duration": 3,
    "start_time": "2022-10-31T08:52:16.550Z"
   },
   {
    "duration": 8,
    "start_time": "2022-10-31T08:52:16.904Z"
   },
   {
    "duration": 5,
    "start_time": "2022-10-31T08:52:18.262Z"
   },
   {
    "duration": 6,
    "start_time": "2022-10-31T08:53:44.844Z"
   },
   {
    "duration": 22,
    "start_time": "2022-10-31T08:54:26.319Z"
   },
   {
    "duration": 14,
    "start_time": "2022-10-31T08:54:28.716Z"
   },
   {
    "duration": 9,
    "start_time": "2022-10-31T08:54:37.893Z"
   },
   {
    "duration": 127,
    "start_time": "2022-10-31T08:54:46.648Z"
   },
   {
    "duration": 8,
    "start_time": "2022-10-31T08:54:53.373Z"
   },
   {
    "duration": 10,
    "start_time": "2022-10-31T08:56:15.614Z"
   },
   {
    "duration": 7,
    "start_time": "2022-10-31T08:56:30.151Z"
   },
   {
    "duration": 7,
    "start_time": "2022-10-31T09:00:55.954Z"
   },
   {
    "duration": 8,
    "start_time": "2022-10-31T09:01:38.153Z"
   },
   {
    "duration": 1238,
    "start_time": "2022-10-31T09:03:02.453Z"
   },
   {
    "duration": 8,
    "start_time": "2022-10-31T09:03:06.813Z"
   },
   {
    "duration": 7,
    "start_time": "2022-10-31T09:03:44.241Z"
   },
   {
    "duration": 6,
    "start_time": "2022-10-31T09:03:59.720Z"
   },
   {
    "duration": 4,
    "start_time": "2022-10-31T09:11:12.503Z"
   },
   {
    "duration": 9,
    "start_time": "2022-10-31T09:11:13.332Z"
   },
   {
    "duration": 6,
    "start_time": "2022-10-31T09:12:15.766Z"
   },
   {
    "duration": 7,
    "start_time": "2022-10-31T09:12:39.673Z"
   },
   {
    "duration": 7,
    "start_time": "2022-10-31T09:13:13.761Z"
   },
   {
    "duration": 1218,
    "start_time": "2022-10-31T09:14:44.387Z"
   },
   {
    "duration": 7,
    "start_time": "2022-10-31T09:14:48.743Z"
   },
   {
    "duration": 8,
    "start_time": "2022-10-31T09:15:53.454Z"
   },
   {
    "duration": 8,
    "start_time": "2022-10-31T09:15:59.910Z"
   },
   {
    "duration": 9,
    "start_time": "2022-10-31T09:19:56.130Z"
   },
   {
    "duration": 9,
    "start_time": "2022-10-31T09:20:42.241Z"
   },
   {
    "duration": 77,
    "start_time": "2022-10-31T09:24:15.435Z"
   },
   {
    "duration": 33,
    "start_time": "2022-10-31T09:27:34.238Z"
   },
   {
    "duration": 3,
    "start_time": "2022-10-31T09:28:25.956Z"
   },
   {
    "duration": 3,
    "start_time": "2022-10-31T09:29:10.446Z"
   },
   {
    "duration": 20,
    "start_time": "2022-10-31T09:30:25.796Z"
   },
   {
    "duration": 116,
    "start_time": "2022-10-31T09:32:20.909Z"
   },
   {
    "duration": 18,
    "start_time": "2022-10-31T09:32:31.437Z"
   },
   {
    "duration": 3,
    "start_time": "2022-10-31T09:37:02.408Z"
   },
   {
    "duration": 7,
    "start_time": "2022-10-31T09:39:59.320Z"
   },
   {
    "duration": 28,
    "start_time": "2022-10-31T09:40:18.411Z"
   },
   {
    "duration": 175,
    "start_time": "2022-10-31T09:40:30.299Z"
   },
   {
    "duration": 6,
    "start_time": "2022-10-31T09:40:38.633Z"
   },
   {
    "duration": 6,
    "start_time": "2022-10-31T09:41:01.940Z"
   },
   {
    "duration": 6,
    "start_time": "2022-10-31T09:41:18.441Z"
   },
   {
    "duration": 8,
    "start_time": "2022-10-31T09:41:31.546Z"
   },
   {
    "duration": 8,
    "start_time": "2022-10-31T09:41:43.148Z"
   },
   {
    "duration": 3,
    "start_time": "2022-10-31T09:43:32.904Z"
   },
   {
    "duration": 10,
    "start_time": "2022-10-31T09:43:33.864Z"
   },
   {
    "duration": 6,
    "start_time": "2022-10-31T09:43:35.927Z"
   },
   {
    "duration": 8,
    "start_time": "2022-10-31T09:45:26.745Z"
   },
   {
    "duration": 8,
    "start_time": "2022-10-31T09:45:40.026Z"
   },
   {
    "duration": 25,
    "start_time": "2022-10-31T10:09:17.164Z"
   },
   {
    "duration": 9,
    "start_time": "2022-10-31T10:09:52.618Z"
   },
   {
    "duration": 7,
    "start_time": "2022-10-31T10:10:28.020Z"
   },
   {
    "duration": 8,
    "start_time": "2022-10-31T10:12:09.963Z"
   },
   {
    "duration": 24,
    "start_time": "2022-10-31T10:12:19.869Z"
   },
   {
    "duration": 3,
    "start_time": "2022-10-31T10:16:09.612Z"
   },
   {
    "duration": 40,
    "start_time": "2022-10-31T10:16:28.838Z"
   },
   {
    "duration": 3,
    "start_time": "2022-10-31T10:16:53.977Z"
   },
   {
    "duration": 14,
    "start_time": "2022-10-31T10:16:54.316Z"
   },
   {
    "duration": 3,
    "start_time": "2022-10-31T10:17:02.867Z"
   },
   {
    "duration": 16,
    "start_time": "2022-10-31T10:17:03.292Z"
   },
   {
    "duration": 3,
    "start_time": "2022-10-31T10:17:54.627Z"
   },
   {
    "duration": 13,
    "start_time": "2022-10-31T10:17:56.101Z"
   },
   {
    "duration": 2,
    "start_time": "2022-10-31T10:18:16.430Z"
   },
   {
    "duration": 51,
    "start_time": "2022-10-31T10:18:16.673Z"
   },
   {
    "duration": 44,
    "start_time": "2022-10-31T10:18:31.715Z"
   },
   {
    "duration": 33,
    "start_time": "2022-10-31T10:18:45.931Z"
   },
   {
    "duration": 7,
    "start_time": "2022-10-31T10:21:56.585Z"
   },
   {
    "duration": 6,
    "start_time": "2022-10-31T10:36:05.807Z"
   },
   {
    "duration": 6,
    "start_time": "2022-10-31T10:36:30.089Z"
   },
   {
    "duration": 8,
    "start_time": "2022-10-31T10:37:29.166Z"
   },
   {
    "duration": 5,
    "start_time": "2022-10-31T10:37:31.314Z"
   },
   {
    "duration": 7,
    "start_time": "2022-10-31T10:37:53.567Z"
   },
   {
    "duration": 5,
    "start_time": "2022-10-31T10:37:54.146Z"
   },
   {
    "duration": 6,
    "start_time": "2022-10-31T10:38:06.079Z"
   },
   {
    "duration": 5,
    "start_time": "2022-10-31T10:38:29.506Z"
   },
   {
    "duration": 5,
    "start_time": "2022-10-31T10:39:00.790Z"
   },
   {
    "duration": 6,
    "start_time": "2022-10-31T10:39:16.800Z"
   },
   {
    "duration": 6,
    "start_time": "2022-10-31T10:39:49.998Z"
   },
   {
    "duration": 10,
    "start_time": "2022-10-31T10:47:01.012Z"
   },
   {
    "duration": 6,
    "start_time": "2022-10-31T10:47:07.227Z"
   },
   {
    "duration": 7,
    "start_time": "2022-10-31T10:47:37.960Z"
   },
   {
    "duration": 5,
    "start_time": "2022-10-31T10:50:13.084Z"
   },
   {
    "duration": 5,
    "start_time": "2022-10-31T10:50:14.068Z"
   },
   {
    "duration": 5,
    "start_time": "2022-10-31T11:04:16.463Z"
   },
   {
    "duration": 22,
    "start_time": "2022-10-31T11:04:27.492Z"
   },
   {
    "duration": 4,
    "start_time": "2022-10-31T11:04:36.160Z"
   },
   {
    "duration": 5,
    "start_time": "2022-10-31T11:04:46.409Z"
   },
   {
    "duration": 10,
    "start_time": "2022-10-31T11:05:05.302Z"
   },
   {
    "duration": 5,
    "start_time": "2022-10-31T11:05:14.634Z"
   },
   {
    "duration": 14,
    "start_time": "2022-10-31T11:05:50.608Z"
   },
   {
    "duration": 16,
    "start_time": "2022-10-31T11:06:09.842Z"
   },
   {
    "duration": 4,
    "start_time": "2022-10-31T11:06:59.870Z"
   },
   {
    "duration": 10,
    "start_time": "2022-10-31T11:07:25.386Z"
   },
   {
    "duration": 1222,
    "start_time": "2022-10-31T11:21:17.345Z"
   },
   {
    "duration": 6,
    "start_time": "2022-10-31T11:21:42.828Z"
   },
   {
    "duration": 7,
    "start_time": "2022-10-31T11:22:59.936Z"
   },
   {
    "duration": 120,
    "start_time": "2022-10-31T11:23:48.260Z"
   },
   {
    "duration": 47,
    "start_time": "2022-10-31T11:24:48.985Z"
   },
   {
    "duration": 65,
    "start_time": "2022-10-31T11:25:14.932Z"
   },
   {
    "duration": 43,
    "start_time": "2022-10-31T11:25:27.573Z"
   },
   {
    "duration": 87,
    "start_time": "2022-10-31T11:25:38.976Z"
   },
   {
    "duration": 44,
    "start_time": "2022-10-31T11:25:48.514Z"
   },
   {
    "duration": 64,
    "start_time": "2022-10-31T11:26:04.637Z"
   },
   {
    "duration": 5,
    "start_time": "2022-10-31T11:30:25.931Z"
   },
   {
    "duration": 5,
    "start_time": "2022-10-31T11:30:26.273Z"
   },
   {
    "duration": 6,
    "start_time": "2022-10-31T15:19:12.980Z"
   },
   {
    "duration": 4,
    "start_time": "2022-10-31T15:19:13.985Z"
   },
   {
    "duration": 734,
    "start_time": "2022-10-31T15:19:15.304Z"
   },
   {
    "duration": 3,
    "start_time": "2022-10-31T15:19:16.095Z"
   },
   {
    "duration": 32,
    "start_time": "2022-10-31T15:19:17.219Z"
   },
   {
    "duration": 43,
    "start_time": "2022-10-31T15:19:17.882Z"
   },
   {
    "duration": 47,
    "start_time": "2022-10-31T15:19:18.420Z"
   },
   {
    "duration": 3,
    "start_time": "2022-10-31T15:19:21.616Z"
   },
   {
    "duration": 5,
    "start_time": "2022-10-31T15:19:22.959Z"
   },
   {
    "duration": 6,
    "start_time": "2022-10-31T15:19:23.840Z"
   },
   {
    "duration": 77,
    "start_time": "2022-10-31T15:19:28.040Z"
   },
   {
    "duration": 134,
    "start_time": "2022-10-31T15:20:40.110Z"
   },
   {
    "duration": 270,
    "start_time": "2022-10-31T15:23:27.045Z"
   },
   {
    "duration": 269,
    "start_time": "2022-10-31T15:24:17.496Z"
   },
   {
    "duration": 361,
    "start_time": "2022-10-31T15:24:47.663Z"
   },
   {
    "duration": 35,
    "start_time": "2022-10-31T15:28:56.673Z"
   },
   {
    "duration": 36890,
    "start_time": "2022-10-31T15:29:10.256Z"
   },
   {
    "duration": 10,
    "start_time": "2022-10-31T15:36:30.462Z"
   },
   {
    "duration": 12,
    "start_time": "2022-10-31T15:37:11.655Z"
   },
   {
    "duration": 1882,
    "start_time": "2022-10-31T15:38:54.152Z"
   },
   {
    "duration": 43,
    "start_time": "2022-10-31T15:43:15.486Z"
   },
   {
    "duration": 1750,
    "start_time": "2022-10-31T15:43:22.771Z"
   },
   {
    "duration": 2,
    "start_time": "2022-10-31T15:43:40.216Z"
   },
   {
    "duration": 1947,
    "start_time": "2022-10-31T15:43:41.601Z"
   },
   {
    "duration": 8,
    "start_time": "2022-10-31T15:43:44.776Z"
   },
   {
    "duration": 35,
    "start_time": "2022-10-31T15:43:45.892Z"
   },
   {
    "duration": 31,
    "start_time": "2022-10-31T15:43:47.217Z"
   },
   {
    "duration": 48,
    "start_time": "2022-10-31T15:43:47.794Z"
   },
   {
    "duration": 2,
    "start_time": "2022-10-31T15:43:49.599Z"
   },
   {
    "duration": 5,
    "start_time": "2022-10-31T15:43:51.065Z"
   },
   {
    "duration": 5,
    "start_time": "2022-10-31T15:43:51.819Z"
   },
   {
    "duration": 14,
    "start_time": "2022-10-31T15:43:54.484Z"
   },
   {
    "duration": 108,
    "start_time": "2022-10-31T15:46:18.040Z"
   },
   {
    "duration": 18,
    "start_time": "2022-10-31T15:46:26.431Z"
   },
   {
    "duration": 27,
    "start_time": "2022-10-31T15:46:33.259Z"
   },
   {
    "duration": 21,
    "start_time": "2022-10-31T15:46:49.479Z"
   },
   {
    "duration": 18,
    "start_time": "2022-10-31T15:47:21.912Z"
   },
   {
    "duration": 83,
    "start_time": "2022-10-31T15:47:30.176Z"
   },
   {
    "duration": 20,
    "start_time": "2022-10-31T15:47:38.753Z"
   },
   {
    "duration": 18,
    "start_time": "2022-10-31T15:47:47.025Z"
   },
   {
    "duration": 92,
    "start_time": "2022-10-31T15:48:19.693Z"
   },
   {
    "duration": 5,
    "start_time": "2022-10-31T15:53:21.655Z"
   },
   {
    "duration": 8,
    "start_time": "2022-10-31T15:53:29.905Z"
   },
   {
    "duration": 1692,
    "start_time": "2022-10-31T15:53:40.730Z"
   },
   {
    "duration": 7,
    "start_time": "2022-10-31T15:54:18.704Z"
   },
   {
    "duration": 9,
    "start_time": "2022-10-31T15:58:10.192Z"
   },
   {
    "duration": 113,
    "start_time": "2022-10-31T15:58:14.051Z"
   },
   {
    "duration": 4,
    "start_time": "2022-10-31T15:58:38.241Z"
   },
   {
    "duration": 104,
    "start_time": "2022-10-31T15:58:42.976Z"
   },
   {
    "duration": 6,
    "start_time": "2022-10-31T16:01:29.792Z"
   },
   {
    "duration": 30,
    "start_time": "2022-10-31T16:01:51.035Z"
   },
   {
    "duration": 5,
    "start_time": "2022-10-31T16:02:55.594Z"
   },
   {
    "duration": 5,
    "start_time": "2022-10-31T16:03:00.345Z"
   },
   {
    "duration": 1437,
    "start_time": "2022-10-31T16:03:18.753Z"
   },
   {
    "duration": 134,
    "start_time": "2022-10-31T16:03:45.912Z"
   },
   {
    "duration": 4,
    "start_time": "2022-10-31T16:05:43.817Z"
   },
   {
    "duration": 5,
    "start_time": "2022-10-31T16:05:48.563Z"
   },
   {
    "duration": 124,
    "start_time": "2022-10-31T16:05:52.948Z"
   },
   {
    "duration": 6,
    "start_time": "2022-10-31T16:09:23.874Z"
   },
   {
    "duration": 130,
    "start_time": "2022-10-31T16:09:25.691Z"
   },
   {
    "duration": 5,
    "start_time": "2022-10-31T16:12:52.308Z"
   },
   {
    "duration": 15,
    "start_time": "2022-10-31T16:12:59.161Z"
   },
   {
    "duration": 7,
    "start_time": "2022-10-31T16:13:25.695Z"
   },
   {
    "duration": 4,
    "start_time": "2022-10-31T16:13:27.054Z"
   },
   {
    "duration": 779,
    "start_time": "2022-10-31T16:13:27.626Z"
   },
   {
    "duration": 4,
    "start_time": "2022-10-31T16:13:28.871Z"
   },
   {
    "duration": 51,
    "start_time": "2022-10-31T16:13:28.877Z"
   },
   {
    "duration": 31,
    "start_time": "2022-10-31T16:13:29.393Z"
   },
   {
    "duration": 33,
    "start_time": "2022-10-31T16:13:29.425Z"
   },
   {
    "duration": 6,
    "start_time": "2022-10-31T16:13:32.131Z"
   },
   {
    "duration": 160,
    "start_time": "2022-10-31T16:13:33.125Z"
   },
   {
    "duration": 5,
    "start_time": "2022-10-31T16:13:34.750Z"
   },
   {
    "duration": 7,
    "start_time": "2022-10-31T16:13:35.151Z"
   },
   {
    "duration": 15,
    "start_time": "2022-10-31T16:13:35.421Z"
   },
   {
    "duration": 123,
    "start_time": "2022-10-31T16:13:44.150Z"
   },
   {
    "duration": 4,
    "start_time": "2022-10-31T16:15:07.730Z"
   },
   {
    "duration": 3,
    "start_time": "2022-10-31T16:15:08.607Z"
   },
   {
    "duration": 666,
    "start_time": "2022-10-31T16:15:09.386Z"
   },
   {
    "duration": 5,
    "start_time": "2022-10-31T16:15:10.293Z"
   },
   {
    "duration": 40,
    "start_time": "2022-10-31T16:15:11.065Z"
   },
   {
    "duration": 54,
    "start_time": "2022-10-31T16:15:11.447Z"
   },
   {
    "duration": 49,
    "start_time": "2022-10-31T16:15:11.787Z"
   },
   {
    "duration": 2,
    "start_time": "2022-10-31T16:15:14.513Z"
   },
   {
    "duration": 5,
    "start_time": "2022-10-31T16:15:15.844Z"
   },
   {
    "duration": 5,
    "start_time": "2022-10-31T16:15:17.059Z"
   },
   {
    "duration": 121,
    "start_time": "2022-10-31T16:22:39.581Z"
   },
   {
    "duration": 13,
    "start_time": "2022-10-31T16:23:02.876Z"
   },
   {
    "duration": 5,
    "start_time": "2022-10-31T16:23:39.142Z"
   },
   {
    "duration": 218,
    "start_time": "2022-10-31T16:23:57.973Z"
   },
   {
    "duration": 5,
    "start_time": "2022-10-31T16:24:44.226Z"
   },
   {
    "duration": 140,
    "start_time": "2022-10-31T16:24:50.668Z"
   },
   {
    "duration": 115,
    "start_time": "2022-10-31T16:26:53.500Z"
   },
   {
    "duration": 5,
    "start_time": "2022-10-31T19:06:40.507Z"
   },
   {
    "duration": 5,
    "start_time": "2022-10-31T19:06:43.590Z"
   },
   {
    "duration": 5,
    "start_time": "2022-10-31T19:06:57.401Z"
   },
   {
    "duration": 5,
    "start_time": "2022-10-31T19:07:03.954Z"
   },
   {
    "duration": 6,
    "start_time": "2022-10-31T19:07:11.597Z"
   },
   {
    "duration": 12,
    "start_time": "2022-10-31T19:10:11.618Z"
   },
   {
    "duration": 9,
    "start_time": "2022-10-31T19:10:14.756Z"
   },
   {
    "duration": 18,
    "start_time": "2022-10-31T19:11:33.665Z"
   },
   {
    "duration": 128,
    "start_time": "2022-10-31T19:12:49.199Z"
   },
   {
    "duration": 70,
    "start_time": "2022-10-31T19:13:00.440Z"
   },
   {
    "duration": 629,
    "start_time": "2022-10-31T19:13:12.532Z"
   },
   {
    "duration": 83,
    "start_time": "2022-10-31T19:13:19.101Z"
   },
   {
    "duration": 214,
    "start_time": "2022-10-31T19:13:28.732Z"
   },
   {
    "duration": 263,
    "start_time": "2022-10-31T19:13:40.332Z"
   },
   {
    "duration": 72,
    "start_time": "2022-10-31T19:13:46.990Z"
   },
   {
    "duration": 136,
    "start_time": "2022-10-31T19:13:52.794Z"
   },
   {
    "duration": 9,
    "start_time": "2022-10-31T19:14:25.527Z"
   },
   {
    "duration": 73,
    "start_time": "2022-10-31T19:14:36.512Z"
   },
   {
    "duration": 13,
    "start_time": "2022-10-31T19:14:40.265Z"
   },
   {
    "duration": 1554,
    "start_time": "2022-11-01T06:03:08.096Z"
   },
   {
    "duration": 3,
    "start_time": "2022-11-01T06:03:10.315Z"
   },
   {
    "duration": 2995,
    "start_time": "2022-11-01T06:03:10.684Z"
   },
   {
    "duration": 3,
    "start_time": "2022-11-01T06:03:14.943Z"
   },
   {
    "duration": 39,
    "start_time": "2022-11-01T06:03:15.818Z"
   },
   {
    "duration": 31,
    "start_time": "2022-11-01T06:03:17.050Z"
   },
   {
    "duration": 35,
    "start_time": "2022-11-01T06:03:17.849Z"
   },
   {
    "duration": 2,
    "start_time": "2022-11-01T06:03:20.884Z"
   },
   {
    "duration": 6,
    "start_time": "2022-11-01T06:03:22.255Z"
   },
   {
    "duration": 5,
    "start_time": "2022-11-01T06:03:23.115Z"
   },
   {
    "duration": 5,
    "start_time": "2022-11-01T06:13:12.957Z"
   },
   {
    "duration": 38,
    "start_time": "2022-11-01T06:37:34.343Z"
   },
   {
    "duration": 10,
    "start_time": "2022-11-01T06:40:19.868Z"
   },
   {
    "duration": 21,
    "start_time": "2022-11-01T06:46:00.454Z"
   },
   {
    "duration": 987,
    "start_time": "2022-11-01T06:46:22.235Z"
   },
   {
    "duration": 5,
    "start_time": "2022-11-01T06:46:31.715Z"
   },
   {
    "duration": 6,
    "start_time": "2022-11-01T06:46:38.666Z"
   },
   {
    "duration": 92,
    "start_time": "2022-11-01T06:46:49.329Z"
   },
   {
    "duration": 10,
    "start_time": "2022-11-01T06:46:54.031Z"
   },
   {
    "duration": 1638,
    "start_time": "2022-11-01T06:46:56.686Z"
   },
   {
    "duration": 5,
    "start_time": "2022-11-01T06:47:21.497Z"
   },
   {
    "duration": 4,
    "start_time": "2022-11-01T06:47:25.913Z"
   },
   {
    "duration": 187,
    "start_time": "2022-11-01T06:47:29.068Z"
   },
   {
    "duration": 6,
    "start_time": "2022-11-01T06:47:54.613Z"
   },
   {
    "duration": 16,
    "start_time": "2022-11-01T06:48:02.439Z"
   },
   {
    "duration": 11,
    "start_time": "2022-11-01T06:48:37.117Z"
   },
   {
    "duration": 5,
    "start_time": "2022-11-01T06:48:45.283Z"
   },
   {
    "duration": 152,
    "start_time": "2022-11-01T06:56:02.503Z"
   },
   {
    "duration": 3,
    "start_time": "2022-11-01T08:16:05.337Z"
   },
   {
    "duration": 2,
    "start_time": "2022-11-01T08:16:06.603Z"
   },
   {
    "duration": 669,
    "start_time": "2022-11-01T08:16:07.306Z"
   },
   {
    "duration": 2,
    "start_time": "2022-11-01T08:16:08.704Z"
   },
   {
    "duration": 32,
    "start_time": "2022-11-01T08:16:09.045Z"
   },
   {
    "duration": 28,
    "start_time": "2022-11-01T08:16:09.993Z"
   },
   {
    "duration": 32,
    "start_time": "2022-11-01T08:16:10.916Z"
   },
   {
    "duration": 3,
    "start_time": "2022-11-01T08:16:13.916Z"
   },
   {
    "duration": 4,
    "start_time": "2022-11-01T08:16:15.419Z"
   },
   {
    "duration": 6,
    "start_time": "2022-11-01T08:16:16.473Z"
   },
   {
    "duration": 6,
    "start_time": "2022-11-01T08:16:18.592Z"
   },
   {
    "duration": 120,
    "start_time": "2022-11-01T08:16:28.801Z"
   },
   {
    "duration": 25,
    "start_time": "2022-11-01T08:16:54.876Z"
   },
   {
    "duration": 13,
    "start_time": "2022-11-01T08:19:25.614Z"
   },
   {
    "duration": 10,
    "start_time": "2022-11-01T08:19:36.621Z"
   },
   {
    "duration": 24,
    "start_time": "2022-11-01T08:19:39.477Z"
   },
   {
    "duration": 11,
    "start_time": "2022-11-01T08:19:44.873Z"
   },
   {
    "duration": 25,
    "start_time": "2022-11-01T08:19:48.607Z"
   },
   {
    "duration": 5,
    "start_time": "2022-11-01T08:20:47.560Z"
   },
   {
    "duration": 16,
    "start_time": "2022-11-01T08:21:36.176Z"
   },
   {
    "duration": 4,
    "start_time": "2022-11-01T08:21:44.761Z"
   },
   {
    "duration": 0,
    "start_time": "2022-11-01T08:23:04.185Z"
   },
   {
    "duration": 29,
    "start_time": "2022-11-01T08:23:31.732Z"
   },
   {
    "duration": 12,
    "start_time": "2022-11-01T08:24:08.686Z"
   },
   {
    "duration": 32,
    "start_time": "2022-11-01T08:24:16.423Z"
   },
   {
    "duration": 12,
    "start_time": "2022-11-01T08:24:25.828Z"
   },
   {
    "duration": 12,
    "start_time": "2022-11-01T08:24:32.306Z"
   },
   {
    "duration": 6,
    "start_time": "2022-11-01T08:24:42.183Z"
   },
   {
    "duration": 4,
    "start_time": "2022-11-01T08:25:10.455Z"
   },
   {
    "duration": 6,
    "start_time": "2022-11-01T08:25:14.699Z"
   },
   {
    "duration": 5117,
    "start_time": "2022-11-01T08:25:29.312Z"
   },
   {
    "duration": 29,
    "start_time": "2022-11-01T08:25:50.071Z"
   },
   {
    "duration": 5,
    "start_time": "2022-11-01T08:27:33.999Z"
   },
   {
    "duration": 4,
    "start_time": "2022-11-01T08:33:58.777Z"
   },
   {
    "duration": 34,
    "start_time": "2022-11-01T08:34:00.231Z"
   },
   {
    "duration": 1659,
    "start_time": "2022-11-01T08:37:41.800Z"
   },
   {
    "duration": 1522,
    "start_time": "2022-11-01T08:39:15.930Z"
   },
   {
    "duration": 1802,
    "start_time": "2022-11-01T08:39:26.172Z"
   },
   {
    "duration": 54,
    "start_time": "2022-11-01T08:39:58.605Z"
   },
   {
    "duration": 80,
    "start_time": "2022-11-01T08:40:02.902Z"
   },
   {
    "duration": 86,
    "start_time": "2022-11-01T08:40:10.761Z"
   },
   {
    "duration": 29,
    "start_time": "2022-11-01T08:40:14.047Z"
   },
   {
    "duration": 71,
    "start_time": "2022-11-01T08:40:26.666Z"
   },
   {
    "duration": 30,
    "start_time": "2022-11-01T08:40:27.592Z"
   },
   {
    "duration": 25,
    "start_time": "2022-11-01T08:40:59.222Z"
   },
   {
    "duration": 87,
    "start_time": "2022-11-01T08:41:01.333Z"
   },
   {
    "duration": 718,
    "start_time": "2022-11-01T08:41:25.573Z"
   },
   {
    "duration": 3,
    "start_time": "2022-11-01T08:41:26.811Z"
   },
   {
    "duration": 34,
    "start_time": "2022-11-01T08:41:27.319Z"
   },
   {
    "duration": 30,
    "start_time": "2022-11-01T08:41:28.521Z"
   },
   {
    "duration": 33,
    "start_time": "2022-11-01T08:41:29.224Z"
   },
   {
    "duration": 3,
    "start_time": "2022-11-01T08:41:30.985Z"
   },
   {
    "duration": 4,
    "start_time": "2022-11-01T08:41:32.139Z"
   },
   {
    "duration": 5,
    "start_time": "2022-11-01T08:41:32.775Z"
   },
   {
    "duration": 5,
    "start_time": "2022-11-01T08:41:34.263Z"
   },
   {
    "duration": 88,
    "start_time": "2022-11-01T08:41:35.638Z"
   },
   {
    "duration": 12,
    "start_time": "2022-11-01T08:42:51.016Z"
   },
   {
    "duration": 14,
    "start_time": "2022-11-01T08:42:56.640Z"
   },
   {
    "duration": 519,
    "start_time": "2022-11-01T08:43:29.269Z"
   },
   {
    "duration": 11,
    "start_time": "2022-11-01T08:45:36.548Z"
   },
   {
    "duration": 9,
    "start_time": "2022-11-01T08:46:20.980Z"
   },
   {
    "duration": 10,
    "start_time": "2022-11-01T08:46:38.540Z"
   },
   {
    "duration": 6,
    "start_time": "2022-11-01T08:47:13.530Z"
   },
   {
    "duration": 12,
    "start_time": "2022-11-01T08:47:30.431Z"
   },
   {
    "duration": 33,
    "start_time": "2022-11-01T08:47:46.324Z"
   },
   {
    "duration": 13,
    "start_time": "2022-11-01T08:48:04.244Z"
   },
   {
    "duration": 154,
    "start_time": "2022-11-01T08:48:33.859Z"
   },
   {
    "duration": 12,
    "start_time": "2022-11-01T08:48:35.740Z"
   },
   {
    "duration": 32,
    "start_time": "2022-11-01T08:48:51.860Z"
   },
   {
    "duration": 154,
    "start_time": "2022-11-01T08:51:11.749Z"
   },
   {
    "duration": 12,
    "start_time": "2022-11-01T08:51:12.517Z"
   },
   {
    "duration": 30,
    "start_time": "2022-11-01T08:51:18.460Z"
   },
   {
    "duration": 11,
    "start_time": "2022-11-01T08:52:15.337Z"
   },
   {
    "duration": 12,
    "start_time": "2022-11-01T08:52:19.697Z"
   },
   {
    "duration": 8,
    "start_time": "2022-11-01T08:52:36.101Z"
   },
   {
    "duration": 9,
    "start_time": "2022-11-01T08:52:40.802Z"
   },
   {
    "duration": 6,
    "start_time": "2022-11-01T08:53:01.613Z"
   },
   {
    "duration": 5,
    "start_time": "2022-11-01T08:53:07.957Z"
   },
   {
    "duration": 5,
    "start_time": "2022-11-01T08:53:16.828Z"
   },
   {
    "duration": 6,
    "start_time": "2022-11-01T08:53:21.145Z"
   },
   {
    "duration": 13,
    "start_time": "2022-11-01T08:53:33.286Z"
   },
   {
    "duration": 5,
    "start_time": "2022-11-01T08:53:45.520Z"
   },
   {
    "duration": 5,
    "start_time": "2022-11-01T08:54:29.311Z"
   },
   {
    "duration": 6,
    "start_time": "2022-11-01T08:54:37.296Z"
   },
   {
    "duration": 161,
    "start_time": "2022-11-01T08:55:00.798Z"
   },
   {
    "duration": 43,
    "start_time": "2022-11-01T08:55:07.096Z"
   },
   {
    "duration": 45,
    "start_time": "2022-11-01T08:55:32.878Z"
   },
   {
    "duration": 4,
    "start_time": "2022-11-01T08:55:37.873Z"
   },
   {
    "duration": 5,
    "start_time": "2022-11-01T08:57:08.987Z"
   },
   {
    "duration": 6,
    "start_time": "2022-11-01T08:57:21.770Z"
   },
   {
    "duration": 7,
    "start_time": "2022-11-01T08:57:39.450Z"
   },
   {
    "duration": 4,
    "start_time": "2022-11-01T08:58:39.231Z"
   },
   {
    "duration": 240,
    "start_time": "2022-11-01T08:59:11.846Z"
   },
   {
    "duration": 33,
    "start_time": "2022-11-01T08:59:19.921Z"
   },
   {
    "duration": 217,
    "start_time": "2022-11-01T09:00:51.687Z"
   },
   {
    "duration": 5,
    "start_time": "2022-11-01T09:01:09.048Z"
   },
   {
    "duration": 5,
    "start_time": "2022-11-01T09:01:14.409Z"
   },
   {
    "duration": 6,
    "start_time": "2022-11-01T09:01:22.147Z"
   },
   {
    "duration": 104,
    "start_time": "2022-11-01T09:01:50.052Z"
   },
   {
    "duration": 3,
    "start_time": "2022-11-01T09:04:04.071Z"
   },
   {
    "duration": 2,
    "start_time": "2022-11-01T09:04:05.907Z"
   },
   {
    "duration": 664,
    "start_time": "2022-11-01T09:04:06.754Z"
   },
   {
    "duration": 3,
    "start_time": "2022-11-01T09:04:07.841Z"
   },
   {
    "duration": 33,
    "start_time": "2022-11-01T09:04:08.528Z"
   },
   {
    "duration": 28,
    "start_time": "2022-11-01T09:04:11.193Z"
   },
   {
    "duration": 33,
    "start_time": "2022-11-01T09:04:13.129Z"
   },
   {
    "duration": 3,
    "start_time": "2022-11-01T09:04:15.425Z"
   },
   {
    "duration": 5,
    "start_time": "2022-11-01T09:04:16.674Z"
   },
   {
    "duration": 8,
    "start_time": "2022-11-01T09:05:39.508Z"
   },
   {
    "duration": 9,
    "start_time": "2022-11-01T09:05:51.029Z"
   },
   {
    "duration": 8,
    "start_time": "2022-11-01T09:05:56.336Z"
   },
   {
    "duration": 18,
    "start_time": "2022-11-01T09:06:16.612Z"
   },
   {
    "duration": 9,
    "start_time": "2022-11-01T09:06:28.893Z"
   },
   {
    "duration": 13,
    "start_time": "2022-11-01T09:07:26.685Z"
   },
   {
    "duration": 28,
    "start_time": "2022-11-01T09:08:55.595Z"
   },
   {
    "duration": 118,
    "start_time": "2022-11-01T09:08:58.812Z"
   },
   {
    "duration": 9,
    "start_time": "2022-11-01T09:09:02.360Z"
   },
   {
    "duration": 22,
    "start_time": "2022-11-01T09:09:37.639Z"
   },
   {
    "duration": 9,
    "start_time": "2022-11-01T09:10:13.799Z"
   },
   {
    "duration": 19,
    "start_time": "2022-11-01T09:10:35.413Z"
   },
   {
    "duration": 304,
    "start_time": "2022-11-01T09:10:43.467Z"
   },
   {
    "duration": 326,
    "start_time": "2022-11-01T09:10:56.916Z"
   },
   {
    "duration": 85,
    "start_time": "2022-11-01T09:11:05.441Z"
   },
   {
    "duration": 303,
    "start_time": "2022-11-01T09:11:10.735Z"
   },
   {
    "duration": 315,
    "start_time": "2022-11-01T09:11:13.651Z"
   },
   {
    "duration": 119,
    "start_time": "2022-11-01T09:18:29.978Z"
   },
   {
    "duration": 4,
    "start_time": "2022-11-01T09:18:57.465Z"
   },
   {
    "duration": 144,
    "start_time": "2022-11-01T09:18:58.964Z"
   },
   {
    "duration": 31,
    "start_time": "2022-11-01T09:19:05.977Z"
   },
   {
    "duration": 9,
    "start_time": "2022-11-01T09:19:51.326Z"
   },
   {
    "duration": 19,
    "start_time": "2022-11-01T09:57:15.106Z"
   },
   {
    "duration": 9,
    "start_time": "2022-11-01T09:57:56.595Z"
   },
   {
    "duration": 3,
    "start_time": "2022-11-01T09:59:01.501Z"
   },
   {
    "duration": 9,
    "start_time": "2022-11-01T09:59:03.129Z"
   },
   {
    "duration": 104,
    "start_time": "2022-11-01T09:59:38.712Z"
   },
   {
    "duration": 3,
    "start_time": "2022-11-01T10:03:38.909Z"
   },
   {
    "duration": 26,
    "start_time": "2022-11-01T10:03:53.924Z"
   },
   {
    "duration": 13,
    "start_time": "2022-11-01T10:04:00.711Z"
   },
   {
    "duration": 3,
    "start_time": "2022-11-01T10:04:23.736Z"
   },
   {
    "duration": 3,
    "start_time": "2022-11-01T10:04:29.790Z"
   },
   {
    "duration": 625,
    "start_time": "2022-11-01T10:04:37.840Z"
   },
   {
    "duration": 3,
    "start_time": "2022-11-01T10:04:39.970Z"
   },
   {
    "duration": 34,
    "start_time": "2022-11-01T10:04:40.329Z"
   },
   {
    "duration": 40,
    "start_time": "2022-11-01T10:04:41.921Z"
   },
   {
    "duration": 33,
    "start_time": "2022-11-01T10:04:43.692Z"
   },
   {
    "duration": 3,
    "start_time": "2022-11-01T10:04:45.497Z"
   },
   {
    "duration": 4,
    "start_time": "2022-11-01T10:04:46.039Z"
   },
   {
    "duration": 5,
    "start_time": "2022-11-01T10:04:46.620Z"
   },
   {
    "duration": 5,
    "start_time": "2022-11-01T10:05:04.127Z"
   },
   {
    "duration": 12,
    "start_time": "2022-11-01T10:05:24.304Z"
   },
   {
    "duration": 94,
    "start_time": "2022-11-01T10:05:51.426Z"
   },
   {
    "duration": 17,
    "start_time": "2022-11-01T10:08:30.991Z"
   },
   {
    "duration": 87,
    "start_time": "2022-11-01T10:08:37.723Z"
   },
   {
    "duration": 126,
    "start_time": "2022-11-01T10:11:06.228Z"
   },
   {
    "duration": 40,
    "start_time": "2022-11-01T10:12:30.998Z"
   },
   {
    "duration": 3,
    "start_time": "2022-11-01T10:12:45.460Z"
   },
   {
    "duration": 14,
    "start_time": "2022-11-01T10:12:48.105Z"
   },
   {
    "duration": 12,
    "start_time": "2022-11-01T10:12:50.311Z"
   },
   {
    "duration": 669,
    "start_time": "2022-11-01T10:12:57.161Z"
   },
   {
    "duration": 2,
    "start_time": "2022-11-01T10:12:58.800Z"
   },
   {
    "duration": 36,
    "start_time": "2022-11-01T10:12:59.094Z"
   },
   {
    "duration": 30,
    "start_time": "2022-11-01T10:13:00.070Z"
   },
   {
    "duration": 37,
    "start_time": "2022-11-01T10:13:00.359Z"
   },
   {
    "duration": 2,
    "start_time": "2022-11-01T10:13:01.855Z"
   },
   {
    "duration": 4,
    "start_time": "2022-11-01T10:13:03.105Z"
   },
   {
    "duration": 4,
    "start_time": "2022-11-01T10:13:03.791Z"
   },
   {
    "duration": 113,
    "start_time": "2022-11-01T10:13:05.406Z"
   },
   {
    "duration": 3,
    "start_time": "2022-11-01T10:13:36.748Z"
   },
   {
    "duration": 17,
    "start_time": "2022-11-01T10:13:37.765Z"
   },
   {
    "duration": 11,
    "start_time": "2022-11-01T10:13:40.817Z"
   },
   {
    "duration": 666,
    "start_time": "2022-11-01T10:13:42.853Z"
   },
   {
    "duration": 3,
    "start_time": "2022-11-01T10:13:43.520Z"
   },
   {
    "duration": 35,
    "start_time": "2022-11-01T10:13:43.796Z"
   },
   {
    "duration": 3,
    "start_time": "2022-11-01T10:14:16.433Z"
   },
   {
    "duration": 25,
    "start_time": "2022-11-01T10:14:17.463Z"
   },
   {
    "duration": 13,
    "start_time": "2022-11-01T10:14:19.643Z"
   },
   {
    "duration": 657,
    "start_time": "2022-11-01T10:14:22.912Z"
   },
   {
    "duration": 3,
    "start_time": "2022-11-01T10:14:23.571Z"
   },
   {
    "duration": 56,
    "start_time": "2022-11-01T10:14:23.575Z"
   },
   {
    "duration": 3,
    "start_time": "2022-11-01T10:14:59.795Z"
   },
   {
    "duration": 26,
    "start_time": "2022-11-01T10:15:00.078Z"
   },
   {
    "duration": 45,
    "start_time": "2022-11-01T10:15:04.367Z"
   },
   {
    "duration": 20,
    "start_time": "2022-11-01T10:17:27.721Z"
   },
   {
    "duration": 26,
    "start_time": "2022-11-01T10:17:43.576Z"
   },
   {
    "duration": 29,
    "start_time": "2022-11-01T10:17:46.744Z"
   },
   {
    "duration": 33,
    "start_time": "2022-11-01T10:17:49.440Z"
   },
   {
    "duration": 3,
    "start_time": "2022-11-01T10:18:24.905Z"
   },
   {
    "duration": 1224,
    "start_time": "2022-11-01T10:18:25.181Z"
   },
   {
    "duration": 459,
    "start_time": "2022-11-01T10:18:29.566Z"
   },
   {
    "duration": 1315,
    "start_time": "2022-11-01T10:18:30.027Z"
   },
   {
    "duration": 2,
    "start_time": "2022-11-01T10:20:29.258Z"
   },
   {
    "duration": 128,
    "start_time": "2022-11-01T10:24:38.554Z"
   },
   {
    "duration": 131,
    "start_time": "2022-11-01T10:25:20.547Z"
   },
   {
    "duration": 145,
    "start_time": "2022-11-01T10:25:26.001Z"
   },
   {
    "duration": 127,
    "start_time": "2022-11-01T10:25:31.694Z"
   },
   {
    "duration": 130,
    "start_time": "2022-11-01T10:25:37.443Z"
   },
   {
    "duration": 123,
    "start_time": "2022-11-01T10:25:40.537Z"
   },
   {
    "duration": 145,
    "start_time": "2022-11-01T10:26:17.607Z"
   },
   {
    "duration": 142,
    "start_time": "2022-11-01T10:26:29.131Z"
   },
   {
    "duration": 116,
    "start_time": "2022-11-01T10:27:07.530Z"
   },
   {
    "duration": 22089,
    "start_time": "2022-11-01T10:28:37.128Z"
   },
   {
    "duration": 163,
    "start_time": "2022-11-01T10:28:59.219Z"
   },
   {
    "duration": 9728,
    "start_time": "2022-11-01T10:29:18.282Z"
   },
   {
    "duration": 4407,
    "start_time": "2022-11-01T10:29:33.569Z"
   },
   {
    "duration": 148,
    "start_time": "2022-11-01T10:30:19.786Z"
   },
   {
    "duration": 54,
    "start_time": "2022-11-01T10:30:30.295Z"
   },
   {
    "duration": 8,
    "start_time": "2022-11-01T10:30:33.177Z"
   },
   {
    "duration": 7,
    "start_time": "2022-11-01T10:30:37.618Z"
   },
   {
    "duration": 7,
    "start_time": "2022-11-01T10:31:01.580Z"
   },
   {
    "duration": 7,
    "start_time": "2022-11-01T10:31:21.932Z"
   },
   {
    "duration": 4,
    "start_time": "2022-11-01T10:32:30.623Z"
   },
   {
    "duration": 42,
    "start_time": "2022-11-01T10:32:31.063Z"
   },
   {
    "duration": 23,
    "start_time": "2022-11-01T10:32:38.179Z"
   },
   {
    "duration": 42,
    "start_time": "2022-11-01T10:32:40.466Z"
   },
   {
    "duration": 154,
    "start_time": "2022-11-01T10:34:04.487Z"
   },
   {
    "duration": 162,
    "start_time": "2022-11-01T10:34:21.975Z"
   },
   {
    "duration": 170,
    "start_time": "2022-11-01T10:34:28.838Z"
   },
   {
    "duration": 180,
    "start_time": "2022-11-01T10:34:31.156Z"
   },
   {
    "duration": 214,
    "start_time": "2022-11-01T10:34:54.047Z"
   },
   {
    "duration": 198,
    "start_time": "2022-11-01T10:34:57.400Z"
   },
   {
    "duration": 217,
    "start_time": "2022-11-01T10:35:00.307Z"
   },
   {
    "duration": 246,
    "start_time": "2022-11-01T10:35:46.348Z"
   },
   {
    "duration": 234,
    "start_time": "2022-11-01T10:35:56.827Z"
   },
   {
    "duration": 203,
    "start_time": "2022-11-01T10:36:12.782Z"
   },
   {
    "duration": 210,
    "start_time": "2022-11-01T10:36:31.627Z"
   },
   {
    "duration": 203,
    "start_time": "2022-11-01T10:36:52.044Z"
   },
   {
    "duration": 222,
    "start_time": "2022-11-01T10:36:52.967Z"
   },
   {
    "duration": 198,
    "start_time": "2022-11-01T10:37:19.343Z"
   },
   {
    "duration": 392,
    "start_time": "2022-11-01T10:50:09.090Z"
   },
   {
    "duration": 391,
    "start_time": "2022-11-01T10:51:08.530Z"
   },
   {
    "duration": 573,
    "start_time": "2022-11-01T10:52:21.482Z"
   },
   {
    "duration": 0,
    "start_time": "2022-11-01T10:52:54.221Z"
   },
   {
    "duration": 55,
    "start_time": "2022-11-01T10:53:30.606Z"
   },
   {
    "duration": 558,
    "start_time": "2022-11-01T10:53:51.177Z"
   },
   {
    "duration": 14,
    "start_time": "2022-11-01T10:56:19.145Z"
   },
   {
    "duration": 13,
    "start_time": "2022-11-01T10:56:47.455Z"
   },
   {
    "duration": 13,
    "start_time": "2022-11-01T10:56:56.765Z"
   },
   {
    "duration": 570,
    "start_time": "2022-11-01T10:58:05.533Z"
   },
   {
    "duration": 15,
    "start_time": "2022-11-01T11:00:47.752Z"
   },
   {
    "duration": 12,
    "start_time": "2022-11-01T11:00:53.941Z"
   },
   {
    "duration": 432,
    "start_time": "2022-11-01T11:01:18.775Z"
   },
   {
    "duration": 446,
    "start_time": "2022-11-01T11:01:46.499Z"
   },
   {
    "duration": 124,
    "start_time": "2022-11-01T11:01:55.322Z"
   },
   {
    "duration": 13,
    "start_time": "2022-11-01T11:01:59.177Z"
   },
   {
    "duration": 5,
    "start_time": "2022-11-01T11:02:14.030Z"
   },
   {
    "duration": 442,
    "start_time": "2022-11-01T11:02:17.086Z"
   },
   {
    "duration": 13,
    "start_time": "2022-11-01T11:02:53.353Z"
   },
   {
    "duration": 588,
    "start_time": "2022-11-01T11:03:03.936Z"
   },
   {
    "duration": 47,
    "start_time": "2022-11-01T11:04:06.420Z"
   },
   {
    "duration": 4,
    "start_time": "2022-11-01T11:05:08.402Z"
   },
   {
    "duration": 541,
    "start_time": "2022-11-01T11:05:37.538Z"
   },
   {
    "duration": 4,
    "start_time": "2022-11-01T11:06:01.613Z"
   },
   {
    "duration": 569,
    "start_time": "2022-11-01T11:06:04.953Z"
   },
   {
    "duration": 3,
    "start_time": "2022-11-01T11:07:05.708Z"
   },
   {
    "duration": 525,
    "start_time": "2022-11-01T11:07:08.273Z"
   },
   {
    "duration": 588,
    "start_time": "2022-11-01T11:07:56.599Z"
   },
   {
    "duration": 4,
    "start_time": "2022-11-01T11:09:23.061Z"
   },
   {
    "duration": 558,
    "start_time": "2022-11-01T11:09:23.694Z"
   },
   {
    "duration": 1244,
    "start_time": "2022-11-01T11:09:26.157Z"
   },
   {
    "duration": 556,
    "start_time": "2022-11-01T11:09:28.681Z"
   },
   {
    "duration": 4,
    "start_time": "2022-11-01T11:10:09.679Z"
   },
   {
    "duration": 574,
    "start_time": "2022-11-01T11:10:10.177Z"
   },
   {
    "duration": 578,
    "start_time": "2022-11-01T11:10:11.910Z"
   },
   {
    "duration": 602,
    "start_time": "2022-11-01T11:10:13.168Z"
   },
   {
    "duration": 566,
    "start_time": "2022-11-01T11:20:19.421Z"
   },
   {
    "duration": 137,
    "start_time": "2022-11-01T11:29:15.406Z"
   },
   {
    "duration": 142,
    "start_time": "2022-11-01T11:29:16.899Z"
   },
   {
    "duration": 121,
    "start_time": "2022-11-01T11:29:37.466Z"
   },
   {
    "duration": 4,
    "start_time": "2022-11-01T11:38:50.043Z"
   },
   {
    "duration": 4,
    "start_time": "2022-11-01T11:38:54.293Z"
   },
   {
    "duration": 5,
    "start_time": "2022-11-01T11:39:06.541Z"
   },
   {
    "duration": 124,
    "start_time": "2022-11-01T11:39:12.325Z"
   },
   {
    "duration": 118,
    "start_time": "2022-11-01T11:39:14.893Z"
   },
   {
    "duration": 131,
    "start_time": "2022-11-01T11:39:21.199Z"
   },
   {
    "duration": 125,
    "start_time": "2022-11-01T11:39:23.980Z"
   },
   {
    "duration": 130,
    "start_time": "2022-11-01T11:39:28.145Z"
   },
   {
    "duration": 5,
    "start_time": "2022-11-01T11:41:03.803Z"
   },
   {
    "duration": 6,
    "start_time": "2022-11-01T11:41:14.904Z"
   },
   {
    "duration": 622,
    "start_time": "2022-11-01T11:42:19.087Z"
   },
   {
    "duration": 3,
    "start_time": "2022-11-01T11:42:19.710Z"
   },
   {
    "duration": 32,
    "start_time": "2022-11-01T11:42:19.846Z"
   },
   {
    "duration": 30,
    "start_time": "2022-11-01T11:42:20.122Z"
   },
   {
    "duration": 35,
    "start_time": "2022-11-01T11:42:23.168Z"
   },
   {
    "duration": 2,
    "start_time": "2022-11-01T11:42:25.029Z"
   },
   {
    "duration": 6,
    "start_time": "2022-11-01T11:42:25.748Z"
   },
   {
    "duration": 5,
    "start_time": "2022-11-01T11:42:26.031Z"
   },
   {
    "duration": 3,
    "start_time": "2022-11-01T11:42:34.208Z"
   },
   {
    "duration": 39,
    "start_time": "2022-11-01T11:42:35.254Z"
   },
   {
    "duration": 25,
    "start_time": "2022-11-01T11:42:35.541Z"
   },
   {
    "duration": 39,
    "start_time": "2022-11-01T11:42:36.006Z"
   },
   {
    "duration": 6,
    "start_time": "2022-11-01T11:42:41.495Z"
   },
   {
    "duration": 5,
    "start_time": "2022-11-01T11:42:42.959Z"
   },
   {
    "duration": 607,
    "start_time": "2022-11-01T11:42:49.770Z"
   },
   {
    "duration": 2,
    "start_time": "2022-11-01T11:42:50.515Z"
   },
   {
    "duration": 39,
    "start_time": "2022-11-01T11:42:51.119Z"
   },
   {
    "duration": 31,
    "start_time": "2022-11-01T11:42:51.932Z"
   },
   {
    "duration": 36,
    "start_time": "2022-11-01T11:42:52.233Z"
   },
   {
    "duration": 3,
    "start_time": "2022-11-01T11:42:54.379Z"
   },
   {
    "duration": 4,
    "start_time": "2022-11-01T11:42:55.874Z"
   },
   {
    "duration": 5,
    "start_time": "2022-11-01T11:42:59.658Z"
   },
   {
    "duration": 5,
    "start_time": "2022-11-01T11:43:00.427Z"
   },
   {
    "duration": 3,
    "start_time": "2022-11-01T11:43:07.870Z"
   },
   {
    "duration": 8,
    "start_time": "2022-11-01T11:43:07.875Z"
   },
   {
    "duration": 595,
    "start_time": "2022-11-01T11:43:07.885Z"
   },
   {
    "duration": 2,
    "start_time": "2022-11-01T11:43:08.482Z"
   },
   {
    "duration": 53,
    "start_time": "2022-11-01T11:43:08.486Z"
   },
   {
    "duration": 32,
    "start_time": "2022-11-01T11:43:08.541Z"
   },
   {
    "duration": 56,
    "start_time": "2022-11-01T11:43:08.576Z"
   },
   {
    "duration": 3,
    "start_time": "2022-11-01T11:43:08.634Z"
   },
   {
    "duration": 7,
    "start_time": "2022-11-01T11:43:08.639Z"
   },
   {
    "duration": 6,
    "start_time": "2022-11-01T11:43:08.648Z"
   },
   {
    "duration": 5,
    "start_time": "2022-11-01T11:43:08.656Z"
   },
   {
    "duration": 67,
    "start_time": "2022-11-01T11:43:08.663Z"
   },
   {
    "duration": 25,
    "start_time": "2022-11-01T11:43:08.732Z"
   },
   {
    "duration": 57,
    "start_time": "2022-11-01T11:43:08.759Z"
   },
   {
    "duration": 5,
    "start_time": "2022-11-01T11:43:08.817Z"
   },
   {
    "duration": 619,
    "start_time": "2022-11-01T11:43:08.824Z"
   },
   {
    "duration": 599,
    "start_time": "2022-11-01T11:43:09.444Z"
   },
   {
    "duration": 550,
    "start_time": "2022-11-01T11:43:10.044Z"
   },
   {
    "duration": 563,
    "start_time": "2022-11-01T11:43:10.596Z"
   },
   {
    "duration": 6,
    "start_time": "2022-11-01T11:43:11.161Z"
   },
   {
    "duration": 10,
    "start_time": "2022-11-01T11:43:11.169Z"
   },
   {
    "duration": 3,
    "start_time": "2022-11-01T11:43:49.239Z"
   },
   {
    "duration": 887,
    "start_time": "2022-11-01T11:44:30.393Z"
   },
   {
    "duration": 253,
    "start_time": "2022-11-01T11:44:39.505Z"
   },
   {
    "duration": 165,
    "start_time": "2022-11-01T11:44:52.918Z"
   },
   {
    "duration": 162,
    "start_time": "2022-11-01T11:44:55.893Z"
   },
   {
    "duration": 164,
    "start_time": "2022-11-01T11:44:58.958Z"
   },
   {
    "duration": 246,
    "start_time": "2022-11-01T11:45:07.495Z"
   },
   {
    "duration": 249,
    "start_time": "2022-11-01T11:45:13.491Z"
   },
   {
    "duration": 211,
    "start_time": "2022-11-01T11:45:19.537Z"
   },
   {
    "duration": 50,
    "start_time": "2022-11-01T11:46:58.575Z"
   },
   {
    "duration": 226,
    "start_time": "2022-11-01T11:47:02.684Z"
   },
   {
    "duration": 271,
    "start_time": "2022-11-01T11:47:11.638Z"
   },
   {
    "duration": 13,
    "start_time": "2022-11-01T11:47:23.460Z"
   },
   {
    "duration": 246,
    "start_time": "2022-11-01T11:47:32.470Z"
   },
   {
    "duration": 249,
    "start_time": "2022-11-01T11:47:49.445Z"
   },
   {
    "duration": 259,
    "start_time": "2022-11-01T11:48:25.691Z"
   },
   {
    "duration": 262,
    "start_time": "2022-11-01T11:48:35.614Z"
   },
   {
    "duration": 247,
    "start_time": "2022-11-01T11:48:51.050Z"
   },
   {
    "duration": 7,
    "start_time": "2022-11-01T11:53:45.978Z"
   },
   {
    "duration": 7,
    "start_time": "2022-11-01T12:05:01.606Z"
   },
   {
    "duration": 5,
    "start_time": "2022-11-01T12:08:14.365Z"
   },
   {
    "duration": 798,
    "start_time": "2022-11-01T12:08:28.328Z"
   },
   {
    "duration": 5,
    "start_time": "2022-11-01T12:08:43.976Z"
   },
   {
    "duration": 10,
    "start_time": "2022-11-01T12:09:41.210Z"
   },
   {
    "duration": 5,
    "start_time": "2022-11-01T12:10:20.164Z"
   },
   {
    "duration": 4,
    "start_time": "2022-11-01T12:10:20.413Z"
   },
   {
    "duration": 13,
    "start_time": "2022-11-01T12:10:20.624Z"
   },
   {
    "duration": 5,
    "start_time": "2022-11-01T12:10:25.128Z"
   },
   {
    "duration": 3,
    "start_time": "2022-11-01T12:10:30.425Z"
   },
   {
    "duration": 14,
    "start_time": "2022-11-01T12:10:30.430Z"
   },
   {
    "duration": 608,
    "start_time": "2022-11-01T12:10:30.446Z"
   },
   {
    "duration": 3,
    "start_time": "2022-11-01T12:10:31.056Z"
   },
   {
    "duration": 48,
    "start_time": "2022-11-01T12:10:31.060Z"
   },
   {
    "duration": 31,
    "start_time": "2022-11-01T12:10:31.109Z"
   },
   {
    "duration": 36,
    "start_time": "2022-11-01T12:10:31.141Z"
   },
   {
    "duration": 31,
    "start_time": "2022-11-01T12:10:31.178Z"
   },
   {
    "duration": 5,
    "start_time": "2022-11-01T12:10:31.210Z"
   },
   {
    "duration": 21,
    "start_time": "2022-11-01T12:10:31.217Z"
   },
   {
    "duration": 14,
    "start_time": "2022-11-01T12:10:31.240Z"
   },
   {
    "duration": 26,
    "start_time": "2022-11-01T12:10:31.256Z"
   },
   {
    "duration": 0,
    "start_time": "2022-11-01T12:10:31.284Z"
   },
   {
    "duration": 0,
    "start_time": "2022-11-01T12:10:31.285Z"
   },
   {
    "duration": 0,
    "start_time": "2022-11-01T12:10:31.287Z"
   },
   {
    "duration": 0,
    "start_time": "2022-11-01T12:10:31.288Z"
   },
   {
    "duration": 0,
    "start_time": "2022-11-01T12:10:31.290Z"
   },
   {
    "duration": 0,
    "start_time": "2022-11-01T12:10:31.291Z"
   },
   {
    "duration": 0,
    "start_time": "2022-11-01T12:10:31.292Z"
   },
   {
    "duration": 0,
    "start_time": "2022-11-01T12:10:31.293Z"
   },
   {
    "duration": 0,
    "start_time": "2022-11-01T12:10:31.294Z"
   },
   {
    "duration": 0,
    "start_time": "2022-11-01T12:10:31.295Z"
   },
   {
    "duration": 0,
    "start_time": "2022-11-01T12:10:31.296Z"
   },
   {
    "duration": 3,
    "start_time": "2022-11-01T12:10:56.269Z"
   },
   {
    "duration": 4,
    "start_time": "2022-11-01T12:10:56.276Z"
   },
   {
    "duration": 599,
    "start_time": "2022-11-01T12:10:56.281Z"
   },
   {
    "duration": 3,
    "start_time": "2022-11-01T12:10:56.881Z"
   },
   {
    "duration": 43,
    "start_time": "2022-11-01T12:10:56.885Z"
   },
   {
    "duration": 27,
    "start_time": "2022-11-01T12:10:56.930Z"
   },
   {
    "duration": 55,
    "start_time": "2022-11-01T12:10:56.958Z"
   },
   {
    "duration": 3,
    "start_time": "2022-11-01T12:10:57.015Z"
   },
   {
    "duration": 6,
    "start_time": "2022-11-01T12:10:57.019Z"
   },
   {
    "duration": 7,
    "start_time": "2022-11-01T12:10:57.026Z"
   },
   {
    "duration": 5,
    "start_time": "2022-11-01T12:10:57.035Z"
   },
   {
    "duration": 40,
    "start_time": "2022-11-01T12:10:57.042Z"
   },
   {
    "duration": 47,
    "start_time": "2022-11-01T12:10:57.083Z"
   },
   {
    "duration": 40,
    "start_time": "2022-11-01T12:10:57.131Z"
   },
   {
    "duration": 4,
    "start_time": "2022-11-01T12:10:57.174Z"
   },
   {
    "duration": 582,
    "start_time": "2022-11-01T12:10:57.180Z"
   },
   {
    "duration": 568,
    "start_time": "2022-11-01T12:10:57.763Z"
   },
   {
    "duration": 598,
    "start_time": "2022-11-01T12:10:58.332Z"
   },
   {
    "duration": 645,
    "start_time": "2022-11-01T12:10:58.932Z"
   },
   {
    "duration": 246,
    "start_time": "2022-11-01T12:10:59.579Z"
   },
   {
    "duration": 4,
    "start_time": "2022-11-01T12:10:59.827Z"
   },
   {
    "duration": 6,
    "start_time": "2022-11-01T12:10:59.833Z"
   },
   {
    "duration": 11,
    "start_time": "2022-11-01T12:10:59.841Z"
   },
   {
    "duration": 555,
    "start_time": "2022-11-01T12:11:36.861Z"
   },
   {
    "duration": 66,
    "start_time": "2022-11-01T12:16:08.378Z"
   },
   {
    "duration": 566,
    "start_time": "2022-11-01T12:16:39.464Z"
   },
   {
    "duration": 3,
    "start_time": "2022-11-01T13:21:11.046Z"
   },
   {
    "duration": 4,
    "start_time": "2022-11-01T13:24:13.306Z"
   },
   {
    "duration": 3,
    "start_time": "2022-11-01T13:27:18.640Z"
   },
   {
    "duration": 865,
    "start_time": "2022-11-01T13:29:49.767Z"
   },
   {
    "duration": 11,
    "start_time": "2022-11-01T13:33:06.904Z"
   },
   {
    "duration": 4,
    "start_time": "2022-11-01T13:33:15.486Z"
   },
   {
    "duration": 16,
    "start_time": "2022-11-01T13:33:23.826Z"
   },
   {
    "duration": 791,
    "start_time": "2022-11-01T13:33:53.734Z"
   },
   {
    "duration": 6,
    "start_time": "2022-11-01T13:36:04.390Z"
   },
   {
    "duration": 762,
    "start_time": "2022-11-01T13:36:23.280Z"
   },
   {
    "duration": 7,
    "start_time": "2022-11-01T13:36:43.033Z"
   },
   {
    "duration": 4,
    "start_time": "2022-11-01T13:37:03.613Z"
   },
   {
    "duration": 8,
    "start_time": "2022-11-01T13:37:11.844Z"
   },
   {
    "duration": 3,
    "start_time": "2022-11-01T13:39:19.178Z"
   },
   {
    "duration": 2,
    "start_time": "2022-11-01T13:39:47.024Z"
   },
   {
    "duration": 685,
    "start_time": "2022-11-01T13:41:14.254Z"
   },
   {
    "duration": 9,
    "start_time": "2022-11-01T13:42:02.148Z"
   },
   {
    "duration": 3,
    "start_time": "2022-11-01T13:42:26.770Z"
   },
   {
    "duration": 9,
    "start_time": "2022-11-01T13:42:50.511Z"
   },
   {
    "duration": 3,
    "start_time": "2022-11-01T13:43:29.273Z"
   },
   {
    "duration": 2,
    "start_time": "2022-11-01T13:43:36.856Z"
   },
   {
    "duration": 856,
    "start_time": "2022-11-01T13:43:47.241Z"
   },
   {
    "duration": 10,
    "start_time": "2022-11-01T13:44:44.042Z"
   },
   {
    "duration": 3,
    "start_time": "2022-11-01T13:45:06.358Z"
   },
   {
    "duration": 9,
    "start_time": "2022-11-01T13:45:09.051Z"
   },
   {
    "duration": 3,
    "start_time": "2022-11-01T13:45:09.587Z"
   },
   {
    "duration": 669,
    "start_time": "2022-11-01T13:45:09.965Z"
   },
   {
    "duration": 10,
    "start_time": "2022-11-01T13:48:08.001Z"
   },
   {
    "duration": 4,
    "start_time": "2022-11-01T13:49:05.913Z"
   },
   {
    "duration": 3,
    "start_time": "2022-11-01T13:49:12.768Z"
   },
   {
    "duration": 10,
    "start_time": "2022-11-01T13:49:13.233Z"
   },
   {
    "duration": 4,
    "start_time": "2022-11-01T13:49:13.783Z"
   },
   {
    "duration": 682,
    "start_time": "2022-11-01T13:49:14.580Z"
   },
   {
    "duration": 10,
    "start_time": "2022-11-01T13:55:01.756Z"
   },
   {
    "duration": 3,
    "start_time": "2022-11-01T13:55:36.757Z"
   },
   {
    "duration": 3,
    "start_time": "2022-11-01T13:56:11.432Z"
   },
   {
    "duration": 3,
    "start_time": "2022-11-01T13:56:28.854Z"
   },
   {
    "duration": 50,
    "start_time": "2022-11-01T15:26:22.207Z"
   },
   {
    "duration": 46,
    "start_time": "2022-11-01T15:26:31.464Z"
   },
   {
    "duration": 13,
    "start_time": "2022-11-01T15:26:48.904Z"
   },
   {
    "duration": 49,
    "start_time": "2022-11-01T15:26:50.089Z"
   },
   {
    "duration": 8,
    "start_time": "2022-11-01T15:26:58.376Z"
   },
   {
    "duration": 17,
    "start_time": "2022-11-01T15:26:59.080Z"
   },
   {
    "duration": 19,
    "start_time": "2022-11-01T15:27:26.971Z"
   },
   {
    "duration": 7,
    "start_time": "2022-11-01T15:28:02.928Z"
   },
   {
    "duration": 17,
    "start_time": "2022-11-01T15:28:03.654Z"
   },
   {
    "duration": 7,
    "start_time": "2022-11-01T15:28:13.338Z"
   },
   {
    "duration": 212,
    "start_time": "2022-11-01T15:29:05.603Z"
   },
   {
    "duration": 9,
    "start_time": "2022-11-01T15:29:34.976Z"
   },
   {
    "duration": 109,
    "start_time": "2022-11-01T15:29:35.804Z"
   },
   {
    "duration": 8,
    "start_time": "2022-11-01T15:30:01.657Z"
   },
   {
    "duration": 3,
    "start_time": "2022-11-01T15:30:32.221Z"
   },
   {
    "duration": 1894,
    "start_time": "2022-11-01T15:30:32.721Z"
   },
   {
    "duration": 4,
    "start_time": "2022-11-01T15:30:49.422Z"
   },
   {
    "duration": 9,
    "start_time": "2022-11-01T15:31:09.664Z"
   },
   {
    "duration": 14,
    "start_time": "2022-11-01T15:31:40.796Z"
   },
   {
    "duration": 11,
    "start_time": "2022-11-01T15:32:14.763Z"
   },
   {
    "duration": 4,
    "start_time": "2022-11-01T15:32:45.894Z"
   },
   {
    "duration": 11,
    "start_time": "2022-11-01T15:34:15.451Z"
   },
   {
    "duration": 3,
    "start_time": "2022-11-01T15:34:29.165Z"
   },
   {
    "duration": 8,
    "start_time": "2022-11-01T15:34:33.552Z"
   },
   {
    "duration": 18,
    "start_time": "2022-11-01T15:34:37.770Z"
   },
   {
    "duration": 8,
    "start_time": "2022-11-01T15:34:51.832Z"
   },
   {
    "duration": 4,
    "start_time": "2022-11-01T15:36:39.398Z"
   },
   {
    "duration": 22,
    "start_time": "2022-11-01T15:36:42.748Z"
   },
   {
    "duration": 3,
    "start_time": "2022-11-01T15:37:29.842Z"
   },
   {
    "duration": 12,
    "start_time": "2022-11-01T15:37:31.389Z"
   },
   {
    "duration": 3,
    "start_time": "2022-11-01T15:38:28.890Z"
   },
   {
    "duration": 12,
    "start_time": "2022-11-01T15:38:30.034Z"
   },
   {
    "duration": 8,
    "start_time": "2022-11-01T15:38:54.778Z"
   },
   {
    "duration": 8,
    "start_time": "2022-11-01T15:39:44.397Z"
   },
   {
    "duration": 5,
    "start_time": "2022-11-01T15:40:02.335Z"
   },
   {
    "duration": 4,
    "start_time": "2022-11-01T15:42:08.788Z"
   },
   {
    "duration": 5,
    "start_time": "2022-11-01T15:42:24.233Z"
   },
   {
    "duration": 4,
    "start_time": "2022-11-01T15:42:25.476Z"
   },
   {
    "duration": 4,
    "start_time": "2022-11-01T15:42:34.889Z"
   },
   {
    "duration": 58,
    "start_time": "2022-11-01T16:31:13.677Z"
   },
   {
    "duration": 50,
    "start_time": "2022-11-01T16:31:21.065Z"
   },
   {
    "duration": 5,
    "start_time": "2022-11-01T16:31:40.413Z"
   },
   {
    "duration": 5,
    "start_time": "2022-11-01T16:32:23.384Z"
   },
   {
    "duration": 148,
    "start_time": "2022-11-01T16:32:32.161Z"
   },
   {
    "duration": 7,
    "start_time": "2022-11-01T16:32:37.525Z"
   },
   {
    "duration": 3,
    "start_time": "2022-11-01T16:32:39.380Z"
   },
   {
    "duration": 13,
    "start_time": "2022-11-01T16:32:47.273Z"
   },
   {
    "duration": 5,
    "start_time": "2022-11-01T16:32:50.393Z"
   },
   {
    "duration": 3,
    "start_time": "2022-11-01T16:32:51.140Z"
   },
   {
    "duration": 1433,
    "start_time": "2022-11-01T16:33:53.610Z"
   },
   {
    "duration": 2840,
    "start_time": "2022-11-01T16:33:55.045Z"
   },
   {
    "duration": 4,
    "start_time": "2022-11-01T16:33:57.887Z"
   },
   {
    "duration": 40,
    "start_time": "2022-11-01T16:33:57.893Z"
   },
   {
    "duration": 30,
    "start_time": "2022-11-01T16:33:57.935Z"
   },
   {
    "duration": 62,
    "start_time": "2022-11-01T16:33:57.967Z"
   },
   {
    "duration": 3,
    "start_time": "2022-11-01T16:33:58.031Z"
   },
   {
    "duration": 6,
    "start_time": "2022-11-01T16:33:58.036Z"
   },
   {
    "duration": 4,
    "start_time": "2022-11-01T16:33:58.043Z"
   },
   {
    "duration": 5,
    "start_time": "2022-11-01T16:33:58.051Z"
   },
   {
    "duration": 62,
    "start_time": "2022-11-01T16:33:58.057Z"
   },
   {
    "duration": 21,
    "start_time": "2022-11-01T16:33:58.120Z"
   },
   {
    "duration": 39,
    "start_time": "2022-11-01T16:33:58.143Z"
   },
   {
    "duration": 26,
    "start_time": "2022-11-01T16:33:58.184Z"
   },
   {
    "duration": 623,
    "start_time": "2022-11-01T16:33:58.212Z"
   },
   {
    "duration": 557,
    "start_time": "2022-11-01T16:33:58.836Z"
   },
   {
    "duration": 548,
    "start_time": "2022-11-01T16:33:59.395Z"
   },
   {
    "duration": 660,
    "start_time": "2022-11-01T16:33:59.944Z"
   },
   {
    "duration": 5,
    "start_time": "2022-11-01T16:34:00.606Z"
   },
   {
    "duration": 14,
    "start_time": "2022-11-01T16:34:00.612Z"
   },
   {
    "duration": 11,
    "start_time": "2022-11-01T16:34:00.627Z"
   },
   {
    "duration": 597,
    "start_time": "2022-11-01T16:34:00.639Z"
   },
   {
    "duration": 243,
    "start_time": "2022-11-01T16:34:01.237Z"
   },
   {
    "duration": 2,
    "start_time": "2022-11-01T16:34:01.482Z"
   },
   {
    "duration": 15,
    "start_time": "2022-11-01T16:34:01.485Z"
   },
   {
    "duration": 3,
    "start_time": "2022-11-01T16:34:07.400Z"
   },
   {
    "duration": 7,
    "start_time": "2022-11-01T16:34:10.145Z"
   },
   {
    "duration": 7,
    "start_time": "2022-11-01T16:34:11.001Z"
   },
   {
    "duration": 87,
    "start_time": "2022-11-01T16:34:13.631Z"
   },
   {
    "duration": 7,
    "start_time": "2022-11-01T16:34:18.084Z"
   },
   {
    "duration": 133,
    "start_time": "2022-11-01T16:34:21.195Z"
   },
   {
    "duration": 5,
    "start_time": "2022-11-01T16:34:28.503Z"
   },
   {
    "duration": 3,
    "start_time": "2022-11-01T16:34:38.330Z"
   },
   {
    "duration": 2,
    "start_time": "2022-11-01T16:38:53.031Z"
   },
   {
    "duration": 5,
    "start_time": "2022-11-01T16:39:16.410Z"
   },
   {
    "duration": 4,
    "start_time": "2022-11-01T16:39:16.682Z"
   },
   {
    "duration": 1594,
    "start_time": "2022-11-01T16:40:31.423Z"
   },
   {
    "duration": 3,
    "start_time": "2022-11-01T16:41:04.724Z"
   },
   {
    "duration": 1420,
    "start_time": "2022-11-01T16:41:06.096Z"
   },
   {
    "duration": 1640,
    "start_time": "2022-11-01T16:41:21.274Z"
   },
   {
    "duration": 37542,
    "start_time": "2022-11-01T16:42:07.362Z"
   },
   {
    "duration": 40,
    "start_time": "2022-11-01T16:42:49.942Z"
   },
   {
    "duration": 3,
    "start_time": "2022-11-01T16:46:02.011Z"
   },
   {
    "duration": 1901,
    "start_time": "2022-11-01T16:46:11.612Z"
   },
   {
    "duration": 1505,
    "start_time": "2022-11-01T16:49:45.007Z"
   },
   {
    "duration": 1574,
    "start_time": "2022-11-01T16:50:03.040Z"
   },
   {
    "duration": 13,
    "start_time": "2022-11-01T16:50:42.640Z"
   },
   {
    "duration": 1520,
    "start_time": "2022-11-01T16:50:50.888Z"
   },
   {
    "duration": 9,
    "start_time": "2022-11-01T16:58:54.771Z"
   },
   {
    "duration": 70,
    "start_time": "2022-11-01T16:59:13.948Z"
   },
   {
    "duration": 8,
    "start_time": "2022-11-01T16:59:42.283Z"
   },
   {
    "duration": 120,
    "start_time": "2022-11-01T16:59:42.495Z"
   },
   {
    "duration": 10,
    "start_time": "2022-11-01T16:59:48.061Z"
   },
   {
    "duration": 11,
    "start_time": "2022-11-01T16:59:54.636Z"
   },
   {
    "duration": 9,
    "start_time": "2022-11-01T17:00:11.179Z"
   },
   {
    "duration": 9,
    "start_time": "2022-11-01T17:00:17.607Z"
   },
   {
    "duration": 9,
    "start_time": "2022-11-01T17:00:22.874Z"
   },
   {
    "duration": 9,
    "start_time": "2022-11-01T17:00:26.756Z"
   },
   {
    "duration": 29,
    "start_time": "2022-11-01T17:02:55.402Z"
   },
   {
    "duration": 15,
    "start_time": "2022-11-01T17:03:15.049Z"
   },
   {
    "duration": 27,
    "start_time": "2022-11-01T17:03:15.757Z"
   },
   {
    "duration": 4,
    "start_time": "2022-11-01T17:03:22.337Z"
   },
   {
    "duration": 14,
    "start_time": "2022-11-01T17:03:23.087Z"
   },
   {
    "duration": 9,
    "start_time": "2022-11-01T17:08:31.451Z"
   },
   {
    "duration": 3,
    "start_time": "2022-11-01T17:08:35.721Z"
   },
   {
    "duration": 6,
    "start_time": "2022-11-01T17:08:36.789Z"
   },
   {
    "duration": 8,
    "start_time": "2022-11-01T17:08:37.141Z"
   },
   {
    "duration": 147,
    "start_time": "2022-11-01T17:08:37.563Z"
   },
   {
    "duration": 6,
    "start_time": "2022-11-01T17:08:37.928Z"
   },
   {
    "duration": 4,
    "start_time": "2022-11-01T17:08:38.489Z"
   },
   {
    "duration": 4,
    "start_time": "2022-11-01T17:08:42.911Z"
   },
   {
    "duration": 4,
    "start_time": "2022-11-01T17:08:43.302Z"
   },
   {
    "duration": 1987,
    "start_time": "2022-11-02T05:12:52.884Z"
   },
   {
    "duration": 4049,
    "start_time": "2022-11-02T05:12:54.872Z"
   },
   {
    "duration": 3,
    "start_time": "2022-11-02T05:12:58.922Z"
   },
   {
    "duration": 44,
    "start_time": "2022-11-02T05:12:58.927Z"
   },
   {
    "duration": 31,
    "start_time": "2022-11-02T05:12:58.974Z"
   },
   {
    "duration": 56,
    "start_time": "2022-11-02T05:12:59.006Z"
   },
   {
    "duration": 3,
    "start_time": "2022-11-02T05:12:59.064Z"
   },
   {
    "duration": 9,
    "start_time": "2022-11-02T05:12:59.069Z"
   },
   {
    "duration": 6,
    "start_time": "2022-11-02T05:12:59.080Z"
   },
   {
    "duration": 6,
    "start_time": "2022-11-02T05:14:34.008Z"
   },
   {
    "duration": 1569,
    "start_time": "2022-11-03T07:41:41.617Z"
   },
   {
    "duration": 3359,
    "start_time": "2022-11-03T07:41:56.034Z"
   },
   {
    "duration": 2,
    "start_time": "2022-11-03T07:42:00.908Z"
   },
   {
    "duration": 41,
    "start_time": "2022-11-03T07:42:02.961Z"
   },
   {
    "duration": 26,
    "start_time": "2022-11-03T07:42:09.721Z"
   },
   {
    "duration": 33,
    "start_time": "2022-11-03T07:42:14.214Z"
   },
   {
    "duration": 2,
    "start_time": "2022-11-03T07:42:31.335Z"
   },
   {
    "duration": 6,
    "start_time": "2022-11-03T07:42:32.221Z"
   },
   {
    "duration": 5,
    "start_time": "2022-11-03T07:42:33.438Z"
   },
   {
    "duration": 3,
    "start_time": "2022-11-03T07:44:34.056Z"
   },
   {
    "duration": 35,
    "start_time": "2022-11-03T07:44:34.594Z"
   },
   {
    "duration": 24,
    "start_time": "2022-11-03T07:44:37.804Z"
   },
   {
    "duration": 39,
    "start_time": "2022-11-03T07:44:41.112Z"
   },
   {
    "duration": 4,
    "start_time": "2022-11-03T07:46:03.378Z"
   },
   {
    "duration": 121,
    "start_time": "2022-11-03T07:46:06.856Z"
   },
   {
    "duration": 6,
    "start_time": "2022-11-03T07:46:18.079Z"
   },
   {
    "duration": 5,
    "start_time": "2022-11-03T07:46:33.611Z"
   },
   {
    "duration": 746,
    "start_time": "2022-11-03T07:46:34.618Z"
   },
   {
    "duration": 4,
    "start_time": "2022-11-03T07:46:47.643Z"
   },
   {
    "duration": 4,
    "start_time": "2022-11-03T07:46:52.025Z"
   },
   {
    "duration": 694,
    "start_time": "2022-11-03T07:46:52.674Z"
   },
   {
    "duration": 4,
    "start_time": "2022-11-03T07:47:17.550Z"
   },
   {
    "duration": 670,
    "start_time": "2022-11-03T07:47:18.293Z"
   },
   {
    "duration": 6,
    "start_time": "2022-11-03T07:47:24.735Z"
   },
   {
    "duration": 571,
    "start_time": "2022-11-03T07:47:25.102Z"
   },
   {
    "duration": 4,
    "start_time": "2022-11-03T07:47:43.105Z"
   },
   {
    "duration": 815,
    "start_time": "2022-11-03T07:47:43.469Z"
   },
   {
    "duration": 719,
    "start_time": "2022-11-03T07:50:07.326Z"
   },
   {
    "duration": 812,
    "start_time": "2022-11-03T07:51:09.693Z"
   },
   {
    "duration": 682,
    "start_time": "2022-11-03T07:51:54.785Z"
   },
   {
    "duration": 4,
    "start_time": "2022-11-03T07:54:13.776Z"
   },
   {
    "duration": 58,
    "start_time": "2022-11-03T07:55:45.386Z"
   },
   {
    "duration": 92,
    "start_time": "2022-11-03T07:55:53.972Z"
   },
   {
    "duration": 47,
    "start_time": "2022-11-03T07:55:58.625Z"
   },
   {
    "duration": 45,
    "start_time": "2022-11-03T07:56:03.136Z"
   },
   {
    "duration": 72,
    "start_time": "2022-11-03T07:56:08.377Z"
   },
   {
    "duration": 53,
    "start_time": "2022-11-03T07:56:10.849Z"
   },
   {
    "duration": 44,
    "start_time": "2022-11-03T07:59:16.028Z"
   },
   {
    "duration": 60,
    "start_time": "2022-11-03T08:00:26.461Z"
   },
   {
    "duration": 3,
    "start_time": "2022-11-03T08:00:55.176Z"
   },
   {
    "duration": 58,
    "start_time": "2022-11-03T08:01:00.873Z"
   },
   {
    "duration": 52,
    "start_time": "2022-11-03T08:01:16.740Z"
   },
   {
    "duration": 65,
    "start_time": "2022-11-03T08:02:24.241Z"
   },
   {
    "duration": 47,
    "start_time": "2022-11-03T08:02:26.892Z"
   },
   {
    "duration": 54,
    "start_time": "2022-11-03T08:02:31.151Z"
   },
   {
    "duration": 4,
    "start_time": "2022-11-03T08:03:47.662Z"
   },
   {
    "duration": 5,
    "start_time": "2022-11-03T08:04:46.079Z"
   },
   {
    "duration": 4,
    "start_time": "2022-11-03T08:07:37.040Z"
   },
   {
    "duration": 4,
    "start_time": "2022-11-03T08:11:46.979Z"
   },
   {
    "duration": 5,
    "start_time": "2022-11-03T08:12:09.545Z"
   },
   {
    "duration": 5,
    "start_time": "2022-11-03T08:13:25.600Z"
   },
   {
    "duration": 10,
    "start_time": "2022-11-03T08:14:41.660Z"
   },
   {
    "duration": 639,
    "start_time": "2022-11-03T08:21:24.919Z"
   },
   {
    "duration": 645,
    "start_time": "2022-11-03T08:35:33.409Z"
   },
   {
    "duration": 5,
    "start_time": "2022-11-03T08:37:47.594Z"
   },
   {
    "duration": 739,
    "start_time": "2022-11-03T08:37:47.601Z"
   },
   {
    "duration": 3,
    "start_time": "2022-11-03T08:37:48.341Z"
   },
   {
    "duration": 38,
    "start_time": "2022-11-03T08:37:48.345Z"
   },
   {
    "duration": 36,
    "start_time": "2022-11-03T08:37:48.385Z"
   },
   {
    "duration": 31,
    "start_time": "2022-11-03T08:37:48.422Z"
   },
   {
    "duration": 3,
    "start_time": "2022-11-03T08:37:48.455Z"
   },
   {
    "duration": 10,
    "start_time": "2022-11-03T08:37:48.460Z"
   },
   {
    "duration": 6,
    "start_time": "2022-11-03T08:37:48.471Z"
   },
   {
    "duration": 8,
    "start_time": "2022-11-03T08:37:48.478Z"
   },
   {
    "duration": 51,
    "start_time": "2022-11-03T08:37:48.487Z"
   },
   {
    "duration": 24,
    "start_time": "2022-11-03T08:37:48.539Z"
   },
   {
    "duration": 56,
    "start_time": "2022-11-03T08:37:48.566Z"
   },
   {
    "duration": 4,
    "start_time": "2022-11-03T08:37:48.624Z"
   },
   {
    "duration": 811,
    "start_time": "2022-11-03T08:37:48.630Z"
   },
   {
    "duration": 696,
    "start_time": "2022-11-03T08:37:49.442Z"
   },
   {
    "duration": 796,
    "start_time": "2022-11-03T08:37:50.139Z"
   },
   {
    "duration": 658,
    "start_time": "2022-11-03T08:37:50.937Z"
   },
   {
    "duration": 3,
    "start_time": "2022-11-03T08:37:51.597Z"
   },
   {
    "duration": 27,
    "start_time": "2022-11-03T08:37:51.608Z"
   },
   {
    "duration": 18,
    "start_time": "2022-11-03T08:37:51.637Z"
   },
   {
    "duration": 511,
    "start_time": "2022-11-03T08:42:08.636Z"
   },
   {
    "duration": 398,
    "start_time": "2022-11-03T08:42:26.588Z"
   },
   {
    "duration": 3,
    "start_time": "2022-11-03T08:55:05.481Z"
   },
   {
    "duration": 668,
    "start_time": "2022-11-03T08:55:05.486Z"
   },
   {
    "duration": 2,
    "start_time": "2022-11-03T08:55:06.156Z"
   },
   {
    "duration": 62,
    "start_time": "2022-11-03T08:55:06.160Z"
   },
   {
    "duration": 45,
    "start_time": "2022-11-03T08:55:06.225Z"
   },
   {
    "duration": 62,
    "start_time": "2022-11-03T08:55:06.273Z"
   },
   {
    "duration": 4,
    "start_time": "2022-11-03T08:55:06.337Z"
   },
   {
    "duration": 13,
    "start_time": "2022-11-03T08:55:06.342Z"
   },
   {
    "duration": 21,
    "start_time": "2022-11-03T08:55:06.359Z"
   },
   {
    "duration": 10,
    "start_time": "2022-11-03T08:55:06.382Z"
   },
   {
    "duration": 42,
    "start_time": "2022-11-03T08:55:06.394Z"
   },
   {
    "duration": 28,
    "start_time": "2022-11-03T08:55:06.438Z"
   },
   {
    "duration": 61,
    "start_time": "2022-11-03T08:55:06.468Z"
   },
   {
    "duration": 7,
    "start_time": "2022-11-03T08:55:06.532Z"
   },
   {
    "duration": 864,
    "start_time": "2022-11-03T08:55:06.541Z"
   },
   {
    "duration": 786,
    "start_time": "2022-11-03T08:55:07.407Z"
   },
   {
    "duration": 747,
    "start_time": "2022-11-03T08:55:08.195Z"
   },
   {
    "duration": 858,
    "start_time": "2022-11-03T08:55:08.945Z"
   },
   {
    "duration": 9,
    "start_time": "2022-11-03T08:55:09.805Z"
   },
   {
    "duration": 12,
    "start_time": "2022-11-03T08:55:09.816Z"
   },
   {
    "duration": 9,
    "start_time": "2022-11-03T08:55:09.830Z"
   },
   {
    "duration": 587,
    "start_time": "2022-11-03T08:55:09.842Z"
   },
   {
    "duration": 547,
    "start_time": "2022-11-03T08:55:10.430Z"
   },
   {
    "duration": 3,
    "start_time": "2022-11-03T08:57:16.304Z"
   },
   {
    "duration": 5,
    "start_time": "2022-11-03T08:57:20.259Z"
   },
   {
    "duration": 30,
    "start_time": "2022-11-03T08:58:24.281Z"
   },
   {
    "duration": 16,
    "start_time": "2022-11-03T08:58:31.947Z"
   },
   {
    "duration": 5,
    "start_time": "2022-11-03T08:58:48.027Z"
   },
   {
    "duration": 21,
    "start_time": "2022-11-03T08:58:54.040Z"
   },
   {
    "duration": 2,
    "start_time": "2022-11-03T08:59:12.072Z"
   },
   {
    "duration": 8,
    "start_time": "2022-11-03T08:59:12.357Z"
   },
   {
    "duration": 6,
    "start_time": "2022-11-03T08:59:17.382Z"
   },
   {
    "duration": 20,
    "start_time": "2022-11-03T08:59:17.965Z"
   },
   {
    "duration": 13,
    "start_time": "2022-11-03T09:02:55.625Z"
   },
   {
    "duration": 32,
    "start_time": "2022-11-03T09:02:59.490Z"
   },
   {
    "duration": 24,
    "start_time": "2022-11-03T09:05:07.694Z"
   },
   {
    "duration": 5,
    "start_time": "2022-11-03T09:05:19.608Z"
   },
   {
    "duration": 11,
    "start_time": "2022-11-03T09:08:35.632Z"
   },
   {
    "duration": 11,
    "start_time": "2022-11-03T09:08:39.578Z"
   },
   {
    "duration": 6,
    "start_time": "2022-11-03T09:09:53.609Z"
   },
   {
    "duration": 15,
    "start_time": "2022-11-03T09:09:59.689Z"
   },
   {
    "duration": 7,
    "start_time": "2022-11-03T09:10:35.578Z"
   },
   {
    "duration": 10,
    "start_time": "2022-11-03T09:10:37.425Z"
   },
   {
    "duration": 6,
    "start_time": "2022-11-03T09:13:45.082Z"
   },
   {
    "duration": 7,
    "start_time": "2022-11-03T09:14:36.176Z"
   },
   {
    "duration": 3,
    "start_time": "2022-11-03T09:16:54.897Z"
   },
   {
    "duration": 5,
    "start_time": "2022-11-03T09:17:27.666Z"
   },
   {
    "duration": 19,
    "start_time": "2022-11-03T09:17:36.606Z"
   },
   {
    "duration": 10,
    "start_time": "2022-11-03T09:18:25.911Z"
   },
   {
    "duration": 123,
    "start_time": "2022-11-03T09:18:39.736Z"
   },
   {
    "duration": 5,
    "start_time": "2022-11-03T09:19:10.635Z"
   },
   {
    "duration": 15,
    "start_time": "2022-11-03T09:19:17.302Z"
   },
   {
    "duration": 51,
    "start_time": "2022-11-03T09:19:27.638Z"
   },
   {
    "duration": 7,
    "start_time": "2022-11-03T09:19:31.981Z"
   },
   {
    "duration": 20,
    "start_time": "2022-11-03T09:19:32.610Z"
   },
   {
    "duration": 18,
    "start_time": "2022-11-03T09:22:18.385Z"
   },
   {
    "duration": 27,
    "start_time": "2022-11-03T09:22:37.958Z"
   },
   {
    "duration": 69,
    "start_time": "2022-11-03T09:23:20.724Z"
   },
   {
    "duration": 28,
    "start_time": "2022-11-03T09:24:00.625Z"
   },
   {
    "duration": 313,
    "start_time": "2022-11-03T10:05:58.964Z"
   },
   {
    "duration": 13,
    "start_time": "2022-11-03T10:06:15.122Z"
   },
   {
    "duration": 9,
    "start_time": "2022-11-03T10:06:54.722Z"
   },
   {
    "duration": 10,
    "start_time": "2022-11-03T10:07:08.216Z"
   },
   {
    "duration": 8,
    "start_time": "2022-11-03T10:07:34.940Z"
   },
   {
    "duration": 77,
    "start_time": "2022-11-03T10:10:05.677Z"
   },
   {
    "duration": 10,
    "start_time": "2022-11-03T10:18:07.272Z"
   },
   {
    "duration": 9,
    "start_time": "2022-11-03T10:18:07.524Z"
   },
   {
    "duration": 2,
    "start_time": "2022-11-03T10:18:19.483Z"
   },
   {
    "duration": 3,
    "start_time": "2022-11-03T10:18:29.266Z"
   },
   {
    "duration": 2,
    "start_time": "2022-11-03T10:18:38.664Z"
   },
   {
    "duration": 3,
    "start_time": "2022-11-03T10:18:46.116Z"
   },
   {
    "duration": 10,
    "start_time": "2022-11-03T10:19:08.251Z"
   },
   {
    "duration": 3916,
    "start_time": "2022-11-03T10:19:36.157Z"
   },
   {
    "duration": 12,
    "start_time": "2022-11-03T10:19:56.783Z"
   },
   {
    "duration": 31,
    "start_time": "2022-11-03T10:20:21.708Z"
   },
   {
    "duration": 39,
    "start_time": "2022-11-03T10:20:32.288Z"
   },
   {
    "duration": 11,
    "start_time": "2022-11-03T10:22:27.714Z"
   },
   {
    "duration": 50,
    "start_time": "2022-11-03T10:22:44.467Z"
   },
   {
    "duration": 13,
    "start_time": "2022-11-03T10:22:49.911Z"
   },
   {
    "duration": 4009,
    "start_time": "2022-11-03T10:24:31.904Z"
   },
   {
    "duration": 3350,
    "start_time": "2022-11-03T10:25:05.558Z"
   },
   {
    "duration": 16,
    "start_time": "2022-11-03T10:25:37.569Z"
   },
   {
    "duration": 12,
    "start_time": "2022-11-03T10:26:19.683Z"
   },
   {
    "duration": 17,
    "start_time": "2022-11-03T10:28:34.147Z"
   },
   {
    "duration": 3,
    "start_time": "2022-11-03T10:28:57.559Z"
   },
   {
    "duration": 638,
    "start_time": "2022-11-03T10:28:57.564Z"
   },
   {
    "duration": 3,
    "start_time": "2022-11-03T10:28:58.204Z"
   },
   {
    "duration": 49,
    "start_time": "2022-11-03T10:28:58.210Z"
   },
   {
    "duration": 37,
    "start_time": "2022-11-03T10:28:58.261Z"
   },
   {
    "duration": 33,
    "start_time": "2022-11-03T10:28:58.308Z"
   },
   {
    "duration": 3,
    "start_time": "2022-11-03T10:28:58.342Z"
   },
   {
    "duration": 9,
    "start_time": "2022-11-03T10:28:58.347Z"
   },
   {
    "duration": 5,
    "start_time": "2022-11-03T10:28:58.359Z"
   },
   {
    "duration": 7,
    "start_time": "2022-11-03T10:28:58.366Z"
   },
   {
    "duration": 59,
    "start_time": "2022-11-03T10:28:58.374Z"
   },
   {
    "duration": 22,
    "start_time": "2022-11-03T10:28:58.434Z"
   },
   {
    "duration": 59,
    "start_time": "2022-11-03T10:28:58.457Z"
   },
   {
    "duration": 4,
    "start_time": "2022-11-03T10:28:58.518Z"
   },
   {
    "duration": 682,
    "start_time": "2022-11-03T10:28:58.524Z"
   },
   {
    "duration": 769,
    "start_time": "2022-11-03T10:28:59.207Z"
   },
   {
    "duration": 772,
    "start_time": "2022-11-03T10:28:59.978Z"
   },
   {
    "duration": 691,
    "start_time": "2022-11-03T10:29:00.752Z"
   },
   {
    "duration": 5,
    "start_time": "2022-11-03T10:29:01.444Z"
   },
   {
    "duration": 34,
    "start_time": "2022-11-03T10:29:01.450Z"
   },
   {
    "duration": 48,
    "start_time": "2022-11-03T10:29:01.485Z"
   },
   {
    "duration": 564,
    "start_time": "2022-11-03T10:29:01.535Z"
   },
   {
    "duration": 577,
    "start_time": "2022-11-03T10:29:02.100Z"
   },
   {
    "duration": 3946,
    "start_time": "2022-11-03T10:29:14.373Z"
   },
   {
    "duration": 16,
    "start_time": "2022-11-03T10:29:19.826Z"
   },
   {
    "duration": 11,
    "start_time": "2022-11-03T10:29:32.834Z"
   },
   {
    "duration": 3,
    "start_time": "2022-11-03T10:29:53.723Z"
   },
   {
    "duration": 730,
    "start_time": "2022-11-03T10:29:53.728Z"
   },
   {
    "duration": 3,
    "start_time": "2022-11-03T10:29:54.459Z"
   },
   {
    "duration": 44,
    "start_time": "2022-11-03T10:29:54.463Z"
   },
   {
    "duration": 28,
    "start_time": "2022-11-03T10:29:54.509Z"
   },
   {
    "duration": 31,
    "start_time": "2022-11-03T10:29:54.539Z"
   },
   {
    "duration": 3,
    "start_time": "2022-11-03T10:29:54.571Z"
   },
   {
    "duration": 32,
    "start_time": "2022-11-03T10:29:54.576Z"
   },
   {
    "duration": 7,
    "start_time": "2022-11-03T10:29:54.611Z"
   },
   {
    "duration": 13,
    "start_time": "2022-11-03T10:29:54.619Z"
   },
   {
    "duration": 79,
    "start_time": "2022-11-03T10:29:54.633Z"
   },
   {
    "duration": 22,
    "start_time": "2022-11-03T10:29:54.713Z"
   },
   {
    "duration": 40,
    "start_time": "2022-11-03T10:29:54.736Z"
   },
   {
    "duration": 4,
    "start_time": "2022-11-03T10:29:54.777Z"
   },
   {
    "duration": 715,
    "start_time": "2022-11-03T10:29:54.782Z"
   },
   {
    "duration": 765,
    "start_time": "2022-11-03T10:29:55.498Z"
   },
   {
    "duration": 706,
    "start_time": "2022-11-03T10:29:56.264Z"
   },
   {
    "duration": 770,
    "start_time": "2022-11-03T10:29:56.972Z"
   },
   {
    "duration": 5,
    "start_time": "2022-11-03T10:29:57.743Z"
   },
   {
    "duration": 13,
    "start_time": "2022-11-03T10:29:57.750Z"
   },
   {
    "duration": 17,
    "start_time": "2022-11-03T10:29:57.765Z"
   },
   {
    "duration": 548,
    "start_time": "2022-11-03T10:29:57.784Z"
   },
   {
    "duration": 496,
    "start_time": "2022-11-03T10:29:58.335Z"
   },
   {
    "duration": 2,
    "start_time": "2022-11-03T10:30:21.254Z"
   },
   {
    "duration": 3,
    "start_time": "2022-11-03T10:30:21.740Z"
   },
   {
    "duration": 2,
    "start_time": "2022-11-03T10:30:22.075Z"
   },
   {
    "duration": 3,
    "start_time": "2022-11-03T10:30:22.441Z"
   },
   {
    "duration": 4081,
    "start_time": "2022-11-03T10:30:29.965Z"
   },
   {
    "duration": 18,
    "start_time": "2022-11-03T10:30:34.785Z"
   },
   {
    "duration": 4,
    "start_time": "2022-11-03T10:30:52.232Z"
   },
   {
    "duration": 693,
    "start_time": "2022-11-03T10:30:52.237Z"
   },
   {
    "duration": 2,
    "start_time": "2022-11-03T10:30:52.932Z"
   },
   {
    "duration": 34,
    "start_time": "2022-11-03T10:30:52.936Z"
   },
   {
    "duration": 40,
    "start_time": "2022-11-03T10:30:52.971Z"
   },
   {
    "duration": 31,
    "start_time": "2022-11-03T10:30:53.013Z"
   },
   {
    "duration": 3,
    "start_time": "2022-11-03T10:30:53.046Z"
   },
   {
    "duration": 7,
    "start_time": "2022-11-03T10:30:53.051Z"
   },
   {
    "duration": 8,
    "start_time": "2022-11-03T10:30:53.061Z"
   },
   {
    "duration": 8,
    "start_time": "2022-11-03T10:30:53.071Z"
   },
   {
    "duration": 62,
    "start_time": "2022-11-03T10:30:53.080Z"
   },
   {
    "duration": 22,
    "start_time": "2022-11-03T10:30:53.144Z"
   },
   {
    "duration": 52,
    "start_time": "2022-11-03T10:30:53.168Z"
   },
   {
    "duration": 4,
    "start_time": "2022-11-03T10:30:53.222Z"
   },
   {
    "duration": 701,
    "start_time": "2022-11-03T10:30:53.228Z"
   },
   {
    "duration": 776,
    "start_time": "2022-11-03T10:30:53.931Z"
   },
   {
    "duration": 695,
    "start_time": "2022-11-03T10:30:54.708Z"
   },
   {
    "duration": 786,
    "start_time": "2022-11-03T10:30:55.405Z"
   },
   {
    "duration": 4,
    "start_time": "2022-11-03T10:30:56.193Z"
   },
   {
    "duration": 34,
    "start_time": "2022-11-03T10:30:56.198Z"
   },
   {
    "duration": 22,
    "start_time": "2022-11-03T10:30:56.233Z"
   },
   {
    "duration": 538,
    "start_time": "2022-11-03T10:30:56.256Z"
   },
   {
    "duration": 491,
    "start_time": "2022-11-03T10:30:56.796Z"
   },
   {
    "duration": 2,
    "start_time": "2022-11-03T10:32:18.961Z"
   },
   {
    "duration": 3,
    "start_time": "2022-11-03T10:32:19.335Z"
   },
   {
    "duration": 3,
    "start_time": "2022-11-03T10:32:19.669Z"
   },
   {
    "duration": 3,
    "start_time": "2022-11-03T10:32:20.602Z"
   },
   {
    "duration": 9,
    "start_time": "2022-11-03T10:34:59.995Z"
   },
   {
    "duration": 8,
    "start_time": "2022-11-03T10:35:43.974Z"
   },
   {
    "duration": 15,
    "start_time": "2022-11-03T10:35:58.387Z"
   },
   {
    "duration": 118,
    "start_time": "2022-11-03T10:36:43.384Z"
   },
   {
    "duration": 97,
    "start_time": "2022-11-03T10:42:04.191Z"
   },
   {
    "duration": 3330,
    "start_time": "2022-11-03T10:42:21.029Z"
   },
   {
    "duration": 3357,
    "start_time": "2022-11-03T10:46:07.481Z"
   },
   {
    "duration": 1239,
    "start_time": "2022-11-03T10:46:29.432Z"
   },
   {
    "duration": 29,
    "start_time": "2022-11-03T10:46:40.982Z"
   },
   {
    "duration": 30,
    "start_time": "2022-11-03T10:47:30.348Z"
   },
   {
    "duration": 9,
    "start_time": "2022-11-03T10:50:52.394Z"
   },
   {
    "duration": 18,
    "start_time": "2022-11-03T10:51:05.416Z"
   },
   {
    "duration": 8,
    "start_time": "2022-11-03T10:51:51.138Z"
   },
   {
    "duration": 7,
    "start_time": "2022-11-03T10:52:13.667Z"
   },
   {
    "duration": 7,
    "start_time": "2022-11-03T10:52:28.909Z"
   },
   {
    "duration": 16,
    "start_time": "2022-11-03T10:52:30.284Z"
   },
   {
    "duration": 11,
    "start_time": "2022-11-03T10:53:27.962Z"
   },
   {
    "duration": 784,
    "start_time": "2022-11-03T10:53:30.803Z"
   },
   {
    "duration": 871,
    "start_time": "2022-11-03T10:53:48.244Z"
   },
   {
    "duration": 4,
    "start_time": "2022-11-03T10:54:03.129Z"
   },
   {
    "duration": 14,
    "start_time": "2022-11-03T10:54:04.920Z"
   },
   {
    "duration": 7,
    "start_time": "2022-11-03T10:55:25.402Z"
   },
   {
    "duration": 12,
    "start_time": "2022-11-03T10:55:26.691Z"
   },
   {
    "duration": 3,
    "start_time": "2022-11-03T10:55:59.206Z"
   },
   {
    "duration": 681,
    "start_time": "2022-11-03T10:55:59.211Z"
   },
   {
    "duration": 4,
    "start_time": "2022-11-03T10:55:59.893Z"
   },
   {
    "duration": 38,
    "start_time": "2022-11-03T10:55:59.899Z"
   },
   {
    "duration": 27,
    "start_time": "2022-11-03T10:55:59.939Z"
   },
   {
    "duration": 56,
    "start_time": "2022-11-03T10:55:59.968Z"
   },
   {
    "duration": 3,
    "start_time": "2022-11-03T10:56:00.026Z"
   },
   {
    "duration": 19,
    "start_time": "2022-11-03T10:56:00.031Z"
   },
   {
    "duration": 10,
    "start_time": "2022-11-03T10:56:00.052Z"
   },
   {
    "duration": 16,
    "start_time": "2022-11-03T10:56:00.064Z"
   },
   {
    "duration": 42,
    "start_time": "2022-11-03T10:56:00.082Z"
   },
   {
    "duration": 21,
    "start_time": "2022-11-03T10:56:00.125Z"
   },
   {
    "duration": 47,
    "start_time": "2022-11-03T10:56:00.148Z"
   },
   {
    "duration": 5,
    "start_time": "2022-11-03T10:56:00.197Z"
   },
   {
    "duration": 717,
    "start_time": "2022-11-03T10:56:00.209Z"
   },
   {
    "duration": 801,
    "start_time": "2022-11-03T10:56:00.928Z"
   },
   {
    "duration": 691,
    "start_time": "2022-11-03T10:56:01.730Z"
   },
   {
    "duration": 823,
    "start_time": "2022-11-03T10:56:02.423Z"
   },
   {
    "duration": 4,
    "start_time": "2022-11-03T10:56:03.248Z"
   },
   {
    "duration": 36,
    "start_time": "2022-11-03T10:56:03.253Z"
   },
   {
    "duration": 39,
    "start_time": "2022-11-03T10:56:03.290Z"
   },
   {
    "duration": 571,
    "start_time": "2022-11-03T10:56:03.330Z"
   },
   {
    "duration": 508,
    "start_time": "2022-11-03T10:56:03.903Z"
   },
   {
    "duration": 7,
    "start_time": "2022-11-03T10:56:04.415Z"
   },
   {
    "duration": 80,
    "start_time": "2022-11-03T10:56:04.424Z"
   },
   {
    "duration": 94,
    "start_time": "2022-11-03T10:56:04.506Z"
   },
   {
    "duration": 55,
    "start_time": "2022-11-03T10:56:04.602Z"
   },
   {
    "duration": 7,
    "start_time": "2022-11-03T10:56:04.658Z"
   },
   {
    "duration": 5,
    "start_time": "2022-11-03T10:56:44.919Z"
   },
   {
    "duration": 13,
    "start_time": "2022-11-03T10:56:48.177Z"
   },
   {
    "duration": 3,
    "start_time": "2022-11-03T10:58:08.850Z"
   },
   {
    "duration": 2,
    "start_time": "2022-11-03T10:58:27.951Z"
   },
   {
    "duration": 17,
    "start_time": "2022-11-03T10:59:15.836Z"
   },
   {
    "duration": 16,
    "start_time": "2022-11-03T10:59:27.140Z"
   },
   {
    "duration": 9,
    "start_time": "2022-11-03T10:59:54.594Z"
   },
   {
    "duration": 4,
    "start_time": "2022-11-03T11:00:54.082Z"
   },
   {
    "duration": 3,
    "start_time": "2022-11-03T11:00:54.507Z"
   },
   {
    "duration": 91,
    "start_time": "2022-11-03T11:01:06.986Z"
   },
   {
    "duration": 13,
    "start_time": "2022-11-03T11:01:09.773Z"
   },
   {
    "duration": 3,
    "start_time": "2022-11-03T11:02:00.725Z"
   },
   {
    "duration": 681,
    "start_time": "2022-11-03T11:02:00.730Z"
   },
   {
    "duration": 2,
    "start_time": "2022-11-03T11:02:01.413Z"
   },
   {
    "duration": 49,
    "start_time": "2022-11-03T11:02:01.418Z"
   },
   {
    "duration": 28,
    "start_time": "2022-11-03T11:02:01.469Z"
   },
   {
    "duration": 40,
    "start_time": "2022-11-03T11:02:01.499Z"
   },
   {
    "duration": 2,
    "start_time": "2022-11-03T11:02:01.541Z"
   },
   {
    "duration": 21,
    "start_time": "2022-11-03T11:02:01.545Z"
   },
   {
    "duration": 7,
    "start_time": "2022-11-03T11:02:01.568Z"
   },
   {
    "duration": 18,
    "start_time": "2022-11-03T11:02:01.578Z"
   },
   {
    "duration": 68,
    "start_time": "2022-11-03T11:02:01.598Z"
   },
   {
    "duration": 23,
    "start_time": "2022-11-03T11:02:01.667Z"
   },
   {
    "duration": 43,
    "start_time": "2022-11-03T11:02:01.691Z"
   },
   {
    "duration": 4,
    "start_time": "2022-11-03T11:02:01.735Z"
   },
   {
    "duration": 699,
    "start_time": "2022-11-03T11:02:01.741Z"
   },
   {
    "duration": 831,
    "start_time": "2022-11-03T11:02:02.442Z"
   },
   {
    "duration": 693,
    "start_time": "2022-11-03T11:02:03.274Z"
   },
   {
    "duration": 806,
    "start_time": "2022-11-03T11:02:03.968Z"
   },
   {
    "duration": 4,
    "start_time": "2022-11-03T11:02:04.776Z"
   },
   {
    "duration": 6,
    "start_time": "2022-11-03T11:02:04.781Z"
   },
   {
    "duration": 17,
    "start_time": "2022-11-03T11:02:04.788Z"
   },
   {
    "duration": 547,
    "start_time": "2022-11-03T11:02:04.807Z"
   },
   {
    "duration": 412,
    "start_time": "2022-11-03T11:02:05.356Z"
   },
   {
    "duration": 8,
    "start_time": "2022-11-03T11:02:05.770Z"
   },
   {
    "duration": 14,
    "start_time": "2022-11-03T11:02:05.780Z"
   },
   {
    "duration": 17,
    "start_time": "2022-11-03T11:02:05.796Z"
   },
   {
    "duration": 7,
    "start_time": "2022-11-03T11:02:05.815Z"
   },
   {
    "duration": 5,
    "start_time": "2022-11-03T11:02:06.714Z"
   },
   {
    "duration": 3,
    "start_time": "2022-11-03T11:02:08.190Z"
   },
   {
    "duration": 10,
    "start_time": "2022-11-03T11:04:24.925Z"
   },
   {
    "duration": 3,
    "start_time": "2022-11-03T11:04:49.489Z"
   },
   {
    "duration": 8,
    "start_time": "2022-11-03T11:07:27.240Z"
   },
   {
    "duration": 3,
    "start_time": "2022-11-03T11:07:30.771Z"
   },
   {
    "duration": 3,
    "start_time": "2022-11-03T11:07:31.195Z"
   },
   {
    "duration": 3,
    "start_time": "2022-11-03T11:07:31.713Z"
   },
   {
    "duration": 2,
    "start_time": "2022-11-03T11:07:56.562Z"
   },
   {
    "duration": 2,
    "start_time": "2022-11-03T11:08:13.894Z"
   },
   {
    "duration": 3,
    "start_time": "2022-11-03T11:19:01.147Z"
   },
   {
    "duration": 9,
    "start_time": "2022-11-03T11:22:31.511Z"
   },
   {
    "duration": 3,
    "start_time": "2022-11-03T11:22:32.545Z"
   },
   {
    "duration": 5,
    "start_time": "2022-11-03T11:22:32.910Z"
   },
   {
    "duration": 2,
    "start_time": "2022-11-03T11:27:27.958Z"
   },
   {
    "duration": 4,
    "start_time": "2022-11-03T11:27:34.233Z"
   },
   {
    "duration": 3,
    "start_time": "2022-11-03T11:27:53.815Z"
   },
   {
    "duration": 12,
    "start_time": "2022-11-03T11:28:26.079Z"
   },
   {
    "duration": 3,
    "start_time": "2022-11-03T11:28:55.446Z"
   },
   {
    "duration": 3,
    "start_time": "2022-11-03T11:28:55.895Z"
   },
   {
    "duration": 12,
    "start_time": "2022-11-03T11:28:56.366Z"
   },
   {
    "duration": 4,
    "start_time": "2022-11-03T11:29:02.498Z"
   },
   {
    "duration": 3,
    "start_time": "2022-11-03T11:29:08.728Z"
   },
   {
    "duration": 3,
    "start_time": "2022-11-03T11:29:20.381Z"
   },
   {
    "duration": 4,
    "start_time": "2022-11-03T11:30:06.914Z"
   },
   {
    "duration": 2,
    "start_time": "2022-11-03T11:31:55.384Z"
   },
   {
    "duration": 4,
    "start_time": "2022-11-03T11:31:55.799Z"
   },
   {
    "duration": 5,
    "start_time": "2022-11-03T11:31:56.246Z"
   },
   {
    "duration": 4,
    "start_time": "2022-11-03T11:31:56.771Z"
   },
   {
    "duration": 3,
    "start_time": "2022-11-03T11:32:10.964Z"
   },
   {
    "duration": 2,
    "start_time": "2022-11-03T11:32:11.225Z"
   },
   {
    "duration": 4,
    "start_time": "2022-11-03T11:32:11.483Z"
   },
   {
    "duration": 5,
    "start_time": "2022-11-03T11:32:11.745Z"
   },
   {
    "duration": 4,
    "start_time": "2022-11-03T11:32:12.027Z"
   },
   {
    "duration": 10,
    "start_time": "2022-11-03T11:32:32.102Z"
   },
   {
    "duration": 4,
    "start_time": "2022-11-03T11:32:52.832Z"
   },
   {
    "duration": 619,
    "start_time": "2022-11-03T11:32:52.838Z"
   },
   {
    "duration": 3,
    "start_time": "2022-11-03T11:32:53.458Z"
   },
   {
    "duration": 131,
    "start_time": "2022-11-03T11:32:53.462Z"
   },
   {
    "duration": 37,
    "start_time": "2022-11-03T11:32:53.594Z"
   },
   {
    "duration": 31,
    "start_time": "2022-11-03T11:32:53.633Z"
   },
   {
    "duration": 3,
    "start_time": "2022-11-03T11:32:53.665Z"
   },
   {
    "duration": 8,
    "start_time": "2022-11-03T11:32:53.669Z"
   },
   {
    "duration": 5,
    "start_time": "2022-11-03T11:32:53.679Z"
   },
   {
    "duration": 24,
    "start_time": "2022-11-03T11:32:53.685Z"
   },
   {
    "duration": 36,
    "start_time": "2022-11-03T11:32:53.710Z"
   },
   {
    "duration": 22,
    "start_time": "2022-11-03T11:32:53.747Z"
   },
   {
    "duration": 64,
    "start_time": "2022-11-03T11:32:53.771Z"
   },
   {
    "duration": 5,
    "start_time": "2022-11-03T11:32:53.837Z"
   },
   {
    "duration": 707,
    "start_time": "2022-11-03T11:32:53.843Z"
   },
   {
    "duration": 745,
    "start_time": "2022-11-03T11:32:54.552Z"
   },
   {
    "duration": 687,
    "start_time": "2022-11-03T11:32:55.298Z"
   },
   {
    "duration": 764,
    "start_time": "2022-11-03T11:32:55.986Z"
   },
   {
    "duration": 5,
    "start_time": "2022-11-03T11:32:56.751Z"
   },
   {
    "duration": 8,
    "start_time": "2022-11-03T11:32:56.758Z"
   },
   {
    "duration": 8,
    "start_time": "2022-11-03T11:32:56.768Z"
   },
   {
    "duration": 545,
    "start_time": "2022-11-03T11:32:56.778Z"
   },
   {
    "duration": 402,
    "start_time": "2022-11-03T11:32:57.325Z"
   },
   {
    "duration": 7,
    "start_time": "2022-11-03T11:32:57.731Z"
   },
   {
    "duration": 12,
    "start_time": "2022-11-03T11:32:57.740Z"
   },
   {
    "duration": 8,
    "start_time": "2022-11-03T11:32:57.753Z"
   },
   {
    "duration": 7,
    "start_time": "2022-11-03T11:32:57.763Z"
   },
   {
    "duration": 7,
    "start_time": "2022-11-03T11:32:57.771Z"
   },
   {
    "duration": 30,
    "start_time": "2022-11-03T11:32:57.780Z"
   },
   {
    "duration": 9,
    "start_time": "2022-11-03T11:32:57.811Z"
   },
   {
    "duration": 10,
    "start_time": "2022-11-03T11:32:57.821Z"
   },
   {
    "duration": 4,
    "start_time": "2022-11-03T11:32:57.833Z"
   },
   {
    "duration": 4,
    "start_time": "2022-11-03T11:32:57.838Z"
   },
   {
    "duration": 3,
    "start_time": "2022-11-03T11:32:59.255Z"
   },
   {
    "duration": 2,
    "start_time": "2022-11-03T11:33:00.044Z"
   },
   {
    "duration": 4,
    "start_time": "2022-11-03T11:33:13.826Z"
   },
   {
    "duration": 5,
    "start_time": "2022-11-03T11:33:14.802Z"
   },
   {
    "duration": 4,
    "start_time": "2022-11-03T11:33:15.111Z"
   },
   {
    "duration": 9,
    "start_time": "2022-11-03T11:33:16.707Z"
   },
   {
    "duration": 4,
    "start_time": "2022-11-03T11:33:40.605Z"
   },
   {
    "duration": 10,
    "start_time": "2022-11-03T11:33:51.686Z"
   },
   {
    "duration": 22,
    "start_time": "2022-11-03T11:34:14.988Z"
   },
   {
    "duration": 875,
    "start_time": "2022-11-03T11:35:14.516Z"
   },
   {
    "duration": 3,
    "start_time": "2022-11-03T11:36:44.452Z"
   },
   {
    "duration": 2,
    "start_time": "2022-11-03T11:36:44.900Z"
   },
   {
    "duration": 4,
    "start_time": "2022-11-03T11:36:45.373Z"
   },
   {
    "duration": 4,
    "start_time": "2022-11-03T11:36:46.478Z"
   },
   {
    "duration": 3,
    "start_time": "2022-11-03T11:36:47.607Z"
   },
   {
    "duration": 4,
    "start_time": "2022-11-03T11:36:52.318Z"
   },
   {
    "duration": 21,
    "start_time": "2022-11-03T11:36:56.523Z"
   },
   {
    "duration": 8,
    "start_time": "2022-11-03T11:37:18.586Z"
   },
   {
    "duration": 16,
    "start_time": "2022-11-03T11:37:42.648Z"
   },
   {
    "duration": 13,
    "start_time": "2022-11-03T11:38:04.722Z"
   },
   {
    "duration": 5,
    "start_time": "2022-11-03T11:38:12.383Z"
   },
   {
    "duration": 24,
    "start_time": "2022-11-03T11:38:19.930Z"
   },
   {
    "duration": 2,
    "start_time": "2022-11-03T11:39:15.288Z"
   },
   {
    "duration": 2,
    "start_time": "2022-11-03T11:39:15.739Z"
   },
   {
    "duration": 14,
    "start_time": "2022-11-03T11:39:17.420Z"
   },
   {
    "duration": 6,
    "start_time": "2022-11-03T11:39:49.373Z"
   },
   {
    "duration": 5,
    "start_time": "2022-11-03T11:39:58.526Z"
   },
   {
    "duration": 4,
    "start_time": "2022-11-03T11:40:45.245Z"
   },
   {
    "duration": 637,
    "start_time": "2022-11-03T11:40:45.251Z"
   },
   {
    "duration": 3,
    "start_time": "2022-11-03T11:40:45.890Z"
   },
   {
    "duration": 57,
    "start_time": "2022-11-03T11:40:45.895Z"
   },
   {
    "duration": 26,
    "start_time": "2022-11-03T11:40:45.955Z"
   },
   {
    "duration": 33,
    "start_time": "2022-11-03T11:40:45.983Z"
   },
   {
    "duration": 2,
    "start_time": "2022-11-03T11:40:46.018Z"
   },
   {
    "duration": 14,
    "start_time": "2022-11-03T11:40:46.022Z"
   },
   {
    "duration": 25,
    "start_time": "2022-11-03T11:40:46.038Z"
   },
   {
    "duration": 12,
    "start_time": "2022-11-03T11:40:46.064Z"
   },
   {
    "duration": 55,
    "start_time": "2022-11-03T11:40:46.079Z"
   },
   {
    "duration": 22,
    "start_time": "2022-11-03T11:40:46.136Z"
   },
   {
    "duration": 50,
    "start_time": "2022-11-03T11:40:46.159Z"
   },
   {
    "duration": 4,
    "start_time": "2022-11-03T11:40:46.211Z"
   },
   {
    "duration": 804,
    "start_time": "2022-11-03T11:40:46.217Z"
   },
   {
    "duration": 673,
    "start_time": "2022-11-03T11:40:47.022Z"
   },
   {
    "duration": 788,
    "start_time": "2022-11-03T11:40:47.697Z"
   },
   {
    "duration": 776,
    "start_time": "2022-11-03T11:40:48.486Z"
   },
   {
    "duration": 5,
    "start_time": "2022-11-03T11:40:49.263Z"
   },
   {
    "duration": 5,
    "start_time": "2022-11-03T11:40:49.269Z"
   },
   {
    "duration": 7,
    "start_time": "2022-11-03T11:40:49.276Z"
   },
   {
    "duration": 570,
    "start_time": "2022-11-03T11:40:49.284Z"
   },
   {
    "duration": 409,
    "start_time": "2022-11-03T11:40:49.856Z"
   },
   {
    "duration": 7,
    "start_time": "2022-11-03T11:40:50.267Z"
   },
   {
    "duration": 17,
    "start_time": "2022-11-03T11:40:50.276Z"
   },
   {
    "duration": 6,
    "start_time": "2022-11-03T11:40:50.294Z"
   },
   {
    "duration": 17,
    "start_time": "2022-11-03T11:40:50.302Z"
   },
   {
    "duration": 10,
    "start_time": "2022-11-03T11:40:50.320Z"
   },
   {
    "duration": 3,
    "start_time": "2022-11-03T11:40:50.333Z"
   },
   {
    "duration": 12,
    "start_time": "2022-11-03T11:40:50.337Z"
   },
   {
    "duration": 7,
    "start_time": "2022-11-03T11:40:50.350Z"
   },
   {
    "duration": 12,
    "start_time": "2022-11-03T11:40:50.358Z"
   },
   {
    "duration": 7,
    "start_time": "2022-11-03T11:40:50.372Z"
   },
   {
    "duration": 3,
    "start_time": "2022-11-03T11:40:54.792Z"
   },
   {
    "duration": 3,
    "start_time": "2022-11-03T11:40:56.291Z"
   },
   {
    "duration": 4,
    "start_time": "2022-11-03T11:40:56.973Z"
   },
   {
    "duration": 4,
    "start_time": "2022-11-03T11:40:58.274Z"
   },
   {
    "duration": 4,
    "start_time": "2022-11-03T11:41:01.776Z"
   },
   {
    "duration": 22,
    "start_time": "2022-11-03T11:41:51.216Z"
   },
   {
    "duration": 6,
    "start_time": "2022-11-03T11:43:06.649Z"
   },
   {
    "duration": 4,
    "start_time": "2022-11-03T11:43:07.136Z"
   },
   {
    "duration": 5,
    "start_time": "2022-11-03T11:43:40.068Z"
   },
   {
    "duration": 3,
    "start_time": "2022-11-03T11:43:40.381Z"
   },
   {
    "duration": 6,
    "start_time": "2022-11-03T11:45:07.136Z"
   },
   {
    "duration": 4,
    "start_time": "2022-11-03T11:45:07.598Z"
   },
   {
    "duration": 8,
    "start_time": "2022-11-03T11:47:12.698Z"
   },
   {
    "duration": 4,
    "start_time": "2022-11-03T11:47:23.191Z"
   },
   {
    "duration": 7,
    "start_time": "2022-11-03T11:48:32.839Z"
   },
   {
    "duration": 3,
    "start_time": "2022-11-03T11:48:34.027Z"
   },
   {
    "duration": 26,
    "start_time": "2022-11-03T11:48:42.057Z"
   },
   {
    "duration": 7,
    "start_time": "2022-11-03T11:49:09.786Z"
   },
   {
    "duration": 4,
    "start_time": "2022-11-03T11:49:11.911Z"
   },
   {
    "duration": 7,
    "start_time": "2022-11-03T11:49:13.368Z"
   },
   {
    "duration": 5,
    "start_time": "2022-11-03T11:49:13.884Z"
   },
   {
    "duration": 5,
    "start_time": "2022-11-03T11:49:20.942Z"
   },
   {
    "duration": 5,
    "start_time": "2022-11-03T11:49:26.404Z"
   },
   {
    "duration": 401,
    "start_time": "2022-11-03T11:49:54.706Z"
   },
   {
    "duration": 5,
    "start_time": "2022-11-03T11:50:28.735Z"
   },
   {
    "duration": 3,
    "start_time": "2022-11-03T11:50:32.397Z"
   },
   {
    "duration": 13,
    "start_time": "2022-11-03T11:51:28.175Z"
   },
   {
    "duration": 3,
    "start_time": "2022-11-03T11:51:29.394Z"
   },
   {
    "duration": 5,
    "start_time": "2022-11-03T11:51:31.051Z"
   },
   {
    "duration": 9,
    "start_time": "2022-11-03T11:52:14.617Z"
   },
   {
    "duration": 3,
    "start_time": "2022-11-03T11:52:15.576Z"
   },
   {
    "duration": 5,
    "start_time": "2022-11-03T11:52:16.684Z"
   },
   {
    "duration": 11,
    "start_time": "2022-11-03T11:52:50.090Z"
   },
   {
    "duration": 4,
    "start_time": "2022-11-03T11:52:50.747Z"
   },
   {
    "duration": 3,
    "start_time": "2022-11-03T11:52:58.317Z"
   },
   {
    "duration": 6,
    "start_time": "2022-11-03T11:53:08.350Z"
   },
   {
    "duration": 4,
    "start_time": "2022-11-03T11:53:08.787Z"
   },
   {
    "duration": 25,
    "start_time": "2022-11-03T11:53:34.494Z"
   },
   {
    "duration": 2,
    "start_time": "2022-11-03T11:53:49.837Z"
   },
   {
    "duration": 5,
    "start_time": "2022-11-03T11:54:23.343Z"
   },
   {
    "duration": 27,
    "start_time": "2022-11-03T11:54:26.030Z"
   },
   {
    "duration": 6,
    "start_time": "2022-11-03T11:54:38.840Z"
   },
   {
    "duration": 23,
    "start_time": "2022-11-03T11:54:39.422Z"
   },
   {
    "duration": 892,
    "start_time": "2022-11-03T11:55:14.943Z"
   },
   {
    "duration": 3,
    "start_time": "2022-11-03T11:55:28.503Z"
   },
   {
    "duration": 3,
    "start_time": "2022-11-03T11:56:11.152Z"
   },
   {
    "duration": 3,
    "start_time": "2022-11-03T11:56:17.359Z"
   },
   {
    "duration": 15,
    "start_time": "2022-11-03T11:56:35.691Z"
   },
   {
    "duration": 14,
    "start_time": "2022-11-03T11:56:39.783Z"
   },
   {
    "duration": 17,
    "start_time": "2022-11-03T11:57:02.291Z"
   },
   {
    "duration": 6,
    "start_time": "2022-11-03T11:57:37.655Z"
   },
   {
    "duration": 23,
    "start_time": "2022-11-03T11:57:47.938Z"
   },
   {
    "duration": 5,
    "start_time": "2022-11-03T11:57:52.884Z"
   },
   {
    "duration": 6,
    "start_time": "2022-11-03T11:58:53.204Z"
   },
   {
    "duration": 16,
    "start_time": "2022-11-03T11:59:17.378Z"
   },
   {
    "duration": 5,
    "start_time": "2022-11-03T12:01:30.877Z"
   },
   {
    "duration": 4,
    "start_time": "2022-11-03T12:01:56.562Z"
   },
   {
    "duration": 26,
    "start_time": "2022-11-03T12:02:01.157Z"
   },
   {
    "duration": 737,
    "start_time": "2022-11-03T12:02:37.616Z"
   },
   {
    "duration": 753,
    "start_time": "2022-11-03T12:03:08.015Z"
   },
   {
    "duration": 6,
    "start_time": "2022-11-03T12:03:24.316Z"
   },
   {
    "duration": 3,
    "start_time": "2022-11-03T12:04:15.094Z"
   },
   {
    "duration": 2,
    "start_time": "2022-11-03T12:04:16.232Z"
   },
   {
    "duration": 4,
    "start_time": "2022-11-03T12:04:34.239Z"
   },
   {
    "duration": 25,
    "start_time": "2022-11-03T12:04:40.456Z"
   },
   {
    "duration": 10,
    "start_time": "2022-11-03T12:04:54.687Z"
   },
   {
    "duration": 22,
    "start_time": "2022-11-03T12:04:55.158Z"
   },
   {
    "duration": 6,
    "start_time": "2022-11-03T12:05:04.409Z"
   },
   {
    "duration": 5,
    "start_time": "2022-11-03T12:05:42.104Z"
   },
   {
    "duration": 5,
    "start_time": "2022-11-03T12:05:51.790Z"
   },
   {
    "duration": 10,
    "start_time": "2022-11-03T12:07:17.338Z"
   },
   {
    "duration": 11,
    "start_time": "2022-11-03T12:07:34.466Z"
   },
   {
    "duration": 7,
    "start_time": "2022-11-03T12:07:55.349Z"
   },
   {
    "duration": 6,
    "start_time": "2022-11-03T12:08:06.836Z"
   },
   {
    "duration": 5,
    "start_time": "2022-11-03T12:08:09.703Z"
   },
   {
    "duration": 10,
    "start_time": "2022-11-03T12:08:39.983Z"
   },
   {
    "duration": 3,
    "start_time": "2022-11-03T12:08:44.688Z"
   },
   {
    "duration": 2,
    "start_time": "2022-11-03T12:09:05.010Z"
   },
   {
    "duration": 61,
    "start_time": "2022-11-03T12:10:08.149Z"
   },
   {
    "duration": 4,
    "start_time": "2022-11-03T12:10:14.169Z"
   },
   {
    "duration": 10,
    "start_time": "2022-11-03T12:11:19.023Z"
   },
   {
    "duration": 16,
    "start_time": "2022-11-03T12:11:28.136Z"
   },
   {
    "duration": 11,
    "start_time": "2022-11-03T12:12:05.612Z"
   },
   {
    "duration": 10,
    "start_time": "2022-11-03T12:12:21.815Z"
   },
   {
    "duration": 3,
    "start_time": "2022-11-03T12:13:44.070Z"
   },
   {
    "duration": 3,
    "start_time": "2022-11-03T12:13:44.413Z"
   },
   {
    "duration": 14,
    "start_time": "2022-11-03T12:13:44.657Z"
   },
   {
    "duration": 2,
    "start_time": "2022-11-03T12:14:08.513Z"
   },
   {
    "duration": 2,
    "start_time": "2022-11-03T12:14:08.731Z"
   },
   {
    "duration": 18,
    "start_time": "2022-11-03T12:14:12.846Z"
   },
   {
    "duration": 14,
    "start_time": "2022-11-03T12:15:32.931Z"
   },
   {
    "duration": 114554,
    "start_time": "2022-11-03T12:15:49.906Z"
   },
   {
    "duration": 3,
    "start_time": "2022-11-03T12:17:46.483Z"
   },
   {
    "duration": 3,
    "start_time": "2022-11-03T12:17:46.941Z"
   },
   {
    "duration": 3,
    "start_time": "2022-11-03T12:18:00.905Z"
   },
   {
    "duration": 16505,
    "start_time": "2022-11-03T12:18:01.255Z"
   },
   {
    "duration": 11089,
    "start_time": "2022-11-03T12:18:22.637Z"
   },
   {
    "duration": 26106,
    "start_time": "2022-11-03T12:20:17.383Z"
   },
   {
    "duration": 3,
    "start_time": "2022-11-03T12:23:12.473Z"
   },
   {
    "duration": 4,
    "start_time": "2022-11-03T12:24:23.461Z"
   },
   {
    "duration": 11558,
    "start_time": "2022-11-03T12:24:24.088Z"
   },
   {
    "duration": 3,
    "start_time": "2022-11-03T12:24:51.048Z"
   },
   {
    "duration": 25452,
    "start_time": "2022-11-03T12:24:51.743Z"
   },
   {
    "duration": 4,
    "start_time": "2022-11-03T12:25:32.449Z"
   },
   {
    "duration": 719,
    "start_time": "2022-11-03T12:25:32.455Z"
   },
   {
    "duration": 3,
    "start_time": "2022-11-03T12:25:33.175Z"
   },
   {
    "duration": 39,
    "start_time": "2022-11-03T12:25:33.180Z"
   },
   {
    "duration": 27,
    "start_time": "2022-11-03T12:25:33.221Z"
   },
   {
    "duration": 31,
    "start_time": "2022-11-03T12:25:33.249Z"
   },
   {
    "duration": 27,
    "start_time": "2022-11-03T12:25:33.282Z"
   },
   {
    "duration": 5,
    "start_time": "2022-11-03T12:25:33.311Z"
   },
   {
    "duration": 4,
    "start_time": "2022-11-03T12:25:33.318Z"
   },
   {
    "duration": 2,
    "start_time": "2022-11-03T12:25:33.324Z"
   },
   {
    "duration": 40,
    "start_time": "2022-11-03T12:25:33.328Z"
   },
   {
    "duration": 42,
    "start_time": "2022-11-03T12:25:33.370Z"
   },
   {
    "duration": 147,
    "start_time": "2022-11-03T12:25:33.413Z"
   },
   {
    "duration": 4,
    "start_time": "2022-11-03T12:25:33.561Z"
   },
   {
    "duration": 705,
    "start_time": "2022-11-03T12:25:33.567Z"
   },
   {
    "duration": 796,
    "start_time": "2022-11-03T12:25:34.274Z"
   },
   {
    "duration": 666,
    "start_time": "2022-11-03T12:25:35.072Z"
   },
   {
    "duration": 771,
    "start_time": "2022-11-03T12:25:35.739Z"
   },
   {
    "duration": 5,
    "start_time": "2022-11-03T12:25:36.511Z"
   },
   {
    "duration": 41,
    "start_time": "2022-11-03T12:25:36.517Z"
   },
   {
    "duration": 38,
    "start_time": "2022-11-03T12:25:36.559Z"
   },
   {
    "duration": 570,
    "start_time": "2022-11-03T12:25:36.599Z"
   },
   {
    "duration": 400,
    "start_time": "2022-11-03T12:25:37.171Z"
   },
   {
    "duration": 6,
    "start_time": "2022-11-03T12:25:37.574Z"
   },
   {
    "duration": 13,
    "start_time": "2022-11-03T12:25:37.582Z"
   },
   {
    "duration": 14,
    "start_time": "2022-11-03T12:25:37.596Z"
   },
   {
    "duration": 7,
    "start_time": "2022-11-03T12:25:37.611Z"
   },
   {
    "duration": 5,
    "start_time": "2022-11-03T12:25:37.619Z"
   },
   {
    "duration": 7,
    "start_time": "2022-11-03T12:25:37.625Z"
   },
   {
    "duration": 5,
    "start_time": "2022-11-03T12:25:37.634Z"
   },
   {
    "duration": 6,
    "start_time": "2022-11-03T12:25:37.640Z"
   },
   {
    "duration": 4,
    "start_time": "2022-11-03T12:25:37.647Z"
   },
   {
    "duration": 6,
    "start_time": "2022-11-03T12:25:37.652Z"
   },
   {
    "duration": 12,
    "start_time": "2022-11-03T12:25:37.659Z"
   },
   {
    "duration": 11,
    "start_time": "2022-11-03T12:25:37.673Z"
   },
   {
    "duration": 3,
    "start_time": "2022-11-03T12:25:58.383Z"
   },
   {
    "duration": 3,
    "start_time": "2022-11-03T12:26:00.033Z"
   },
   {
    "duration": 25667,
    "start_time": "2022-11-03T12:26:00.340Z"
   },
   {
    "duration": 3,
    "start_time": "2022-11-03T12:26:31.072Z"
   },
   {
    "duration": 59579,
    "start_time": "2022-11-03T12:26:31.528Z"
   },
   {
    "duration": 7,
    "start_time": "2022-11-03T12:28:17.387Z"
   },
   {
    "duration": 25518,
    "start_time": "2022-11-03T12:28:32.133Z"
   },
   {
    "duration": 2,
    "start_time": "2022-11-03T12:29:07.243Z"
   },
   {
    "duration": 3,
    "start_time": "2022-11-03T12:29:08.563Z"
   },
   {
    "duration": 11577,
    "start_time": "2022-11-03T12:29:08.913Z"
   },
   {
    "duration": 3,
    "start_time": "2022-11-03T12:29:22.353Z"
   },
   {
    "duration": 25901,
    "start_time": "2022-11-03T12:29:22.758Z"
   },
   {
    "duration": 3,
    "start_time": "2022-11-03T12:35:47.479Z"
   },
   {
    "duration": 10,
    "start_time": "2022-11-03T12:36:26.988Z"
   },
   {
    "duration": 9,
    "start_time": "2022-11-03T12:37:14.800Z"
   },
   {
    "duration": 3,
    "start_time": "2022-11-03T12:37:27.540Z"
   },
   {
    "duration": 5,
    "start_time": "2022-11-03T12:37:31.636Z"
   },
   {
    "duration": 1519,
    "start_time": "2022-11-03T12:38:13.449Z"
   },
   {
    "duration": 3,
    "start_time": "2022-11-03T12:40:31.519Z"
   },
   {
    "duration": 4,
    "start_time": "2022-11-03T12:40:54.223Z"
   },
   {
    "duration": 10,
    "start_time": "2022-11-03T12:40:57.323Z"
   },
   {
    "duration": 3,
    "start_time": "2022-11-03T12:42:27.904Z"
   },
   {
    "duration": 11,
    "start_time": "2022-11-03T12:42:28.604Z"
   },
   {
    "duration": 3,
    "start_time": "2022-11-03T12:42:38.606Z"
   },
   {
    "duration": 23189,
    "start_time": "2022-11-03T12:43:15.090Z"
   },
   {
    "duration": 3,
    "start_time": "2022-11-03T12:44:15.238Z"
   },
   {
    "duration": 2,
    "start_time": "2022-11-03T12:44:39.282Z"
   },
   {
    "duration": 2,
    "start_time": "2022-11-03T12:47:57.181Z"
   },
   {
    "duration": 2,
    "start_time": "2022-11-03T12:47:59.127Z"
   },
   {
    "duration": 611423,
    "start_time": "2022-11-03T12:47:59.669Z"
   },
   {
    "duration": 3,
    "start_time": "2022-11-03T12:58:12.923Z"
   },
   {
    "duration": 1119453,
    "start_time": "2022-11-03T12:58:13.503Z"
   },
   {
    "duration": 3,
    "start_time": "2022-11-03T13:19:04.625Z"
   },
   {
    "duration": 4,
    "start_time": "2022-11-03T13:19:06.374Z"
   },
   {
    "duration": 9901,
    "start_time": "2022-11-03T13:19:07.157Z"
   },
   {
    "duration": 3,
    "start_time": "2022-11-03T13:19:49.442Z"
   },
   {
    "duration": 21353,
    "start_time": "2022-11-03T13:19:50.722Z"
   },
   {
    "duration": 3,
    "start_time": "2022-11-03T13:20:23.432Z"
   },
   {
    "duration": 9701,
    "start_time": "2022-11-03T13:20:27.017Z"
   },
   {
    "duration": 3,
    "start_time": "2022-11-03T13:20:43.622Z"
   },
   {
    "duration": 21656,
    "start_time": "2022-11-03T13:20:45.688Z"
   },
   {
    "duration": 3,
    "start_time": "2022-11-03T13:21:28.996Z"
   },
   {
    "duration": 3,
    "start_time": "2022-11-03T13:21:30.037Z"
   },
   {
    "duration": 95116,
    "start_time": "2022-11-03T13:21:30.385Z"
   },
   {
    "duration": 3,
    "start_time": "2022-11-03T13:24:10.594Z"
   },
   {
    "duration": 240588,
    "start_time": "2022-11-03T13:24:10.936Z"
   },
   {
    "duration": 0,
    "start_time": "2022-11-03T13:28:11.526Z"
   },
   {
    "duration": 3,
    "start_time": "2022-11-03T13:28:13.749Z"
   },
   {
    "duration": 3,
    "start_time": "2022-11-03T13:28:14.831Z"
   },
   {
    "duration": 9747,
    "start_time": "2022-11-03T13:28:15.263Z"
   },
   {
    "duration": 2,
    "start_time": "2022-11-03T13:28:27.989Z"
   },
   {
    "duration": 21376,
    "start_time": "2022-11-03T13:28:28.414Z"
   },
   {
    "duration": 23,
    "start_time": "2022-11-03T13:30:33.327Z"
   },
   {
    "duration": 8541,
    "start_time": "2022-11-03T13:31:11.274Z"
   },
   {
    "duration": 9697,
    "start_time": "2022-11-03T13:31:28.619Z"
   },
   {
    "duration": 8687,
    "start_time": "2022-11-03T13:32:51.524Z"
   },
   {
    "duration": 5161,
    "start_time": "2022-11-03T13:33:18.153Z"
   },
   {
    "duration": 9490,
    "start_time": "2022-11-03T13:33:39.521Z"
   },
   {
    "duration": 17,
    "start_time": "2022-11-03T13:34:17.812Z"
   },
   {
    "duration": 9668,
    "start_time": "2022-11-03T13:34:32.115Z"
   },
   {
    "duration": 21269,
    "start_time": "2022-11-03T13:34:47.534Z"
   },
   {
    "duration": 21542,
    "start_time": "2022-11-03T13:35:23.469Z"
   },
   {
    "duration": 9971,
    "start_time": "2022-11-03T13:35:49.038Z"
   },
   {
    "duration": 450,
    "start_time": "2022-11-03T13:37:09.810Z"
   },
   {
    "duration": 9933,
    "start_time": "2022-11-03T13:38:08.109Z"
   },
   {
    "duration": 2,
    "start_time": "2022-11-03T13:40:49.037Z"
   },
   {
    "duration": 21228,
    "start_time": "2022-11-03T13:40:49.389Z"
   },
   {
    "duration": 10043,
    "start_time": "2022-11-03T13:42:35.087Z"
   },
   {
    "duration": 21437,
    "start_time": "2022-11-03T13:42:46.721Z"
   },
   {
    "duration": 131,
    "start_time": "2022-11-03T13:45:24.740Z"
   },
   {
    "duration": 126,
    "start_time": "2022-11-03T13:45:30.806Z"
   },
   {
    "duration": 9502,
    "start_time": "2022-11-03T13:46:06.866Z"
   },
   {
    "duration": 9705,
    "start_time": "2022-11-03T13:46:26.364Z"
   },
   {
    "duration": 9,
    "start_time": "2022-11-03T13:52:04.408Z"
   },
   {
    "duration": 6,
    "start_time": "2022-11-03T13:52:21.916Z"
   },
   {
    "duration": 6,
    "start_time": "2022-11-03T13:52:42.336Z"
   },
   {
    "duration": 17,
    "start_time": "2022-11-03T13:53:28.498Z"
   },
   {
    "duration": 6,
    "start_time": "2022-11-03T13:53:28.868Z"
   },
   {
    "duration": 5,
    "start_time": "2022-11-03T13:53:36.099Z"
   },
   {
    "duration": 9,
    "start_time": "2022-11-03T13:53:57.164Z"
   },
   {
    "duration": 3,
    "start_time": "2022-11-03T13:54:14.008Z"
   },
   {
    "duration": 112,
    "start_time": "2022-11-03T13:54:14.348Z"
   },
   {
    "duration": 132,
    "start_time": "2022-11-03T13:54:22.806Z"
   },
   {
    "duration": 2,
    "start_time": "2022-11-03T13:54:44.880Z"
   },
   {
    "duration": 14519,
    "start_time": "2022-11-03T13:54:45.096Z"
   },
   {
    "duration": 2,
    "start_time": "2022-11-03T13:55:03.064Z"
   },
   {
    "duration": 32196,
    "start_time": "2022-11-03T13:55:06.427Z"
   },
   {
    "duration": 3,
    "start_time": "2022-11-03T13:56:48.833Z"
   },
   {
    "duration": 13,
    "start_time": "2022-11-03T13:58:07.191Z"
   },
   {
    "duration": 25,
    "start_time": "2022-11-03T13:58:47.774Z"
   },
   {
    "duration": 18,
    "start_time": "2022-11-03T14:00:38.019Z"
   },
   {
    "duration": 15,
    "start_time": "2022-11-03T14:01:06.214Z"
   },
   {
    "duration": 15,
    "start_time": "2022-11-03T14:01:21.536Z"
   },
   {
    "duration": 14,
    "start_time": "2022-11-03T14:01:52.723Z"
   },
   {
    "duration": 6,
    "start_time": "2022-11-03T14:01:56.022Z"
   },
   {
    "duration": 3,
    "start_time": "2022-11-03T14:02:23.918Z"
   },
   {
    "duration": 14412,
    "start_time": "2022-11-03T14:02:24.275Z"
   },
   {
    "duration": 8,
    "start_time": "2022-11-03T14:03:26.907Z"
   },
   {
    "duration": 4,
    "start_time": "2022-11-03T14:03:29.917Z"
   },
   {
    "duration": 3,
    "start_time": "2022-11-03T14:03:30.255Z"
   },
   {
    "duration": 35295,
    "start_time": "2022-11-03T14:03:37.790Z"
   },
   {
    "duration": 4,
    "start_time": "2022-11-03T14:04:13.086Z"
   },
   {
    "duration": 16,
    "start_time": "2022-11-03T14:04:52.544Z"
   },
   {
    "duration": 3,
    "start_time": "2022-11-03T14:05:20.733Z"
   },
   {
    "duration": 603,
    "start_time": "2022-11-03T14:05:20.738Z"
   },
   {
    "duration": 3,
    "start_time": "2022-11-03T14:05:21.342Z"
   },
   {
    "duration": 61,
    "start_time": "2022-11-03T14:05:21.347Z"
   },
   {
    "duration": 27,
    "start_time": "2022-11-03T14:05:21.410Z"
   },
   {
    "duration": 31,
    "start_time": "2022-11-03T14:05:21.439Z"
   },
   {
    "duration": 3,
    "start_time": "2022-11-03T14:05:21.471Z"
   },
   {
    "duration": 35,
    "start_time": "2022-11-03T14:05:21.475Z"
   },
   {
    "duration": 22,
    "start_time": "2022-11-03T14:05:21.513Z"
   },
   {
    "duration": 13,
    "start_time": "2022-11-03T14:05:21.536Z"
   },
   {
    "duration": 103,
    "start_time": "2022-11-03T14:05:21.550Z"
   },
   {
    "duration": 25,
    "start_time": "2022-11-03T14:05:21.654Z"
   },
   {
    "duration": 52,
    "start_time": "2022-11-03T14:05:21.681Z"
   },
   {
    "duration": 7,
    "start_time": "2022-11-03T14:05:21.734Z"
   },
   {
    "duration": 845,
    "start_time": "2022-11-03T14:05:21.742Z"
   },
   {
    "duration": 734,
    "start_time": "2022-11-03T14:05:22.589Z"
   },
   {
    "duration": 830,
    "start_time": "2022-11-03T14:05:23.324Z"
   },
   {
    "duration": 687,
    "start_time": "2022-11-03T14:05:24.156Z"
   },
   {
    "duration": 5,
    "start_time": "2022-11-03T14:05:24.844Z"
   },
   {
    "duration": 8,
    "start_time": "2022-11-03T14:05:24.850Z"
   },
   {
    "duration": 11,
    "start_time": "2022-11-03T14:05:24.860Z"
   },
   {
    "duration": 654,
    "start_time": "2022-11-03T14:05:24.873Z"
   },
   {
    "duration": 397,
    "start_time": "2022-11-03T14:05:25.530Z"
   },
   {
    "duration": 7,
    "start_time": "2022-11-03T14:05:25.929Z"
   },
   {
    "duration": 25,
    "start_time": "2022-11-03T14:05:25.937Z"
   },
   {
    "duration": 14,
    "start_time": "2022-11-03T14:05:25.964Z"
   },
   {
    "duration": 11,
    "start_time": "2022-11-03T14:05:25.979Z"
   },
   {
    "duration": 16,
    "start_time": "2022-11-03T14:05:25.991Z"
   },
   {
    "duration": 10,
    "start_time": "2022-11-03T14:05:26.009Z"
   },
   {
    "duration": 4,
    "start_time": "2022-11-03T14:05:26.020Z"
   },
   {
    "duration": 5,
    "start_time": "2022-11-03T14:05:26.026Z"
   },
   {
    "duration": 16,
    "start_time": "2022-11-03T14:05:26.033Z"
   },
   {
    "duration": 18,
    "start_time": "2022-11-03T14:05:26.050Z"
   },
   {
    "duration": 15,
    "start_time": "2022-11-03T14:05:26.070Z"
   },
   {
    "duration": 3,
    "start_time": "2022-11-03T14:05:26.937Z"
   },
   {
    "duration": 2,
    "start_time": "2022-11-03T14:05:28.074Z"
   },
   {
    "duration": 16229,
    "start_time": "2022-11-03T14:05:28.551Z"
   },
   {
    "duration": 6,
    "start_time": "2022-11-03T14:05:51.168Z"
   },
   {
    "duration": 12,
    "start_time": "2022-11-03T14:05:52.499Z"
   },
   {
    "duration": 10,
    "start_time": "2022-11-03T14:06:41.504Z"
   },
   {
    "duration": 10,
    "start_time": "2022-11-03T14:06:45.862Z"
   },
   {
    "duration": 11,
    "start_time": "2022-11-03T14:06:51.449Z"
   },
   {
    "duration": 11,
    "start_time": "2022-11-03T14:07:00.903Z"
   },
   {
    "duration": 6,
    "start_time": "2022-11-03T14:07:12.339Z"
   },
   {
    "duration": 19,
    "start_time": "2022-11-03T14:07:32.907Z"
   },
   {
    "duration": 5,
    "start_time": "2022-11-03T14:07:54.342Z"
   },
   {
    "duration": 4,
    "start_time": "2022-11-03T14:08:01.731Z"
   },
   {
    "duration": 2,
    "start_time": "2022-11-03T14:08:14.485Z"
   },
   {
    "duration": 5,
    "start_time": "2022-11-03T14:08:19.931Z"
   },
   {
    "duration": 5,
    "start_time": "2022-11-03T14:08:28.542Z"
   },
   {
    "duration": 6,
    "start_time": "2022-11-03T14:08:43.824Z"
   },
   {
    "duration": 3,
    "start_time": "2022-11-03T14:24:06.803Z"
   },
   {
    "duration": 731,
    "start_time": "2022-11-03T14:24:06.808Z"
   },
   {
    "duration": 3,
    "start_time": "2022-11-03T14:24:07.541Z"
   },
   {
    "duration": 55,
    "start_time": "2022-11-03T14:24:07.545Z"
   },
   {
    "duration": 25,
    "start_time": "2022-11-03T14:24:07.602Z"
   },
   {
    "duration": 37,
    "start_time": "2022-11-03T14:24:07.628Z"
   },
   {
    "duration": 3,
    "start_time": "2022-11-03T14:24:07.667Z"
   },
   {
    "duration": 12,
    "start_time": "2022-11-03T14:24:07.671Z"
   },
   {
    "duration": 17,
    "start_time": "2022-11-03T14:24:07.685Z"
   },
   {
    "duration": 8,
    "start_time": "2022-11-03T14:24:07.703Z"
   },
   {
    "duration": 49,
    "start_time": "2022-11-03T14:24:07.713Z"
   },
   {
    "duration": 25,
    "start_time": "2022-11-03T14:24:07.763Z"
   },
   {
    "duration": 45,
    "start_time": "2022-11-03T14:24:07.790Z"
   },
   {
    "duration": 5,
    "start_time": "2022-11-03T14:24:07.837Z"
   },
   {
    "duration": 807,
    "start_time": "2022-11-03T14:24:07.843Z"
   },
   {
    "duration": 700,
    "start_time": "2022-11-03T14:24:08.651Z"
   },
   {
    "duration": 808,
    "start_time": "2022-11-03T14:24:09.353Z"
   },
   {
    "duration": 676,
    "start_time": "2022-11-03T14:24:10.162Z"
   },
   {
    "duration": 5,
    "start_time": "2022-11-03T14:24:10.840Z"
   },
   {
    "duration": 46,
    "start_time": "2022-11-03T14:24:10.847Z"
   },
   {
    "duration": 69,
    "start_time": "2022-11-03T14:24:10.894Z"
   },
   {
    "duration": 725,
    "start_time": "2022-11-03T14:24:10.965Z"
   },
   {
    "duration": 406,
    "start_time": "2022-11-03T14:24:11.692Z"
   },
   {
    "duration": 11,
    "start_time": "2022-11-03T14:24:12.101Z"
   },
   {
    "duration": 62,
    "start_time": "2022-11-03T14:24:12.114Z"
   },
   {
    "duration": 34,
    "start_time": "2022-11-03T14:24:12.178Z"
   },
   {
    "duration": 33,
    "start_time": "2022-11-03T14:24:12.214Z"
   },
   {
    "duration": 5,
    "start_time": "2022-11-03T14:24:14.509Z"
   },
   {
    "duration": 4,
    "start_time": "2022-11-03T14:24:21.931Z"
   },
   {
    "duration": 3,
    "start_time": "2022-11-03T14:24:22.455Z"
   },
   {
    "duration": 3,
    "start_time": "2022-11-03T14:25:23.515Z"
   },
   {
    "duration": 3,
    "start_time": "2022-11-03T14:25:23.789Z"
   },
   {
    "duration": 9,
    "start_time": "2022-11-03T14:25:27.937Z"
   },
   {
    "duration": 11,
    "start_time": "2022-11-03T14:25:30.996Z"
   },
   {
    "duration": 723,
    "start_time": "2022-11-03T14:25:47.581Z"
   },
   {
    "duration": 27,
    "start_time": "2022-11-03T14:26:35.994Z"
   },
   {
    "duration": 10,
    "start_time": "2022-11-03T14:28:55.654Z"
   },
   {
    "duration": 268,
    "start_time": "2022-11-03T14:29:03.580Z"
   },
   {
    "duration": 276,
    "start_time": "2022-11-03T14:29:11.489Z"
   },
   {
    "duration": 266,
    "start_time": "2022-11-03T14:29:21.041Z"
   },
   {
    "duration": 282,
    "start_time": "2022-11-03T14:29:40.685Z"
   },
   {
    "duration": 267,
    "start_time": "2022-11-03T14:29:56.033Z"
   },
   {
    "duration": 14,
    "start_time": "2022-11-03T14:36:22.988Z"
   },
   {
    "duration": 13,
    "start_time": "2022-11-03T14:36:35.858Z"
   },
   {
    "duration": 19,
    "start_time": "2022-11-03T14:36:49.003Z"
   },
   {
    "duration": 19,
    "start_time": "2022-11-03T14:37:17.348Z"
   },
   {
    "duration": 16,
    "start_time": "2022-11-03T14:37:34.592Z"
   },
   {
    "duration": 3703,
    "start_time": "2022-11-03T14:38:08.325Z"
   },
   {
    "duration": 4102,
    "start_time": "2022-11-03T14:38:31.585Z"
   },
   {
    "duration": 1465,
    "start_time": "2022-11-03T16:07:38.899Z"
   },
   {
    "duration": 4,
    "start_time": "2022-11-03T16:08:17.821Z"
   },
   {
    "duration": 2094,
    "start_time": "2022-11-03T16:08:17.832Z"
   },
   {
    "duration": 2,
    "start_time": "2022-11-03T16:08:19.928Z"
   },
   {
    "duration": 40,
    "start_time": "2022-11-03T16:08:19.932Z"
   },
   {
    "duration": 26,
    "start_time": "2022-11-03T16:08:19.973Z"
   },
   {
    "duration": 43,
    "start_time": "2022-11-03T16:08:20.001Z"
   },
   {
    "duration": 4,
    "start_time": "2022-11-03T16:08:20.046Z"
   },
   {
    "duration": 17,
    "start_time": "2022-11-03T16:08:20.052Z"
   },
   {
    "duration": 5,
    "start_time": "2022-11-03T16:08:20.071Z"
   },
   {
    "duration": 11,
    "start_time": "2022-11-03T16:08:20.078Z"
   },
   {
    "duration": 57,
    "start_time": "2022-11-03T16:08:20.091Z"
   },
   {
    "duration": 25,
    "start_time": "2022-11-03T16:08:20.150Z"
   },
   {
    "duration": 53,
    "start_time": "2022-11-03T16:08:20.176Z"
   },
   {
    "duration": 5,
    "start_time": "2022-11-03T16:08:20.231Z"
   },
   {
    "duration": 754,
    "start_time": "2022-11-03T16:08:20.239Z"
   },
   {
    "duration": 670,
    "start_time": "2022-11-03T16:08:20.994Z"
   },
   {
    "duration": 763,
    "start_time": "2022-11-03T16:08:21.665Z"
   },
   {
    "duration": 655,
    "start_time": "2022-11-03T16:08:22.429Z"
   },
   {
    "duration": 4,
    "start_time": "2022-11-03T16:08:23.086Z"
   },
   {
    "duration": 14,
    "start_time": "2022-11-03T16:08:23.092Z"
   },
   {
    "duration": 5,
    "start_time": "2022-11-03T16:08:23.108Z"
   },
   {
    "duration": 655,
    "start_time": "2022-11-03T16:08:23.115Z"
   },
   {
    "duration": 396,
    "start_time": "2022-11-03T16:08:23.772Z"
   },
   {
    "duration": 9,
    "start_time": "2022-11-03T16:08:24.170Z"
   },
   {
    "duration": 9,
    "start_time": "2022-11-03T16:08:24.181Z"
   },
   {
    "duration": 22,
    "start_time": "2022-11-03T16:08:24.192Z"
   },
   {
    "duration": 7,
    "start_time": "2022-11-03T16:08:24.216Z"
   },
   {
    "duration": 8,
    "start_time": "2022-11-03T16:08:24.224Z"
   },
   {
    "duration": 668,
    "start_time": "2022-11-03T16:08:32.438Z"
   },
   {
    "duration": 750,
    "start_time": "2022-11-03T16:08:38.738Z"
   },
   {
    "duration": 764,
    "start_time": "2022-11-03T16:09:23.736Z"
   },
   {
    "duration": 780,
    "start_time": "2022-11-03T16:09:37.372Z"
   },
   {
    "duration": 4,
    "start_time": "2022-11-03T16:09:45.339Z"
   },
   {
    "duration": 3,
    "start_time": "2022-11-03T16:09:45.602Z"
   },
   {
    "duration": 2,
    "start_time": "2022-11-03T16:09:47.681Z"
   },
   {
    "duration": 2,
    "start_time": "2022-11-03T16:09:47.945Z"
   },
   {
    "duration": 7,
    "start_time": "2022-11-03T16:10:19.860Z"
   },
   {
    "duration": 6,
    "start_time": "2022-11-03T16:10:41.705Z"
   },
   {
    "duration": 113,
    "start_time": "2022-11-03T16:15:25.841Z"
   },
   {
    "duration": 9,
    "start_time": "2022-11-03T16:15:36.094Z"
   },
   {
    "duration": 12,
    "start_time": "2022-11-03T16:15:45.957Z"
   },
   {
    "duration": 46,
    "start_time": "2022-11-03T16:16:51.215Z"
   },
   {
    "duration": 13,
    "start_time": "2022-11-03T16:18:03.530Z"
   },
   {
    "duration": 6,
    "start_time": "2022-11-03T16:18:30.611Z"
   },
   {
    "duration": 6,
    "start_time": "2022-11-03T16:18:39.149Z"
   },
   {
    "duration": 10,
    "start_time": "2022-11-03T16:19:01.968Z"
   },
   {
    "duration": 19,
    "start_time": "2022-11-03T16:19:30.665Z"
   },
   {
    "duration": 10,
    "start_time": "2022-11-03T16:19:38.997Z"
   },
   {
    "duration": 24,
    "start_time": "2022-11-03T16:20:38.406Z"
   },
   {
    "duration": 11,
    "start_time": "2022-11-03T16:21:58.154Z"
   },
   {
    "duration": 8,
    "start_time": "2022-11-03T16:22:00.860Z"
   },
   {
    "duration": 31,
    "start_time": "2022-11-03T16:22:33.887Z"
   },
   {
    "duration": 8,
    "start_time": "2022-11-03T16:22:47.005Z"
   },
   {
    "duration": 5,
    "start_time": "2022-11-03T16:23:04.215Z"
   },
   {
    "duration": 16,
    "start_time": "2022-11-03T16:23:57.254Z"
   },
   {
    "duration": 12,
    "start_time": "2022-11-03T16:24:17.649Z"
   },
   {
    "duration": 8,
    "start_time": "2022-11-03T16:24:54.581Z"
   },
   {
    "duration": 23,
    "start_time": "2022-11-03T16:25:04.793Z"
   },
   {
    "duration": 8,
    "start_time": "2022-11-03T16:25:15.817Z"
   },
   {
    "duration": 10,
    "start_time": "2022-11-03T16:26:12.444Z"
   },
   {
    "duration": 7,
    "start_time": "2022-11-03T16:26:19.427Z"
   },
   {
    "duration": 6,
    "start_time": "2022-11-03T16:26:35.815Z"
   },
   {
    "duration": 8,
    "start_time": "2022-11-03T16:26:37.243Z"
   },
   {
    "duration": 3,
    "start_time": "2022-11-03T16:26:58.369Z"
   },
   {
    "duration": 2,
    "start_time": "2022-11-03T16:26:59.781Z"
   },
   {
    "duration": 12348,
    "start_time": "2022-11-03T16:27:00.871Z"
   },
   {
    "duration": 3,
    "start_time": "2022-11-03T16:27:16.131Z"
   },
   {
    "duration": 3,
    "start_time": "2022-11-03T16:27:16.913Z"
   },
   {
    "duration": 11822,
    "start_time": "2022-11-03T16:27:17.301Z"
   },
   {
    "duration": 81,
    "start_time": "2022-11-03T16:30:50.272Z"
   },
   {
    "duration": 1434,
    "start_time": "2022-11-03T16:30:56.342Z"
   },
   {
    "duration": 11729,
    "start_time": "2022-11-03T16:31:14.773Z"
   },
   {
    "duration": 68,
    "start_time": "2022-11-03T16:31:53.043Z"
   },
   {
    "duration": 73,
    "start_time": "2022-11-03T16:32:12.984Z"
   },
   {
    "duration": 3,
    "start_time": "2022-11-03T16:32:35.889Z"
   },
   {
    "duration": 8,
    "start_time": "2022-11-03T16:33:00.140Z"
   },
   {
    "duration": 11900,
    "start_time": "2022-11-03T16:33:07.659Z"
   },
   {
    "duration": 11696,
    "start_time": "2022-11-03T16:34:23.293Z"
   },
   {
    "duration": 1124,
    "start_time": "2022-11-03T16:36:41.482Z"
   },
   {
    "duration": 12,
    "start_time": "2022-11-03T16:37:06.383Z"
   },
   {
    "duration": 10,
    "start_time": "2022-11-03T16:37:07.379Z"
   },
   {
    "duration": 9,
    "start_time": "2022-11-03T16:37:15.609Z"
   },
   {
    "duration": 28,
    "start_time": "2022-11-03T16:37:40.404Z"
   },
   {
    "duration": 8,
    "start_time": "2022-11-03T16:37:45.409Z"
   },
   {
    "duration": 3,
    "start_time": "2022-11-03T16:38:55.958Z"
   },
   {
    "duration": 656,
    "start_time": "2022-11-03T16:38:55.963Z"
   },
   {
    "duration": 2,
    "start_time": "2022-11-03T16:38:56.621Z"
   },
   {
    "duration": 33,
    "start_time": "2022-11-03T16:38:56.625Z"
   },
   {
    "duration": 27,
    "start_time": "2022-11-03T16:38:56.659Z"
   },
   {
    "duration": 30,
    "start_time": "2022-11-03T16:38:56.705Z"
   },
   {
    "duration": 3,
    "start_time": "2022-11-03T16:38:56.737Z"
   },
   {
    "duration": 6,
    "start_time": "2022-11-03T16:38:56.742Z"
   },
   {
    "duration": 5,
    "start_time": "2022-11-03T16:38:56.751Z"
   },
   {
    "duration": 4,
    "start_time": "2022-11-03T16:38:56.758Z"
   },
   {
    "duration": 60,
    "start_time": "2022-11-03T16:38:56.763Z"
   },
   {
    "duration": 21,
    "start_time": "2022-11-03T16:38:56.825Z"
   },
   {
    "duration": 40,
    "start_time": "2022-11-03T16:38:56.847Z"
   },
   {
    "duration": 19,
    "start_time": "2022-11-03T16:38:56.888Z"
   },
   {
    "duration": 851,
    "start_time": "2022-11-03T16:38:56.909Z"
   },
   {
    "duration": 690,
    "start_time": "2022-11-03T16:38:57.762Z"
   },
   {
    "duration": 771,
    "start_time": "2022-11-03T16:38:58.453Z"
   },
   {
    "duration": 641,
    "start_time": "2022-11-03T16:38:59.226Z"
   },
   {
    "duration": 4,
    "start_time": "2022-11-03T16:38:59.869Z"
   },
   {
    "duration": 7,
    "start_time": "2022-11-03T16:38:59.874Z"
   },
   {
    "duration": 12,
    "start_time": "2022-11-03T16:38:59.882Z"
   },
   {
    "duration": 658,
    "start_time": "2022-11-03T16:38:59.895Z"
   },
   {
    "duration": 408,
    "start_time": "2022-11-03T16:39:00.555Z"
   },
   {
    "duration": 10,
    "start_time": "2022-11-03T16:39:00.966Z"
   },
   {
    "duration": 11,
    "start_time": "2022-11-03T16:39:00.978Z"
   },
   {
    "duration": 19,
    "start_time": "2022-11-03T16:39:00.991Z"
   },
   {
    "duration": 14,
    "start_time": "2022-11-03T16:39:01.011Z"
   },
   {
    "duration": 14,
    "start_time": "2022-11-03T16:39:01.026Z"
   },
   {
    "duration": 4,
    "start_time": "2022-11-03T16:39:05.783Z"
   },
   {
    "duration": 2,
    "start_time": "2022-11-03T16:39:05.999Z"
   },
   {
    "duration": 3,
    "start_time": "2022-11-03T16:39:06.661Z"
   },
   {
    "duration": 3,
    "start_time": "2022-11-03T16:39:07.162Z"
   },
   {
    "duration": 24,
    "start_time": "2022-11-03T16:39:14.139Z"
   },
   {
    "duration": 8,
    "start_time": "2022-11-03T16:39:14.663Z"
   },
   {
    "duration": 5,
    "start_time": "2022-11-03T16:39:19.767Z"
   },
   {
    "duration": 12,
    "start_time": "2022-11-03T16:40:51.528Z"
   },
   {
    "duration": 7,
    "start_time": "2022-11-03T16:40:57.211Z"
   },
   {
    "duration": 7,
    "start_time": "2022-11-03T16:41:10.635Z"
   },
   {
    "duration": 12,
    "start_time": "2022-11-03T16:42:17.113Z"
   },
   {
    "duration": 8,
    "start_time": "2022-11-03T16:42:28.912Z"
   },
   {
    "duration": 8,
    "start_time": "2022-11-03T16:42:47.907Z"
   },
   {
    "duration": 4,
    "start_time": "2022-11-03T16:42:51.383Z"
   },
   {
    "duration": 13,
    "start_time": "2022-11-03T16:43:32.274Z"
   },
   {
    "duration": 9,
    "start_time": "2022-11-03T16:43:33.788Z"
   },
   {
    "duration": 8,
    "start_time": "2022-11-03T16:43:51.586Z"
   },
   {
    "duration": 8,
    "start_time": "2022-11-03T16:44:15.073Z"
   },
   {
    "duration": 13,
    "start_time": "2022-11-03T16:44:30.559Z"
   },
   {
    "duration": 13,
    "start_time": "2022-11-03T16:45:18.383Z"
   },
   {
    "duration": 12,
    "start_time": "2022-11-03T16:45:18.809Z"
   },
   {
    "duration": 12,
    "start_time": "2022-11-03T16:45:34.661Z"
   },
   {
    "duration": 13,
    "start_time": "2022-11-03T16:45:35.083Z"
   },
   {
    "duration": 13,
    "start_time": "2022-11-03T16:45:40.782Z"
   },
   {
    "duration": 12,
    "start_time": "2022-11-03T16:46:31.364Z"
   },
   {
    "duration": 13,
    "start_time": "2022-11-03T16:47:34.527Z"
   },
   {
    "duration": 14,
    "start_time": "2022-11-03T16:47:36.194Z"
   },
   {
    "duration": 3,
    "start_time": "2022-11-03T16:48:17.892Z"
   },
   {
    "duration": 3,
    "start_time": "2022-11-03T16:48:44.606Z"
   },
   {
    "duration": 632,
    "start_time": "2022-11-03T16:48:44.611Z"
   },
   {
    "duration": 2,
    "start_time": "2022-11-03T16:48:45.245Z"
   },
   {
    "duration": 33,
    "start_time": "2022-11-03T16:48:45.249Z"
   },
   {
    "duration": 40,
    "start_time": "2022-11-03T16:48:45.284Z"
   },
   {
    "duration": 29,
    "start_time": "2022-11-03T16:48:45.326Z"
   },
   {
    "duration": 2,
    "start_time": "2022-11-03T16:48:45.357Z"
   },
   {
    "duration": 7,
    "start_time": "2022-11-03T16:48:45.360Z"
   },
   {
    "duration": 4,
    "start_time": "2022-11-03T16:48:45.369Z"
   },
   {
    "duration": 4,
    "start_time": "2022-11-03T16:48:45.375Z"
   },
   {
    "duration": 71,
    "start_time": "2022-11-03T16:48:45.380Z"
   },
   {
    "duration": 23,
    "start_time": "2022-11-03T16:48:45.452Z"
   },
   {
    "duration": 48,
    "start_time": "2022-11-03T16:48:45.476Z"
   },
   {
    "duration": 4,
    "start_time": "2022-11-03T16:48:45.526Z"
   },
   {
    "duration": 771,
    "start_time": "2022-11-03T16:48:45.532Z"
   },
   {
    "duration": 643,
    "start_time": "2022-11-03T16:48:46.305Z"
   },
   {
    "duration": 839,
    "start_time": "2022-11-03T16:48:46.950Z"
   },
   {
    "duration": 694,
    "start_time": "2022-11-03T16:48:47.791Z"
   },
   {
    "duration": 4,
    "start_time": "2022-11-03T16:48:48.487Z"
   },
   {
    "duration": 13,
    "start_time": "2022-11-03T16:48:48.492Z"
   },
   {
    "duration": 3,
    "start_time": "2022-11-03T16:48:48.507Z"
   },
   {
    "duration": 637,
    "start_time": "2022-11-03T16:48:48.512Z"
   },
   {
    "duration": 385,
    "start_time": "2022-11-03T16:48:49.151Z"
   },
   {
    "duration": 9,
    "start_time": "2022-11-03T16:48:49.539Z"
   },
   {
    "duration": 11,
    "start_time": "2022-11-03T16:48:49.550Z"
   },
   {
    "duration": 6,
    "start_time": "2022-11-03T16:48:49.562Z"
   },
   {
    "duration": 7,
    "start_time": "2022-11-03T16:48:49.570Z"
   },
   {
    "duration": 27,
    "start_time": "2022-11-03T16:48:49.578Z"
   },
   {
    "duration": 4,
    "start_time": "2022-11-03T16:48:49.607Z"
   },
   {
    "duration": 9,
    "start_time": "2022-11-03T16:48:49.612Z"
   },
   {
    "duration": 10,
    "start_time": "2022-11-03T16:48:49.623Z"
   },
   {
    "duration": 4,
    "start_time": "2022-11-03T16:48:49.635Z"
   },
   {
    "duration": 5,
    "start_time": "2022-11-03T16:48:54.158Z"
   },
   {
    "duration": 23,
    "start_time": "2022-11-03T16:49:05.527Z"
   },
   {
    "duration": 5,
    "start_time": "2022-11-03T16:49:06.516Z"
   },
   {
    "duration": 8,
    "start_time": "2022-11-03T16:49:17.221Z"
   },
   {
    "duration": 10,
    "start_time": "2022-11-03T16:49:27.944Z"
   },
   {
    "duration": 9,
    "start_time": "2022-11-03T16:49:38.742Z"
   },
   {
    "duration": 4,
    "start_time": "2022-11-03T16:49:40.949Z"
   },
   {
    "duration": 7,
    "start_time": "2022-11-03T16:50:30.739Z"
   },
   {
    "duration": 10,
    "start_time": "2022-11-03T16:50:46.118Z"
   },
   {
    "duration": 4,
    "start_time": "2022-11-03T16:50:53.379Z"
   },
   {
    "duration": 10,
    "start_time": "2022-11-03T16:51:05.241Z"
   },
   {
    "duration": 28,
    "start_time": "2022-11-03T16:52:02.302Z"
   },
   {
    "duration": 9,
    "start_time": "2022-11-03T16:52:19.603Z"
   },
   {
    "duration": 3,
    "start_time": "2022-11-03T16:53:15.441Z"
   },
   {
    "duration": 3,
    "start_time": "2022-11-03T16:53:17.517Z"
   },
   {
    "duration": 12435,
    "start_time": "2022-11-03T16:53:39.423Z"
   },
   {
    "duration": 104,
    "start_time": "2022-11-03T16:55:00.570Z"
   },
   {
    "duration": 93,
    "start_time": "2022-11-03T16:55:11.822Z"
   },
   {
    "duration": 11987,
    "start_time": "2022-11-03T16:55:26.701Z"
   },
   {
    "duration": 3,
    "start_time": "2022-11-03T16:56:05.710Z"
   },
   {
    "duration": 3,
    "start_time": "2022-11-03T16:56:06.143Z"
   },
   {
    "duration": 26931,
    "start_time": "2022-11-03T16:56:19.265Z"
   },
   {
    "duration": 3,
    "start_time": "2022-11-03T16:56:56.506Z"
   },
   {
    "duration": 3,
    "start_time": "2022-11-03T16:56:57.881Z"
   },
   {
    "duration": 10777,
    "start_time": "2022-11-03T16:56:58.220Z"
   },
   {
    "duration": 3,
    "start_time": "2022-11-03T16:58:43.709Z"
   },
   {
    "duration": 2,
    "start_time": "2022-11-03T16:58:44.384Z"
   },
   {
    "duration": 24511,
    "start_time": "2022-11-03T16:58:44.837Z"
   },
   {
    "duration": 1511,
    "start_time": "2022-11-03T18:48:17.649Z"
   },
   {
    "duration": 4,
    "start_time": "2022-11-03T18:48:29.008Z"
   },
   {
    "duration": 2136,
    "start_time": "2022-11-03T18:48:29.014Z"
   },
   {
    "duration": 3,
    "start_time": "2022-11-03T18:48:31.151Z"
   },
   {
    "duration": 43,
    "start_time": "2022-11-03T18:48:31.156Z"
   },
   {
    "duration": 29,
    "start_time": "2022-11-03T18:48:31.200Z"
   },
   {
    "duration": 31,
    "start_time": "2022-11-03T18:48:31.230Z"
   },
   {
    "duration": 4,
    "start_time": "2022-11-03T18:48:31.262Z"
   },
   {
    "duration": 6,
    "start_time": "2022-11-03T18:48:31.291Z"
   },
   {
    "duration": 5,
    "start_time": "2022-11-03T18:48:31.299Z"
   },
   {
    "duration": 7,
    "start_time": "2022-11-03T18:48:31.305Z"
   },
   {
    "duration": 60,
    "start_time": "2022-11-03T18:48:31.313Z"
   },
   {
    "duration": 35,
    "start_time": "2022-11-03T18:48:31.375Z"
   },
   {
    "duration": 44,
    "start_time": "2022-11-03T18:48:31.412Z"
   },
   {
    "duration": 6,
    "start_time": "2022-11-03T18:48:31.458Z"
   },
   {
    "duration": 817,
    "start_time": "2022-11-03T18:48:31.465Z"
   },
   {
    "duration": 736,
    "start_time": "2022-11-03T18:48:32.291Z"
   },
   {
    "duration": 836,
    "start_time": "2022-11-03T18:48:33.029Z"
   },
   {
    "duration": 746,
    "start_time": "2022-11-03T18:48:33.866Z"
   },
   {
    "duration": 5,
    "start_time": "2022-11-03T18:48:34.613Z"
   },
   {
    "duration": 20,
    "start_time": "2022-11-03T18:48:34.619Z"
   },
   {
    "duration": 17,
    "start_time": "2022-11-03T18:48:34.641Z"
   },
   {
    "duration": 723,
    "start_time": "2022-11-03T18:48:34.659Z"
   },
   {
    "duration": 449,
    "start_time": "2022-11-03T18:48:35.383Z"
   },
   {
    "duration": 11,
    "start_time": "2022-11-03T18:48:35.834Z"
   },
   {
    "duration": 15,
    "start_time": "2022-11-03T18:48:35.846Z"
   },
   {
    "duration": 10,
    "start_time": "2022-11-03T18:48:35.862Z"
   },
   {
    "duration": 39,
    "start_time": "2022-11-03T18:48:35.873Z"
   },
   {
    "duration": 6,
    "start_time": "2022-11-03T18:48:35.914Z"
   },
   {
    "duration": 4,
    "start_time": "2022-11-03T18:48:39.084Z"
   },
   {
    "duration": 3,
    "start_time": "2022-11-03T18:48:39.819Z"
   },
   {
    "duration": 3,
    "start_time": "2022-11-03T18:48:41.045Z"
   },
   {
    "duration": 3,
    "start_time": "2022-11-03T18:48:41.859Z"
   },
   {
    "duration": 30,
    "start_time": "2022-11-03T18:48:46.640Z"
   },
   {
    "duration": 7,
    "start_time": "2022-11-03T18:48:47.428Z"
   },
   {
    "duration": 10,
    "start_time": "2022-11-03T18:48:49.421Z"
   },
   {
    "duration": 9,
    "start_time": "2022-11-03T18:48:50.664Z"
   },
   {
    "duration": 3,
    "start_time": "2022-11-03T18:49:02.431Z"
   },
   {
    "duration": 3,
    "start_time": "2022-11-03T18:49:04.808Z"
   },
   {
    "duration": 12237,
    "start_time": "2022-11-03T18:49:11.631Z"
   },
   {
    "duration": 3,
    "start_time": "2022-11-03T18:49:41.809Z"
   },
   {
    "duration": 3,
    "start_time": "2022-11-03T18:49:42.598Z"
   },
   {
    "duration": 26008,
    "start_time": "2022-11-03T18:49:46.751Z"
   },
   {
    "duration": 6,
    "start_time": "2022-11-03T18:54:55.044Z"
   },
   {
    "duration": 6,
    "start_time": "2022-11-03T18:55:01.218Z"
   },
   {
    "duration": 122,
    "start_time": "2022-11-03T18:56:40.089Z"
   },
   {
    "duration": 73,
    "start_time": "2022-11-03T19:01:56.899Z"
   },
   {
    "duration": 69,
    "start_time": "2022-11-03T19:02:00.963Z"
   },
   {
    "duration": 4,
    "start_time": "2022-11-03T19:02:10.103Z"
   },
   {
    "duration": 1069,
    "start_time": "2022-11-03T19:02:32.629Z"
   },
   {
    "duration": 4,
    "start_time": "2022-11-03T19:03:00.143Z"
   },
   {
    "duration": 4,
    "start_time": "2022-11-03T19:03:16.453Z"
   },
   {
    "duration": 3,
    "start_time": "2022-11-03T19:04:11.729Z"
   },
   {
    "duration": 19,
    "start_time": "2022-11-03T19:04:12.742Z"
   },
   {
    "duration": 4,
    "start_time": "2022-11-03T19:04:23.442Z"
   },
   {
    "duration": 18,
    "start_time": "2022-11-03T19:04:24.158Z"
   },
   {
    "duration": 10,
    "start_time": "2022-11-03T19:05:13.217Z"
   },
   {
    "duration": 18,
    "start_time": "2022-11-03T19:05:35.505Z"
   },
   {
    "duration": 22,
    "start_time": "2022-11-03T19:05:41.565Z"
   },
   {
    "duration": 4,
    "start_time": "2022-11-03T19:06:06.443Z"
   },
   {
    "duration": 749,
    "start_time": "2022-11-03T19:06:06.449Z"
   },
   {
    "duration": 3,
    "start_time": "2022-11-03T19:06:07.199Z"
   },
   {
    "duration": 49,
    "start_time": "2022-11-03T19:06:07.204Z"
   },
   {
    "duration": 27,
    "start_time": "2022-11-03T19:06:07.255Z"
   },
   {
    "duration": 32,
    "start_time": "2022-11-03T19:06:07.290Z"
   },
   {
    "duration": 2,
    "start_time": "2022-11-03T19:06:07.324Z"
   },
   {
    "duration": 19,
    "start_time": "2022-11-03T19:06:07.328Z"
   },
   {
    "duration": 11,
    "start_time": "2022-11-03T19:06:07.348Z"
   },
   {
    "duration": 16,
    "start_time": "2022-11-03T19:06:07.361Z"
   },
   {
    "duration": 50,
    "start_time": "2022-11-03T19:06:07.379Z"
   },
   {
    "duration": 25,
    "start_time": "2022-11-03T19:06:07.430Z"
   },
   {
    "duration": 61,
    "start_time": "2022-11-03T19:06:07.457Z"
   },
   {
    "duration": 4,
    "start_time": "2022-11-03T19:06:07.521Z"
   },
   {
    "duration": 778,
    "start_time": "2022-11-03T19:06:07.527Z"
   },
   {
    "duration": 866,
    "start_time": "2022-11-03T19:06:08.306Z"
   },
   {
    "duration": 767,
    "start_time": "2022-11-03T19:06:09.173Z"
   },
   {
    "duration": 877,
    "start_time": "2022-11-03T19:06:09.941Z"
   },
   {
    "duration": 5,
    "start_time": "2022-11-03T19:06:10.819Z"
   },
   {
    "duration": 7,
    "start_time": "2022-11-03T19:06:10.825Z"
   },
   {
    "duration": 12,
    "start_time": "2022-11-03T19:06:10.834Z"
   },
   {
    "duration": 573,
    "start_time": "2022-11-03T19:06:10.847Z"
   },
   {
    "duration": 581,
    "start_time": "2022-11-03T19:06:11.422Z"
   },
   {
    "duration": 10,
    "start_time": "2022-11-03T19:06:12.005Z"
   },
   {
    "duration": 7,
    "start_time": "2022-11-03T19:06:12.016Z"
   },
   {
    "duration": 6,
    "start_time": "2022-11-03T19:06:12.025Z"
   },
   {
    "duration": 7,
    "start_time": "2022-11-03T19:06:12.033Z"
   },
   {
    "duration": 5,
    "start_time": "2022-11-03T19:06:12.041Z"
   },
   {
    "duration": 42,
    "start_time": "2022-11-03T19:06:12.048Z"
   },
   {
    "duration": 5,
    "start_time": "2022-11-03T19:06:12.092Z"
   },
   {
    "duration": 3,
    "start_time": "2022-11-03T19:06:12.099Z"
   },
   {
    "duration": 3,
    "start_time": "2022-11-03T19:06:12.104Z"
   },
   {
    "duration": 29,
    "start_time": "2022-11-03T19:06:12.109Z"
   },
   {
    "duration": 7,
    "start_time": "2022-11-03T19:06:12.140Z"
   },
   {
    "duration": 10,
    "start_time": "2022-11-03T19:06:12.149Z"
   },
   {
    "duration": 7,
    "start_time": "2022-11-03T19:06:12.192Z"
   },
   {
    "duration": 6,
    "start_time": "2022-11-03T19:06:12.200Z"
   },
   {
    "duration": 3,
    "start_time": "2022-11-03T19:06:12.207Z"
   },
   {
    "duration": 4,
    "start_time": "2022-11-03T19:06:12.212Z"
   },
   {
    "duration": 11584,
    "start_time": "2022-11-03T19:06:12.218Z"
   },
   {
    "duration": 3,
    "start_time": "2022-11-03T19:06:23.806Z"
   },
   {
    "duration": 5,
    "start_time": "2022-11-03T19:06:23.810Z"
   },
   {
    "duration": 26597,
    "start_time": "2022-11-03T19:06:23.816Z"
   },
   {
    "duration": 12,
    "start_time": "2022-11-03T19:06:57.808Z"
   },
   {
    "duration": 17,
    "start_time": "2022-11-03T19:07:17.944Z"
   },
   {
    "duration": 8,
    "start_time": "2022-11-03T19:08:29.338Z"
   },
   {
    "duration": 18,
    "start_time": "2022-11-03T19:08:34.832Z"
   },
   {
    "duration": 7,
    "start_time": "2022-11-03T19:08:42.712Z"
   },
   {
    "duration": 8,
    "start_time": "2022-11-03T19:08:47.363Z"
   },
   {
    "duration": 20,
    "start_time": "2022-11-03T19:10:23.056Z"
   },
   {
    "duration": 8,
    "start_time": "2022-11-03T19:10:37.787Z"
   },
   {
    "duration": 95,
    "start_time": "2022-11-03T19:10:53.408Z"
   },
   {
    "duration": 9,
    "start_time": "2022-11-03T19:10:53.767Z"
   },
   {
    "duration": 14,
    "start_time": "2022-11-03T19:11:01.672Z"
   },
   {
    "duration": 3,
    "start_time": "2022-11-03T19:11:55.720Z"
   },
   {
    "duration": 5,
    "start_time": "2022-11-03T19:11:59.400Z"
   },
   {
    "duration": 4,
    "start_time": "2022-11-03T19:12:06.206Z"
   },
   {
    "duration": 10,
    "start_time": "2022-11-03T19:13:14.570Z"
   },
   {
    "duration": 7,
    "start_time": "2022-11-03T19:13:27.940Z"
   },
   {
    "duration": 11,
    "start_time": "2022-11-03T19:13:28.374Z"
   },
   {
    "duration": 5,
    "start_time": "2022-11-03T19:13:38.824Z"
   },
   {
    "duration": 3,
    "start_time": "2022-11-03T19:13:42.739Z"
   },
   {
    "duration": 9,
    "start_time": "2022-11-03T19:13:43.239Z"
   },
   {
    "duration": 5,
    "start_time": "2022-11-03T19:14:19.577Z"
   },
   {
    "duration": 5,
    "start_time": "2022-11-03T19:14:25.145Z"
   },
   {
    "duration": 6,
    "start_time": "2022-11-03T19:14:33.091Z"
   },
   {
    "duration": 10,
    "start_time": "2022-11-03T19:14:48.986Z"
   },
   {
    "duration": 3,
    "start_time": "2022-11-03T19:15:00.673Z"
   },
   {
    "duration": 6,
    "start_time": "2022-11-03T19:15:01.232Z"
   },
   {
    "duration": 10,
    "start_time": "2022-11-03T19:15:01.856Z"
   },
   {
    "duration": 11,
    "start_time": "2022-11-03T19:15:59.378Z"
   },
   {
    "duration": 10,
    "start_time": "2022-11-03T19:17:08.121Z"
   },
   {
    "duration": 5905,
    "start_time": "2022-11-03T19:21:13.893Z"
   },
   {
    "duration": 11363,
    "start_time": "2022-11-03T19:21:46.372Z"
   },
   {
    "duration": 17424,
    "start_time": "2022-11-03T19:23:11.545Z"
   },
   {
    "duration": 11657,
    "start_time": "2022-11-03T19:23:31.884Z"
   },
   {
    "duration": 13467,
    "start_time": "2022-11-03T19:28:00.975Z"
   },
   {
    "duration": 23056,
    "start_time": "2022-11-03T19:28:15.891Z"
   },
   {
    "duration": 23777,
    "start_time": "2022-11-03T19:29:11.500Z"
   },
   {
    "duration": 24806,
    "start_time": "2022-11-03T19:31:03.528Z"
   },
   {
    "duration": 1349,
    "start_time": "2022-11-03T19:33:36.143Z"
   },
   {
    "duration": 10570,
    "start_time": "2022-11-03T19:34:04.089Z"
   },
   {
    "duration": 207,
    "start_time": "2022-11-03T19:34:32.279Z"
   },
   {
    "duration": 708,
    "start_time": "2022-11-03T19:34:56.091Z"
   },
   {
    "duration": 10559,
    "start_time": "2022-11-03T19:35:27.979Z"
   },
   {
    "duration": 239,
    "start_time": "2022-11-03T19:35:39.514Z"
   },
   {
    "duration": 4,
    "start_time": "2022-11-03T19:36:42.968Z"
   },
   {
    "duration": 11,
    "start_time": "2022-11-03T19:36:45.370Z"
   },
   {
    "duration": 1671,
    "start_time": "2022-11-03T19:36:59.321Z"
   },
   {
    "duration": 23596,
    "start_time": "2022-11-03T19:37:15.342Z"
   },
   {
    "duration": 466,
    "start_time": "2022-11-03T19:37:41.561Z"
   },
   {
    "duration": 1155,
    "start_time": "2022-11-03T19:38:47.248Z"
   },
   {
    "duration": 1175,
    "start_time": "2022-11-03T19:39:31.417Z"
   },
   {
    "duration": 5,
    "start_time": "2022-11-03T19:40:26.403Z"
   },
   {
    "duration": 1399,
    "start_time": "2022-11-04T08:19:35.231Z"
   },
   {
    "duration": 1809,
    "start_time": "2022-11-04T08:19:36.632Z"
   },
   {
    "duration": 3,
    "start_time": "2022-11-04T08:19:38.443Z"
   },
   {
    "duration": 39,
    "start_time": "2022-11-04T08:19:38.447Z"
   },
   {
    "duration": 25,
    "start_time": "2022-11-04T08:19:38.487Z"
   },
   {
    "duration": 30,
    "start_time": "2022-11-04T08:19:38.514Z"
   },
   {
    "duration": 3,
    "start_time": "2022-11-04T08:19:38.545Z"
   },
   {
    "duration": 9,
    "start_time": "2022-11-04T08:19:38.549Z"
   },
   {
    "duration": 5,
    "start_time": "2022-11-04T08:19:38.559Z"
   },
   {
    "duration": 3,
    "start_time": "2022-11-04T08:19:38.566Z"
   },
   {
    "duration": 61,
    "start_time": "2022-11-04T08:19:38.570Z"
   },
   {
    "duration": 22,
    "start_time": "2022-11-04T08:19:38.632Z"
   },
   {
    "duration": 49,
    "start_time": "2022-11-04T08:19:38.656Z"
   },
   {
    "duration": 4,
    "start_time": "2022-11-04T08:19:38.707Z"
   },
   {
    "duration": 737,
    "start_time": "2022-11-04T08:19:38.712Z"
   },
   {
    "duration": 650,
    "start_time": "2022-11-04T08:19:39.451Z"
   },
   {
    "duration": 788,
    "start_time": "2022-11-04T08:19:40.105Z"
   },
   {
    "duration": 663,
    "start_time": "2022-11-04T08:19:40.895Z"
   },
   {
    "duration": 5,
    "start_time": "2022-11-04T08:19:41.565Z"
   },
   {
    "duration": 24,
    "start_time": "2022-11-04T08:19:41.572Z"
   },
   {
    "duration": 23,
    "start_time": "2022-11-04T08:19:41.598Z"
   },
   {
    "duration": 662,
    "start_time": "2022-11-04T08:19:41.622Z"
   },
   {
    "duration": 402,
    "start_time": "2022-11-04T08:19:42.286Z"
   },
   {
    "duration": 16,
    "start_time": "2022-11-04T08:19:42.690Z"
   },
   {
    "duration": 10,
    "start_time": "2022-11-04T08:19:42.708Z"
   },
   {
    "duration": 10,
    "start_time": "2022-11-04T08:19:42.720Z"
   },
   {
    "duration": 7,
    "start_time": "2022-11-04T08:19:42.732Z"
   },
   {
    "duration": 3,
    "start_time": "2022-11-04T08:20:26.297Z"
   },
   {
    "duration": 3,
    "start_time": "2022-11-04T08:20:26.734Z"
   },
   {
    "duration": 2,
    "start_time": "2022-11-04T08:20:30.336Z"
   },
   {
    "duration": 26,
    "start_time": "2022-11-04T08:20:34.712Z"
   },
   {
    "duration": 8,
    "start_time": "2022-11-04T08:20:35.606Z"
   },
   {
    "duration": 10,
    "start_time": "2022-11-04T08:20:51.537Z"
   },
   {
    "duration": 12,
    "start_time": "2022-11-04T08:20:52.519Z"
   },
   {
    "duration": 5,
    "start_time": "2022-11-04T08:20:53.698Z"
   },
   {
    "duration": 3,
    "start_time": "2022-11-04T08:20:54.701Z"
   },
   {
    "duration": 1039,
    "start_time": "2022-11-04T08:20:56.075Z"
   },
   {
    "duration": 10226,
    "start_time": "2022-11-04T08:20:57.116Z"
   },
   {
    "duration": 3,
    "start_time": "2022-11-04T08:21:14.421Z"
   },
   {
    "duration": 1696,
    "start_time": "2022-11-04T08:21:15.113Z"
   },
   {
    "duration": 22392,
    "start_time": "2022-11-04T08:21:16.813Z"
   },
   {
    "duration": 405,
    "start_time": "2022-11-04T08:21:39.207Z"
   },
   {
    "duration": 4,
    "start_time": "2022-11-04T08:22:30.936Z"
   },
   {
    "duration": 2,
    "start_time": "2022-11-04T08:24:01.292Z"
   },
   {
    "duration": 97,
    "start_time": "2022-11-04T08:24:50.743Z"
   },
   {
    "duration": 381500,
    "start_time": "2022-11-04T08:24:54.636Z"
   },
   {
    "duration": 4,
    "start_time": "2022-11-04T08:32:12.251Z"
   },
   {
    "duration": 15,
    "start_time": "2022-11-04T08:35:53.620Z"
   },
   {
    "duration": 15,
    "start_time": "2022-11-04T08:36:11.921Z"
   },
   {
    "duration": 14,
    "start_time": "2022-11-04T08:37:05.074Z"
   },
   {
    "duration": 14,
    "start_time": "2022-11-04T08:37:17.717Z"
   },
   {
    "duration": 13,
    "start_time": "2022-11-04T08:37:25.914Z"
   },
   {
    "duration": 70,
    "start_time": "2022-11-04T08:38:00.068Z"
   },
   {
    "duration": 665737,
    "start_time": "2022-11-04T08:38:12.252Z"
   },
   {
    "duration": 19686,
    "start_time": "2022-11-04T08:49:27.287Z"
   },
   {
    "duration": 325990,
    "start_time": "2022-11-04T08:49:50.957Z"
   },
   {
    "duration": 327189,
    "start_time": "2022-11-04T08:55:31.322Z"
   },
   {
    "duration": 328976,
    "start_time": "2022-11-04T10:14:18.330Z"
   },
   {
    "duration": 10,
    "start_time": "2022-11-04T10:21:27.121Z"
   },
   {
    "duration": 199,
    "start_time": "2022-11-04T10:21:41.910Z"
   },
   {
    "duration": 72,
    "start_time": "2022-11-04T10:25:42.459Z"
   },
   {
    "duration": 10,
    "start_time": "2022-11-04T10:25:54.537Z"
   },
   {
    "duration": 4504,
    "start_time": "2022-11-04T10:26:05.108Z"
   },
   {
    "duration": 5404,
    "start_time": "2022-11-04T10:26:44.403Z"
   },
   {
    "duration": 4150,
    "start_time": "2022-11-04T10:28:08.462Z"
   },
   {
    "duration": 4092,
    "start_time": "2022-11-04T10:29:43.018Z"
   },
   {
    "duration": 5597,
    "start_time": "2022-11-04T10:31:13.613Z"
   },
   {
    "duration": 4160,
    "start_time": "2022-11-04T10:32:00.352Z"
   },
   {
    "duration": 4,
    "start_time": "2022-11-04T10:45:09.635Z"
   },
   {
    "duration": 654,
    "start_time": "2022-11-04T10:45:09.641Z"
   },
   {
    "duration": 9,
    "start_time": "2022-11-04T10:45:10.297Z"
   },
   {
    "duration": 48,
    "start_time": "2022-11-04T10:45:10.308Z"
   },
   {
    "duration": 30,
    "start_time": "2022-11-04T10:45:10.358Z"
   },
   {
    "duration": 47,
    "start_time": "2022-11-04T10:45:10.390Z"
   },
   {
    "duration": 3,
    "start_time": "2022-11-04T10:45:10.439Z"
   },
   {
    "duration": 20,
    "start_time": "2022-11-04T10:45:10.444Z"
   },
   {
    "duration": 11,
    "start_time": "2022-11-04T10:45:10.466Z"
   },
   {
    "duration": 27,
    "start_time": "2022-11-04T10:45:10.479Z"
   },
   {
    "duration": 65,
    "start_time": "2022-11-04T10:45:10.507Z"
   },
   {
    "duration": 41,
    "start_time": "2022-11-04T10:45:26.753Z"
   },
   {
    "duration": 3,
    "start_time": "2022-11-04T10:45:38.317Z"
   },
   {
    "duration": 609,
    "start_time": "2022-11-04T10:45:38.322Z"
   },
   {
    "duration": 3,
    "start_time": "2022-11-04T10:45:38.933Z"
   },
   {
    "duration": 32,
    "start_time": "2022-11-04T10:45:38.938Z"
   },
   {
    "duration": 37,
    "start_time": "2022-11-04T10:45:38.971Z"
   },
   {
    "duration": 36,
    "start_time": "2022-11-04T10:45:39.010Z"
   },
   {
    "duration": 3,
    "start_time": "2022-11-04T10:45:39.048Z"
   },
   {
    "duration": 7,
    "start_time": "2022-11-04T10:45:39.052Z"
   },
   {
    "duration": 5,
    "start_time": "2022-11-04T10:45:39.061Z"
   },
   {
    "duration": 3,
    "start_time": "2022-11-04T10:45:39.067Z"
   },
   {
    "duration": 66,
    "start_time": "2022-11-04T10:45:39.071Z"
   },
   {
    "duration": 2,
    "start_time": "2022-11-04T10:45:39.139Z"
   },
   {
    "duration": 43,
    "start_time": "2022-11-04T10:45:39.143Z"
   },
   {
    "duration": 3,
    "start_time": "2022-11-04T10:45:39.188Z"
   },
   {
    "duration": 745,
    "start_time": "2022-11-04T10:45:39.204Z"
   },
   {
    "duration": 686,
    "start_time": "2022-11-04T10:45:39.951Z"
   },
   {
    "duration": 793,
    "start_time": "2022-11-04T10:45:40.638Z"
   },
   {
    "duration": 742,
    "start_time": "2022-11-04T10:45:41.433Z"
   },
   {
    "duration": 4,
    "start_time": "2022-11-04T10:45:42.177Z"
   },
   {
    "duration": 6,
    "start_time": "2022-11-04T10:45:42.182Z"
   },
   {
    "duration": 6,
    "start_time": "2022-11-04T10:45:42.189Z"
   },
   {
    "duration": 687,
    "start_time": "2022-11-04T10:45:42.205Z"
   },
   {
    "duration": 420,
    "start_time": "2022-11-04T10:45:42.893Z"
   },
   {
    "duration": 7,
    "start_time": "2022-11-04T10:45:49.901Z"
   },
   {
    "duration": 8,
    "start_time": "2022-11-04T10:45:50.364Z"
   },
   {
    "duration": 7,
    "start_time": "2022-11-04T10:45:50.728Z"
   },
   {
    "duration": 7,
    "start_time": "2022-11-04T10:45:51.027Z"
   },
   {
    "duration": 3,
    "start_time": "2022-11-04T10:45:53.132Z"
   },
   {
    "duration": 3,
    "start_time": "2022-11-04T10:45:53.713Z"
   },
   {
    "duration": 2,
    "start_time": "2022-11-04T10:45:55.535Z"
   },
   {
    "duration": 22,
    "start_time": "2022-11-04T10:45:56.968Z"
   },
   {
    "duration": 8,
    "start_time": "2022-11-04T10:45:58.856Z"
   },
   {
    "duration": 9,
    "start_time": "2022-11-04T10:46:01.339Z"
   },
   {
    "duration": 8,
    "start_time": "2022-11-04T10:46:06.350Z"
   },
   {
    "duration": 6,
    "start_time": "2022-11-04T10:46:08.726Z"
   },
   {
    "duration": 4,
    "start_time": "2022-11-04T10:46:11.935Z"
   },
   {
    "duration": 653,
    "start_time": "2022-11-04T10:46:14.356Z"
   },
   {
    "duration": 9988,
    "start_time": "2022-11-04T10:46:16.032Z"
   },
   {
    "duration": 214,
    "start_time": "2022-11-04T10:46:27.148Z"
   },
   {
    "duration": 3,
    "start_time": "2022-11-04T10:46:45.526Z"
   },
   {
    "duration": 1765,
    "start_time": "2022-11-04T10:46:46.044Z"
   },
   {
    "duration": 22483,
    "start_time": "2022-11-04T10:46:47.813Z"
   },
   {
    "duration": 422,
    "start_time": "2022-11-04T10:47:10.297Z"
   },
   {
    "duration": 7900,
    "start_time": "2022-11-04T10:47:18.809Z"
   },
   {
    "duration": 127,
    "start_time": "2022-11-04T10:47:27.856Z"
   },
   {
    "duration": 126,
    "start_time": "2022-11-04T10:47:41.570Z"
   },
   {
    "duration": 10,
    "start_time": "2022-11-04T10:48:16.620Z"
   },
   {
    "duration": 11402,
    "start_time": "2022-11-04T10:48:20.208Z"
   },
   {
    "duration": 10,
    "start_time": "2022-11-04T10:50:41.378Z"
   },
   {
    "duration": 16,
    "start_time": "2022-11-04T10:51:01.693Z"
   },
   {
    "duration": 18,
    "start_time": "2022-11-04T10:52:31.109Z"
   },
   {
    "duration": 22,
    "start_time": "2022-11-04T10:52:34.160Z"
   },
   {
    "duration": 4,
    "start_time": "2022-11-04T10:52:50.743Z"
   },
   {
    "duration": 586,
    "start_time": "2022-11-04T10:52:50.748Z"
   },
   {
    "duration": 3,
    "start_time": "2022-11-04T10:52:51.336Z"
   },
   {
    "duration": 34,
    "start_time": "2022-11-04T10:52:51.340Z"
   },
   {
    "duration": 41,
    "start_time": "2022-11-04T10:52:51.375Z"
   },
   {
    "duration": 30,
    "start_time": "2022-11-04T10:52:51.418Z"
   },
   {
    "duration": 3,
    "start_time": "2022-11-04T10:52:51.449Z"
   },
   {
    "duration": 11,
    "start_time": "2022-11-04T10:52:51.454Z"
   },
   {
    "duration": 6,
    "start_time": "2022-11-04T10:52:51.468Z"
   },
   {
    "duration": 5,
    "start_time": "2022-11-04T10:52:51.475Z"
   },
   {
    "duration": 54,
    "start_time": "2022-11-04T10:52:51.481Z"
   },
   {
    "duration": 2,
    "start_time": "2022-11-04T10:52:51.536Z"
   },
   {
    "duration": 32,
    "start_time": "2022-11-04T10:52:51.539Z"
   },
   {
    "duration": 45,
    "start_time": "2022-11-04T10:52:51.572Z"
   },
   {
    "duration": 5,
    "start_time": "2022-11-04T10:52:51.618Z"
   },
   {
    "duration": 688,
    "start_time": "2022-11-04T10:52:51.624Z"
   },
   {
    "duration": 776,
    "start_time": "2022-11-04T10:52:52.313Z"
   },
   {
    "duration": 772,
    "start_time": "2022-11-04T10:52:53.091Z"
   },
   {
    "duration": 707,
    "start_time": "2022-11-04T10:52:53.865Z"
   },
   {
    "duration": 4,
    "start_time": "2022-11-04T10:52:54.574Z"
   },
   {
    "duration": 8,
    "start_time": "2022-11-04T10:52:54.579Z"
   },
   {
    "duration": 9,
    "start_time": "2022-11-04T10:52:54.588Z"
   },
   {
    "duration": 541,
    "start_time": "2022-11-04T10:52:54.599Z"
   },
   {
    "duration": 535,
    "start_time": "2022-11-04T10:52:55.143Z"
   },
   {
    "duration": 7,
    "start_time": "2022-11-04T10:52:55.679Z"
   },
   {
    "duration": 10,
    "start_time": "2022-11-04T10:52:55.688Z"
   },
   {
    "duration": 7,
    "start_time": "2022-11-04T10:52:55.704Z"
   },
   {
    "duration": 7,
    "start_time": "2022-11-04T10:52:55.712Z"
   },
   {
    "duration": 3,
    "start_time": "2022-11-04T10:52:55.720Z"
   },
   {
    "duration": 7,
    "start_time": "2022-11-04T10:52:55.724Z"
   },
   {
    "duration": 5,
    "start_time": "2022-11-04T10:52:55.732Z"
   },
   {
    "duration": 6,
    "start_time": "2022-11-04T10:52:55.738Z"
   },
   {
    "duration": 26,
    "start_time": "2022-11-04T10:52:55.745Z"
   },
   {
    "duration": 7,
    "start_time": "2022-11-04T10:52:55.772Z"
   },
   {
    "duration": 31,
    "start_time": "2022-11-04T10:52:55.780Z"
   },
   {
    "duration": 7,
    "start_time": "2022-11-04T10:52:55.812Z"
   },
   {
    "duration": 5,
    "start_time": "2022-11-04T10:52:55.820Z"
   },
   {
    "duration": 4,
    "start_time": "2022-11-04T10:52:55.827Z"
   },
   {
    "duration": 681,
    "start_time": "2022-11-04T10:52:55.832Z"
   },
   {
    "duration": 10025,
    "start_time": "2022-11-04T10:52:56.514Z"
   },
   {
    "duration": 201,
    "start_time": "2022-11-04T10:53:06.540Z"
   },
   {
    "duration": 3,
    "start_time": "2022-11-04T10:53:06.742Z"
   },
   {
    "duration": 1566,
    "start_time": "2022-11-04T10:53:06.747Z"
   },
   {
    "duration": 22650,
    "start_time": "2022-11-04T10:53:08.314Z"
   },
   {
    "duration": 409,
    "start_time": "2022-11-04T10:53:30.966Z"
   },
   {
    "duration": 7030,
    "start_time": "2022-11-04T10:53:31.377Z"
   },
   {
    "duration": 11400,
    "start_time": "2022-11-04T10:53:38.408Z"
   },
   {
    "duration": 16,
    "start_time": "2022-11-04T10:53:52.512Z"
   },
   {
    "duration": 16,
    "start_time": "2022-11-04T10:54:03.168Z"
   },
   {
    "duration": 9,
    "start_time": "2022-11-04T10:54:24.923Z"
   },
   {
    "duration": 19,
    "start_time": "2022-11-04T10:54:48.006Z"
   },
   {
    "duration": 14,
    "start_time": "2022-11-04T10:55:09.380Z"
   },
   {
    "duration": 15,
    "start_time": "2022-11-04T10:55:31.997Z"
   },
   {
    "duration": 16,
    "start_time": "2022-11-04T10:55:51.878Z"
   },
   {
    "duration": 3,
    "start_time": "2022-11-04T10:55:58.244Z"
   },
   {
    "duration": 3,
    "start_time": "2022-11-04T10:56:06.654Z"
   },
   {
    "duration": 15,
    "start_time": "2022-11-04T10:56:08.940Z"
   },
   {
    "duration": 7,
    "start_time": "2022-11-04T10:56:13.196Z"
   },
   {
    "duration": 10,
    "start_time": "2022-11-04T10:56:23.312Z"
   },
   {
    "duration": 32,
    "start_time": "2022-11-04T10:56:38.781Z"
   },
   {
    "duration": 9,
    "start_time": "2022-11-04T10:56:58.511Z"
   },
   {
    "duration": 4,
    "start_time": "2022-11-04T10:57:03.615Z"
   },
   {
    "duration": 35,
    "start_time": "2022-11-04T10:57:15.474Z"
   },
   {
    "duration": 74,
    "start_time": "2022-11-04T10:58:01.600Z"
   },
   {
    "duration": 18,
    "start_time": "2022-11-04T10:58:05.395Z"
   },
   {
    "duration": 228,
    "start_time": "2022-11-04T10:58:13.158Z"
   },
   {
    "duration": 69,
    "start_time": "2022-11-04T10:58:20.201Z"
   },
   {
    "duration": 12,
    "start_time": "2022-11-04T10:58:27.794Z"
   },
   {
    "duration": 12,
    "start_time": "2022-11-04T10:59:16.171Z"
   },
   {
    "duration": 105,
    "start_time": "2022-11-04T10:59:26.110Z"
   },
   {
    "duration": 104,
    "start_time": "2022-11-04T10:59:36.814Z"
   },
   {
    "duration": 170,
    "start_time": "2022-11-04T11:00:51.236Z"
   },
   {
    "duration": 67,
    "start_time": "2022-11-04T11:01:02.346Z"
   },
   {
    "duration": 200,
    "start_time": "2022-11-04T11:01:22.606Z"
   },
   {
    "duration": 4,
    "start_time": "2022-11-04T11:01:58.720Z"
   },
   {
    "duration": 3,
    "start_time": "2022-11-04T11:03:22.488Z"
   },
   {
    "duration": 10,
    "start_time": "2022-11-04T11:05:02.600Z"
   },
   {
    "duration": 10,
    "start_time": "2022-11-04T11:05:07.568Z"
   },
   {
    "duration": 812,
    "start_time": "2022-11-04T11:05:32.250Z"
   },
   {
    "duration": 8,
    "start_time": "2022-11-04T11:05:48.044Z"
   },
   {
    "duration": 6,
    "start_time": "2022-11-04T11:07:06.009Z"
   },
   {
    "duration": 7,
    "start_time": "2022-11-04T11:08:26.293Z"
   },
   {
    "duration": 6,
    "start_time": "2022-11-04T11:08:58.593Z"
   },
   {
    "duration": 3,
    "start_time": "2022-11-04T11:12:40.708Z"
   },
   {
    "duration": 3,
    "start_time": "2022-11-04T11:13:16.341Z"
   },
   {
    "duration": 4,
    "start_time": "2022-11-04T11:13:52.505Z"
   },
   {
    "duration": 574,
    "start_time": "2022-11-04T11:13:52.511Z"
   },
   {
    "duration": 3,
    "start_time": "2022-11-04T11:13:53.086Z"
   },
   {
    "duration": 51,
    "start_time": "2022-11-04T11:13:53.090Z"
   },
   {
    "duration": 39,
    "start_time": "2022-11-04T11:13:53.143Z"
   },
   {
    "duration": 46,
    "start_time": "2022-11-04T11:13:53.184Z"
   },
   {
    "duration": 3,
    "start_time": "2022-11-04T11:13:53.231Z"
   },
   {
    "duration": 21,
    "start_time": "2022-11-04T11:13:53.235Z"
   },
   {
    "duration": 16,
    "start_time": "2022-11-04T11:13:53.259Z"
   },
   {
    "duration": 14,
    "start_time": "2022-11-04T11:13:53.276Z"
   },
   {
    "duration": 56,
    "start_time": "2022-11-04T11:13:53.292Z"
   },
   {
    "duration": 3,
    "start_time": "2022-11-04T11:13:53.349Z"
   },
   {
    "duration": 43,
    "start_time": "2022-11-04T11:13:53.354Z"
   },
   {
    "duration": 42,
    "start_time": "2022-11-04T11:13:53.399Z"
   },
   {
    "duration": 4,
    "start_time": "2022-11-04T11:13:53.443Z"
   },
   {
    "duration": 736,
    "start_time": "2022-11-04T11:13:53.449Z"
   },
   {
    "duration": 785,
    "start_time": "2022-11-04T11:13:54.187Z"
   },
   {
    "duration": 705,
    "start_time": "2022-11-04T11:13:54.974Z"
   },
   {
    "duration": 790,
    "start_time": "2022-11-04T11:13:55.681Z"
   },
   {
    "duration": 5,
    "start_time": "2022-11-04T11:13:56.473Z"
   },
   {
    "duration": 12,
    "start_time": "2022-11-04T11:13:56.480Z"
   },
   {
    "duration": 32,
    "start_time": "2022-11-04T11:13:56.493Z"
   },
   {
    "duration": 553,
    "start_time": "2022-11-04T11:13:56.526Z"
   },
   {
    "duration": 592,
    "start_time": "2022-11-04T11:13:57.083Z"
   },
   {
    "duration": 10,
    "start_time": "2022-11-04T11:13:57.677Z"
   },
   {
    "duration": 25,
    "start_time": "2022-11-04T11:13:57.691Z"
   },
   {
    "duration": 8,
    "start_time": "2022-11-04T11:13:57.717Z"
   },
   {
    "duration": 6,
    "start_time": "2022-11-04T11:13:57.726Z"
   },
   {
    "duration": 3,
    "start_time": "2022-11-04T11:13:57.733Z"
   },
   {
    "duration": 5,
    "start_time": "2022-11-04T11:13:57.737Z"
   },
   {
    "duration": 5,
    "start_time": "2022-11-04T11:13:57.743Z"
   },
   {
    "duration": 4,
    "start_time": "2022-11-04T11:13:57.750Z"
   },
   {
    "duration": 25,
    "start_time": "2022-11-04T11:13:57.755Z"
   },
   {
    "duration": 7,
    "start_time": "2022-11-04T11:13:57.781Z"
   },
   {
    "duration": 11,
    "start_time": "2022-11-04T11:13:57.804Z"
   },
   {
    "duration": 10,
    "start_time": "2022-11-04T11:13:57.817Z"
   },
   {
    "duration": 9,
    "start_time": "2022-11-04T11:13:57.829Z"
   },
   {
    "duration": 8,
    "start_time": "2022-11-04T11:13:57.839Z"
   },
   {
    "duration": 756,
    "start_time": "2022-11-04T11:13:57.849Z"
   },
   {
    "duration": 10054,
    "start_time": "2022-11-04T11:13:58.607Z"
   },
   {
    "duration": 197,
    "start_time": "2022-11-04T11:14:08.662Z"
   },
   {
    "duration": 3,
    "start_time": "2022-11-04T11:14:08.860Z"
   },
   {
    "duration": 1543,
    "start_time": "2022-11-04T11:14:08.864Z"
   },
   {
    "duration": 22783,
    "start_time": "2022-11-04T11:14:10.409Z"
   },
   {
    "duration": 414,
    "start_time": "2022-11-04T11:14:33.193Z"
   },
   {
    "duration": 6309,
    "start_time": "2022-11-04T11:14:33.608Z"
   },
   {
    "duration": 10585,
    "start_time": "2022-11-04T11:14:39.922Z"
   },
   {
    "duration": 298,
    "start_time": "2022-11-04T11:14:50.508Z"
   },
   {
    "duration": 301,
    "start_time": "2022-11-04T11:14:50.808Z"
   },
   {
    "duration": 96,
    "start_time": "2022-11-04T11:14:51.111Z"
   },
   {
    "duration": 8,
    "start_time": "2022-11-04T11:14:51.209Z"
   },
   {
    "duration": 4,
    "start_time": "2022-11-04T11:14:54.574Z"
   },
   {
    "duration": 2205,
    "start_time": "2022-11-04T13:08:38.407Z"
   },
   {
    "duration": 3095,
    "start_time": "2022-11-04T13:08:40.614Z"
   },
   {
    "duration": 2,
    "start_time": "2022-11-04T13:08:43.711Z"
   },
   {
    "duration": 48,
    "start_time": "2022-11-04T13:08:43.715Z"
   },
   {
    "duration": 28,
    "start_time": "2022-11-04T13:08:43.765Z"
   },
   {
    "duration": 50,
    "start_time": "2022-11-04T13:08:43.795Z"
   },
   {
    "duration": 3,
    "start_time": "2022-11-04T13:08:43.848Z"
   },
   {
    "duration": 13,
    "start_time": "2022-11-04T13:08:43.853Z"
   },
   {
    "duration": 7,
    "start_time": "2022-11-04T13:08:43.867Z"
   },
   {
    "duration": 3,
    "start_time": "2022-11-04T13:08:43.878Z"
   },
   {
    "duration": 60,
    "start_time": "2022-11-04T13:08:43.882Z"
   },
   {
    "duration": 3,
    "start_time": "2022-11-04T13:08:43.944Z"
   },
   {
    "duration": 29,
    "start_time": "2022-11-04T13:08:43.949Z"
   },
   {
    "duration": 65,
    "start_time": "2022-11-04T13:08:43.980Z"
   },
   {
    "duration": 4,
    "start_time": "2022-11-04T13:08:44.047Z"
   },
   {
    "duration": 837,
    "start_time": "2022-11-04T13:08:44.053Z"
   },
   {
    "duration": 758,
    "start_time": "2022-11-04T13:08:44.891Z"
   },
   {
    "duration": 851,
    "start_time": "2022-11-04T13:08:45.651Z"
   },
   {
    "duration": 759,
    "start_time": "2022-11-04T13:08:46.503Z"
   },
   {
    "duration": 5,
    "start_time": "2022-11-04T13:08:47.264Z"
   },
   {
    "duration": 7,
    "start_time": "2022-11-04T13:08:47.270Z"
   },
   {
    "duration": 6,
    "start_time": "2022-11-04T13:08:47.278Z"
   },
   {
    "duration": 712,
    "start_time": "2022-11-04T13:08:47.285Z"
   },
   {
    "duration": 455,
    "start_time": "2022-11-04T13:08:47.998Z"
   },
   {
    "duration": 10,
    "start_time": "2022-11-04T13:08:48.455Z"
   },
   {
    "duration": 10,
    "start_time": "2022-11-04T13:08:48.467Z"
   },
   {
    "duration": 10,
    "start_time": "2022-11-04T13:08:48.479Z"
   },
   {
    "duration": 31,
    "start_time": "2022-11-04T13:08:48.493Z"
   },
   {
    "duration": 3,
    "start_time": "2022-11-04T13:08:48.526Z"
   },
   {
    "duration": 10,
    "start_time": "2022-11-04T13:08:48.531Z"
   },
   {
    "duration": 14,
    "start_time": "2022-11-04T13:08:48.543Z"
   },
   {
    "duration": 7,
    "start_time": "2022-11-04T13:08:48.559Z"
   },
   {
    "duration": 30,
    "start_time": "2022-11-04T13:08:48.567Z"
   },
   {
    "duration": 7,
    "start_time": "2022-11-04T13:08:48.599Z"
   },
   {
    "duration": 10,
    "start_time": "2022-11-04T13:08:55.197Z"
   },
   {
    "duration": 11,
    "start_time": "2022-11-04T13:08:58.384Z"
   },
   {
    "duration": 6,
    "start_time": "2022-11-04T13:08:59.363Z"
   },
   {
    "duration": 3,
    "start_time": "2022-11-04T13:09:02.201Z"
   },
   {
    "duration": 763,
    "start_time": "2022-11-04T13:09:06.267Z"
   },
   {
    "duration": 108,
    "start_time": "2022-11-04T13:09:13.953Z"
   },
   {
    "duration": 2,
    "start_time": "2022-11-04T13:09:51.112Z"
   },
   {
    "duration": 6480,
    "start_time": "2022-11-04T13:09:51.745Z"
   },
   {
    "duration": 10,
    "start_time": "2022-11-04T13:10:01.127Z"
   },
   {
    "duration": 1899,
    "start_time": "2022-11-04T13:11:27.641Z"
   },
   {
    "duration": 655,
    "start_time": "2022-11-04T13:11:29.542Z"
   },
   {
    "duration": 3,
    "start_time": "2022-11-04T13:11:30.198Z"
   },
   {
    "duration": 64,
    "start_time": "2022-11-04T13:11:30.204Z"
   },
   {
    "duration": 32,
    "start_time": "2022-11-04T13:11:30.270Z"
   },
   {
    "duration": 43,
    "start_time": "2022-11-04T13:11:30.304Z"
   },
   {
    "duration": 3,
    "start_time": "2022-11-04T13:11:30.350Z"
   },
   {
    "duration": 40,
    "start_time": "2022-11-04T13:11:30.355Z"
   },
   {
    "duration": 50,
    "start_time": "2022-11-04T13:11:30.397Z"
   },
   {
    "duration": 21,
    "start_time": "2022-11-04T13:11:30.449Z"
   },
   {
    "duration": 57,
    "start_time": "2022-11-04T13:11:30.471Z"
   },
   {
    "duration": 2,
    "start_time": "2022-11-04T13:11:30.531Z"
   },
   {
    "duration": 72,
    "start_time": "2022-11-04T13:11:30.534Z"
   },
   {
    "duration": 56,
    "start_time": "2022-11-04T13:11:30.608Z"
   },
   {
    "duration": 5,
    "start_time": "2022-11-04T13:11:30.666Z"
   },
   {
    "duration": 905,
    "start_time": "2022-11-04T13:11:30.672Z"
   },
   {
    "duration": 772,
    "start_time": "2022-11-04T13:11:31.579Z"
   },
   {
    "duration": 921,
    "start_time": "2022-11-04T13:11:32.354Z"
   },
   {
    "duration": 726,
    "start_time": "2022-11-04T13:11:33.277Z"
   },
   {
    "duration": 4,
    "start_time": "2022-11-04T13:11:34.005Z"
   },
   {
    "duration": 25,
    "start_time": "2022-11-04T13:11:34.011Z"
   },
   {
    "duration": 32,
    "start_time": "2022-11-04T13:11:34.038Z"
   },
   {
    "duration": 700,
    "start_time": "2022-11-04T13:11:34.072Z"
   },
   {
    "duration": 424,
    "start_time": "2022-11-04T13:11:34.773Z"
   },
   {
    "duration": 10,
    "start_time": "2022-11-04T13:11:35.199Z"
   },
   {
    "duration": 17,
    "start_time": "2022-11-04T13:11:35.211Z"
   },
   {
    "duration": 10,
    "start_time": "2022-11-04T13:11:35.229Z"
   },
   {
    "duration": 7,
    "start_time": "2022-11-04T13:11:35.242Z"
   },
   {
    "duration": 3,
    "start_time": "2022-11-04T13:11:35.251Z"
   },
   {
    "duration": 5,
    "start_time": "2022-11-04T13:11:35.256Z"
   },
   {
    "duration": 6,
    "start_time": "2022-11-04T13:11:35.262Z"
   },
   {
    "duration": 6,
    "start_time": "2022-11-04T13:11:35.269Z"
   },
   {
    "duration": 55,
    "start_time": "2022-11-04T13:11:35.276Z"
   },
   {
    "duration": 7,
    "start_time": "2022-11-04T13:11:35.333Z"
   },
   {
    "duration": 13,
    "start_time": "2022-11-04T13:11:35.342Z"
   },
   {
    "duration": 16,
    "start_time": "2022-11-04T13:11:35.357Z"
   },
   {
    "duration": 5,
    "start_time": "2022-11-04T13:11:35.374Z"
   },
   {
    "duration": 6,
    "start_time": "2022-11-04T13:11:35.381Z"
   },
   {
    "duration": 115,
    "start_time": "2022-11-04T13:12:15.548Z"
   },
   {
    "duration": 1495,
    "start_time": "2022-11-04T13:45:56.053Z"
   },
   {
    "duration": 2015,
    "start_time": "2022-11-04T13:45:57.549Z"
   },
   {
    "duration": 2,
    "start_time": "2022-11-04T13:45:59.566Z"
   },
   {
    "duration": 39,
    "start_time": "2022-11-04T13:45:59.569Z"
   },
   {
    "duration": 26,
    "start_time": "2022-11-04T13:45:59.610Z"
   },
   {
    "duration": 30,
    "start_time": "2022-11-04T13:45:59.637Z"
   },
   {
    "duration": 3,
    "start_time": "2022-11-04T13:45:59.668Z"
   },
   {
    "duration": 8,
    "start_time": "2022-11-04T13:45:59.672Z"
   },
   {
    "duration": 25,
    "start_time": "2022-11-04T13:45:59.681Z"
   },
   {
    "duration": 4,
    "start_time": "2022-11-04T13:45:59.708Z"
   },
   {
    "duration": 39,
    "start_time": "2022-11-04T13:45:59.713Z"
   },
   {
    "duration": 2,
    "start_time": "2022-11-04T13:45:59.753Z"
   },
   {
    "duration": 22,
    "start_time": "2022-11-04T13:45:59.756Z"
   },
   {
    "duration": 58,
    "start_time": "2022-11-04T13:45:59.781Z"
   },
   {
    "duration": 5,
    "start_time": "2022-11-04T13:45:59.840Z"
   },
   {
    "duration": 761,
    "start_time": "2022-11-04T13:45:59.846Z"
   },
   {
    "duration": 706,
    "start_time": "2022-11-04T13:46:00.608Z"
   },
   {
    "duration": 771,
    "start_time": "2022-11-04T13:46:01.316Z"
   },
   {
    "duration": 670,
    "start_time": "2022-11-04T13:46:02.088Z"
   },
   {
    "duration": 5,
    "start_time": "2022-11-04T13:46:02.759Z"
   },
   {
    "duration": 7,
    "start_time": "2022-11-04T13:46:02.765Z"
   },
   {
    "duration": 7,
    "start_time": "2022-11-04T13:46:02.773Z"
   },
   {
    "duration": 662,
    "start_time": "2022-11-04T13:46:02.781Z"
   },
   {
    "duration": 396,
    "start_time": "2022-11-04T13:46:03.445Z"
   },
   {
    "duration": 9,
    "start_time": "2022-11-04T13:46:03.843Z"
   },
   {
    "duration": 8,
    "start_time": "2022-11-04T13:46:03.854Z"
   },
   {
    "duration": 9,
    "start_time": "2022-11-04T13:46:03.864Z"
   },
   {
    "duration": 7,
    "start_time": "2022-11-04T13:46:03.874Z"
   },
   {
    "duration": 22,
    "start_time": "2022-11-04T13:46:03.883Z"
   },
   {
    "duration": 2,
    "start_time": "2022-11-04T13:46:03.907Z"
   },
   {
    "duration": 4,
    "start_time": "2022-11-04T13:46:03.911Z"
   },
   {
    "duration": 4,
    "start_time": "2022-11-04T13:46:03.916Z"
   },
   {
    "duration": 26,
    "start_time": "2022-11-04T13:46:03.921Z"
   },
   {
    "duration": 7,
    "start_time": "2022-11-04T13:46:03.949Z"
   },
   {
    "duration": 11,
    "start_time": "2022-11-04T13:46:03.958Z"
   },
   {
    "duration": 39,
    "start_time": "2022-11-04T13:46:03.970Z"
   },
   {
    "duration": 5,
    "start_time": "2022-11-04T13:46:04.011Z"
   },
   {
    "duration": 9,
    "start_time": "2022-11-04T13:46:04.017Z"
   },
   {
    "duration": 1079,
    "start_time": "2022-11-04T13:46:04.027Z"
   },
   {
    "duration": 10010,
    "start_time": "2022-11-04T13:46:05.108Z"
   },
   {
    "duration": 200,
    "start_time": "2022-11-04T13:46:15.121Z"
   },
   {
    "duration": 3,
    "start_time": "2022-11-04T13:46:15.323Z"
   },
   {
    "duration": 1479,
    "start_time": "2022-11-04T13:46:15.327Z"
   },
   {
    "duration": 22598,
    "start_time": "2022-11-04T13:46:16.808Z"
   },
   {
    "duration": 412,
    "start_time": "2022-11-04T13:48:32.553Z"
   },
   {
    "duration": 105,
    "start_time": "2022-11-04T13:48:35.353Z"
   },
   {
    "duration": 5,
    "start_time": "2022-11-04T13:48:52.288Z"
   },
   {
    "duration": 4043,
    "start_time": "2022-11-04T13:49:25.667Z"
   },
   {
    "duration": 8837,
    "start_time": "2022-11-04T15:42:52.079Z"
   },
   {
    "duration": 12,
    "start_time": "2022-11-04T15:43:29.980Z"
   },
   {
    "duration": 9749,
    "start_time": "2022-11-04T15:45:26.657Z"
   },
   {
    "duration": 30,
    "start_time": "2022-11-04T15:49:37.775Z"
   },
   {
    "duration": 28,
    "start_time": "2022-11-04T15:49:49.584Z"
   },
   {
    "duration": 38,
    "start_time": "2022-11-04T15:51:12.876Z"
   },
   {
    "duration": 7,
    "start_time": "2022-11-04T15:51:33.326Z"
   },
   {
    "duration": 5,
    "start_time": "2022-11-04T15:51:55.375Z"
   },
   {
    "duration": 4,
    "start_time": "2022-11-04T15:53:02.862Z"
   },
   {
    "duration": 6707,
    "start_time": "2022-11-04T15:54:23.213Z"
   },
   {
    "duration": 12,
    "start_time": "2022-11-04T15:56:55.296Z"
   },
   {
    "duration": 6,
    "start_time": "2022-11-04T15:57:01.148Z"
   },
   {
    "duration": 5,
    "start_time": "2022-11-04T15:57:12.159Z"
   },
   {
    "duration": 6,
    "start_time": "2022-11-04T15:57:15.630Z"
   },
   {
    "duration": 176,
    "start_time": "2022-11-04T15:57:18.430Z"
   },
   {
    "duration": 214,
    "start_time": "2022-11-04T15:57:19.891Z"
   },
   {
    "duration": 162,
    "start_time": "2022-11-04T15:57:23.744Z"
   },
   {
    "duration": 5,
    "start_time": "2022-11-04T15:57:28.054Z"
   },
   {
    "duration": 5,
    "start_time": "2022-11-04T15:58:33.664Z"
   },
   {
    "duration": 3,
    "start_time": "2022-11-04T16:02:24.379Z"
   },
   {
    "duration": 656,
    "start_time": "2022-11-04T16:02:24.383Z"
   },
   {
    "duration": 3,
    "start_time": "2022-11-04T16:02:25.041Z"
   },
   {
    "duration": 40,
    "start_time": "2022-11-04T16:02:25.045Z"
   },
   {
    "duration": 43,
    "start_time": "2022-11-04T16:02:25.086Z"
   },
   {
    "duration": 31,
    "start_time": "2022-11-04T16:02:25.130Z"
   },
   {
    "duration": 3,
    "start_time": "2022-11-04T16:02:25.163Z"
   },
   {
    "duration": 6,
    "start_time": "2022-11-04T16:02:25.167Z"
   },
   {
    "duration": 4,
    "start_time": "2022-11-04T16:02:25.175Z"
   },
   {
    "duration": 25,
    "start_time": "2022-11-04T16:02:25.180Z"
   },
   {
    "duration": 38,
    "start_time": "2022-11-04T16:02:25.208Z"
   },
   {
    "duration": 2,
    "start_time": "2022-11-04T16:02:25.247Z"
   },
   {
    "duration": 23,
    "start_time": "2022-11-04T16:02:25.251Z"
   },
   {
    "duration": 64,
    "start_time": "2022-11-04T16:02:25.275Z"
   },
   {
    "duration": 4,
    "start_time": "2022-11-04T16:02:25.341Z"
   },
   {
    "duration": 765,
    "start_time": "2022-11-04T16:02:25.346Z"
   },
   {
    "duration": 655,
    "start_time": "2022-11-04T16:02:26.113Z"
   },
   {
    "duration": 874,
    "start_time": "2022-11-04T16:02:26.769Z"
   },
   {
    "duration": 711,
    "start_time": "2022-11-04T16:02:27.644Z"
   },
   {
    "duration": 5,
    "start_time": "2022-11-04T16:02:28.356Z"
   },
   {
    "duration": 17,
    "start_time": "2022-11-04T16:02:28.362Z"
   },
   {
    "duration": 6,
    "start_time": "2022-11-04T16:02:28.380Z"
   },
   {
    "duration": 656,
    "start_time": "2022-11-04T16:02:28.388Z"
   },
   {
    "duration": 425,
    "start_time": "2022-11-04T16:02:29.046Z"
   },
   {
    "duration": 9,
    "start_time": "2022-11-04T16:02:29.473Z"
   },
   {
    "duration": 167,
    "start_time": "2022-11-04T16:02:29.484Z"
   },
   {
    "duration": 9,
    "start_time": "2022-11-04T16:02:29.653Z"
   },
   {
    "duration": 8,
    "start_time": "2022-11-04T16:02:29.664Z"
   },
   {
    "duration": 3,
    "start_time": "2022-11-04T16:02:29.676Z"
   },
   {
    "duration": 5,
    "start_time": "2022-11-04T16:02:29.680Z"
   },
   {
    "duration": 5,
    "start_time": "2022-11-04T16:02:29.687Z"
   },
   {
    "duration": 5,
    "start_time": "2022-11-04T16:02:29.693Z"
   },
   {
    "duration": 29,
    "start_time": "2022-11-04T16:02:29.699Z"
   },
   {
    "duration": 7,
    "start_time": "2022-11-04T16:02:29.729Z"
   },
   {
    "duration": 19,
    "start_time": "2022-11-04T16:02:29.738Z"
   },
   {
    "duration": 13,
    "start_time": "2022-11-04T16:02:29.758Z"
   },
   {
    "duration": 5,
    "start_time": "2022-11-04T16:02:29.773Z"
   },
   {
    "duration": 4,
    "start_time": "2022-11-04T16:02:29.780Z"
   },
   {
    "duration": 1320,
    "start_time": "2022-11-04T16:02:29.785Z"
   },
   {
    "duration": 9982,
    "start_time": "2022-11-04T16:02:31.110Z"
   },
   {
    "duration": 192,
    "start_time": "2022-11-04T16:02:41.093Z"
   },
   {
    "duration": 3,
    "start_time": "2022-11-04T16:02:41.286Z"
   },
   {
    "duration": 1716,
    "start_time": "2022-11-04T16:02:41.290Z"
   },
   {
    "duration": 22560,
    "start_time": "2022-11-04T16:02:43.008Z"
   },
   {
    "duration": 410,
    "start_time": "2022-11-04T16:03:05.569Z"
   },
   {
    "duration": 4328,
    "start_time": "2022-11-04T16:03:05.981Z"
   },
   {
    "duration": 9998,
    "start_time": "2022-11-04T16:03:10.311Z"
   },
   {
    "duration": 197,
    "start_time": "2022-11-04T16:03:20.311Z"
   },
   {
    "duration": 299,
    "start_time": "2022-11-04T16:03:20.509Z"
   },
   {
    "duration": 6,
    "start_time": "2022-11-04T16:03:20.809Z"
   },
   {
    "duration": 92,
    "start_time": "2022-11-04T16:03:20.817Z"
   },
   {
    "duration": 8,
    "start_time": "2022-11-04T16:03:20.911Z"
   },
   {
    "duration": 10,
    "start_time": "2022-11-04T16:03:20.921Z"
   },
   {
    "duration": 2002,
    "start_time": "2022-11-05T08:08:05.974Z"
   },
   {
    "duration": 3041,
    "start_time": "2022-11-05T08:08:07.978Z"
   },
   {
    "duration": 3,
    "start_time": "2022-11-05T08:08:11.021Z"
   },
   {
    "duration": 52,
    "start_time": "2022-11-05T08:08:11.026Z"
   },
   {
    "duration": 39,
    "start_time": "2022-11-05T08:08:11.080Z"
   },
   {
    "duration": 46,
    "start_time": "2022-11-05T08:08:11.133Z"
   },
   {
    "duration": 3,
    "start_time": "2022-11-05T08:08:11.181Z"
   },
   {
    "duration": 11,
    "start_time": "2022-11-05T08:08:11.186Z"
   },
   {
    "duration": 5,
    "start_time": "2022-11-05T08:08:11.199Z"
   },
   {
    "duration": 28,
    "start_time": "2022-11-05T08:08:11.206Z"
   },
   {
    "duration": 46,
    "start_time": "2022-11-05T08:08:11.236Z"
   },
   {
    "duration": 3,
    "start_time": "2022-11-05T08:08:11.284Z"
   },
   {
    "duration": 44,
    "start_time": "2022-11-05T08:08:11.289Z"
   },
   {
    "duration": 47,
    "start_time": "2022-11-05T08:08:11.335Z"
   },
   {
    "duration": 5,
    "start_time": "2022-11-05T08:08:11.384Z"
   },
   {
    "duration": 935,
    "start_time": "2022-11-05T08:08:11.391Z"
   },
   {
    "duration": 751,
    "start_time": "2022-11-05T08:08:12.328Z"
   },
   {
    "duration": 910,
    "start_time": "2022-11-05T08:08:13.080Z"
   },
   {
    "duration": 750,
    "start_time": "2022-11-05T08:08:13.992Z"
   },
   {
    "duration": 6,
    "start_time": "2022-11-05T08:08:14.744Z"
   },
   {
    "duration": 7,
    "start_time": "2022-11-05T08:08:14.752Z"
   },
   {
    "duration": 6,
    "start_time": "2022-11-05T08:08:14.761Z"
   },
   {
    "duration": 742,
    "start_time": "2022-11-05T08:08:14.768Z"
   },
   {
    "duration": 470,
    "start_time": "2022-11-05T08:08:15.512Z"
   },
   {
    "duration": 11,
    "start_time": "2022-11-05T08:08:15.983Z"
   },
   {
    "duration": 9,
    "start_time": "2022-11-05T08:08:15.996Z"
   },
   {
    "duration": 27,
    "start_time": "2022-11-05T08:08:16.007Z"
   },
   {
    "duration": 7,
    "start_time": "2022-11-05T08:08:16.037Z"
   },
   {
    "duration": 7,
    "start_time": "2022-11-05T08:08:16.046Z"
   },
   {
    "duration": 6,
    "start_time": "2022-11-05T08:08:16.054Z"
   },
   {
    "duration": 6,
    "start_time": "2022-11-05T08:08:16.061Z"
   },
   {
    "duration": 5,
    "start_time": "2022-11-05T08:08:16.068Z"
   },
   {
    "duration": 29,
    "start_time": "2022-11-05T08:08:16.074Z"
   },
   {
    "duration": 32,
    "start_time": "2022-11-05T08:08:16.105Z"
   },
   {
    "duration": 16,
    "start_time": "2022-11-05T08:08:16.139Z"
   },
   {
    "duration": 17,
    "start_time": "2022-11-05T08:08:16.158Z"
   },
   {
    "duration": 15,
    "start_time": "2022-11-05T08:08:16.176Z"
   },
   {
    "duration": 34,
    "start_time": "2022-11-05T08:08:16.193Z"
   },
   {
    "duration": 7440,
    "start_time": "2022-11-05T08:08:25.298Z"
   },
   {
    "duration": 115,
    "start_time": "2022-11-05T08:08:34.935Z"
   },
   {
    "duration": 12078,
    "start_time": "2022-11-05T08:09:03.556Z"
   },
   {
    "duration": 103,
    "start_time": "2022-11-05T08:09:35.143Z"
   },
   {
    "duration": 283,
    "start_time": "2022-11-05T08:09:39.751Z"
   },
   {
    "duration": 6,
    "start_time": "2022-11-05T08:09:44.319Z"
   },
   {
    "duration": 6,
    "start_time": "2022-11-05T08:09:48.742Z"
   },
   {
    "duration": 7,
    "start_time": "2022-11-05T08:09:51.710Z"
   }
  ],
  "kernelspec": {
   "display_name": "Python 3 (ipykernel)",
   "language": "python",
   "name": "python3"
  },
  "language_info": {
   "codemirror_mode": {
    "name": "ipython",
    "version": 3
   },
   "file_extension": ".py",
   "mimetype": "text/x-python",
   "name": "python",
   "nbconvert_exporter": "python",
   "pygments_lexer": "ipython3",
   "version": "3.9.12"
  },
  "toc": {
   "base_numbering": 1,
   "nav_menu": {},
   "number_sections": true,
   "sideBar": true,
   "skip_h1_title": true,
   "title_cell": "Содержание",
   "title_sidebar": "Contents",
   "toc_cell": true,
   "toc_position": {},
   "toc_section_display": true,
   "toc_window_display": false
  }
 },
 "nbformat": 4,
 "nbformat_minor": 2
}
